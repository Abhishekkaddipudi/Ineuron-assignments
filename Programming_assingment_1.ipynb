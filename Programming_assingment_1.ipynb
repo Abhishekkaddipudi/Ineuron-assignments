{
 "cells": [
  {
   "cell_type": "markdown",
   "id": "f418ca4e",
   "metadata": {},
   "source": [
    "#### 1. Write a Python program to print &quot;Hello Python&quot;?"
   ]
  },
  {
   "cell_type": "code",
   "execution_count": 1,
   "id": "acc7e6f5",
   "metadata": {},
   "outputs": [
    {
     "name": "stdout",
     "output_type": "stream",
     "text": [
      "Hello Python\n"
     ]
    }
   ],
   "source": [
    "print(\"Hello Python\")"
   ]
  },
  {
   "cell_type": "markdown",
   "id": "42bb3a14",
   "metadata": {},
   "source": [
    "#### 2. Write a Python program to do arithmetical operations addition and division.?"
   ]
  },
  {
   "cell_type": "code",
   "execution_count": 6,
   "id": "9e1cb547",
   "metadata": {},
   "outputs": [
    {
     "name": "stdout",
     "output_type": "stream",
     "text": [
      "enter the first number: 5.6\n",
      "enter the second number: 6.7\n",
      "addition of two numbers: 12.3\n",
      "division of two numbers: 1.20\n"
     ]
    }
   ],
   "source": [
    "val1=float(input(\"enter the first number: \"))\n",
    "val2=float(input(\"enter the second number: \"))\n",
    "print(f\"addition of two numbers: {val1+val2}\")#addition\n",
    "print(f\"division of two numbers: {val2/val1:.2f}\")#division display only 2 numbers after decimal point"
   ]
  },
  {
   "cell_type": "markdown",
   "id": "ba721c2f",
   "metadata": {},
   "source": [
    "#### 3. Write a Python program to find the area of a triangle?"
   ]
  },
  {
   "cell_type": "code",
   "execution_count": 9,
   "id": "4ee50369",
   "metadata": {},
   "outputs": [
    {
     "name": "stdout",
     "output_type": "stream",
     "text": [
      "enter the length of triangle: 34\n",
      "enter the width of triangle: 44\n",
      "area of triangle: 748.0\n"
     ]
    }
   ],
   "source": [
    "l=float(input(\"enter the length of triangle: \"))\n",
    "w=float(input(\"enter the width of triangle: \"))\n",
    "a_tri=(1/2)*l*w                      #area of triangle 1/2*l*b\n",
    "print(f\"area of triangle: {a_tri}\")"
   ]
  },
  {
   "cell_type": "markdown",
   "id": "d8201675",
   "metadata": {},
   "source": [
    "#### 4. Write a Python program to swap two variables?"
   ]
  },
  {
   "cell_type": "code",
   "execution_count": 13,
   "id": "20e385f7",
   "metadata": {},
   "outputs": [
    {
     "name": "stdout",
     "output_type": "stream",
     "text": [
      "enter first value: 56\n",
      "enter second value: 79\n",
      "first= 56, Second= 79\n",
      "first= 79, Second= 56\n"
     ]
    }
   ],
   "source": [
    "first=input(\"enter first value: \")\n",
    "second=input(\"enter second value: \")\n",
    "print(f\"first= {first}, Second= {second}\")#before swapping\n",
    "first,second=second,first\n",
    "print(f\"first= {first}, Second= {second}\")#after swapping"
   ]
  },
  {
   "cell_type": "markdown",
   "id": "89f6e6d5",
   "metadata": {},
   "source": [
    "#### 5. Write a Python program to generate a random number?"
   ]
  },
  {
   "cell_type": "code",
   "execution_count": 19,
   "id": "87c4c23e",
   "metadata": {},
   "outputs": [
    {
     "name": "stdout",
     "output_type": "stream",
     "text": [
      "23\n"
     ]
    }
   ],
   "source": [
    "import random\n",
    "\n",
    "for i in range(1):\n",
    "    print(random.randint(0,100))#increase range value to generate more random numbers"
   ]
  }
 ],
 "metadata": {
  "kernelspec": {
   "display_name": "Python 3 (ipykernel)",
   "language": "python",
   "name": "python3"
  },
  "language_info": {
   "codemirror_mode": {
    "name": "ipython",
    "version": 3
   },
   "file_extension": ".py",
   "mimetype": "text/x-python",
   "name": "python",
   "nbconvert_exporter": "python",
   "pygments_lexer": "ipython3",
   "version": "3.9.12"
  }
 },
 "nbformat": 4,
 "nbformat_minor": 5
}
