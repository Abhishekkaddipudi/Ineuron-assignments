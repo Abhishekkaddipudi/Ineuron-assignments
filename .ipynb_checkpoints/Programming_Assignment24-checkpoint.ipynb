{
 "cells": [
  {
   "cell_type": "markdown",
   "id": "7cd5cd62",
   "metadata": {},
   "source": [
    "<h2>Question1</h2>\n",
    "<h2>Create a function that takes an integer and returns a list from 1 to the given number, where:</h2>\n",
    "<h2>If the number can be divided evenly by 4, amplify it by 10 (i.e. return 10 times the number).</h2>\n",
    "<h2>If the number cannot be divided evenly by 4, simply return the number.</h2>\n",
    "<h2>Examples</h2>\n",
    "<h2>\t\t\t\t\t\t\t\t\t\t\t\t\t\t\t\tamplify(4) ➞ [1, 2, 3, 40]</h2>\n",
    "<h2>\t\t\t\t\t\t\t\t\t\t\t\t\t\t\t\tamplify(3) ➞ [1, 2, 3]</h2>\n",
    "\n",
    "<h2>\t\t\t\t\t\t\t\t\t\t\t\t\t\t\t\tamplify(25) ➞ [1, 2, 3, 40, 5, 6, 7, 80, 9, 10, 11, 120, 13, 14, 15, 160, 17, 18, 19, 200, 21, 22, 23, 240, 25]</h2>\n",
    "<h2>Notes</h2>\n",
    "<h2>The given integer will always be equal to or greater than 1.</h2>\n",
    "<h2>Include the number (see example above).</h2>\n",
    "<h2>To perform this problem with its intended purpose, try doing it with list comprehensions. If that's too difficult, just solve the challenge any way you can.</h2>\n"
   ]
  },
  {
   "cell_type": "code",
   "execution_count": 3,
   "id": "3f0e8b1e",
   "metadata": {},
   "outputs": [],
   "source": [
    "def amplify(num:int)->list:\n",
    "    \"\"\"reutrn amplified list\"\"\"\n",
    "    return [(i*10 if i%4==0 else i) for i in range(1,num+1)]"
   ]
  },
  {
   "cell_type": "code",
   "execution_count": 4,
   "id": "09e04c2a",
   "metadata": {},
   "outputs": [
    {
     "data": {
      "text/plain": [
       "[1, 2, 3, 40]"
      ]
     },
     "execution_count": 4,
     "metadata": {},
     "output_type": "execute_result"
    }
   ],
   "source": [
    "amplify(4)"
   ]
  },
  {
   "cell_type": "code",
   "execution_count": 5,
   "id": "55cace35",
   "metadata": {},
   "outputs": [
    {
     "data": {
      "text/plain": [
       "[1, 2, 3]"
      ]
     },
     "execution_count": 5,
     "metadata": {},
     "output_type": "execute_result"
    }
   ],
   "source": [
    "amplify(3)"
   ]
  },
  {
   "cell_type": "code",
   "execution_count": 7,
   "id": "3ab891ba",
   "metadata": {},
   "outputs": [
    {
     "name": "stdout",
     "output_type": "stream",
     "text": [
      "[1, 2, 3, 40, 5, 6, 7, 80, 9, 10, 11, 120, 13, 14, 15, 160, 17, 18, 19, 200, 21, 22, 23, 240, 25]\n"
     ]
    }
   ],
   "source": [
    "print(amplify(25))"
   ]
  },
  {
   "cell_type": "markdown",
   "id": "7b1c2a09",
   "metadata": {},
   "source": [
    "<h2>Question2</h2>\n",
    "<h2>Create a function that takes a list of numbers and return the number that's unique.</h2>\n",
    "<h2>Examples</h2>\n",
    "<h2>unique([3, 3, 3, 7, 3, 3]) ➞ 7</h2>\n",
    "<h2>unique([0, 0, 0.77, 0, 0]) ➞ 0.77</h2>\n",
    "<h2>unique([0, 1, 1, 1, 1, 1, 1, 1]) ➞ 0</h2>\n",
    "<h2>Notes</h2>\n",
    "<h2>Test cases will always have exactly one unique number while all others are the same.</h2>\n"
   ]
  },
  {
   "cell_type": "code",
   "execution_count": 8,
   "id": "2da959a3",
   "metadata": {},
   "outputs": [],
   "source": [
    "def unique(lst:list)->int:\n",
    "    \"\"\"returns unique number in list\"\"\"\n",
    "    for num in lst:\n",
    "        if lst.count(num) == 1:\n",
    "            return num"
   ]
  },
  {
   "cell_type": "code",
   "execution_count": 9,
   "id": "0d2a8cf2",
   "metadata": {},
   "outputs": [
    {
     "data": {
      "text/plain": [
       "7"
      ]
     },
     "execution_count": 9,
     "metadata": {},
     "output_type": "execute_result"
    }
   ],
   "source": [
    "unique([3, 3, 3, 7, 3, 3])"
   ]
  },
  {
   "cell_type": "code",
   "execution_count": 10,
   "id": "e20d975f",
   "metadata": {},
   "outputs": [
    {
     "data": {
      "text/plain": [
       "0.77"
      ]
     },
     "execution_count": 10,
     "metadata": {},
     "output_type": "execute_result"
    }
   ],
   "source": [
    "unique([0, 0, 0.77, 0, 0])"
   ]
  },
  {
   "cell_type": "code",
   "execution_count": 11,
   "id": "56ca3448",
   "metadata": {},
   "outputs": [
    {
     "data": {
      "text/plain": [
       "0"
      ]
     },
     "execution_count": 11,
     "metadata": {},
     "output_type": "execute_result"
    }
   ],
   "source": [
    "unique([0, 1, 1, 1, 1, 1, 1, 1])"
   ]
  },
  {
   "cell_type": "markdown",
   "id": "0d085ce1",
   "metadata": {},
   "source": [
    "<h2>Question3</h2>\n",
    "<h2>Your task is to create a Circle constructor that creates a circle with a radius provided by an argument. The circles constructed must have two getters getArea() (PIr^2) and getPerimeter() (2PI*r) which give both respective areas and perimeter (circumference).</h2>\n",
    "<h2>For help with this class, I have provided you with a Rectangle constructor which you can use as a base example.</h2>\n",
    "<h2>Examples</h2>\n",
    "<h2>circy = Circle(11)</h2>\n",
    "<h2>circy.getArea()</h2>\n",
    "<h2># Should return 380.132711084365</h2>\n",
    "<h2>circy = Circle(4.44)</h2>\n",
    "<h2>circy.getPerimeter()</h2>\n",
    "<h2># Should return 27.897342763877365</h2>\n",
    "<h2>Notes</h2>\n",
    "<h2>Round results up to the nearest integer.</h2>"
   ]
  },
  {
   "cell_type": "code",
   "execution_count": 27,
   "id": "da860649",
   "metadata": {},
   "outputs": [],
   "source": [
    "import math\n",
    "\n",
    "class Circle:\n",
    "    def __init__(self, radius:int or float):\n",
    "        \"\"\"class circle \n",
    "        args:\n",
    "            radius : radius of circle\n",
    "            \n",
    "        methods:\n",
    "            getArea : area of circle\n",
    "            \n",
    "            getPerimeter : perimeter of circle\n",
    "        \"\"\"\n",
    "        self.radius = radius\n",
    "        \n",
    "    def getArea(self):\n",
    "        \"\"\"return area of circle\"\"\"\n",
    "        return math.ceil(math.pi * self.radius**2)\n",
    "        \n",
    "    def getPerimeter(self):\n",
    "        \"\"\"return perimeter of circle\"\"\"\n",
    "        return math.ceil(2 * math.pi * self.radius)"
   ]
  },
  {
   "cell_type": "code",
   "execution_count": 28,
   "id": "39e480e8",
   "metadata": {},
   "outputs": [
    {
     "data": {
      "text/plain": [
       "381"
      ]
     },
     "execution_count": 28,
     "metadata": {},
     "output_type": "execute_result"
    }
   ],
   "source": [
    "circy = Circle(11)\n",
    "circy.getArea()"
   ]
  },
  {
   "cell_type": "code",
   "execution_count": 29,
   "id": "2cbe57e4",
   "metadata": {},
   "outputs": [
    {
     "data": {
      "text/plain": [
       "28"
      ]
     },
     "execution_count": 29,
     "metadata": {},
     "output_type": "execute_result"
    }
   ],
   "source": [
    "circy = Circle(4.44)\n",
    "circy.getPerimeter()"
   ]
  },
  {
   "cell_type": "markdown",
   "id": "f6725b1f",
   "metadata": {},
   "source": [
    "<h2>Question4</h2>\n",
    "<h2>Create a function that takes a list of strings and return a list, sorted from shortest to longest.</h2>\n",
    "<h2>Examples</h2>\n",
    "<h2>sort_by_length([\"Google\", \"Apple\", \"Microsoft\"])</h2>\n",
    "<h2>➞ [\"Apple\", \"Google\", \"Microsoft\"]</h2>\n",
    "<h2>sort_by_length([\"Leonardo\", \"Michelangelo\", \"Raphael\", \"Donatello\"])</h2>\n",
    "<h2>➞ [\"Raphael\", \"Leonardo\", \"Donatello\", \"Michelangelo\"]</h2>\n",
    "<h2>sort_by_length([\"Turing\", \"Einstein\", \"Jung\"])</h2>\n",
    "<h2>➞ [\"Jung\", \"Turing\", \"Einstein\"]</h2>\n",
    "<h2>Notes</h2>\n",
    "<h2>All test cases contain lists with strings of different lengths, so you won't have to deal with multiple strings of the same length.</h2>\n"
   ]
  },
  {
   "cell_type": "code",
   "execution_count": 30,
   "id": "388930ea",
   "metadata": {},
   "outputs": [],
   "source": [
    "def sort_by_length(lst:list)->list:\n",
    "    \"\"\"sorts by len of the strings\"\"\"\n",
    "    return sorted(lst, key=len)"
   ]
  },
  {
   "cell_type": "code",
   "execution_count": 31,
   "id": "8a53adbe",
   "metadata": {},
   "outputs": [
    {
     "data": {
      "text/plain": [
       "['Apple', 'Google', 'Microsoft']"
      ]
     },
     "execution_count": 31,
     "metadata": {},
     "output_type": "execute_result"
    }
   ],
   "source": [
    "sort_by_length([\"Google\", \"Apple\", \"Microsoft\"])"
   ]
  },
  {
   "cell_type": "code",
   "execution_count": 32,
   "id": "63ed891d",
   "metadata": {},
   "outputs": [
    {
     "data": {
      "text/plain": [
       "['Raphael', 'Leonardo', 'Donatello', 'Michelangelo']"
      ]
     },
     "execution_count": 32,
     "metadata": {},
     "output_type": "execute_result"
    }
   ],
   "source": [
    "sort_by_length([\"Leonardo\", \"Michelangelo\", \"Raphael\", \"Donatello\"])"
   ]
  },
  {
   "cell_type": "code",
   "execution_count": 33,
   "id": "a4dbfd39",
   "metadata": {},
   "outputs": [
    {
     "data": {
      "text/plain": [
       "['Jung', 'Turing', 'Einstein']"
      ]
     },
     "execution_count": 33,
     "metadata": {},
     "output_type": "execute_result"
    }
   ],
   "source": [
    "sort_by_length([\"Turing\", \"Einstein\", \"Jung\"])"
   ]
  },
  {
   "cell_type": "markdown",
   "id": "a37c3495",
   "metadata": {},
   "source": [
    "<h2>Question5</h2>\n",
    "<h2>Create a function that validates whether three given integers form a Pythagorean triplet. The sum of the squares of the two smallest integers must equal the square of the largest number to be validated.</h2>\n",
    "<h2>Examples</h2>\n",
    "<h2>is_triplet(3, 4, 5) ➞ True</h2>\n",
    "<h2># 3² + 4² = 25</h2>\n",
    "<h2># 5² = 25</h2>\n",
    "<h2>is_triplet(13, 5, 12) ➞ True</h2>\n",
    "<h2># 5² + 12² = 169</h2>\n",
    "<h2># 13² = 169</h2>\n",
    "<h2>is_triplet(1, 2, 3) ➞ False</h2>\n",
    "<h2># 1² + 2² = 5</h2>\n",
    "<h2># 3² = 9</h2>\n",
    "<h2>Notes</h2>\n",
    "<h2>Numbers may not be given in a sorted order.</h2>"
   ]
  },
  {
   "cell_type": "code",
   "execution_count": 20,
   "id": "1ba513d7",
   "metadata": {},
   "outputs": [],
   "source": [
    "def is_triplet(a:int, b:int, c:int)->bool:\n",
    "    \"\"\"checks if given integers are Pythagorean triplet\"\"\"\n",
    "    nums = sorted([a, b, c])\n",
    "    return nums[0]**2 + nums[1]**2 == nums[2]**2\n"
   ]
  },
  {
   "cell_type": "code",
   "execution_count": 21,
   "id": "4056c327",
   "metadata": {},
   "outputs": [
    {
     "data": {
      "text/plain": [
       "True"
      ]
     },
     "execution_count": 21,
     "metadata": {},
     "output_type": "execute_result"
    }
   ],
   "source": [
    "is_triplet(3, 4, 5)"
   ]
  },
  {
   "cell_type": "code",
   "execution_count": 22,
   "id": "55e1860e",
   "metadata": {},
   "outputs": [
    {
     "data": {
      "text/plain": [
       "True"
      ]
     },
     "execution_count": 22,
     "metadata": {},
     "output_type": "execute_result"
    }
   ],
   "source": [
    "is_triplet(13, 5, 12)"
   ]
  },
  {
   "cell_type": "code",
   "execution_count": 23,
   "id": "e1c60d2c",
   "metadata": {},
   "outputs": [
    {
     "data": {
      "text/plain": [
       "False"
      ]
     },
     "execution_count": 23,
     "metadata": {},
     "output_type": "execute_result"
    }
   ],
   "source": [
    "is_triplet(1, 2, 3)"
   ]
  }
 ],
 "metadata": {
  "kernelspec": {
   "display_name": "Python 3 (ipykernel)",
   "language": "python",
   "name": "python3"
  },
  "language_info": {
   "codemirror_mode": {
    "name": "ipython",
    "version": 3
   },
   "file_extension": ".py",
   "mimetype": "text/x-python",
   "name": "python",
   "nbconvert_exporter": "python",
   "pygments_lexer": "ipython3",
   "version": "3.9.12"
  }
 },
 "nbformat": 4,
 "nbformat_minor": 5
}
