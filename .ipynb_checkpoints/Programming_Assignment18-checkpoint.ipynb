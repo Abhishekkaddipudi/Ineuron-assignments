{
 "cells": [
  {
   "cell_type": "markdown",
   "id": "5473d496",
   "metadata": {},
   "source": [
    "<h2>Question 1</h2>\n",
    "<h2>Create a function that takes a list of non-negative integers and strings and return a new list without the strings.</h2>\n",
    "<h2>Examples</h2>\n",
    "<h2>filter_list([1, 2, \"a\", \"b\"]) ➞ [1, 2]</h2>\n",
    "<h2>filter_list([1, \"a\", \"b\", 0, 15]) ➞ [1, 0, 15]</h2>\n",
    "<h2>filter_list([1, 2, \"aasf\", \"1\", \"123\", 123]) ➞ [1, 2, 123]</h2>"
   ]
  },
  {
   "cell_type": "code",
   "execution_count": 14,
   "id": "0eba380d",
   "metadata": {},
   "outputs": [],
   "source": [
    "def filter_list(list_integers:list)->list:\n",
    "    #using filter function\n",
    "    return list(filter(lambda x: x if type(x)==int else False,list_integers))\n",
    "    "
   ]
  },
  {
   "cell_type": "code",
   "execution_count": 15,
   "id": "ee3b9102",
   "metadata": {},
   "outputs": [
    {
     "data": {
      "text/plain": [
       "[1, 2]"
      ]
     },
     "execution_count": 15,
     "metadata": {},
     "output_type": "execute_result"
    }
   ],
   "source": [
    "filter_list([1, 2, \"a\", \"b\"]) "
   ]
  },
  {
   "cell_type": "code",
   "execution_count": 16,
   "id": "b62d1af8",
   "metadata": {},
   "outputs": [
    {
     "data": {
      "text/plain": [
       "[1, 15]"
      ]
     },
     "execution_count": 16,
     "metadata": {},
     "output_type": "execute_result"
    }
   ],
   "source": [
    "filter_list([1, \"a\", \"b\", 0, 15])"
   ]
  },
  {
   "cell_type": "code",
   "execution_count": 17,
   "id": "baf4ed3e",
   "metadata": {},
   "outputs": [
    {
     "data": {
      "text/plain": [
       "[1, 2, 123]"
      ]
     },
     "execution_count": 17,
     "metadata": {},
     "output_type": "execute_result"
    }
   ],
   "source": [
    "filter_list([1, 2, \"aasf\", \"1\", \"123\", 123])"
   ]
  },
  {
   "cell_type": "markdown",
   "id": "3e98386a",
   "metadata": {},
   "source": [
    "<h2>Question 2</h2>\n",
    "<h2>The \"Reverser\" takes a string as input and returns that string in reverse order, with the opposite case.</h2>\n",
    "<h2>Examples</h2>\n",
    "<h2>reverse(\"Hello World\") ➞ \"DLROw OLLEh\"</h2>\n",
    "<h2>reverse(\"ReVeRsE\") ➞ \"eSrEvEr\"</h2>\n",
    "<h2>reverse(\"Radar\") ➞ \"RADAr\"</h2>"
   ]
  },
  {
   "cell_type": "code",
   "execution_count": 18,
   "id": "d5e59f3c",
   "metadata": {},
   "outputs": [],
   "source": [
    "def reverse(string:str)->str:\n",
    "    string=string.swapcase()\n",
    "    #using slicing to reverse string\n",
    "    return string[::-1]"
   ]
  },
  {
   "cell_type": "code",
   "execution_count": 19,
   "id": "6864ea3e",
   "metadata": {},
   "outputs": [
    {
     "data": {
      "text/plain": [
       "'DLROw OLLEh'"
      ]
     },
     "execution_count": 19,
     "metadata": {},
     "output_type": "execute_result"
    }
   ],
   "source": [
    "reverse(\"Hello World\")"
   ]
  },
  {
   "cell_type": "code",
   "execution_count": 20,
   "id": "15c96554",
   "metadata": {},
   "outputs": [
    {
     "data": {
      "text/plain": [
       "'eSrEvEr'"
      ]
     },
     "execution_count": 20,
     "metadata": {},
     "output_type": "execute_result"
    }
   ],
   "source": [
    "reverse(\"ReVeRsE\")"
   ]
  },
  {
   "cell_type": "code",
   "execution_count": 21,
   "id": "f0712e7f",
   "metadata": {},
   "outputs": [
    {
     "data": {
      "text/plain": [
       "'RADAr'"
      ]
     },
     "execution_count": 21,
     "metadata": {},
     "output_type": "execute_result"
    }
   ],
   "source": [
    "reverse(\"Radar\")"
   ]
  },
  {
   "cell_type": "markdown",
   "id": "a718789d",
   "metadata": {},
   "source": [
    "<h2>Question 3</h2>\n",
    "<h2>You can assign variables from lists like this:</h2>\n",
    "<h2>lst = [1, 2, 3, 4, 5, 6]</h2>\n",
    "<h2>first = lst[0]</h2>\n",
    "<h2>middle = lst[1:-1]</h2>\n",
    "<h2>last = lst[-1]</h2>\n",
    "<h2>print(first) ➞ outputs 1</h2>\n",
    "<h2>print(middle) ➞ outputs [2, 3, 4, 5]</h2>\n",
    "<h2>print(last) ➞ outputs 6</h2>\n",
    "<h2>With Python 3, you can assign variables from lists in a much more succinct way. Create variables first, middle and last from the given list using destructuring assignment (check the Resources tab for some examples), where:</h2>\n",
    "<h2>first  ➞ 1</h2>\n",
    "<h2>middle ➞ [2, 3, 4, 5]</h2>\n",
    "<h2>last ➞ 6</h2>\n",
    "<h2>Your task is to unpack the list writeyourcodehere into three variables, being first, middle, and last, with middle being everything in between the first and last element. Then print all three variables.</h2>"
   ]
  },
  {
   "cell_type": "code",
   "execution_count": 45,
   "id": "546bbdce",
   "metadata": {},
   "outputs": [],
   "source": [
    "def split_to_3(integers:list):\n",
    "    #the * operator to assign everything in between the first and last element to the middle variable.\n",
    "    first,*middle,last=integers\n",
    "    return first,middle,last"
   ]
  },
  {
   "cell_type": "code",
   "execution_count": 46,
   "id": "a05fd580",
   "metadata": {},
   "outputs": [
    {
     "name": "stdout",
     "output_type": "stream",
     "text": [
      "(1, [2, 3, 4, 5], 6)\n"
     ]
    }
   ],
   "source": [
    "print(split_to_3([1, 2, 3, 4, 5, 6]))"
   ]
  },
  {
   "cell_type": "code",
   "execution_count": 47,
   "id": "5973db9e",
   "metadata": {},
   "outputs": [
    {
     "name": "stdout",
     "output_type": "stream",
     "text": [
      "(7, [8, 9, 10, 11, 12], 13)\n"
     ]
    }
   ],
   "source": [
    "print(split_to_3([7,8,9,10,11,12,13]))"
   ]
  },
  {
   "cell_type": "code",
   "execution_count": 48,
   "id": "0ad4ccdd",
   "metadata": {},
   "outputs": [
    {
     "name": "stdout",
     "output_type": "stream",
     "text": [
      "(14, [15, 16, 17, 18, 19], 20)\n"
     ]
    }
   ],
   "source": [
    "print(split_to_3([14,15,16,17,18,19,20]))"
   ]
  },
  {
   "cell_type": "markdown",
   "id": "d11273f1",
   "metadata": {},
   "source": [
    "<h2>Question 4</h2>\n",
    "<h2>Write a function that calculates the factorial of a number recursively.</h2>\n",
    "<h2>Examples</h2>\n",
    "<h2>factorial(5) ➞ 120</h2>\n",
    "<h2>factorial(3) ➞ 6</h2>\n",
    "<h2>factorial(1) ➞ 1</h2>\n",
    "<h2>factorial(0) ➞ 1</h2>"
   ]
  },
  {
   "cell_type": "code",
   "execution_count": 28,
   "id": "921da757",
   "metadata": {},
   "outputs": [],
   "source": [
    "def factorial(n: int)-> int:\n",
    "    \n",
    "    if n==0 or n==1:\n",
    "        return 1\n",
    "    else:\n",
    "        return n*factorial(n-1)\n",
    "    "
   ]
  },
  {
   "cell_type": "code",
   "execution_count": 29,
   "id": "dccebb28",
   "metadata": {},
   "outputs": [
    {
     "data": {
      "text/plain": [
       "120"
      ]
     },
     "execution_count": 29,
     "metadata": {},
     "output_type": "execute_result"
    }
   ],
   "source": [
    "factorial(5)"
   ]
  },
  {
   "cell_type": "code",
   "execution_count": 30,
   "id": "6d72f20a",
   "metadata": {},
   "outputs": [
    {
     "data": {
      "text/plain": [
       "6"
      ]
     },
     "execution_count": 30,
     "metadata": {},
     "output_type": "execute_result"
    }
   ],
   "source": [
    "factorial(3)"
   ]
  },
  {
   "cell_type": "code",
   "execution_count": 31,
   "id": "6d271ad3",
   "metadata": {},
   "outputs": [
    {
     "data": {
      "text/plain": [
       "1"
      ]
     },
     "execution_count": 31,
     "metadata": {},
     "output_type": "execute_result"
    }
   ],
   "source": [
    "factorial(1)"
   ]
  },
  {
   "cell_type": "code",
   "execution_count": 32,
   "id": "4f82c8f7",
   "metadata": {},
   "outputs": [
    {
     "data": {
      "text/plain": [
       "1"
      ]
     },
     "execution_count": 32,
     "metadata": {},
     "output_type": "execute_result"
    }
   ],
   "source": [
    "factorial(0)"
   ]
  },
  {
   "cell_type": "markdown",
   "id": "30e661d6",
   "metadata": {},
   "source": [
    "<h2>Question 5</h2>\n",
    "<h2>Write a function that moves all elements of one type to the end of the list.</h2>\n",
    "<h2>Examples</h2>\n",
    "<h2>move_to_end([1, 3, 2, 4, 4, 1], 1) ➞ [3, 2, 4, 4, 1, 1]</h2>\n",
    "<h2># Move all the 1s to the end of the array.</h2>\n",
    "<h2>move_to_end([7, 8, 9, 1, 2, 3, 4], 9) ➞ [7, 8, 1, 2, 3, 4, 9]</h2>\n",
    "<h2>move_to_end([\"a\", \"a\", \"a\", \"b\"], \"a\") ➞ [\"b\", \"a\", \"a\", \"a\"]</h2>"
   ]
  },
  {
   "cell_type": "code",
   "execution_count": 40,
   "id": "517863ad",
   "metadata": {},
   "outputs": [],
   "source": [
    "def move_to_end(elements:list, elem:str or int)->list:\n",
    "    count = elements.count(elem)   \n",
    "    lst = [x for x in elements if x != elem] + [elem]*count    \n",
    "    return lst"
   ]
  },
  {
   "cell_type": "code",
   "execution_count": 41,
   "id": "0fc83f61",
   "metadata": {},
   "outputs": [
    {
     "data": {
      "text/plain": [
       "[3, 2, 4, 4, 1, 1]"
      ]
     },
     "execution_count": 41,
     "metadata": {},
     "output_type": "execute_result"
    }
   ],
   "source": [
    "move_to_end([1, 3, 2, 4, 4, 1], 1)"
   ]
  },
  {
   "cell_type": "code",
   "execution_count": 42,
   "id": "c3842cba",
   "metadata": {},
   "outputs": [
    {
     "data": {
      "text/plain": [
       "[7, 8, 1, 2, 3, 4, 9]"
      ]
     },
     "execution_count": 42,
     "metadata": {},
     "output_type": "execute_result"
    }
   ],
   "source": [
    "move_to_end([7, 8, 9, 1, 2, 3, 4], 9)"
   ]
  },
  {
   "cell_type": "code",
   "execution_count": 43,
   "id": "89f34800",
   "metadata": {},
   "outputs": [
    {
     "data": {
      "text/plain": [
       "['b', 'a', 'a', 'a']"
      ]
     },
     "execution_count": 43,
     "metadata": {},
     "output_type": "execute_result"
    }
   ],
   "source": [
    "move_to_end([\"a\", \"a\", \"a\", \"b\"], \"a\")"
   ]
  }
 ],
 "metadata": {
  "kernelspec": {
   "display_name": "Python 3 (ipykernel)",
   "language": "python",
   "name": "python3"
  },
  "language_info": {
   "codemirror_mode": {
    "name": "ipython",
    "version": 3
   },
   "file_extension": ".py",
   "mimetype": "text/x-python",
   "name": "python",
   "nbconvert_exporter": "python",
   "pygments_lexer": "ipython3",
   "version": "3.9.12"
  }
 },
 "nbformat": 4,
 "nbformat_minor": 5
}
