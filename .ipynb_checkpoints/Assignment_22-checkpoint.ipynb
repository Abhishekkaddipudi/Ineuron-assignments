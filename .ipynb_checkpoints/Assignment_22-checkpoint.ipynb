{
 "cells": [
  {
   "cell_type": "markdown",
   "id": "9792f420",
   "metadata": {},
   "source": [
    "<h2>1. What is the result of the code, and explain?</h2>\n",
    "<h2>>>> X = 'iNeuron'</h2>\n",
    "<h2>>>> def func():</h2>\n",
    "<h2>print(X)</h2>\n",
    "<h2>>>> func()</h2>\n"
   ]
  },
  {
   "cell_type": "markdown",
   "id": "563f18d2",
   "metadata": {},
   "source": [
    "> The code will print the string \"iNeuron\" to the console when the func() function is called."
   ]
  },
  {
   "cell_type": "markdown",
   "id": "d3489164",
   "metadata": {},
   "source": [
    "> variable X is assigned 'iNeuron' when function \"func\" is called it prints value of global variable X to console"
   ]
  },
  {
   "cell_type": "markdown",
   "id": "f69e5490",
   "metadata": {},
   "source": [
    "<h2>2. What is the result of the code, and explain?</h2>\n",
    "<h2>>>> X = 'iNeuron'</h2>\n",
    "<h2>>>> def func():</h2>\n",
    "<h2>X = 'NI!'</h2>\n",
    "<h2>>>> func()</h2>\n",
    "<h2>>>> print(X)</h2>"
   ]
  },
  {
   "cell_type": "markdown",
   "id": "98ed9081",
   "metadata": {},
   "source": [
    "> The code will print the string \"iNeuron\" to the console.\n",
    "\n"
   ]
  },
  {
   "cell_type": "markdown",
   "id": "50ab5f62",
   "metadata": {},
   "source": [
    "> The global variable X is assigned with 'iNeuron' and the function func() assigns local variable X with 'Ni!' when X is printed outside func() the global variable value is printed"
   ]
  },
  {
   "cell_type": "markdown",
   "id": "a8a14911",
   "metadata": {},
   "source": [
    "<h2>3. What does this code print, and why?</h2>\n",
    "<h2>>>> X = 'iNeuron'</h2>\n",
    "<h2>>>> def func():</h2>\n",
    "<h2>X = 'NI'</h2>\n",
    "<h2>print(X)</h2>\n",
    "<h2>>>> func()</h2>\n",
    "<h2>>>> print(X)</h2>"
   ]
  },
  {
   "cell_type": "markdown",
   "id": "a4e6a73d",
   "metadata": {},
   "source": [
    "> the above code will print 'NI' inside func() (local variable) and then global variable X value 'iNeuron' is printed"
   ]
  },
  {
   "cell_type": "markdown",
   "id": "95b1d708",
   "metadata": {},
   "source": [
    "<h2>4. What output does this code produce? Why?</h2>\n",
    "<h2>>>> X = 'iNeuron'</h2>\n",
    "<h2>>>> def func():</h2>\n",
    "<h2>global X</h2>\n",
    "<h2>X = 'NI'</h2>\n",
    "<h2>>>> func()</h2>\n",
    "<h2>>>> print(X)</h2>"
   ]
  },
  {
   "cell_type": "markdown",
   "id": "1e614a83",
   "metadata": {},
   "source": [
    "> The output of this code is \"NI\""
   ]
  },
  {
   "cell_type": "markdown",
   "id": "820c67b7",
   "metadata": {},
   "source": [
    "> global keyword is used for X which defines use of global X in function func() the value of global X is changed to \"NI\" finally X is printed "
   ]
  },
  {
   "cell_type": "markdown",
   "id": "3885ed7f",
   "metadata": {},
   "source": [
    "<h2>5. What about this code—what’s the output, and why?</h2>\n",
    "<h2>>>> X = 'iNeuron'</h2>\n",
    "<h2>>>> def func():</h2>\n",
    "<h2>X = 'NI'</h2>\n",
    "<h2>def nested():</h2>\n",
    "<h2>print(X)</h2>\n",
    "<h2>nested()</h2>\n",
    "<h2>>>> func()</h2>\n",
    "<h2>>>> X</h2>"
   ]
  },
  {
   "cell_type": "code",
   "execution_count": 7,
   "id": "cc2a7555",
   "metadata": {},
   "outputs": [
    {
     "name": "stdout",
     "output_type": "stream",
     "text": [
      "NI\n"
     ]
    },
    {
     "data": {
      "text/plain": [
       "'iNeuron'"
      ]
     },
     "execution_count": 7,
     "metadata": {},
     "output_type": "execute_result"
    }
   ],
   "source": [
    "X = 'iNeuron'\n",
    "def func():\n",
    "    X = 'NI'\n",
    "    def nested():\n",
    "        print(X)\n",
    "    nested()\n",
    "func()\n",
    "X"
   ]
  },
  {
   "cell_type": "markdown",
   "id": "be907663",
   "metadata": {},
   "source": [
    "- func() has another function nested() defined in it.\n",
    "\n",
    "\n",
    "- func() also calls nested() function which prints \"NI\" which is local variable X value.\n",
    "\n",
    "\n",
    "\n",
    "- Then X is passed to console it prints \"iNeuron\""
   ]
  },
  {
   "cell_type": "markdown",
   "id": "20e3fc52",
   "metadata": {},
   "source": [
    "<h2>6. How about this code: what is its output in Python 3, and explain?</h2>\n",
    "<h2>>>> def func():</h2>\n",
    "<h2>X = 'NI'</h2>\n",
    "<h2>def nested():</h2>\n",
    "<h2>nonlocal X</h2>\n",
    "<h2>X = 'Spam'</h2>\n",
    "<h2>nested()</h2>\n",
    "<h2>print(X)</h2>\n",
    "<h2>>>> func()</h2>"
   ]
  },
  {
   "cell_type": "code",
   "execution_count": 17,
   "id": "7695572d",
   "metadata": {},
   "outputs": [
    {
     "name": "stdout",
     "output_type": "stream",
     "text": [
      "Spam\n"
     ]
    }
   ],
   "source": [
    "def func():\n",
    "    X = 'NI'\n",
    "    def nested():\n",
    "        nonlocal X\n",
    "        X = 'Spam'\n",
    "    nested()\n",
    "    print(X)\n",
    "func()"
   ]
  },
  {
   "cell_type": "markdown",
   "id": "453703a5",
   "metadata": {},
   "source": [
    "> the output code is Spam"
   ]
  },
  {
   "cell_type": "markdown",
   "id": "fa95a02a",
   "metadata": {},
   "source": [
    "> the function func() has another function nested() which assigns 'Spam' to local variable of function func() because of nonlocal keyword"
   ]
  }
 ],
 "metadata": {
  "kernelspec": {
   "display_name": "Python 3 (ipykernel)",
   "language": "python",
   "name": "python3"
  },
  "language_info": {
   "codemirror_mode": {
    "name": "ipython",
    "version": 3
   },
   "file_extension": ".py",
   "mimetype": "text/x-python",
   "name": "python",
   "nbconvert_exporter": "python",
   "pygments_lexer": "ipython3",
   "version": "3.9.12"
  }
 },
 "nbformat": 4,
 "nbformat_minor": 5
}
