{
 "cells": [
  {
   "cell_type": "markdown",
   "id": "61f2e21f",
   "metadata": {},
   "source": [
    "<h2>1. Set the variable test1 to the string 'This is a test of the emergency text system,' and save test1 to a file named test.txt.</h2>"
   ]
  },
  {
   "cell_type": "code",
   "execution_count": 1,
   "id": "30a3912f",
   "metadata": {},
   "outputs": [],
   "source": [
    "test1='This is a test of the emergency text system,'\n",
    "file=open(\"test.txt\",'w')\n",
    "file.write(test1)\n",
    "file.close()"
   ]
  },
  {
   "cell_type": "markdown",
   "id": "d737fa76",
   "metadata": {},
   "source": [
    "<h2>2. Read the contents of the file test.txt into the variable test2. Is there a difference between test 1 and test 2?</h2>"
   ]
  },
  {
   "cell_type": "code",
   "execution_count": 2,
   "id": "cfc82a83",
   "metadata": {},
   "outputs": [
    {
     "name": "stdout",
     "output_type": "stream",
     "text": [
      "This is a test of the emergency text system, This is a test of the emergency text system,\n"
     ]
    },
    {
     "data": {
      "text/plain": [
       "True"
      ]
     },
     "execution_count": 2,
     "metadata": {},
     "output_type": "execute_result"
    }
   ],
   "source": [
    "file=open(\"test.txt\",\"r\")\n",
    "test2=file.read()\n",
    "print(test1,test2)\n",
    "test2==test1"
   ]
  },
  {
   "cell_type": "markdown",
   "id": "d8376a01",
   "metadata": {},
   "source": [
    "<h2>3. Create a CSV file called books.csv by using these lines:</h2>\n",
    "<h2>title,author,year</h2>\n",
    "<h2>The Weirdstone of Brisingamen,Alan Garner,1960</h2>\n",
    "<h2>Perdido Street Station,China Miéville,2000</h2>\n",
    "<h2>Thud!,Terry Pratchett,2005</h2>\n",
    "<h2>The Spellman Files,Lisa Lutz,2007</h2>\n",
    "<h2>Small Gods,Terry Pratchett,1992</h2>"
   ]
  },
  {
   "cell_type": "code",
   "execution_count": 3,
   "id": "8702a387",
   "metadata": {},
   "outputs": [],
   "source": [
    "import csv\n",
    "\n",
    "data = [\n",
    "    [\"title\", \"author\", \"year\"],\n",
    "    [\"The Weirdstone of Brisingamen\", \"Alan Garner\", 1960],\n",
    "    [\"Perdido Street Station\", \"China Miéville\", 2000],\n",
    "    [\"Thud!\", \"Terry Pratchett\", 2005],\n",
    "    [\"The Spellman Files\", \"Lisa Lutz\", 2007],\n",
    "    [\"Small Gods\", \"Terry Pratchett\", 1992]\n",
    "]\n",
    "#write\n",
    "with open(\"books.csv\",\"w\",newline=\"\") as f:\n",
    "    write=csv.writer(f)\n",
    "    write.writerows(data)\n",
    "    \n"
   ]
  },
  {
   "cell_type": "markdown",
   "id": "74eb1b34",
   "metadata": {},
   "source": [
    "<h2>4. Use the sqlite3 module to create a SQLite database called books.db, and a table called books with these fields: title (text), author (text), and year (integer).</h2>"
   ]
  },
  {
   "cell_type": "code",
   "execution_count": 4,
   "id": "94ca57eb",
   "metadata": {},
   "outputs": [
    {
     "data": {
      "text/plain": [
       "<sqlite3.Cursor at 0x29fb1994b20>"
      ]
     },
     "execution_count": 4,
     "metadata": {},
     "output_type": "execute_result"
    }
   ],
   "source": [
    "import sqlite3\n",
    "conn = sqlite3.connect('books.db')\n",
    "cursor=conn.cursor()\n",
    "cursor.execute(\"create table books (title Text,author Text,year INT)\")"
   ]
  },
  {
   "cell_type": "code",
   "execution_count": 5,
   "id": "a269bfb3",
   "metadata": {},
   "outputs": [
    {
     "name": "stdout",
     "output_type": "stream",
     "text": [
      "[('books',)]\n"
     ]
    }
   ],
   "source": [
    "cursor.execute(\"SELECT name FROM sqlite_master WHERE type='table';\")\n",
    "print(cursor.fetchall())"
   ]
  },
  {
   "cell_type": "markdown",
   "id": "688e2691",
   "metadata": {},
   "source": [
    "<h2>5. Read books.csv and insert its data into the book table.</h2>"
   ]
  },
  {
   "cell_type": "code",
   "execution_count": 6,
   "id": "1b4e75a7",
   "metadata": {},
   "outputs": [
    {
     "name": "stdout",
     "output_type": "stream",
     "text": [
      "['The Weirdstone of Brisingamen', 'Alan Garner', '1960']\n",
      "['Perdido Street Station', 'China Miéville', '2000']\n",
      "['Thud!', 'Terry Pratchett', '2005']\n",
      "['The Spellman Files', 'Lisa Lutz', '2007']\n",
      "['Small Gods', 'Terry Pratchett', '1992']\n"
     ]
    }
   ],
   "source": [
    "#read\n",
    "with open(\"books.csv\", \"r\", newline=\"\") as f:\n",
    "    reader = csv.reader(f)\n",
    "    # Loop over each row of data and print it\n",
    "    flag=True #skipping the index line\n",
    "    for row in reader:\n",
    "        if not flag:\n",
    "            print(row)\n",
    "            cursor.execute(f\"insert into books (title,author,year) values('{row[0]}','{row[1]}','{row[2]}')\")\n",
    "        flag=False\n"
   ]
  },
  {
   "cell_type": "code",
   "execution_count": 7,
   "id": "67007a3b",
   "metadata": {},
   "outputs": [
    {
     "data": {
      "text/plain": [
       "[('The Weirdstone of Brisingamen', 'Alan Garner', 1960),\n",
       " ('Perdido Street Station', 'China Miéville', 2000),\n",
       " ('Thud!', 'Terry Pratchett', 2005),\n",
       " ('The Spellman Files', 'Lisa Lutz', 2007),\n",
       " ('Small Gods', 'Terry Pratchett', 1992)]"
      ]
     },
     "execution_count": 7,
     "metadata": {},
     "output_type": "execute_result"
    }
   ],
   "source": [
    "cursor.execute(\"select * from books\") \n",
    "cursor.fetchall()"
   ]
  },
  {
   "cell_type": "markdown",
   "id": "b12e6563",
   "metadata": {},
   "source": [
    "<h2>6. Select and print the title column from the book table in alphabetical order.</h2>"
   ]
  },
  {
   "cell_type": "code",
   "execution_count": 8,
   "id": "764bbcce",
   "metadata": {},
   "outputs": [
    {
     "data": {
      "text/plain": [
       "[('Perdido Street Station', 'China Miéville', 2000),\n",
       " ('Small Gods', 'Terry Pratchett', 1992),\n",
       " ('The Spellman Files', 'Lisa Lutz', 2007),\n",
       " ('The Weirdstone of Brisingamen', 'Alan Garner', 1960),\n",
       " ('Thud!', 'Terry Pratchett', 2005)]"
      ]
     },
     "execution_count": 8,
     "metadata": {},
     "output_type": "execute_result"
    }
   ],
   "source": [
    "cursor.execute(\"select * from books order by title\") \n",
    "cursor.fetchall()"
   ]
  },
  {
   "cell_type": "markdown",
   "id": "249db228",
   "metadata": {},
   "source": [
    "<h2>7. From the book table, select and print all columns in the order of publication.</h2>"
   ]
  },
  {
   "cell_type": "code",
   "execution_count": 9,
   "id": "8e1ff25d",
   "metadata": {},
   "outputs": [
    {
     "data": {
      "text/plain": [
       "[('The Weirdstone of Brisingamen', 'Alan Garner', 1960),\n",
       " ('Small Gods', 'Terry Pratchett', 1992),\n",
       " ('Perdido Street Station', 'China Miéville', 2000),\n",
       " ('Thud!', 'Terry Pratchett', 2005),\n",
       " ('The Spellman Files', 'Lisa Lutz', 2007)]"
      ]
     },
     "execution_count": 9,
     "metadata": {},
     "output_type": "execute_result"
    }
   ],
   "source": [
    "cursor.execute(\"select * from books order by year\") \n",
    "cursor.fetchall()"
   ]
  },
  {
   "cell_type": "markdown",
   "id": "50c8efe7",
   "metadata": {},
   "source": [
    "<h2>8. Use the sqlalchemy module to connect to the sqlite3 database books.db that you just made in exercise 6.</h2>"
   ]
  },
  {
   "cell_type": "code",
   "execution_count": 12,
   "id": "0851de04",
   "metadata": {},
   "outputs": [
    {
     "name": "stdout",
     "output_type": "stream",
     "text": [
      "('The Weirdstone of Brisingamen', 'Alan Garner', 1960)\n",
      "('Perdido Street Station', 'China Miéville', 2000)\n",
      "('Thud!', 'Terry Pratchett', 2005)\n",
      "('The Spellman Files', 'Lisa Lutz', 2007)\n",
      "('Small Gods', 'Terry Pratchett', 1992)\n"
     ]
    }
   ],
   "source": [
    "import sqlalchemy\n",
    "engine = sqlalchemy.create_engine(\"sqlite:///books.db\")\n",
    "\n",
    "rows=engine.execute(\"select * from books\")\n",
    "for i in rows:\n",
    "    print(i)"
   ]
  },
  {
   "cell_type": "markdown",
   "id": "f9cec6aa",
   "metadata": {},
   "source": [
    "<h2>9. Install the Redis server and the Python redis library (pip install redis) on your computer. Create a Redis hash called test with the fields count (1) and name ('Fester Bestertester'). Print all the fields for test.</h2>"
   ]
  },
  {
   "cell_type": "code",
   "execution_count": 19,
   "id": "8499aa24",
   "metadata": {
    "scrolled": true
   },
   "outputs": [
    {
     "name": "stderr",
     "output_type": "stream",
     "text": [
      "C:\\Users\\hp\\AppData\\Local\\Temp\\ipykernel_7968\\19521559.py:4: DeprecationWarning: Redis.hmset() is deprecated. Use Redis.hset() instead.\n",
      "  conn.hmset('test', {'count': 1, 'name': 'Fester Bestertester'})\n"
     ]
    },
    {
     "data": {
      "text/plain": [
       "{b'count': b'1', b'name': b'Fester Bestertester'}"
      ]
     },
     "execution_count": 19,
     "metadata": {},
     "output_type": "execute_result"
    }
   ],
   "source": [
    "import redis\n",
    "conn = redis.Redis()\n",
    "conn.delete('test')\n",
    "conn.hmset('test', {'count': 1, 'name': 'Fester Bestertester'})\n",
    "conn.hgetall('test')"
   ]
  },
  {
   "cell_type": "markdown",
   "id": "688947f9",
   "metadata": {},
   "source": [
    "<h2>10. Increment the count field of test and print it.</h2>"
   ]
  },
  {
   "cell_type": "code",
   "execution_count": 20,
   "id": "393859d8",
   "metadata": {},
   "outputs": [
    {
     "data": {
      "text/plain": [
       "4"
      ]
     },
     "execution_count": 20,
     "metadata": {},
     "output_type": "execute_result"
    }
   ],
   "source": [
    "conn.hincrby('test','count', 3)"
   ]
  }
 ],
 "metadata": {
  "kernelspec": {
   "display_name": "Python 3 (ipykernel)",
   "language": "python",
   "name": "python3"
  },
  "language_info": {
   "codemirror_mode": {
    "name": "ipython",
    "version": 3
   },
   "file_extension": ".py",
   "mimetype": "text/x-python",
   "name": "python",
   "nbconvert_exporter": "python",
   "pygments_lexer": "ipython3",
   "version": "3.9.12"
  }
 },
 "nbformat": 4,
 "nbformat_minor": 5
}
