{
 "cells": [
  {
   "cell_type": "markdown",
   "id": "06acce5b",
   "metadata": {},
   "source": [
    "<h2>1. Add the current date to the text file today.txt as a string.</h2>"
   ]
  },
  {
   "cell_type": "code",
   "execution_count": 6,
   "id": "810657da",
   "metadata": {},
   "outputs": [
    {
     "name": "stdout",
     "output_type": "stream",
     "text": [
      "the current date is : 2023-04-29\n"
     ]
    }
   ],
   "source": [
    "import datetime\n",
    "current_date = datetime.datetime.today().strftime('%Y-%m-%d')\n",
    "print(\"the current date is :\",current_date)\n",
    "with open('today.txt', 'w') as file:\n",
    "    file.write(current_date + '\\n')"
   ]
  },
  {
   "cell_type": "markdown",
   "id": "5256d77f",
   "metadata": {},
   "source": [
    "<h2>2. Read the text file today.txt into the string today_string</h2>"
   ]
  },
  {
   "cell_type": "code",
   "execution_count": 7,
   "id": "41477bab",
   "metadata": {},
   "outputs": [
    {
     "name": "stdout",
     "output_type": "stream",
     "text": [
      "2023-04-29\n",
      "\n"
     ]
    }
   ],
   "source": [
    "file=open('today.txt','r')\n",
    "today_string=file.read()\n",
    "print(today_string)"
   ]
  },
  {
   "cell_type": "markdown",
   "id": "d0214140",
   "metadata": {},
   "source": [
    "<h2>3. Parse the date from today_string.</h2>"
   ]
  },
  {
   "cell_type": "code",
   "execution_count": 9,
   "id": "67b8bec0",
   "metadata": {},
   "outputs": [
    {
     "data": {
      "text/plain": [
       "datetime.date(2023, 4, 29)"
      ]
     },
     "execution_count": 9,
     "metadata": {},
     "output_type": "execute_result"
    }
   ],
   "source": [
    "import datetime\n",
    "today_string = \"2023-04-29\"\n",
    "today_date = datetime.datetime.strptime(today_string, '%Y-%m-%d').date()\n",
    "today_date"
   ]
  },
  {
   "cell_type": "markdown",
   "id": "63e3cdc9",
   "metadata": {},
   "source": [
    "<h2>4. List the files in your current directory</h2>"
   ]
  },
  {
   "cell_type": "code",
   "execution_count": 13,
   "id": "8ca491c7",
   "metadata": {},
   "outputs": [
    {
     "name": "stdout",
     "output_type": "stream",
     "text": [
      " Volume in drive C has no label.\n",
      " Volume Serial Number is F0A5-60CD\n",
      "\n",
      " Directory of C:\\Users\\hp\\Desktop\\iNeuron\\Ineuron-assignments\n",
      "\n",
      "29-04-2023  00:53    <DIR>          .\n",
      "29-04-2023  00:53    <DIR>          ..\n",
      "26-04-2023  15:19                27 .gitignore\n",
      "29-04-2023  00:45    <DIR>          .ipynb_checkpoints\n",
      "24-04-2023  10:34               376 AssignmentReader.py\n",
      "24-04-2023  10:34             8,296 Assignment_1.ipynb\n",
      "25-04-2023  10:22             9,234 Assignment_10.docx\n",
      "25-04-2023  11:29            14,584 Assignment_10.ipynb\n",
      "25-04-2023  11:48             9,459 Assignment_11.docx\n",
      "25-04-2023  12:38            15,662 Assignment_11.ipynb\n",
      "25-04-2023  12:41             9,446 Assignment_12.docx\n",
      "25-04-2023  23:06            11,148 Assignment_12.ipynb\n",
      "26-04-2023  09:35             9,183 Assignment_13.docx\n",
      "26-04-2023  11:59             9,707 Assignment_13.ipynb\n",
      "26-04-2023  09:36             9,284 Assignment_14.docx\n",
      "26-04-2023  15:18           115,942 Assignment_14.ipynb\n",
      "26-04-2023  09:36             9,381 Assignment_15.docx\n",
      "26-04-2023  16:45             5,291 Assignment_15.ipynb\n",
      "26-04-2023  09:36             9,819 Assignment_16.docx\n",
      "28-04-2023  11:56            10,684 Assignment_16.ipynb\n",
      "26-04-2023  09:37             9,708 Assignment_17.docx\n",
      "28-04-2023  14:57            10,049 Assignment_17.ipynb\n",
      "26-04-2023  09:37             9,326 Assignment_18.docx\n",
      "28-04-2023  18:05             4,805 Assignment_18.ipynb\n",
      "26-04-2023  09:37             9,785 Assignment_19.docx\n",
      "28-04-2023  18:46            10,336 Assignment_19.ipynb\n",
      "24-04-2023  10:34            23,981 Assignment_2.ipynb\n",
      "26-04-2023  09:37             9,663 Assignment_20.docx\n",
      "28-04-2023  23:00            10,308 Assignment_20.ipynb\n",
      "26-04-2023  09:38             9,273 Assignment_21.docx\n",
      "29-04-2023  00:53             5,489 Assignment_21.ipynb\n",
      "26-04-2023  09:38             9,791 Assignment_22.docx\n",
      "26-04-2023  09:38             9,008 Assignment_23.docx\n",
      "26-04-2023  09:39             9,155 Assignment_24.docx\n",
      "26-04-2023  09:39             9,100 Assignment_25.docx\n",
      "24-04-2023  10:34            10,006 Assignment_3.ipynb\n",
      "24-04-2023  10:34            19,173 Assignment_4.ipynb\n",
      "24-04-2023  10:34             9,692 Assignment_5.ipynb\n",
      "24-04-2023  10:34            11,374 Assignment_6.ipynb\n",
      "24-04-2023  10:34            20,399 Assignment_7.ipynb\n",
      "24-04-2023  10:34            14,997 Assignment_8.ipynb\n",
      "24-04-2023  10:02             9,273 Assignment_9.docx\n",
      "24-04-2023  10:29            10,074 Assignment_9.ipynb\n",
      "28-04-2023  22:48               207 books.csv\n",
      "28-04-2023  22:48             8,192 books.db\n",
      "25-04-2023  22:07             3,028 example.pdf\n",
      "26-04-2023  12:35            10,036 example.png\n",
      "26-04-2023  11:34                 0 file.csv\n",
      "24-04-2023  10:34                52 git.bat\n",
      "26-04-2023  15:00            10,855 modified_image.png\n",
      "22-03-2023  16:13         1,845,509 new.pdf\n",
      "25-04-2023  22:09               312 output.pdf\n",
      "25-04-2023  12:09                59 programLog.txt\n",
      "24-04-2023  10:34             4,721 Programming_Assignment2.ipynb\n",
      "24-04-2023  10:34             9,427 Programming_assignment_10.ipynb\n",
      "24-04-2023  10:34             6,875 Programming_Assignment_11.ipynb\n",
      "24-04-2023  10:34            25,942 Programming_assignment_3.ipynb\n",
      "24-04-2023  10:34             6,403 Programming_assignment_4.ipynb\n",
      "24-04-2023  10:34             8,372 Programming_assignment_5.ipynb\n",
      "24-04-2023  10:34             4,636 Programming_assignment_6.ipynb\n",
      "24-04-2023  10:34             5,185 Programming_assignment_7.ipynb\n",
      "24-04-2023  10:34             7,926 Programming_assignment_8.ipynb\n",
      "24-04-2023  10:34             6,551 Programming_assignment_9.ipynb\n",
      "24-04-2023  10:34            11,614 Programming_assingment12.ipynb\n",
      "24-04-2023  10:34             4,035 Programming_assingment_1.ipynb\n",
      "26-04-2023  14:54            23,504 result.png\n",
      "28-04-2023  22:48                44 test.txt\n",
      "29-04-2023  00:50                12 today.txt\n",
      "28-04-2023  17:54                40 zoo.py\n",
      "28-04-2023  17:55    <DIR>          __pycache__\n",
      "              66 File(s)      2,515,825 bytes\n",
      "               4 Dir(s)  16,187,867,136 bytes free\n"
     ]
    }
   ],
   "source": [
    "!dir"
   ]
  },
  {
   "cell_type": "markdown",
   "id": "b2f00c4e",
   "metadata": {},
   "source": [
    "<h2>5. Create a list of all of the files in your parent directory (minimum five files should be available).</h2>"
   ]
  },
  {
   "cell_type": "code",
   "execution_count": 16,
   "id": "63869b3c",
   "metadata": {},
   "outputs": [
    {
     "name": "stdout",
     "output_type": "stream",
     "text": [
      "['.git', '.gitignore', '.ipynb_checkpoints', 'AssignmentReader.py', 'Assignment_1.ipynb', 'Assignment_10.docx', 'Assignment_10.ipynb', 'Assignment_11.docx', 'Assignment_11.ipynb', 'Assignment_12.docx', 'Assignment_12.ipynb', 'Assignment_13.docx', 'Assignment_13.ipynb', 'Assignment_14.docx', 'Assignment_14.ipynb', 'Assignment_15.docx', 'Assignment_15.ipynb', 'Assignment_16.docx', 'Assignment_16.ipynb', 'Assignment_17.docx', 'Assignment_17.ipynb', 'Assignment_18.docx', 'Assignment_18.ipynb', 'Assignment_19.docx', 'Assignment_19.ipynb', 'Assignment_2.ipynb', 'Assignment_20.docx', 'Assignment_20.ipynb', 'Assignment_21.docx', 'Assignment_21.ipynb', 'Assignment_22.docx', 'Assignment_23.docx', 'Assignment_24.docx', 'Assignment_25.docx', 'Assignment_3.ipynb', 'Assignment_4.ipynb', 'Assignment_5.ipynb', 'Assignment_6.ipynb', 'Assignment_7.ipynb', 'Assignment_8.ipynb', 'Assignment_9.docx', 'Assignment_9.ipynb', 'books.csv', 'books.db', 'example.pdf', 'example.png', 'file.csv', 'git.bat', 'modified_image.png', 'new.pdf', 'output.pdf', 'programLog.txt', 'Programming_Assignment2.ipynb', 'Programming_assignment_10.ipynb', 'Programming_Assignment_11.ipynb', 'Programming_assignment_3.ipynb', 'Programming_assignment_4.ipynb', 'Programming_assignment_5.ipynb', 'Programming_assignment_6.ipynb', 'Programming_assignment_7.ipynb', 'Programming_assignment_8.ipynb', 'Programming_assignment_9.ipynb', 'Programming_assingment12.ipynb', 'Programming_assingment_1.ipynb', 'result.png', 'test.txt', 'today.txt', 'zoo.py', '__pycache__']\n"
     ]
    }
   ],
   "source": [
    "import os\n",
    "list_of_files=os.listdir()\n",
    "print(list_of_files)"
   ]
  },
  {
   "cell_type": "markdown",
   "id": "f939139e",
   "metadata": {},
   "source": [
    "<h2>6. Use multiprocessing to create three separate processes. Make each one wait a random number of seconds between one and five, print the current time, and then exit.</h2>"
   ]
  },
  {
   "cell_type": "code",
   "execution_count": 35,
   "id": "46fc603e",
   "metadata": {},
   "outputs": [],
   "source": [
    "import multiprocessing\n",
    "import random\n",
    "from time import sleep\n",
    "from datetime import datetime\n",
    "def currtime(seconds):\n",
    "    sleep(seconds)\n",
    "    print(f\"waited {seconds:.2f} seconds\")\n",
    "    print('current time is', datetime.utcnow())\n",
    "    \n",
    "if __name__ == '__main__':\n",
    "    \n",
    "    for n in range(3):\n",
    "        seconds = random.random()\n",
    "        proc = multiprocessing.Process(target=currtime, args=(seconds,))\n",
    "        proc.start()"
   ]
  },
  {
   "cell_type": "code",
   "execution_count": 36,
   "id": "210b95b6",
   "metadata": {},
   "outputs": [
    {
     "name": "stdout",
     "output_type": "stream",
     "text": [
      "waited 0.79 seconds\n",
      "current time is 2023-04-28 19:45:37.186672\n",
      "waited 0.84 seconds\n",
      "current time is 2023-04-28 19:45:37.249148\n",
      "waited 0.91 seconds\n",
      "current time is 2023-04-28 19:45:37.317745\n"
     ]
    }
   ],
   "source": [
    "!python Multiprocess.py"
   ]
  },
  {
   "cell_type": "markdown",
   "id": "6dd4fd92",
   "metadata": {},
   "source": [
    "<h2>7. Create a date object of your day of birth.</h2>"
   ]
  },
  {
   "cell_type": "code",
   "execution_count": 54,
   "id": "6f363062",
   "metadata": {},
   "outputs": [
    {
     "name": "stdout",
     "output_type": "stream",
     "text": [
      "my birth day is : 2000-04-09\n"
     ]
    }
   ],
   "source": [
    "import datetime\n",
    "date=datetime.date(2000,4,9)\n",
    "print(\"my birth day is :\",date)"
   ]
  },
  {
   "cell_type": "markdown",
   "id": "92d426ed",
   "metadata": {},
   "source": [
    "<h2>8. What day of the week was your day of birth?</h2>"
   ]
  },
  {
   "cell_type": "code",
   "execution_count": 53,
   "id": "673a156b",
   "metadata": {},
   "outputs": [
    {
     "name": "stdout",
     "output_type": "stream",
     "text": [
      "The day of week on which i was born is Sunday\n"
     ]
    }
   ],
   "source": [
    "week_Days= ['Monday', 'Tuesday', 'Wednesday', 'Thursday', 'Friday', 'Saturday', 'Sunday']\n",
    "print(\"The day of week on which i was born is\",week_Days[date.weekday()])"
   ]
  },
  {
   "cell_type": "markdown",
   "id": "51a3e21d",
   "metadata": {},
   "source": [
    "<h2>9. When will you be (or when were you) 10,000 days old?</h2>"
   ]
  },
  {
   "cell_type": "code",
   "execution_count": 50,
   "id": "70cbc6c1",
   "metadata": {},
   "outputs": [
    {
     "name": "stdout",
     "output_type": "stream",
     "text": [
      "I will be 10000 days old on  2274-01-23\n"
     ]
    }
   ],
   "source": [
    "future_date = date + datetime.timedelta(days=100000)\n",
    "print(\"I will be 10000 days old on \",future_date)"
   ]
  }
 ],
 "metadata": {
  "kernelspec": {
   "display_name": "Python 3 (ipykernel)",
   "language": "python",
   "name": "python3"
  },
  "language_info": {
   "codemirror_mode": {
    "name": "ipython",
    "version": 3
   },
   "file_extension": ".py",
   "mimetype": "text/x-python",
   "name": "python",
   "nbconvert_exporter": "python",
   "pygments_lexer": "ipython3",
   "version": "3.9.12"
  }
 },
 "nbformat": 4,
 "nbformat_minor": 5
}
