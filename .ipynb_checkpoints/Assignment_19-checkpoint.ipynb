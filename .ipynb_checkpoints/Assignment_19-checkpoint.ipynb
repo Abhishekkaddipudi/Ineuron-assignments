{
 "cells": [
  {
   "cell_type": "markdown",
   "id": "5162ccd9",
   "metadata": {},
   "source": [
    "<h2>1. Make a class called Thing with no contents and print it. Then, create an object called example from this class and also print it. Are the printed values the same or different?</h2>"
   ]
  },
  {
   "cell_type": "code",
   "execution_count": 4,
   "id": "64432506",
   "metadata": {},
   "outputs": [
    {
     "name": "stdout",
     "output_type": "stream",
     "text": [
      "<class '__main__.Thing'>\n"
     ]
    }
   ],
   "source": [
    "class Thing:\n",
    "    pass\n",
    "print(Thing)"
   ]
  },
  {
   "cell_type": "code",
   "execution_count": 6,
   "id": "730199a1",
   "metadata": {},
   "outputs": [
    {
     "name": "stdout",
     "output_type": "stream",
     "text": [
      "<__main__.Thing object at 0x000002E4CCEF3A60>\n"
     ]
    }
   ],
   "source": [
    "obj=Thing()\n",
    "print(obj)"
   ]
  },
  {
   "cell_type": "markdown",
   "id": "6dee2def",
   "metadata": {},
   "source": [
    "<h2>2. Create a new class called Thing2 and add the value 'abc' to the letters class attribute. Letters should be printed.</h2>"
   ]
  },
  {
   "cell_type": "code",
   "execution_count": 17,
   "id": "6228bda7",
   "metadata": {},
   "outputs": [
    {
     "name": "stdout",
     "output_type": "stream",
     "text": [
      "abc\n"
     ]
    }
   ],
   "source": [
    "class Thing2:\n",
    "    letters = 'abc'\n",
    "\n",
    "print(Thing2.letters)\n"
   ]
  },
  {
   "cell_type": "markdown",
   "id": "7540213a",
   "metadata": {},
   "source": [
    "<h2>3. Make yet another class called, of course, Thing3. This time, assign the value 'xyz' to an instance (object) attribute called letters. Print letters. Do you need to make an object from the class to do this?</h2>"
   ]
  },
  {
   "cell_type": "code",
   "execution_count": 23,
   "id": "23d3ccba",
   "metadata": {},
   "outputs": [
    {
     "name": "stdout",
     "output_type": "stream",
     "text": [
      "xyz\n"
     ]
    }
   ],
   "source": [
    "class Thing3:\n",
    "    def __init__(self):\n",
    "        self.letters=\"xyz\"\n",
    "obj=Thing3()\n",
    "print(obj.letters)\n",
    "    "
   ]
  },
  {
   "cell_type": "markdown",
   "id": "47c6f03f",
   "metadata": {},
   "source": [
    "- as letters variable in Thing3 class is instance variable we need to create a instance to access it"
   ]
  },
  {
   "cell_type": "markdown",
   "id": "932c3d55",
   "metadata": {},
   "source": [
    "<h2>4. Create an Element class with the instance attributes name, symbol, and number. Create a class object with the values 'Hydrogen,' 'H,' and 1.</h2>"
   ]
  },
  {
   "cell_type": "code",
   "execution_count": 27,
   "id": "60afa934",
   "metadata": {},
   "outputs": [],
   "source": [
    "class Element:\n",
    "    def __init__(self,name,symbol,number):\n",
    "        self.name=name\n",
    "        self.symbol=symbol\n",
    "        self.number=number\n",
    "obj=Element(\"Hydrogen\",'H',1)"
   ]
  },
  {
   "cell_type": "markdown",
   "id": "493a2b06",
   "metadata": {},
   "source": [
    "<h2>5. Make a dictionary with these keys and values: 'name': 'Hydrogen', 'symbol': 'H', 'number': 1. Then, create an object called hydrogen from class Element using this dictionary.</h2>"
   ]
  },
  {
   "cell_type": "code",
   "execution_count": 28,
   "id": "baac1483",
   "metadata": {},
   "outputs": [],
   "source": [
    "ele={'name': 'Hydrogen', 'symbol': 'H', 'number': 1}"
   ]
  },
  {
   "cell_type": "code",
   "execution_count": 35,
   "id": "9a491e93",
   "metadata": {},
   "outputs": [],
   "source": [
    "hydrogen=Element(**ele)#passing argument as key value pair"
   ]
  },
  {
   "cell_type": "markdown",
   "id": "3064797c",
   "metadata": {},
   "source": [
    "<h2>6. For the Element class, define a method called dump() that prints the values of the object’s attributes (name, symbol, and number). Create the hydrogen object from this new definition and use dump() to print its attributes.</h2>"
   ]
  },
  {
   "cell_type": "code",
   "execution_count": 40,
   "id": "2c6c5792",
   "metadata": {},
   "outputs": [],
   "source": [
    "class Element:\n",
    "    def __init__(self,name,symbol,number):\n",
    "        self.name=name\n",
    "        self.symbol=symbol\n",
    "        self.number=number\n",
    "    def dump(self):\n",
    "        print(\"name :\",self.name,\"\\nsymbol :\",self.symbol,\"\\nnumber :\",self.number)"
   ]
  },
  {
   "cell_type": "code",
   "execution_count": 41,
   "id": "090fd82c",
   "metadata": {},
   "outputs": [
    {
     "name": "stdout",
     "output_type": "stream",
     "text": [
      "name : Hydrogen \n",
      "symbol : H \n",
      "number : 1\n"
     ]
    }
   ],
   "source": [
    "hydrogen=Element(**ele)\n",
    "hydrogen.dump()"
   ]
  },
  {
   "cell_type": "markdown",
   "id": "4559069f",
   "metadata": {},
   "source": [
    "<h2>7. Call print(hydrogen). In the definition of Element, change the name of method dump to __str__, create a new hydrogen object, and call print(hydrogen) again.</h2>"
   ]
  },
  {
   "cell_type": "code",
   "execution_count": 52,
   "id": "4a2711eb",
   "metadata": {},
   "outputs": [],
   "source": [
    "class Element:\n",
    "    def __init__(self,name,symbol,number):\n",
    "        self.name=name\n",
    "        self.symbol=symbol\n",
    "        self.number=number\n",
    "    def __str__(self):\n",
    "        return f'name :{self.name}\\nsymbol :{self.symbol}\\nnumber :{self.number}'"
   ]
  },
  {
   "cell_type": "code",
   "execution_count": 53,
   "id": "3529df09",
   "metadata": {},
   "outputs": [
    {
     "name": "stdout",
     "output_type": "stream",
     "text": [
      "name :Hydrogen\n",
      "symbol :H\n",
      "number :1\n"
     ]
    }
   ],
   "source": [
    "hydrogen=Element(**ele)\n",
    "print(hydrogen)"
   ]
  },
  {
   "cell_type": "markdown",
   "id": "03bf9c77",
   "metadata": {},
   "source": [
    "<h2>8. Modify Element to make the attributes name, symbol, and number private. Define a getter property for each to return its value.</h2>"
   ]
  },
  {
   "cell_type": "code",
   "execution_count": 75,
   "id": "f4bc486f",
   "metadata": {},
   "outputs": [],
   "source": [
    "class Element:\n",
    "    def __init__(self, name, symbol, number):\n",
    "        self.__name = name\n",
    "        self.__symbol = symbol\n",
    "        self.__number = number\n",
    "\n",
    "    @property\n",
    "    def name(self):\n",
    "        return self.__name\n",
    "\n",
    "    @property\n",
    "    def symbol(self):\n",
    "        return self.__symbol\n",
    "\n",
    "    @property\n",
    "    def number(self):\n",
    "        return self.__number"
   ]
  },
  {
   "cell_type": "code",
   "execution_count": 76,
   "id": "9d4ff278",
   "metadata": {},
   "outputs": [
    {
     "name": "stdout",
     "output_type": "stream",
     "text": [
      "name : Hydrogen\n",
      "symbol : H\n",
      "number : 1\n"
     ]
    }
   ],
   "source": [
    "hydrogen=Element(**ele)\n",
    "\n",
    "print(\"name :\",hydrogen.name)\n",
    "print(\"symbol :\",hydrogen.symbol)\n",
    "print(\"number :\",hydrogen.number)"
   ]
  },
  {
   "cell_type": "markdown",
   "id": "29ab4e14",
   "metadata": {},
   "source": [
    "<h2>9. Define three classes: Bear, Rabbit, and Octopus. For each, define only one method: eats(). This should return 'berries' (Bear), 'clover' (Rabbit), or 'campers' (Octothorpe). Create one object from each and print what it eats.</h2>"
   ]
  },
  {
   "cell_type": "code",
   "execution_count": 81,
   "id": "7f86dbb4",
   "metadata": {},
   "outputs": [
    {
     "name": "stdout",
     "output_type": "stream",
     "text": [
      "Bear eats : Meat\n",
      "Rabbit eats : carrot\n",
      "Octopus eats : small fish\n"
     ]
    }
   ],
   "source": [
    "class Bear:\n",
    "    def eats(self):\n",
    "        return \"Meat\"\n",
    "class Rabbit:\n",
    "    def eats(self):\n",
    "        return \"carrot\"\n",
    "class Octopus:\n",
    "    def eats(self):\n",
    "        return \"small fish\"\n",
    "bear=Bear()\n",
    "rabbit=Rabbit()\n",
    "octopus=Octopus()\n",
    "print(\"Bear eats :\",bear.eats())\n",
    "print(\"Rabbit eats :\",rabbit.eats())\n",
    "print(\"Octopus eats :\",octopus.eats())\n"
   ]
  },
  {
   "cell_type": "markdown",
   "id": "b204a0fb",
   "metadata": {},
   "source": [
    "<h2>10. Define these classes: Laser, Claw, and SmartPhone. Each has only one method: does(). This returns 'disintegrate' (Laser), 'crush' (Claw), or 'ring' (SmartPhone). Then, define the class Robot that has one instance (object) of each of these. Define a does() method for the Robot that prints what its component objects do.</h2>"
   ]
  },
  {
   "cell_type": "code",
   "execution_count": 82,
   "id": "002c18c5",
   "metadata": {},
   "outputs": [
    {
     "name": "stdout",
     "output_type": "stream",
     "text": [
      "Laser: disintegrate\n",
      "Claw: crush\n",
      "SmartPhone: ring\n"
     ]
    }
   ],
   "source": [
    "class Laser:\n",
    "    def does(self):\n",
    "        return 'disintegrate'\n",
    "\n",
    "class Claw:\n",
    "    def does(self):\n",
    "        return 'crush'\n",
    "\n",
    "class SmartPhone:\n",
    "    def does(self):\n",
    "        return 'ring'\n",
    "\n",
    "class Robot:\n",
    "    def __init__(self):\n",
    "        self.laser = Laser()\n",
    "        self.claw = Claw()\n",
    "        self.smartphone = SmartPhone()\n",
    "\n",
    "    def does(self):\n",
    "        print(f\"Laser: {self.laser.does()}\")\n",
    "        print(f\"Claw: {self.claw.does()}\")\n",
    "        print(f\"SmartPhone: {self.smartphone.does()}\")\n",
    "\n",
    "robot = Robot()\n",
    "robot.does()"
   ]
  }
 ],
 "metadata": {
  "kernelspec": {
   "display_name": "Python 3 (ipykernel)",
   "language": "python",
   "name": "python3"
  },
  "language_info": {
   "codemirror_mode": {
    "name": "ipython",
    "version": 3
   },
   "file_extension": ".py",
   "mimetype": "text/x-python",
   "name": "python",
   "nbconvert_exporter": "python",
   "pygments_lexer": "ipython3",
   "version": "3.9.12"
  }
 },
 "nbformat": 4,
 "nbformat_minor": 5
}
