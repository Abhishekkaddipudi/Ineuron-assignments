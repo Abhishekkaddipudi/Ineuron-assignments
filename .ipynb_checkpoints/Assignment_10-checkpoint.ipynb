{
 "cells": [
  {
   "cell_type": "markdown",
   "id": "89a58d2b",
   "metadata": {},
   "source": [
    "<h2>1. How do you distinguish between shutil.copy() and shutil.copytree()?</h2>"
   ]
  },
  {
   "cell_type": "markdown",
   "id": "aa27b713",
   "metadata": {},
   "source": [
    "> - shutil.copy() is used to copy a single file from one location to another location. \n",
    "> - It takes two arguments, the source file path and the destination file path."
   ]
  },
  {
   "cell_type": "markdown",
   "id": "16cd6784",
   "metadata": {},
   "source": [
    "> - shutil.copytree() is used to copy an entire directory tree from one location to another location. \n",
    "> - It takes two arguments, the source directory path and the destination directory path."
   ]
  },
  {
   "cell_type": "code",
   "execution_count": 36,
   "id": "2915584d",
   "metadata": {
    "scrolled": true
   },
   "outputs": [
    {
     "data": {
      "text/plain": [
       "'C:\\\\Users\\\\hp\\\\Downloads\\\\Resourse'"
      ]
     },
     "execution_count": 36,
     "metadata": {},
     "output_type": "execute_result"
    }
   ],
   "source": [
    "import shutil\n",
    "f=open(\"temp.txt\",'w')\n",
    "shutil.copy('temp.txt', 'C:\\\\Users\\\\hp\\\\Downloads\\\\temp.txt')\n",
    "\n",
    "\n",
    "shutil.copytree(\"C:\\\\Users\\\\hp\\\\Desktop\\\\iNeuron\\\\Resourse\",'C:\\\\Users\\\\hp\\\\Downloads\\\\Resourse')\n"
   ]
  },
  {
   "cell_type": "code",
   "execution_count": 37,
   "id": "7b5a005a",
   "metadata": {},
   "outputs": [
    {
     "name": "stdout",
     "output_type": "stream",
     "text": [
      " Volume in drive C has no label.\n",
      " Volume Serial Number is F0A5-60CD\n",
      "\n",
      " Directory of C:\\Users\\hp\\Downloads\n",
      "\n",
      "25-04-2023  10:38                 0 temp.txt\n",
      "               1 File(s)              0 bytes\n",
      "               0 Dir(s)  17,741,537,280 bytes free\n",
      " Volume in drive C has no label.\n",
      " Volume Serial Number is F0A5-60CD\n",
      "\n",
      " Directory of C:\\Users\\hp\\Downloads\\Resourse\n",
      "\n",
      "08-03-2023  21:24    <DIR>          .\n",
      "08-03-2023  21:24    <DIR>          ..\n",
      "08-03-2023  21:24           114,937 4th March FSDSbootcamp2.0(statistics-interview-questions).pdf\n",
      "               1 File(s)        114,937 bytes\n",
      "               2 Dir(s)  17,741,537,280 bytes free\n"
     ]
    }
   ],
   "source": [
    "!dir \"C:\\Users\\hp\\Downloads\\temp.txt\" && dir \"C:\\Users\\hp\\Downloads\\Resourse\" "
   ]
  },
  {
   "cell_type": "code",
   "execution_count": 44,
   "id": "0fcbf6e5",
   "metadata": {},
   "outputs": [],
   "source": [
    "f.close()"
   ]
  },
  {
   "cell_type": "markdown",
   "id": "38743f62",
   "metadata": {},
   "source": [
    "<h2>2. What function is used to rename files??</h2>"
   ]
  },
  {
   "cell_type": "markdown",
   "id": "0e063178",
   "metadata": {},
   "source": [
    "> - In shutil module shutil.move() function can be used to rename as well as move the file to other location"
   ]
  },
  {
   "cell_type": "markdown",
   "id": "a016fb7a",
   "metadata": {},
   "source": [
    "> - The os.rename() function is used to rename files in Python. \n",
    "> - This function is part of the os module in Python's standard library and allows you to rename a file by specifying the current file path and the new file path."
   ]
  },
  {
   "cell_type": "code",
   "execution_count": 39,
   "id": "e9077cd0",
   "metadata": {},
   "outputs": [
    {
     "data": {
      "text/plain": [
       "'C:\\\\Users\\\\hp\\\\Downloads\\\\temp1.txt'"
      ]
     },
     "execution_count": 39,
     "metadata": {},
     "output_type": "execute_result"
    }
   ],
   "source": [
    "shutil.move(\"C:\\\\Users\\\\hp\\\\Downloads\\\\temp.txt\",\"C:\\\\Users\\\\hp\\\\Downloads\\\\temp1.txt\")"
   ]
  },
  {
   "cell_type": "code",
   "execution_count": 42,
   "id": "aa255481",
   "metadata": {},
   "outputs": [
    {
     "name": "stdout",
     "output_type": "stream",
     "text": [
      " Volume in drive C has no label.\n",
      " Volume Serial Number is F0A5-60CD\n",
      "\n",
      " Directory of C:\\Users\\hp\\Downloads\n",
      "\n",
      "25-04-2023  10:38                 0 temp1.txt\n",
      "               1 File(s)              0 bytes\n",
      "               0 Dir(s)  17,742,090,240 bytes free\n"
     ]
    }
   ],
   "source": [
    "!dir \"C:\\Users\\hp\\Downloads\\temp1.txt\""
   ]
  },
  {
   "cell_type": "code",
   "execution_count": 1,
   "id": "9ccc5f30",
   "metadata": {},
   "outputs": [],
   "source": [
    "import os\n",
    "os.rename(\"temp.txt\",\"temp1.txt\")"
   ]
  },
  {
   "cell_type": "markdown",
   "id": "b2330588",
   "metadata": {},
   "source": [
    "<h2>3. What is the difference between the delete functions in the send2trash and shutil modules?</h2>"
   ]
  },
  {
   "cell_type": "markdown",
   "id": "dfbc875e",
   "metadata": {},
   "source": [
    "> - send2trash() moves files and directories to the operating system's trash or recycle bin instead of permanently deleting them."
   ]
  },
  {
   "cell_type": "markdown",
   "id": "91a3f03f",
   "metadata": {},
   "source": [
    "> - shutil.rmtree()  permanently delete files and directories, and there is no option to recover them."
   ]
  },
  {
   "cell_type": "code",
   "execution_count": 7,
   "id": "131e1740",
   "metadata": {},
   "outputs": [],
   "source": [
    "import send2trash\n",
    "import shutil\n",
    "send2trash.send2trash('temp1.txt')"
   ]
  },
  {
   "cell_type": "code",
   "execution_count": 6,
   "id": "4a9bb50d",
   "metadata": {},
   "outputs": [],
   "source": [
    "shutil.rmtree('C:\\\\Users\\\\hp\\\\Downloads\\\\Resourse')"
   ]
  },
  {
   "cell_type": "code",
   "execution_count": 9,
   "id": "4f5687e7",
   "metadata": {},
   "outputs": [
    {
     "name": "stdout",
     "output_type": "stream",
     "text": [
      " Volume in drive C has no label.\n",
      " Volume Serial Number is F0A5-60CD\n",
      "\n",
      " Directory of C:\\Users\\hp\\Desktop\\iNeuron\\Ineuron-assignments\n",
      "\n"
     ]
    },
    {
     "name": "stderr",
     "output_type": "stream",
     "text": [
      "File Not Found\n"
     ]
    }
   ],
   "source": [
    "!dir 'temp1.txt'"
   ]
  },
  {
   "cell_type": "code",
   "execution_count": 11,
   "id": "395b48ae",
   "metadata": {},
   "outputs": [
    {
     "name": "stderr",
     "output_type": "stream",
     "text": [
      "The filename, directory name, or volume label syntax is incorrect.\n"
     ]
    }
   ],
   "source": [
    "!dir 'C:\\Users\\hp\\Downloads\\Resourse'"
   ]
  },
  {
   "cell_type": "markdown",
   "id": "4a6c0353",
   "metadata": {},
   "source": [
    "<h2>4. ZipFile objects have a close() method just like File objects’ close() method. What ZipFile method is equivalent to File objects’ open() method?</h2>"
   ]
  },
  {
   "cell_type": "markdown",
   "id": "ab2cc364",
   "metadata": {},
   "source": [
    "> - The equivalent of the open() method for a ZipFile object in the zipfile module is the ZipFile() constructor.\n",
    "> - The ZipFile() constructor is used to create a new ZipFile object, which represents a zip archive file."
   ]
  },
  {
   "cell_type": "code",
   "execution_count": 14,
   "id": "1c598268",
   "metadata": {},
   "outputs": [],
   "source": [
    "import zipfile\n",
    "zip_file = zipfile.ZipFile('Resourse.zip', 'w')"
   ]
  },
  {
   "cell_type": "code",
   "execution_count": 15,
   "id": "95152925",
   "metadata": {},
   "outputs": [],
   "source": [
    "zip_file.close()"
   ]
  },
  {
   "cell_type": "markdown",
   "id": "b53bfe49",
   "metadata": {},
   "source": [
    "<h2>5. Create a programme that searches a folder tree for files with a certain file extension (such as .pdf or .jpg). Copy these files from whatever location they are in to a new folder.</h2>"
   ]
  },
  {
   "cell_type": "code",
   "execution_count": 42,
   "id": "454f1d6a",
   "metadata": {},
   "outputs": [],
   "source": [
    "from glob import glob\n",
    "class SearchPdfImg:\n",
    "    def __init__(self,directory=None,destdir=None,extensions=None):\n",
    "        isExist = os.path.isdir(directory) and os.path.isdir(destdir)\n",
    "        if isExist:\n",
    "            self.d=directory\n",
    "            self.dd=destdir\n",
    "        else:\n",
    "            raise FileNotFoundError(f\"Directory not found: {directory}\")\n",
    "        self.ext=extensions\n",
    "        self.selectiveCopy(self.d,self.ext,self.dd)\n",
    "        \n",
    "\n",
    "    \n",
    "    def selectiveCopy(self,folder, extensions, destFolder):\n",
    "        folder = os.path.abspath(folder)\n",
    "        destFolder = os.path.abspath(destFolder)\n",
    "        print('Looking in', folder, 'for files with extensions of', ', '.join(extensions))\n",
    "        for foldername, subfolders, filenames in os.walk(folder):\n",
    "            for filename in filenames:\n",
    "                name, extension = os.path.splitext(filename)\n",
    "                try:\n",
    "                    if extension in extensions:\n",
    "                        fileAbsPath = foldername + os.path.sep + filename\n",
    "                        print('Coping', fileAbsPath, 'to', destFolder)\n",
    "                        shutil.copy(fileAbsPath, destFolder)\n",
    "                except Exception as e:\n",
    "                    continue \n",
    "    \n"
   ]
  },
  {
   "cell_type": "code",
   "execution_count": 43,
   "id": "e0a886db",
   "metadata": {},
   "outputs": [
    {
     "name": "stdout",
     "output_type": "stream",
     "text": [
      "Looking in C:\\Users\\hp\\Desktop\\iNeuron for files with extensions of .pdf, .jpg\n",
      "Coping C:\\Users\\hp\\Desktop\\iNeuron\\img.jpg to C:\\Users\\hp\\Desktop\\iNeuron\\Resourse\n",
      "Coping C:\\Users\\hp\\Desktop\\iNeuron\\Ineuron class assignment\\finished_copy.pdf to C:\\Users\\hp\\Desktop\\iNeuron\\Resourse\n",
      "Coping C:\\Users\\hp\\Desktop\\iNeuron\\Ineuron class assignment\\july.pdf to C:\\Users\\hp\\Desktop\\iNeuron\\Resourse\n",
      "Coping C:\\Users\\hp\\Desktop\\iNeuron\\Ineuron class assignment\\june.pdf to C:\\Users\\hp\\Desktop\\iNeuron\\Resourse\n",
      "Coping C:\\Users\\hp\\Desktop\\iNeuron\\Ineuron class assignment\\kjskja.pdf to C:\\Users\\hp\\Desktop\\iNeuron\\Resourse\n",
      "Coping C:\\Users\\hp\\Desktop\\iNeuron\\Ineuron class assignment\\Merged.pdf to C:\\Users\\hp\\Desktop\\iNeuron\\Resourse\n",
      "Coping C:\\Users\\hp\\Desktop\\iNeuron\\Resourse\\4th March FSDSbootcamp2.0(statistics-interview-questions).pdf to C:\\Users\\hp\\Desktop\\iNeuron\\Resourse\n",
      "Coping C:\\Users\\hp\\Desktop\\iNeuron\\Resourse\\finished_copy.pdf to C:\\Users\\hp\\Desktop\\iNeuron\\Resourse\n",
      "Coping C:\\Users\\hp\\Desktop\\iNeuron\\Resourse\\img.jpg to C:\\Users\\hp\\Desktop\\iNeuron\\Resourse\n",
      "Coping C:\\Users\\hp\\Desktop\\iNeuron\\Resourse\\july.pdf to C:\\Users\\hp\\Desktop\\iNeuron\\Resourse\n",
      "Coping C:\\Users\\hp\\Desktop\\iNeuron\\Resourse\\june.pdf to C:\\Users\\hp\\Desktop\\iNeuron\\Resourse\n",
      "Coping C:\\Users\\hp\\Desktop\\iNeuron\\Resourse\\kjskja.pdf to C:\\Users\\hp\\Desktop\\iNeuron\\Resourse\n",
      "Coping C:\\Users\\hp\\Desktop\\iNeuron\\Resourse\\Merged.pdf to C:\\Users\\hp\\Desktop\\iNeuron\\Resourse\n"
     ]
    },
    {
     "data": {
      "text/plain": [
       "<__main__.SearchPdfImg at 0x24814e1deb0>"
      ]
     },
     "execution_count": 43,
     "metadata": {},
     "output_type": "execute_result"
    }
   ],
   "source": [
    "extensions = ['.pdf', '.jpg']\n",
    "folder = 'C:\\\\Users\\\\hp\\\\Desktop\\\\iNeuron'\n",
    "destFolder = 'C:\\\\Users\\\\hp\\\\Desktop\\\\iNeuron\\\\Resourse'\n",
    "SearchPdfImg(folder,destFolder,extensions,)"
   ]
  },
  {
   "cell_type": "code",
   "execution_count": 44,
   "id": "830c91e3",
   "metadata": {},
   "outputs": [
    {
     "name": "stdout",
     "output_type": "stream",
     "text": [
      " Volume in drive C has no label.\n",
      " Volume Serial Number is F0A5-60CD\n",
      "\n",
      " Directory of C:\\Users\\hp\\Desktop\\iNeuron\n",
      "\n",
      "25-04-2023  11:21    <DIR>          .\n",
      "25-04-2023  11:21    <DIR>          ..\n",
      "24-04-2023  08:39    <DIR>          .ipynb_checkpoints\n",
      "25-04-2023  11:20                 0 img.jpg\n",
      "13-12-2022  15:48    <DIR>          Ineuron class assignment\n",
      "25-04-2023  11:25    <DIR>          Ineuron-assignments\n",
      "25-04-2023  11:21    <DIR>          Resourse\n",
      "26-02-2023  14:29    <DIR>          __pycache__\n",
      "               1 File(s)              0 bytes\n",
      "               7 Dir(s)  17,738,805,248 bytes free\n"
     ]
    }
   ],
   "source": [
    "!dir \"C:\\Users\\hp\\Desktop\\iNeuron\""
   ]
  },
  {
   "cell_type": "code",
   "execution_count": 45,
   "id": "f811d815",
   "metadata": {},
   "outputs": [
    {
     "name": "stdout",
     "output_type": "stream",
     "text": [
      " Volume in drive C has no label.\n",
      " Volume Serial Number is F0A5-60CD\n",
      "\n",
      " Directory of C:\\Users\\hp\\Desktop\\iNeuron\\Resourse\n",
      "\n",
      "25-04-2023  11:21    <DIR>          .\n",
      "25-04-2023  11:21    <DIR>          ..\n",
      "08-03-2023  21:24           114,937 4th March FSDSbootcamp2.0(statistics-interview-questions).pdf\n",
      "25-04-2023  11:27           122,055 finished_copy.pdf\n",
      "25-04-2023  11:27                 0 img.jpg\n",
      "25-04-2023  11:27             4,365 july.pdf\n",
      "25-04-2023  11:27             4,375 june.pdf\n",
      "25-04-2023  11:27           114,247 kjskja.pdf\n",
      "25-04-2023  11:27           119,771 Merged.pdf\n",
      "               7 File(s)        479,750 bytes\n",
      "               2 Dir(s)  17,738,436,608 bytes free\n"
     ]
    }
   ],
   "source": [
    "!dir \"C:\\Users\\hp\\Desktop\\iNeuron\\Resourse\""
   ]
  }
 ],
 "metadata": {
  "kernelspec": {
   "display_name": "Python 3 (ipykernel)",
   "language": "python",
   "name": "python3"
  },
  "language_info": {
   "codemirror_mode": {
    "name": "ipython",
    "version": 3
   },
   "file_extension": ".py",
   "mimetype": "text/x-python",
   "name": "python",
   "nbconvert_exporter": "python",
   "pygments_lexer": "ipython3",
   "version": "3.9.12"
  }
 },
 "nbformat": 4,
 "nbformat_minor": 5
}
