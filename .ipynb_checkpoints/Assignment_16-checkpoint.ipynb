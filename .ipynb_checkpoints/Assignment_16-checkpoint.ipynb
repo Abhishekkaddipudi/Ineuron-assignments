{
 "cells": [
  {
   "cell_type": "markdown",
   "id": "28b1f678",
   "metadata": {},
   "source": [
    "<h2>1. Create a list called years_list, starting with the year of your birth, and each year thereafter until the year of your fifth birthday. For example, if you were born in 1980. the list would be years_list = [1980, 1981, 1982, 1983, 1984, 1985].</h2>"
   ]
  },
  {
   "cell_type": "code",
   "execution_count": 4,
   "id": "d137b2fe",
   "metadata": {},
   "outputs": [],
   "source": [
    "genList=lambda x : list(range(x,x+6))"
   ]
  },
  {
   "cell_type": "code",
   "execution_count": 7,
   "id": "c34e34d0",
   "metadata": {},
   "outputs": [
    {
     "name": "stdout",
     "output_type": "stream",
     "text": [
      "[1997, 1998, 1999, 2000, 2001, 2002]\n"
     ]
    }
   ],
   "source": [
    "year_list=genList(1997)\n",
    "print(year_list)"
   ]
  },
  {
   "cell_type": "markdown",
   "id": "6f11b2c5",
   "metadata": {},
   "source": [
    "<h2>2. In which year in years_list was your third birthday? Remember, you were 0 years of age for your first year.</h2>"
   ]
  },
  {
   "cell_type": "code",
   "execution_count": 8,
   "id": "c5d308cd",
   "metadata": {},
   "outputs": [
    {
     "data": {
      "text/plain": [
       "2000"
      ]
     },
     "execution_count": 8,
     "metadata": {},
     "output_type": "execute_result"
    }
   ],
   "source": [
    "year_list[3]"
   ]
  },
  {
   "cell_type": "markdown",
   "id": "e628a41d",
   "metadata": {},
   "source": [
    "<h2>3.In the years list, which year were you the oldest?</h2>"
   ]
  },
  {
   "cell_type": "code",
   "execution_count": 9,
   "id": "289c9a58",
   "metadata": {},
   "outputs": [
    {
     "data": {
      "text/plain": [
       "2002"
      ]
     },
     "execution_count": 9,
     "metadata": {},
     "output_type": "execute_result"
    }
   ],
   "source": [
    "year_list[-1]"
   ]
  },
  {
   "cell_type": "markdown",
   "id": "04140e87",
   "metadata": {},
   "source": [
    "<h2>4. Make a list called things with these three strings as elements: \"mozzarella\", \"cinderella\", \"salmonella\".</h2>"
   ]
  },
  {
   "cell_type": "code",
   "execution_count": 18,
   "id": "0ae3b14c",
   "metadata": {},
   "outputs": [
    {
     "data": {
      "text/plain": [
       "['mozzarella', 'cinderella', 'salmonella']"
      ]
     },
     "execution_count": 18,
     "metadata": {},
     "output_type": "execute_result"
    }
   ],
   "source": [
    "things=[\"mozzarella\", \"cinderella\", \"salmonella\"]\n",
    "things"
   ]
  },
  {
   "cell_type": "markdown",
   "id": "7715b5ca",
   "metadata": {},
   "source": [
    "<h2>5. Capitalize the element in things that refers to a person and then print the list. Did it change the element in the list?</h2>"
   ]
  },
  {
   "cell_type": "code",
   "execution_count": 16,
   "id": "4d528b5b",
   "metadata": {},
   "outputs": [
    {
     "name": "stdout",
     "output_type": "stream",
     "text": [
      "Cinderella\n",
      "['mozzarella', 'cinderella', 'salmonella']\n"
     ]
    }
   ],
   "source": [
    "print(things[1].capitalize())\n",
    "\n",
    "print(things)"
   ]
  },
  {
   "cell_type": "markdown",
   "id": "2e5dfceb",
   "metadata": {},
   "source": [
    " - the capitalize() method returns a new string with the first character capitalized,it does not changes the original list"
   ]
  },
  {
   "cell_type": "markdown",
   "id": "5044d833",
   "metadata": {},
   "source": [
    "<h2>6. Make a surprise list with the elements \"Groucho,\" \"Chico,\" and \"Harpo.\"</h2>"
   ]
  },
  {
   "cell_type": "code",
   "execution_count": 21,
   "id": "b06df47e",
   "metadata": {},
   "outputs": [
    {
     "data": {
      "text/plain": [
       "['Groucho', 'Chico', 'Harpo']"
      ]
     },
     "execution_count": 21,
     "metadata": {},
     "output_type": "execute_result"
    }
   ],
   "source": [
    "surprise=[\"Groucho\", \"Chico\" ,\"Harpo\"]\n",
    "surprise"
   ]
  },
  {
   "cell_type": "markdown",
   "id": "89cbe467",
   "metadata": {},
   "source": [
    "<h2>7. Lowercase the last element of the surprise list, reverse it, and then capitalize it.</h2>"
   ]
  },
  {
   "cell_type": "code",
   "execution_count": 23,
   "id": "2b9f41f0",
   "metadata": {},
   "outputs": [
    {
     "data": {
      "text/plain": [
       "'Harpo'"
      ]
     },
     "execution_count": 23,
     "metadata": {},
     "output_type": "execute_result"
    }
   ],
   "source": [
    "surprise[-1]"
   ]
  },
  {
   "cell_type": "code",
   "execution_count": 22,
   "id": "2025eec2",
   "metadata": {},
   "outputs": [
    {
     "data": {
      "text/plain": [
       "'Oprah'"
      ]
     },
     "execution_count": 22,
     "metadata": {},
     "output_type": "execute_result"
    }
   ],
   "source": [
    "surprise[-1].lower()[::-1].capitalize()"
   ]
  },
  {
   "cell_type": "markdown",
   "id": "450bbf05",
   "metadata": {},
   "source": [
    "<h2>8. Make an English-to-French dictionary called e2f and print it. Here are your starter words: dog is chien, cat is chat, and walrus is morse.</h2>"
   ]
  },
  {
   "cell_type": "code",
   "execution_count": 25,
   "id": "bc025aa1",
   "metadata": {},
   "outputs": [
    {
     "name": "stdout",
     "output_type": "stream",
     "text": [
      "{'dog': 'chien', 'cat': 'chat', 'walrus': 'morse'}\n"
     ]
    }
   ],
   "source": [
    "e2f = {'dog':'chien','cat':'chat','walrus':'morse'}\n",
    "print(e2f)"
   ]
  },
  {
   "cell_type": "markdown",
   "id": "6a4c4244",
   "metadata": {},
   "source": [
    "<h2>9. Write the French word for walrus in your three-word dictionary e2f.</h2>"
   ]
  },
  {
   "cell_type": "code",
   "execution_count": 26,
   "id": "b6d5bb06",
   "metadata": {},
   "outputs": [
    {
     "data": {
      "text/plain": [
       "'morse'"
      ]
     },
     "execution_count": 26,
     "metadata": {},
     "output_type": "execute_result"
    }
   ],
   "source": [
    "e2f['walrus']"
   ]
  },
  {
   "cell_type": "markdown",
   "id": "91c86f9b",
   "metadata": {},
   "source": [
    "<h2>10. Make a French-to-English dictionary called f2e from e2f. Use the items method.</h2>"
   ]
  },
  {
   "cell_type": "code",
   "execution_count": 29,
   "id": "bceb12d5",
   "metadata": {},
   "outputs": [
    {
     "name": "stdout",
     "output_type": "stream",
     "text": [
      "{'chien': 'dog', 'chat': 'cat', 'morse': 'walrus'}\n"
     ]
    }
   ],
   "source": [
    "f2e=dict()\n",
    "f2e = dict((key,value) for value,key in e2f.items())\n",
    "print(f2e)"
   ]
  },
  {
   "cell_type": "markdown",
   "id": "c43b852b",
   "metadata": {},
   "source": [
    "<h2>11. Print the English version of the French word chien using f2e.</h2>"
   ]
  },
  {
   "cell_type": "code",
   "execution_count": 30,
   "id": "3b9c9d78",
   "metadata": {},
   "outputs": [
    {
     "data": {
      "text/plain": [
       "'dog'"
      ]
     },
     "execution_count": 30,
     "metadata": {},
     "output_type": "execute_result"
    }
   ],
   "source": [
    "f2e['chien']"
   ]
  },
  {
   "cell_type": "markdown",
   "id": "f4777c76",
   "metadata": {},
   "source": [
    "<h2>12. Make and print a set of English words from the keys in e2f.</h2>"
   ]
  },
  {
   "cell_type": "code",
   "execution_count": 31,
   "id": "5e31ec54",
   "metadata": {},
   "outputs": [
    {
     "data": {
      "text/plain": [
       "dict_keys(['dog', 'cat', 'walrus'])"
      ]
     },
     "execution_count": 31,
     "metadata": {},
     "output_type": "execute_result"
    }
   ],
   "source": [
    "e2f.keys()"
   ]
  },
  {
   "cell_type": "markdown",
   "id": "7c86b279",
   "metadata": {},
   "source": [
    "<h2>13. Make a multilevel dictionary called life. Use these strings for the topmost keys: 'animals', 'plants', and 'other'. Make the 'animals' key refer to another dictionary with the keys 'cats', 'octopi', and 'emus'. Make the 'cats' key refer to a list of strings with the values 'Henri', 'Grumpy', and 'Lucy'. Make all the other keys refer to empty dictionaries.</h2>\n"
   ]
  },
  {
   "cell_type": "code",
   "execution_count": 42,
   "id": "f34a16be",
   "metadata": {},
   "outputs": [
    {
     "data": {
      "text/plain": [
       "{'animals': {'cats': ['Henri', 'Grumpy', 'Lucy'], 'octopi': {}, 'emus': {}},\n",
       " 'plants': {},\n",
       " 'other': {}}"
      ]
     },
     "execution_count": 42,
     "metadata": {},
     "output_type": "execute_result"
    }
   ],
   "source": [
    "life ={'animals':{'cats':['Henri', 'Grumpy', 'Lucy'], 'octopi':{}, 'emus':{}},\n",
    "       'plants' :{},\n",
    "       'other' :{} }\n",
    "life"
   ]
  },
  {
   "cell_type": "markdown",
   "id": "c20c33e9",
   "metadata": {},
   "source": [
    "<h2>14. Print the top-level keys of life.</h2>"
   ]
  },
  {
   "cell_type": "code",
   "execution_count": 43,
   "id": "f9152270",
   "metadata": {},
   "outputs": [
    {
     "data": {
      "text/plain": [
       "dict_keys(['animals', 'plants', 'other'])"
      ]
     },
     "execution_count": 43,
     "metadata": {},
     "output_type": "execute_result"
    }
   ],
   "source": [
    "life.keys()"
   ]
  },
  {
   "cell_type": "markdown",
   "id": "e52d8a90",
   "metadata": {},
   "source": [
    "<h2>15. Print the keys for life['animals'].</h2>"
   ]
  },
  {
   "cell_type": "code",
   "execution_count": 44,
   "id": "6b909cac",
   "metadata": {},
   "outputs": [
    {
     "data": {
      "text/plain": [
       "dict_keys(['cats', 'octopi', 'emus'])"
      ]
     },
     "execution_count": 44,
     "metadata": {},
     "output_type": "execute_result"
    }
   ],
   "source": [
    "life['animals'].keys()"
   ]
  },
  {
   "cell_type": "markdown",
   "id": "ba54ed49",
   "metadata": {},
   "source": [
    "<h2>16. Print the values for life['animals']['cats']</h2>"
   ]
  },
  {
   "cell_type": "code",
   "execution_count": 46,
   "id": "9a2196f6",
   "metadata": {},
   "outputs": [
    {
     "data": {
      "text/plain": [
       "['Henri', 'Grumpy', 'Lucy']"
      ]
     },
     "execution_count": 46,
     "metadata": {},
     "output_type": "execute_result"
    }
   ],
   "source": [
    " life['animals']['cats']"
   ]
  }
 ],
 "metadata": {
  "kernelspec": {
   "display_name": "Python 3 (ipykernel)",
   "language": "python",
   "name": "python3"
  },
  "language_info": {
   "codemirror_mode": {
    "name": "ipython",
    "version": 3
   },
   "file_extension": ".py",
   "mimetype": "text/x-python",
   "name": "python",
   "nbconvert_exporter": "python",
   "pygments_lexer": "ipython3",
   "version": "3.9.12"
  }
 },
 "nbformat": 4,
 "nbformat_minor": 5
}
