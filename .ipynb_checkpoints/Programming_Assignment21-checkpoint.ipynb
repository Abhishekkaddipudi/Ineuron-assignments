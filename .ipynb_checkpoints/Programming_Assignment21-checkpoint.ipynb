{
 "cells": [
  {
   "cell_type": "markdown",
   "id": "af75e0ef",
   "metadata": {},
   "source": [
    "<h2>Question1</h2>\n",
    "<h2>Write a function that takes a list and a number as arguments. Add the number to the end of the list, then remove the first element of the list. The function should then return the updated list.</h2>\n",
    "<h2>Examples</h2>\n",
    "<h2>next_in_line([5, 6, 7, 8, 9], 1) ➞ [6, 7, 8, 9, 1]</h2>\n",
    "<h2>next_in_line([7, 6, 3, 23, 17], 10) ➞ [6, 3, 23, 17, 10]</h2>\n",
    "<h2>next_in_line([1, 10, 20, 42 ], 6) ➞ [10, 20, 42, 6]</h2>\n",
    "<h2>next_in_line([], 6) ➞ \"No list has been selected\"</h2>"
   ]
  },
  {
   "cell_type": "code",
   "execution_count": 13,
   "id": "257f261f",
   "metadata": {},
   "outputs": [],
   "source": [
    "def next_in_line(lst:list,integer:int)->list:\n",
    "    #checks if list is empty and performs the operations\n",
    "    if lst==[]:\n",
    "        return \"No list has been selected\"\n",
    "    lst.append(integer)\n",
    "    lst.pop(0)\n",
    "    return lst\n",
    "    \n",
    "    "
   ]
  },
  {
   "cell_type": "code",
   "execution_count": 14,
   "id": "456f76d6",
   "metadata": {},
   "outputs": [
    {
     "data": {
      "text/plain": [
       "[6, 7, 8, 9, 1]"
      ]
     },
     "execution_count": 14,
     "metadata": {},
     "output_type": "execute_result"
    }
   ],
   "source": [
    "next_in_line([5, 6, 7, 8, 9], 1)"
   ]
  },
  {
   "cell_type": "code",
   "execution_count": 15,
   "id": "4cd93fcd",
   "metadata": {},
   "outputs": [
    {
     "data": {
      "text/plain": [
       "[6, 3, 23, 17, 10]"
      ]
     },
     "execution_count": 15,
     "metadata": {},
     "output_type": "execute_result"
    }
   ],
   "source": [
    "next_in_line([7, 6, 3, 23, 17], 10)"
   ]
  },
  {
   "cell_type": "code",
   "execution_count": 16,
   "id": "534f1d2d",
   "metadata": {},
   "outputs": [
    {
     "data": {
      "text/plain": [
       "[10, 20, 42, 6]"
      ]
     },
     "execution_count": 16,
     "metadata": {},
     "output_type": "execute_result"
    }
   ],
   "source": [
    "next_in_line([1, 10, 20, 42 ], 6)"
   ]
  },
  {
   "cell_type": "code",
   "execution_count": 17,
   "id": "11f57aa3",
   "metadata": {},
   "outputs": [
    {
     "data": {
      "text/plain": [
       "'No list has been selected'"
      ]
     },
     "execution_count": 17,
     "metadata": {},
     "output_type": "execute_result"
    }
   ],
   "source": [
    "next_in_line([], 6)"
   ]
  },
  {
   "cell_type": "markdown",
   "id": "23c0bfba",
   "metadata": {},
   "source": [
    "<h2>Question2</h2>\n",
    "<h2>Create the function that takes a list of dictionaries and returns the sum of people's budgets.</h2>\n",
    "<h2>Examples</h2>\n",
    "<h2>get_budgets([</h2>\n",
    "<h2>  { \"name\": \"John\", \"age\": 21, \"budget\": 23000 },</h2>\n",
    "<h2>  { \"name\": \"Steve\",  \"age\": 32, \"budget\": 40000 },</h2>\n",
    "<h2>  { \"name\": \"Martin\",  \"age\": 16, \"budget\": 2700 }</h2>\n",
    "<h2>]) ➞ 65700</h2>\n",
    "<h2>get_budgets([</h2>\n",
    "<h2>  { \"name\": \"John\",  \"age\": 21, \"budget\": 29000 },</h2>\n",
    "<h2>  { \"name\": \"Steve\",  \"age\": 32, \"budget\": 32000 },</h2>\n",
    "<h2>  { \"name\": \"Martin\",  \"age\": 16, \"budget\": 1600 }</h2>\n",
    "<h2>]) ➞ 62600</h2>\n"
   ]
  },
  {
   "cell_type": "code",
   "execution_count": 23,
   "id": "77271004",
   "metadata": {},
   "outputs": [],
   "source": [
    "def get_budgets(budget_list:list)->float:\n",
    "    #loops through list gets budget key value sum it up\n",
    "    count=0\n",
    "    try:\n",
    "        for i in budget_list:\n",
    "            count+=i[\"budget\"]\n",
    "    except KeyError:\n",
    "        print(\"No budget key found\")\n",
    "    return count"
   ]
  },
  {
   "cell_type": "code",
   "execution_count": 25,
   "id": "87e2cc05",
   "metadata": {},
   "outputs": [
    {
     "data": {
      "text/plain": [
       "65700"
      ]
     },
     "execution_count": 25,
     "metadata": {},
     "output_type": "execute_result"
    }
   ],
   "source": [
    "get_budgets([\n",
    "{ \"name\": \"John\", \"age\": 21, \"budget\": 23000 },\n",
    "{ \"name\": \"Steve\", \"age\": 32, \"budget\": 40000 },\n",
    "{ \"name\": \"Martin\", \"age\": 16, \"budget\": 2700 }\n",
    "])"
   ]
  },
  {
   "cell_type": "code",
   "execution_count": 26,
   "id": "662a1069",
   "metadata": {},
   "outputs": [
    {
     "data": {
      "text/plain": [
       "62600"
      ]
     },
     "execution_count": 26,
     "metadata": {},
     "output_type": "execute_result"
    }
   ],
   "source": [
    "get_budgets([\n",
    "{ \"name\": \"John\", \"age\": 21, \"budget\": 29000 },\n",
    "{ \"name\": \"Steve\", \"age\": 32, \"budget\": 32000 },\n",
    "{ \"name\": \"Martin\", \"age\": 16, \"budget\": 1600 }\n",
    "]) "
   ]
  },
  {
   "cell_type": "markdown",
   "id": "beb02030",
   "metadata": {},
   "source": [
    "<h2>Question3</h2>\n",
    "<h2>Create a function that takes a string and returns a string with its letters in alphabetical order.</h2>\n",
    "<h2>Examples</h2>\n",
    "<h2>alphabet_soup(\"hello\") ➞ \"ehllo\"</h2>\n",
    "<h2>alphabet_soup(\"edabit\") ➞ \"abdeit\"</h2>\n",
    "<h2>alphabet_soup(\"hacker\") ➞ \"acehkr\"</h2>\n",
    "<h2>alphabet_soup(\"geek\") ➞ \"eegk\"</h2>\n",
    "<h2>alphabet_soup(\"javascript\") ➞ \"aacijprstv\"</h2>"
   ]
  },
  {
   "cell_type": "code",
   "execution_count": 48,
   "id": "7ce803ff",
   "metadata": {},
   "outputs": [],
   "source": [
    "def alphabet_soup(string:str)->str:\n",
    "    #return sorted string of given string\n",
    "    return \"\".join(sorted(string))"
   ]
  },
  {
   "cell_type": "code",
   "execution_count": 49,
   "id": "d4b12973",
   "metadata": {},
   "outputs": [
    {
     "data": {
      "text/plain": [
       "'ehllo'"
      ]
     },
     "execution_count": 49,
     "metadata": {},
     "output_type": "execute_result"
    }
   ],
   "source": [
    "alphabet_soup(\"hello\")"
   ]
  },
  {
   "cell_type": "code",
   "execution_count": 50,
   "id": "01b11ef5",
   "metadata": {},
   "outputs": [
    {
     "data": {
      "text/plain": [
       "'abdeit'"
      ]
     },
     "execution_count": 50,
     "metadata": {},
     "output_type": "execute_result"
    }
   ],
   "source": [
    "alphabet_soup(\"edabit\")"
   ]
  },
  {
   "cell_type": "code",
   "execution_count": 51,
   "id": "1f983164",
   "metadata": {},
   "outputs": [
    {
     "data": {
      "text/plain": [
       "'acehkr'"
      ]
     },
     "execution_count": 51,
     "metadata": {},
     "output_type": "execute_result"
    }
   ],
   "source": [
    "alphabet_soup(\"hacker\")"
   ]
  },
  {
   "cell_type": "code",
   "execution_count": 52,
   "id": "91f480be",
   "metadata": {},
   "outputs": [
    {
     "data": {
      "text/plain": [
       "'eegk'"
      ]
     },
     "execution_count": 52,
     "metadata": {},
     "output_type": "execute_result"
    }
   ],
   "source": [
    "alphabet_soup(\"geek\")"
   ]
  },
  {
   "cell_type": "code",
   "execution_count": 53,
   "id": "56262643",
   "metadata": {},
   "outputs": [
    {
     "data": {
      "text/plain": [
       "'aacijprstv'"
      ]
     },
     "execution_count": 53,
     "metadata": {},
     "output_type": "execute_result"
    }
   ],
   "source": [
    "alphabet_soup(\"javascript\")"
   ]
  },
  {
   "cell_type": "markdown",
   "id": "33487b52",
   "metadata": {},
   "source": [
    "<h2>Question4</h2>\n",
    "<h2>Suppose that you invest $10,000 for 10 years at an interest rate of 6% compounded monthly. What will be the value of your investment at the end of the 10 year period?</h2>\n",
    "<h2>Create a function that accepts the principal p, the term in years t, the interest rate r, and the number of compounding periods per year n. The function returns the value at the end of term rounded to the nearest cent.</h2>\n",
    "<h2>For the example above:</h2>\n",
    "<h2>compound_interest(10000, 10, 0.06, 12) ➞ 18193.97</h2>\n",
    "<h2>Note that the interest rate is given as a decimal and n=12 because with monthly compounding there are 12 periods per year. Compounding can also be done annually, quarterly, weekly, or daily.</h2>\n",
    "<h2>Examples</h2>\n",
    "<h2>compound_interest(100, 1, 0.05, 1) ➞ 105.0</h2>\n",
    "\n",
    "<h2>compound_interest(3500, 15, 0.1, 4) ➞ 15399.26</h2>\n",
    "<h2>compound_interest(100000, 20, 0.15, 365) ➞ 2007316.26</h2>"
   ]
  },
  {
   "cell_type": "code",
   "execution_count": 77,
   "id": "72ea2fa4",
   "metadata": {},
   "outputs": [],
   "source": [
    "def compound_interest(p:int , t:int, r:int, n:int)->float:\n",
    "    #formula to calculate compound interest\n",
    "    A = p * (1 + r/n) ** (n*t)\n",
    "    return round(A, 2)"
   ]
  },
  {
   "cell_type": "code",
   "execution_count": 78,
   "id": "61170b20",
   "metadata": {},
   "outputs": [
    {
     "data": {
      "text/plain": [
       "105.0"
      ]
     },
     "execution_count": 78,
     "metadata": {},
     "output_type": "execute_result"
    }
   ],
   "source": [
    "compound_interest(100, 1, 0.05, 1)"
   ]
  },
  {
   "cell_type": "code",
   "execution_count": 79,
   "id": "dc02111f",
   "metadata": {},
   "outputs": [
    {
     "data": {
      "text/plain": [
       "15399.26"
      ]
     },
     "execution_count": 79,
     "metadata": {},
     "output_type": "execute_result"
    }
   ],
   "source": [
    "compound_interest(3500, 15, 0.1, 4) "
   ]
  },
  {
   "cell_type": "code",
   "execution_count": 80,
   "id": "e347f151",
   "metadata": {},
   "outputs": [
    {
     "data": {
      "text/plain": [
       "2007316.26"
      ]
     },
     "execution_count": 80,
     "metadata": {},
     "output_type": "execute_result"
    }
   ],
   "source": [
    "compound_interest(100000, 20, 0.15, 365)"
   ]
  },
  {
   "cell_type": "code",
   "execution_count": 81,
   "id": "d339f980",
   "metadata": {},
   "outputs": [
    {
     "data": {
      "text/plain": [
       "18193.97"
      ]
     },
     "execution_count": 81,
     "metadata": {},
     "output_type": "execute_result"
    }
   ],
   "source": [
    "compound_interest(10000, 10, 0.06, 12)"
   ]
  },
  {
   "cell_type": "markdown",
   "id": "f4bcb993",
   "metadata": {},
   "source": [
    "<h2>Question5</h2>\n",
    "<h2>Write a function that takes a list of elements and returns only the integers.</h2>\n",
    "<h2>Examples</h2>\n",
    "<h2>return_only_integer([9, 2, \"space\", \"car\", \"lion\", 16]) ➞ [9, 2, 16]</h2>\n",
    "<h2>return_only_integer([\"hello\", 81, \"basketball\", 123, \"fox\"]) ➞ [81, 123]</h2>\n",
    "<h2>return_only_integer([10, \"121\", 56, 20, \"car\", 3, \"lion\"]) ➞ [10, 56, 20, 3]</h2>\n",
    "<h2>return_only_integer([\"String\",  True,  3.3,  1]) ➞ [1]</h2>"
   ]
  },
  {
   "cell_type": "code",
   "execution_count": 83,
   "id": "ca331241",
   "metadata": {},
   "outputs": [],
   "source": [
    "def return_only_integer(list_integers:list)->list:\n",
    "    #list comprehension , type() is used to filter out the values\n",
    "    return [i for i in list_integers if type(i) == int]"
   ]
  },
  {
   "cell_type": "code",
   "execution_count": 84,
   "id": "36a8cce7",
   "metadata": {},
   "outputs": [
    {
     "data": {
      "text/plain": [
       "[9, 2, 16]"
      ]
     },
     "execution_count": 84,
     "metadata": {},
     "output_type": "execute_result"
    }
   ],
   "source": [
    "return_only_integer([9, 2, \"space\", \"car\", \"lion\", 16])"
   ]
  },
  {
   "cell_type": "code",
   "execution_count": 85,
   "id": "ff018f91",
   "metadata": {},
   "outputs": [
    {
     "data": {
      "text/plain": [
       "[81, 123]"
      ]
     },
     "execution_count": 85,
     "metadata": {},
     "output_type": "execute_result"
    }
   ],
   "source": [
    "return_only_integer([\"hello\", 81, \"basketball\", 123, \"fox\"])"
   ]
  },
  {
   "cell_type": "code",
   "execution_count": 86,
   "id": "b6aef247",
   "metadata": {},
   "outputs": [
    {
     "data": {
      "text/plain": [
       "[10, 56, 20, 3]"
      ]
     },
     "execution_count": 86,
     "metadata": {},
     "output_type": "execute_result"
    }
   ],
   "source": [
    "return_only_integer([10, \"121\", 56, 20, \"car\", 3, \"lion\"]) "
   ]
  },
  {
   "cell_type": "code",
   "execution_count": 75,
   "id": "e343cf61",
   "metadata": {},
   "outputs": [
    {
     "data": {
      "text/plain": [
       "[1]"
      ]
     },
     "execution_count": 75,
     "metadata": {},
     "output_type": "execute_result"
    }
   ],
   "source": [
    "return_only_integer([\"String\", True, 3.3, 1])"
   ]
  }
 ],
 "metadata": {
  "kernelspec": {
   "display_name": "Python 3 (ipykernel)",
   "language": "python",
   "name": "python3"
  },
  "language_info": {
   "codemirror_mode": {
    "name": "ipython",
    "version": 3
   },
   "file_extension": ".py",
   "mimetype": "text/x-python",
   "name": "python",
   "nbconvert_exporter": "python",
   "pygments_lexer": "ipython3",
   "version": "3.9.12"
  }
 },
 "nbformat": 4,
 "nbformat_minor": 5
}
