{
 "cells": [
  {
   "cell_type": "markdown",
   "id": "70c8f184",
   "metadata": {},
   "source": [
    "<h2>Question1</h2>\n",
    "<h2>Create a function that takes a string and returns a string in which each character is repeated once.</h2>\n",
    "<h2>Examples</h2>\n",
    "<h2>double_char(\"String\") ➞ \"SSttrriinngg\"</h2>\n",
    "<h2>double_char(\"Hello World!\") ➞ \"HHeelllloo  WWoorrlldd!!\"</h2>\n",
    "<h2>double_char(\"1234!_ \") ➞ \"11223344!!__  \"</h2>"
   ]
  },
  {
   "cell_type": "code",
   "execution_count": 56,
   "id": "ca44e84e",
   "metadata": {},
   "outputs": [],
   "source": [
    "def double_char(string:str)->str:\n",
    "    #makes a new string with double chars\n",
    "    s=\"\"\n",
    "    for i in string:\n",
    "        s+=i*2\n",
    "    print(s)"
   ]
  },
  {
   "cell_type": "code",
   "execution_count": 57,
   "id": "1cf46b03",
   "metadata": {},
   "outputs": [
    {
     "name": "stdout",
     "output_type": "stream",
     "text": [
      "SSttrriinngg\n"
     ]
    }
   ],
   "source": [
    "double_char(\"String\")"
   ]
  },
  {
   "cell_type": "code",
   "execution_count": 58,
   "id": "5d1a084e",
   "metadata": {},
   "outputs": [
    {
     "name": "stdout",
     "output_type": "stream",
     "text": [
      "HHeelllloo  WWoorrlldd!!\n"
     ]
    }
   ],
   "source": [
    "double_char(\"Hello World!\")"
   ]
  },
  {
   "cell_type": "code",
   "execution_count": 59,
   "id": "faf4b607",
   "metadata": {},
   "outputs": [
    {
     "name": "stdout",
     "output_type": "stream",
     "text": [
      "11223344!!__  \n"
     ]
    }
   ],
   "source": [
    "double_char(\"1234!_ \")"
   ]
  },
  {
   "cell_type": "markdown",
   "id": "3cb8619e",
   "metadata": {},
   "source": [
    "<h2>Question2</h2>\n",
    "<h2>Create a function that reverses a boolean value and returns the string \"boolean expected\" if another variable type is given.</h2>\n",
    "<h2>Examples</h2>\n",
    "<h2>reverse(True) ➞ False</h2>\n",
    "<h2>reverse(False) ➞ True</h2>\n",
    "<h2>reverse(0) ➞ \"boolean expected\"</h2>\n",
    "<h2>reverse(None) ➞ \"boolean expected\"</h2>"
   ]
  },
  {
   "cell_type": "code",
   "execution_count": 60,
   "id": "6f9a597c",
   "metadata": {},
   "outputs": [],
   "source": [
    "def reverse(val:bool)->bool or str:\n",
    "    #returns reverse of given bool else string is returned\n",
    "    return not val if type(val)==bool else \"boolean expected\""
   ]
  },
  {
   "cell_type": "code",
   "execution_count": 61,
   "id": "52a3c15b",
   "metadata": {},
   "outputs": [
    {
     "data": {
      "text/plain": [
       "False"
      ]
     },
     "execution_count": 61,
     "metadata": {},
     "output_type": "execute_result"
    }
   ],
   "source": [
    "reverse(True)"
   ]
  },
  {
   "cell_type": "code",
   "execution_count": 62,
   "id": "f6d37692",
   "metadata": {},
   "outputs": [
    {
     "data": {
      "text/plain": [
       "True"
      ]
     },
     "execution_count": 62,
     "metadata": {},
     "output_type": "execute_result"
    }
   ],
   "source": [
    "reverse(False)"
   ]
  },
  {
   "cell_type": "code",
   "execution_count": 63,
   "id": "d6bd3dc0",
   "metadata": {},
   "outputs": [
    {
     "data": {
      "text/plain": [
       "'boolean expected'"
      ]
     },
     "execution_count": 63,
     "metadata": {},
     "output_type": "execute_result"
    }
   ],
   "source": [
    "reverse(0)"
   ]
  },
  {
   "cell_type": "code",
   "execution_count": 64,
   "id": "167b4319",
   "metadata": {},
   "outputs": [
    {
     "data": {
      "text/plain": [
       "'boolean expected'"
      ]
     },
     "execution_count": 64,
     "metadata": {},
     "output_type": "execute_result"
    }
   ],
   "source": [
    "reverse(None)"
   ]
  },
  {
   "cell_type": "markdown",
   "id": "799eb763",
   "metadata": {},
   "source": [
    "<h2>Question3</h2>\n",
    "<h2>Create a function that returns the thickness (in meters) of a piece of paper after folding it n number of times. The paper starts off with a thickness of 0.5mm.</h2>\n",
    "<h2>Examples</h2>\n",
    "<h2>num_layers(1) ➞ \"0.001m\"</h2>\n",
    "<h2># Paper folded once is 1mm (equal to 0.001m)</h2>\n",
    "<h2>num_layers(4) ➞ \"0.008m\"</h2>\n",
    "<h2># Paper folded 4 times is 8mm (equal to 0.008m)</h2>\n",
    "<h2>num_layers(21) ➞ \"1048.576m\"</h2>\n",
    "<h2># Paper folded 21 times is 1048576mm (equal to 1048.576m)</h2>"
   ]
  },
  {
   "cell_type": "code",
   "execution_count": 65,
   "id": "93a57111",
   "metadata": {},
   "outputs": [],
   "source": [
    "def num_layers(n:int)->str:\n",
    "    #doubles thickness each time the paper is folded\n",
    "    thickness = 0.0005\n",
    "    for i in range(n):\n",
    "        thickness *= 2\n",
    "    return str(thickness) + \"m\"\n"
   ]
  },
  {
   "cell_type": "code",
   "execution_count": 66,
   "id": "ab5ff117",
   "metadata": {},
   "outputs": [
    {
     "data": {
      "text/plain": [
       "'0.001m'"
      ]
     },
     "execution_count": 66,
     "metadata": {},
     "output_type": "execute_result"
    }
   ],
   "source": [
    "num_layers(1)"
   ]
  },
  {
   "cell_type": "code",
   "execution_count": 67,
   "id": "2b2b747d",
   "metadata": {},
   "outputs": [
    {
     "data": {
      "text/plain": [
       "'0.008m'"
      ]
     },
     "execution_count": 67,
     "metadata": {},
     "output_type": "execute_result"
    }
   ],
   "source": [
    "num_layers(4)"
   ]
  },
  {
   "cell_type": "code",
   "execution_count": 68,
   "id": "578317ba",
   "metadata": {},
   "outputs": [
    {
     "data": {
      "text/plain": [
       "'1048.576m'"
      ]
     },
     "execution_count": 68,
     "metadata": {},
     "output_type": "execute_result"
    }
   ],
   "source": [
    "num_layers(21)"
   ]
  },
  {
   "cell_type": "markdown",
   "id": "35bcec1e",
   "metadata": {},
   "source": [
    "<h2>Question4</h2>\n",
    "<h2>Create a function that takes a single string as argument and returns an ordered list containing the indices of all capital letters in the string.</h2>\n",
    "<h2>Examples</h2>\n",
    "<h2>index_of_caps(\"eDaBiT\") ➞ [1, 3, 5]</h2>\n",
    "<h2>index_of_caps(\"eQuINoX\") ➞ [1, 3, 4, 6]</h2>\n",
    "<h2>index_of_caps(\"determine\") ➞ []</h2>\n",
    "<h2>index_of_caps(\"STRIKE\") ➞ [0, 1, 2, 3, 4, 5]</h2>\n",
    "<h2>index_of_caps(\"sUn\") ➞ [1]</h2>"
   ]
  },
  {
   "cell_type": "code",
   "execution_count": 69,
   "id": "e782f63d",
   "metadata": {},
   "outputs": [],
   "source": [
    "def index_of_caps(string:str)->list:\n",
    "    #loops through each char in string inserts index into lst is it is capital\n",
    "    lst=[]\n",
    "    for i in range(len(string)):\n",
    "        if string[i].isupper():\n",
    "            lst.append(i)\n",
    "    return lst\n",
    "    "
   ]
  },
  {
   "cell_type": "code",
   "execution_count": 70,
   "id": "4f001073",
   "metadata": {},
   "outputs": [
    {
     "data": {
      "text/plain": [
       "[1, 3, 5]"
      ]
     },
     "execution_count": 70,
     "metadata": {},
     "output_type": "execute_result"
    }
   ],
   "source": [
    "index_of_caps(\"eDaBiT\")"
   ]
  },
  {
   "cell_type": "code",
   "execution_count": 71,
   "id": "5f469ff7",
   "metadata": {},
   "outputs": [
    {
     "data": {
      "text/plain": [
       "[1, 3, 4, 6]"
      ]
     },
     "execution_count": 71,
     "metadata": {},
     "output_type": "execute_result"
    }
   ],
   "source": [
    "index_of_caps(\"eQuINoX\")"
   ]
  },
  {
   "cell_type": "code",
   "execution_count": 72,
   "id": "5e397589",
   "metadata": {},
   "outputs": [
    {
     "data": {
      "text/plain": [
       "[]"
      ]
     },
     "execution_count": 72,
     "metadata": {},
     "output_type": "execute_result"
    }
   ],
   "source": [
    "index_of_caps(\"determine\")"
   ]
  },
  {
   "cell_type": "code",
   "execution_count": 73,
   "id": "cd23efe0",
   "metadata": {},
   "outputs": [
    {
     "data": {
      "text/plain": [
       "[0, 1, 2, 3, 4, 5]"
      ]
     },
     "execution_count": 73,
     "metadata": {},
     "output_type": "execute_result"
    }
   ],
   "source": [
    "index_of_caps(\"STRIKE\") "
   ]
  },
  {
   "cell_type": "code",
   "execution_count": 74,
   "id": "99d4d90d",
   "metadata": {},
   "outputs": [
    {
     "data": {
      "text/plain": [
       "[1]"
      ]
     },
     "execution_count": 74,
     "metadata": {},
     "output_type": "execute_result"
    }
   ],
   "source": [
    "index_of_caps(\"sUn\") "
   ]
  },
  {
   "cell_type": "markdown",
   "id": "fc5bb31b",
   "metadata": {},
   "source": [
    "<h2>Question5</h2>\n",
    "<h2>Using list comprehensions, create a function that finds all even numbers from 1 to the given number.</h2>\n",
    "<h2>Examples</h2>\n",
    "<h2>find_even_nums(8) ➞ [2, 4, 6, 8]</h2>\n",
    "<h2>find_even_nums(4) ➞ [2, 4]</h2>\n",
    "<h2>find_even_nums(2) ➞ [2]</h2>"
   ]
  },
  {
   "cell_type": "code",
   "execution_count": 75,
   "id": "3e8feb9d",
   "metadata": {},
   "outputs": [],
   "source": [
    "def find_even_nums(n:int)->list:\n",
    "    #list compreshension for even numbers untill n\n",
    "    return [x for x in range(1,n+1) if x%2==0]\n"
   ]
  },
  {
   "cell_type": "code",
   "execution_count": 76,
   "id": "8c3fd347",
   "metadata": {},
   "outputs": [
    {
     "data": {
      "text/plain": [
       "[2, 4, 6, 8]"
      ]
     },
     "execution_count": 76,
     "metadata": {},
     "output_type": "execute_result"
    }
   ],
   "source": [
    "find_even_nums(8)"
   ]
  },
  {
   "cell_type": "code",
   "execution_count": 77,
   "id": "be032503",
   "metadata": {},
   "outputs": [
    {
     "data": {
      "text/plain": [
       "[2, 4]"
      ]
     },
     "execution_count": 77,
     "metadata": {},
     "output_type": "execute_result"
    }
   ],
   "source": [
    "find_even_nums(4)"
   ]
  },
  {
   "cell_type": "code",
   "execution_count": 78,
   "id": "d4498224",
   "metadata": {},
   "outputs": [
    {
     "data": {
      "text/plain": [
       "[2]"
      ]
     },
     "execution_count": 78,
     "metadata": {},
     "output_type": "execute_result"
    }
   ],
   "source": [
    "find_even_nums(2)"
   ]
  }
 ],
 "metadata": {
  "kernelspec": {
   "display_name": "Python 3 (ipykernel)",
   "language": "python",
   "name": "python3"
  },
  "language_info": {
   "codemirror_mode": {
    "name": "ipython",
    "version": 3
   },
   "file_extension": ".py",
   "mimetype": "text/x-python",
   "name": "python",
   "nbconvert_exporter": "python",
   "pygments_lexer": "ipython3",
   "version": "3.9.12"
  }
 },
 "nbformat": 4,
 "nbformat_minor": 5
}
