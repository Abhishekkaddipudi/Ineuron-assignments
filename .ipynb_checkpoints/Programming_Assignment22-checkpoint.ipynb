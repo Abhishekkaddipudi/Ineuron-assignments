{
 "cells": [
  {
   "cell_type": "markdown",
   "id": "484685f9",
   "metadata": {},
   "source": [
    "<h2>Question1</h2>\n",
    "<h2>Create a function that takes three parameters where:</h2>\n",
    "<h2>x is the start of the range (inclusive).</h2>\n",
    "<h2>y is the end of the range (inclusive).</h2>\n",
    "<h2>n is the divisor to be checked against.</h2>\n",
    "<h2>Return an ordered list with numbers in the range that are divisible by the third parameter n. Return an empty list if there are no numbers that are divisible by n.</h2>\n",
    "<h2>Examples</h2>\n",
    "<h2>\t\t\t\t\t\t\t\t\t\t\t\t\t\t\t\tlist_operation(1, 10, 3) ➞ [3, 6, 9]</h2>\n",
    "\n",
    "<h2>\t\t\t\t\t\t\t\t\t\t\t\t\t\t\t\tlist_operation(7, 9, 2) ➞ [8]</h2>\n",
    "\n",
    "<h2>\t\t\t\t\t\t\t\t\t\t\t\t\t\t\t\tlist_operation(15, 20, 7) ➞ []</h2>\n"
   ]
  },
  {
   "cell_type": "code",
   "execution_count": 8,
   "id": "4b654d0d",
   "metadata": {},
   "outputs": [],
   "source": [
    "def list_operation(x:int, y:int, n:int)-> list:\n",
    "    #return number divisible by n in range x to y\n",
    "    result = []\n",
    "    for num in range(x, y+1):\n",
    "        if num % n == 0:\n",
    "            result.append(num)\n",
    "    return result\n"
   ]
  },
  {
   "cell_type": "code",
   "execution_count": 9,
   "id": "21a2b0be",
   "metadata": {},
   "outputs": [
    {
     "data": {
      "text/plain": [
       "[3, 6, 9]"
      ]
     },
     "execution_count": 9,
     "metadata": {},
     "output_type": "execute_result"
    }
   ],
   "source": [
    "list_operation(1, 10, 3) "
   ]
  },
  {
   "cell_type": "code",
   "execution_count": 10,
   "id": "f051eaa0",
   "metadata": {},
   "outputs": [
    {
     "data": {
      "text/plain": [
       "[8]"
      ]
     },
     "execution_count": 10,
     "metadata": {},
     "output_type": "execute_result"
    }
   ],
   "source": [
    "list_operation(7, 9, 2)"
   ]
  },
  {
   "cell_type": "code",
   "execution_count": 11,
   "id": "2dd310df",
   "metadata": {},
   "outputs": [
    {
     "data": {
      "text/plain": [
       "[]"
      ]
     },
     "execution_count": 11,
     "metadata": {},
     "output_type": "execute_result"
    }
   ],
   "source": [
    "list_operation(15, 20, 7) "
   ]
  },
  {
   "cell_type": "markdown",
   "id": "c3162543",
   "metadata": {},
   "source": [
    "<h2>Question2</h2>\n",
    "<h2>Create a function that takes in two lists and returns True if the second list follows the first list by one element, and False otherwise. In other words, determine if the second list is the first list shifted to the right by 1.</h2>\n",
    "<h2>Examples</h2>\n",
    "<h2>\t\t\t\t\t\t\t\t\t\t\t\t\t\t\t\tsimon_says([1, 2], [5, 1]) ➞ True</h2>\n",
    "\n",
    "<h2>\t\t\t\t\t\t\t\t\t\t\t\t\t\t\t\tsimon_says([1, 2], [5, 5]) ➞ False</h2>\n",
    "\n",
    "<h2>\t\t\t\t\t\t\t\t\t\t\t\t\t\t\t\tsimon_says([1, 2, 3, 4, 5], [0, 1, 2, 3, 4]) ➞ True</h2>\n",
    "<h2>simon_says([1, 2, 3, 4, 5], [5, 5, 1, 2, 3]) ➞ False</h2>\n",
    "<h2>Notes</h2>\n",
    "<h2>Both input lists will be of the same length, and will have a minimum length of 2.</h2>\n",
    "<h2>The values of the 0-indexed element in the second list and the n-1th indexed element in the first list do not matter.</h2>"
   ]
  },
  {
   "cell_type": "code",
   "execution_count": 29,
   "id": "45e4d275",
   "metadata": {},
   "outputs": [],
   "source": [
    "def simon_says(lst1:list, lst2:list)->list:\n",
    "    \"\"\"checks if first list contains equalilty of lists by excluding \n",
    "    last element of first list and first element of second list\"\"\"\n",
    "    if lst1[:-1] == lst2[1:]:\n",
    "        return True\n",
    "    else:\n",
    "        return False\n"
   ]
  },
  {
   "cell_type": "code",
   "execution_count": 30,
   "id": "f7a5a27b",
   "metadata": {},
   "outputs": [
    {
     "data": {
      "text/plain": [
       "True"
      ]
     },
     "execution_count": 30,
     "metadata": {},
     "output_type": "execute_result"
    }
   ],
   "source": [
    "simon_says([1, 2], [5, 1])"
   ]
  },
  {
   "cell_type": "code",
   "execution_count": 31,
   "id": "ca908888",
   "metadata": {},
   "outputs": [
    {
     "data": {
      "text/plain": [
       "False"
      ]
     },
     "execution_count": 31,
     "metadata": {},
     "output_type": "execute_result"
    }
   ],
   "source": [
    "simon_says([1, 2], [5, 5])"
   ]
  },
  {
   "cell_type": "code",
   "execution_count": 32,
   "id": "f7058314",
   "metadata": {},
   "outputs": [
    {
     "data": {
      "text/plain": [
       "True"
      ]
     },
     "execution_count": 32,
     "metadata": {},
     "output_type": "execute_result"
    }
   ],
   "source": [
    "simon_says([1, 2, 3, 4, 5], [0, 1, 2, 3, 4])"
   ]
  },
  {
   "cell_type": "code",
   "execution_count": 33,
   "id": "cbae4e8e",
   "metadata": {},
   "outputs": [
    {
     "data": {
      "text/plain": [
       "False"
      ]
     },
     "execution_count": 33,
     "metadata": {},
     "output_type": "execute_result"
    }
   ],
   "source": [
    "simon_says([1, 2, 3, 4, 5], [5, 5, 1, 2, 3])"
   ]
  },
  {
   "cell_type": "markdown",
   "id": "4b69d756",
   "metadata": {},
   "source": [
    "<h2>Question3</h2>\n",
    "<h2>A group of friends have decided to start a secret society. The name will be the first letter of each of their names, sorted in alphabetical order.</h2>\n",
    "<h2>Create a function that takes in a list of names and returns the name of the secret society.</h2>\n",
    "<h2>Examples</h2>\n",
    "<h2>society_name([\"Adam\", \"Sarah\", \"Malcolm\"]) ➞ \"AMS\"</h2>\n",
    "\n",
    "<h2>society_name([\"Harry\", \"Newt\", \"Luna\", \"Cho\"]) ➞ \"CHLN\"</h2>\n",
    "\n",
    "<h2>society_name([\"Phoebe\", \"Chandler\", \"Rachel\", \"Ross\", \"Monica\", \"Joey\"]) ➞ 'CJMPRR'</h2>\n"
   ]
  },
  {
   "cell_type": "code",
   "execution_count": 35,
   "id": "67ab411f",
   "metadata": {},
   "outputs": [],
   "source": [
    "def society_name(names:str)->str:\n",
    "    \"\"\"takes first element of string and joins them after sorting\"\"\"\n",
    "    initials = [name[0] for name in names]\n",
    "    return ''.join(sorted(initials))"
   ]
  },
  {
   "cell_type": "code",
   "execution_count": 36,
   "id": "236b0523",
   "metadata": {},
   "outputs": [
    {
     "data": {
      "text/plain": [
       "'AMS'"
      ]
     },
     "execution_count": 36,
     "metadata": {},
     "output_type": "execute_result"
    }
   ],
   "source": [
    "society_name([\"Adam\", \"Sarah\", \"Malcolm\"]) "
   ]
  },
  {
   "cell_type": "code",
   "execution_count": 37,
   "id": "224d9e65",
   "metadata": {},
   "outputs": [
    {
     "data": {
      "text/plain": [
       "'CHLN'"
      ]
     },
     "execution_count": 37,
     "metadata": {},
     "output_type": "execute_result"
    }
   ],
   "source": [
    "society_name([\"Harry\", \"Newt\", \"Luna\", \"Cho\"]) "
   ]
  },
  {
   "cell_type": "code",
   "execution_count": 38,
   "id": "483666ce",
   "metadata": {},
   "outputs": [
    {
     "data": {
      "text/plain": [
       "'CJMPRR'"
      ]
     },
     "execution_count": 38,
     "metadata": {},
     "output_type": "execute_result"
    }
   ],
   "source": [
    "society_name([\"Phoebe\", \"Chandler\", \"Rachel\", \"Ross\", \"Monica\", \"Joey\"])"
   ]
  },
  {
   "cell_type": "markdown",
   "id": "b84e5cb3",
   "metadata": {},
   "source": [
    "<h2>Question4</h2>\n",
    "<h2>An isogram is a word that has no duplicate letters. Create a function that takes a string and returns either True or False depending on whether or not it's an \"isogram\".</h2>\n",
    "<h2>Examples</h2>\n",
    "<h2>\t\t\t\t\t\t\t\t\t\t\t\t\t\t\t\tis_isogram(\"Algorism\") ➞ True</h2>\n",
    "<h2>\t\t\t\t\t\t\t\t\t\t\t\t\t\t\t\tis_isogram(\"PasSword\") ➞ False</h2>\n",
    "<h2>\t\t\t\t\t\t\t\t\t\t\t\t\t\t\t\t# Not case sensitive.</h2>\n",
    "<h2>\t\t\t\t\t\t\t\t\t\t\t\t\t\t\t\tis_isogram(\"Consecutive\") ➞ False</h2>\n",
    "<h2>Notes</h2>\n",
    "<h2>Ignore letter case (should not be case sensitive).</h2>\n",
    "<h2>All test cases contain valid one word strings.</h2>\n"
   ]
  },
  {
   "cell_type": "code",
   "execution_count": 39,
   "id": "7ee41437",
   "metadata": {},
   "outputs": [],
   "source": [
    "def is_isogram(string:str)->bool:\n",
    "    \"\"\"checks if string contains duplicate values and returns bool\"\"\"\n",
    "    string = string.lower() \n",
    "    for char in string:\n",
    "        if string.count(char) > 1:\n",
    "            return False\n",
    "    return True\n"
   ]
  },
  {
   "cell_type": "code",
   "execution_count": 40,
   "id": "4903c0ff",
   "metadata": {},
   "outputs": [
    {
     "data": {
      "text/plain": [
       "True"
      ]
     },
     "execution_count": 40,
     "metadata": {},
     "output_type": "execute_result"
    }
   ],
   "source": [
    "is_isogram(\"Algorism\")"
   ]
  },
  {
   "cell_type": "code",
   "execution_count": 41,
   "id": "e2916b5e",
   "metadata": {},
   "outputs": [
    {
     "data": {
      "text/plain": [
       "False"
      ]
     },
     "execution_count": 41,
     "metadata": {},
     "output_type": "execute_result"
    }
   ],
   "source": [
    "is_isogram(\"Consecutive\")"
   ]
  },
  {
   "cell_type": "code",
   "execution_count": 42,
   "id": "9652f0cb",
   "metadata": {},
   "outputs": [
    {
     "data": {
      "text/plain": [
       "False"
      ]
     },
     "execution_count": 42,
     "metadata": {},
     "output_type": "execute_result"
    }
   ],
   "source": [
    "is_isogram(\"PasSword\")"
   ]
  },
  {
   "cell_type": "markdown",
   "id": "114d76ab",
   "metadata": {},
   "source": [
    "<h2>Question5</h2>\n",
    "<h2>Create a function that takes a string and returns True or False, depending on whether the characters are in order or not.</h2>\n",
    "<h2>Examples</h2>\n",
    "<h2>is_in_order(\"abc\") ➞ True</h2>\n",
    "<h2>is_in_order(\"edabit\") ➞ False</h2>\n",
    "<h2>is_in_order(\"123\") ➞ True</h2>\n",
    "<h2>is_in_order(\"xyzz\") ➞ True</h2>\n",
    "<h2>Notes</h2>\n",
    "<h2>You don't have to handle empty strings.</h2>"
   ]
  },
  {
   "cell_type": "code",
   "execution_count": 43,
   "id": "8a9360f2",
   "metadata": {},
   "outputs": [],
   "source": [
    "def is_in_order(string:str)->bool:\n",
    "    \"\"\"check if the string is in order\"\"\"\n",
    "    return string == ''.join(sorted(string)) or string == ''.join(sorted(string, reverse=True))"
   ]
  },
  {
   "cell_type": "code",
   "execution_count": 44,
   "id": "27d094de",
   "metadata": {},
   "outputs": [
    {
     "data": {
      "text/plain": [
       "True"
      ]
     },
     "execution_count": 44,
     "metadata": {},
     "output_type": "execute_result"
    }
   ],
   "source": [
    "is_in_order(\"abc\")"
   ]
  },
  {
   "cell_type": "code",
   "execution_count": 45,
   "id": "cce22103",
   "metadata": {},
   "outputs": [
    {
     "data": {
      "text/plain": [
       "False"
      ]
     },
     "execution_count": 45,
     "metadata": {},
     "output_type": "execute_result"
    }
   ],
   "source": [
    "is_in_order(\"edabit\") "
   ]
  },
  {
   "cell_type": "code",
   "execution_count": 46,
   "id": "5c17aff3",
   "metadata": {},
   "outputs": [
    {
     "data": {
      "text/plain": [
       "True"
      ]
     },
     "execution_count": 46,
     "metadata": {},
     "output_type": "execute_result"
    }
   ],
   "source": [
    "is_in_order(\"123\") "
   ]
  },
  {
   "cell_type": "code",
   "execution_count": 47,
   "id": "6d426062",
   "metadata": {},
   "outputs": [
    {
     "data": {
      "text/plain": [
       "True"
      ]
     },
     "execution_count": 47,
     "metadata": {},
     "output_type": "execute_result"
    }
   ],
   "source": [
    "is_in_order(\"xyzz\")"
   ]
  }
 ],
 "metadata": {
  "kernelspec": {
   "display_name": "Python 3 (ipykernel)",
   "language": "python",
   "name": "python3"
  },
  "language_info": {
   "codemirror_mode": {
    "name": "ipython",
    "version": 3
   },
   "file_extension": ".py",
   "mimetype": "text/x-python",
   "name": "python",
   "nbconvert_exporter": "python",
   "pygments_lexer": "ipython3",
   "version": "3.9.12"
  }
 },
 "nbformat": 4,
 "nbformat_minor": 5
}
