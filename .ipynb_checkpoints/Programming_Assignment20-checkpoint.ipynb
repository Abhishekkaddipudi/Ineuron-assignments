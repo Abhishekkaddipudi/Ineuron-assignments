{
 "cells": [
  {
   "cell_type": "markdown",
   "id": "e4e3ab7e",
   "metadata": {},
   "source": [
    "<h2>Question1</h2>\n",
    "<h2>Create a function that takes a list of strings and integers, and filters out the list so that it returns a list of integers only.</h2>\n",
    "<h2>Examples</h2>\n",
    "<h2>filter_list([1, 2, 3, \"a\", \"b\", 4]) ➞ [1, 2, 3, 4]</h2>\n",
    "<h2>filter_list([\"A\", 0, \"Edabit\", 1729, \"Python\", \"1729\"]) ➞ [0, 1729]</h2>\n",
    "<h2>filter_list([\"Nothing\", \"here\"]) ➞ []</h2>"
   ]
  },
  {
   "cell_type": "code",
   "execution_count": 14,
   "id": "d14c03d5",
   "metadata": {},
   "outputs": [],
   "source": [
    "def filter_list(list_integers:list)->list:\n",
    "    #using list compreshension\n",
    "    return [i for i in list_integers if type(i) == int]\n",
    "    "
   ]
  },
  {
   "cell_type": "code",
   "execution_count": 15,
   "id": "1adcbf37",
   "metadata": {},
   "outputs": [
    {
     "data": {
      "text/plain": [
       "[1, 2, 3, 4]"
      ]
     },
     "execution_count": 15,
     "metadata": {},
     "output_type": "execute_result"
    }
   ],
   "source": [
    "filter_list([1, 2, 3, \"a\", \"b\", 4])"
   ]
  },
  {
   "cell_type": "code",
   "execution_count": 16,
   "id": "0f6297ff",
   "metadata": {},
   "outputs": [
    {
     "data": {
      "text/plain": [
       "[0, 1729]"
      ]
     },
     "execution_count": 16,
     "metadata": {},
     "output_type": "execute_result"
    }
   ],
   "source": [
    "filter_list([\"A\", 0, \"Edabit\", 1729, \"Python\", \"1729\"])"
   ]
  },
  {
   "cell_type": "code",
   "execution_count": 17,
   "id": "6737318c",
   "metadata": {},
   "outputs": [
    {
     "data": {
      "text/plain": [
       "[]"
      ]
     },
     "execution_count": 17,
     "metadata": {},
     "output_type": "execute_result"
    }
   ],
   "source": [
    "filter_list([\"Nothing\", \"here\"])"
   ]
  },
  {
   "cell_type": "markdown",
   "id": "a1082fe2",
   "metadata": {},
   "source": [
    "<h2>Question2</h2>\n",
    "<h2>Given a list of numbers, create a function which returns the list but with each element's index in the list added to itself. This means you add 0 to the number at index 0, add 1 to the number at index 1, etc...</h2>\n",
    "<h2>Examples</h2>\n",
    "<h2>add_indexes([0, 0, 0, 0, 0]) ➞ [0, 1, 2, 3, 4]</h2>\n",
    "<h2>add_indexes([1, 2, 3, 4, 5]) ➞ [1, 3, 5, 7, 9]</h2>\n",
    "<h2>add_indexes([5, 4, 3, 2, 1]) ➞ [5, 5, 5, 5, 5]</h2>"
   ]
  },
  {
   "cell_type": "code",
   "execution_count": 50,
   "id": "feaa7a25",
   "metadata": {},
   "outputs": [],
   "source": [
    "def add_indexes(lst:list)->list:\n",
    "    new_lst = []\n",
    "    for i in range(len(lst)):\n",
    "        new_lst.append(i + lst[i])\n",
    "    return new_lst"
   ]
  },
  {
   "cell_type": "code",
   "execution_count": 51,
   "id": "39ddce87",
   "metadata": {},
   "outputs": [
    {
     "data": {
      "text/plain": [
       "[0, 1, 2, 3, 4]"
      ]
     },
     "execution_count": 51,
     "metadata": {},
     "output_type": "execute_result"
    }
   ],
   "source": [
    "add_indexes([0, 0, 0, 0, 0])"
   ]
  },
  {
   "cell_type": "code",
   "execution_count": 52,
   "id": "8950b72a",
   "metadata": {},
   "outputs": [
    {
     "data": {
      "text/plain": [
       "[1, 3, 5, 7, 9]"
      ]
     },
     "execution_count": 52,
     "metadata": {},
     "output_type": "execute_result"
    }
   ],
   "source": [
    "add_indexes([1, 2, 3, 4, 5])"
   ]
  },
  {
   "cell_type": "code",
   "execution_count": 53,
   "id": "89b0bdc9",
   "metadata": {},
   "outputs": [
    {
     "data": {
      "text/plain": [
       "[5, 5, 5, 5, 5]"
      ]
     },
     "execution_count": 53,
     "metadata": {},
     "output_type": "execute_result"
    }
   ],
   "source": [
    "add_indexes([5, 4, 3, 2, 1])"
   ]
  },
  {
   "cell_type": "markdown",
   "id": "45a6279a",
   "metadata": {},
   "source": [
    "<h2>Question3</h2>\n",
    "<h2>Create a function that takes the height and radius of a cone as arguments and returns the volume of the cone rounded to the nearest hundredth. See the resources tab for the formula.</h2>\n",
    "<h2>Examples</h2>\n",
    "<h2>cone_volume(3, 2) ➞ 12.57</h2>\n",
    "<h2>cone_volume(15, 6) ➞ 565.49</h2>\n",
    "<h2>cone_volume(18, 0) ➞ 0</h2>"
   ]
  },
  {
   "cell_type": "code",
   "execution_count": 58,
   "id": "70f48ac7",
   "metadata": {},
   "outputs": [],
   "source": [
    "import math\n",
    "def cone_volume(h:float, r:float)->float:\n",
    "    return round((1/3) * math.pi * r**2 * h, 2)"
   ]
  },
  {
   "cell_type": "code",
   "execution_count": 59,
   "id": "d6f8681a",
   "metadata": {},
   "outputs": [
    {
     "data": {
      "text/plain": [
       "12.57"
      ]
     },
     "execution_count": 59,
     "metadata": {},
     "output_type": "execute_result"
    }
   ],
   "source": [
    "cone_volume(3, 2)"
   ]
  },
  {
   "cell_type": "code",
   "execution_count": 60,
   "id": "3336d6b8",
   "metadata": {},
   "outputs": [
    {
     "data": {
      "text/plain": [
       "565.49"
      ]
     },
     "execution_count": 60,
     "metadata": {},
     "output_type": "execute_result"
    }
   ],
   "source": [
    "cone_volume(15, 6)"
   ]
  },
  {
   "cell_type": "code",
   "execution_count": 61,
   "id": "ea834adb",
   "metadata": {},
   "outputs": [
    {
     "data": {
      "text/plain": [
       "0.0"
      ]
     },
     "execution_count": 61,
     "metadata": {},
     "output_type": "execute_result"
    }
   ],
   "source": [
    "cone_volume(18, 0)"
   ]
  },
  {
   "cell_type": "markdown",
   "id": "9c0929ec",
   "metadata": {},
   "source": [
    "<h2>Question4</h2>\n",
    "<h2>This Triangular Number Sequence is generated from a pattern of dots that form a triangle. The first 5 numbers of the sequence, or dots, are: </h2>\n",
    "<h2>1, 3, 6, 10, 15</h2>\n",
    "<h2>This means that the first triangle has just one dot, the second one has three dots, the third one has 6 dots and so on.</h2>\n",
    "<h2>Write a function that gives the number of dots with its corresponding triangle number of the sequence.</h2>\n",
    "<h2>Examples</h2>\n",
    "<h2>triangle(1) ➞ 1</h2>\n",
    "\n",
    "<h2>triangle(6) ➞ 21</h2>\n",
    "\n",
    "<h2>triangle(215) ➞ 23220</h2>\n"
   ]
  },
  {
   "cell_type": "code",
   "execution_count": 62,
   "id": "ec411310",
   "metadata": {},
   "outputs": [],
   "source": [
    "def triangle(n:int)->int:\n",
    "    return int((n*(n+1))/2)"
   ]
  },
  {
   "cell_type": "code",
   "execution_count": 63,
   "id": "20a657b4",
   "metadata": {},
   "outputs": [
    {
     "data": {
      "text/plain": [
       "1"
      ]
     },
     "execution_count": 63,
     "metadata": {},
     "output_type": "execute_result"
    }
   ],
   "source": [
    "triangle(1)"
   ]
  },
  {
   "cell_type": "code",
   "execution_count": 64,
   "id": "833cd0b8",
   "metadata": {},
   "outputs": [
    {
     "data": {
      "text/plain": [
       "21"
      ]
     },
     "execution_count": 64,
     "metadata": {},
     "output_type": "execute_result"
    }
   ],
   "source": [
    "triangle(6)"
   ]
  },
  {
   "cell_type": "code",
   "execution_count": 65,
   "id": "f876919d",
   "metadata": {},
   "outputs": [
    {
     "data": {
      "text/plain": [
       "23220"
      ]
     },
     "execution_count": 65,
     "metadata": {},
     "output_type": "execute_result"
    }
   ],
   "source": [
    "triangle(215)"
   ]
  },
  {
   "cell_type": "markdown",
   "id": "f132442a",
   "metadata": {},
   "source": [
    "<h2>Question5</h2>\n",
    "<h2>Create a function that takes a list of numbers between 1 and 10 (excluding one number) and returns the missing number.</h2>\n",
    "<h2>Examples</h2>\n",
    "<h2>missing_num([1, 2, 3, 4, 6, 7, 8, 9, 10]) ➞ 5</h2>\n",
    "<h2>missing_num([7, 2, 3, 6, 5, 9, 1, 4, 8]) ➞ 10</h2>\n",
    "<h2>missing_num([10, 5, 1, 2, 4, 6, 8, 3, 9]) ➞ 7</h2>"
   ]
  },
  {
   "cell_type": "code",
   "execution_count": 66,
   "id": "42971513",
   "metadata": {},
   "outputs": [],
   "source": [
    "def missing_num(lst:list)->int:\n",
    "    for i in range(1,11):\n",
    "        if i not in lst:\n",
    "            return i\n",
    "\n",
    "            "
   ]
  },
  {
   "cell_type": "code",
   "execution_count": 67,
   "id": "6dbd7549",
   "metadata": {},
   "outputs": [
    {
     "data": {
      "text/plain": [
       "5"
      ]
     },
     "execution_count": 67,
     "metadata": {},
     "output_type": "execute_result"
    }
   ],
   "source": [
    "missing_num([1, 2, 3, 4, 6, 7, 8, 9, 10])"
   ]
  },
  {
   "cell_type": "code",
   "execution_count": 68,
   "id": "44592439",
   "metadata": {},
   "outputs": [
    {
     "data": {
      "text/plain": [
       "10"
      ]
     },
     "execution_count": 68,
     "metadata": {},
     "output_type": "execute_result"
    }
   ],
   "source": [
    "missing_num([7, 2, 3, 6, 5, 9, 1, 4, 8])"
   ]
  },
  {
   "cell_type": "code",
   "execution_count": 69,
   "id": "d9315c62",
   "metadata": {},
   "outputs": [
    {
     "data": {
      "text/plain": [
       "7"
      ]
     },
     "execution_count": 69,
     "metadata": {},
     "output_type": "execute_result"
    }
   ],
   "source": [
    "missing_num([10, 5, 1, 2, 4, 6, 8, 3, 9])"
   ]
  }
 ],
 "metadata": {
  "kernelspec": {
   "display_name": "Python 3 (ipykernel)",
   "language": "python",
   "name": "python3"
  },
  "language_info": {
   "codemirror_mode": {
    "name": "ipython",
    "version": 3
   },
   "file_extension": ".py",
   "mimetype": "text/x-python",
   "name": "python",
   "nbconvert_exporter": "python",
   "pygments_lexer": "ipython3",
   "version": "3.9.12"
  }
 },
 "nbformat": 4,
 "nbformat_minor": 5
}
