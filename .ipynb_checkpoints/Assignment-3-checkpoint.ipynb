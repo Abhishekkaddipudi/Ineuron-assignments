{
 "cells": [
  {
   "cell_type": "markdown",
   "id": "d048d328",
   "metadata": {},
   "source": [
    "<h2> 1. Why are functions advantageous to have in your programs?</h2> "
   ]
  },
  {
   "cell_type": "markdown",
   "id": "44c4e48c",
   "metadata": {},
   "source": [
    "<ul>\n",
    "    <li>Functions makes code reusable i.e we can avoid rewriting the same logic or code again and again in a program.</li>\n",
    "    <li>Functions makes debugging easy by dividing the logic to smaller parts</li>\n",
    "    <li>Functions makes the code scalable i.e we can add more logic by creating more functions</li>\n",
    "    <li>Functions saves time and decreases the complexity of code</li>\n",
    "    \n",
    "    \n",
    "</ul>"
   ]
  },
  {
   "cell_type": "markdown",
   "id": "1051af65",
   "metadata": {},
   "source": [
    "<h2>2. When does the code in a function run: when it&#39;s specified or when it&#39;s called?</h2>"
   ]
  },
  {
   "cell_type": "markdown",
   "id": "7a9c3ea8",
   "metadata": {},
   "source": [
    "*** \n",
    "- The function is executed or the functions runs when it is called\n",
    "***"
   ]
  },
  {
   "cell_type": "markdown",
   "id": "5ef2d070",
   "metadata": {},
   "source": [
    "<h2>3. What statement creates a function?</h2>"
   ]
  },
  {
   "cell_type": "markdown",
   "id": "243828a5",
   "metadata": {},
   "source": [
    "***\n",
    "- \"def\" statement creates the function\n",
    "***"
   ]
  },
  {
   "cell_type": "markdown",
   "id": "5e7a05d3",
   "metadata": {},
   "source": [
    "<h2>4. What is the difference between a function and a function call?</h2>"
   ]
  },
  {
   "cell_type": "markdown",
   "id": "580413b4",
   "metadata": {},
   "source": [
    "***\n",
    "<p>A function is a piece of code which enhanced the reusability and modularity of your program. It means that piece of code need not be written again. A function call means invoking or calling that function. Unless a function is called there is no use of that function</p>\n",
    "\n",
    "***"
   ]
  },
  {
   "cell_type": "markdown",
   "id": "2bc02614",
   "metadata": {},
   "source": [
    "<h2>5. How many global scopes are there in a Python program? How many local scopes?</h2>"
   ]
  },
  {
   "cell_type": "markdown",
   "id": "4c398743",
   "metadata": {},
   "source": [
    "***\n",
    "<p>There can be multiple global scopes, one for each module, and multiple local scopes, one for each function or method.</p>\n",
    "\n",
    "***"
   ]
  },
  {
   "cell_type": "markdown",
   "id": "869e28bd",
   "metadata": {},
   "source": [
    "<h2>6. What happens to variables in a local scope when the function call returns?</h2>"
   ]
  },
  {
   "cell_type": "markdown",
   "id": "8ea54cae",
   "metadata": {},
   "source": [
    "***\n",
    "<p>The variable will no longer be accessible once the function is exected and returned. In terms of memory Python has an automated garbage collection. It has an algorithm to deallocate objects which are no longer needed.</p>\n",
    "\n",
    "***"
   ]
  },
  {
   "cell_type": "markdown",
   "id": "faa02afb",
   "metadata": {},
   "source": [
    "<h2>7. What is the concept of a return value? Is it possible to have a return value in an expression?</h2>"
   ]
  },
  {
   "cell_type": "markdown",
   "id": "9f4f95a4",
   "metadata": {},
   "source": [
    "***\n",
    "<p>The value returned by a function is known as the return value. yes it is possible to have a return value in an expression</p>\n",
    "\n",
    "***"
   ]
  },
  {
   "cell_type": "code",
   "execution_count": 4,
   "id": "7921c108",
   "metadata": {},
   "outputs": [
    {
     "name": "stdout",
     "output_type": "stream",
     "text": [
      "10\n"
     ]
    }
   ],
   "source": [
    "#for example\n",
    "\n",
    "def function(X):\n",
    "    return abs(X)\n",
    "print(function(-10))"
   ]
  },
  {
   "cell_type": "markdown",
   "id": "f05cd128",
   "metadata": {},
   "source": [
    "<h2>8. If a function does not have a return statement, what is the return value of a call to that function?</h2>"
   ]
  },
  {
   "cell_type": "markdown",
   "id": "e844aa05",
   "metadata": {},
   "source": [
    "***\n",
    "<p>If a function in Python does not have a return statement, or if the return statement is without an expression, then the function will implicitly return None</p>\n",
    "\n",
    "***"
   ]
  },
  {
   "cell_type": "markdown",
   "id": "cd35c6c8",
   "metadata": {},
   "source": [
    "<h2>9. How do you make a function variable refer to the global variable?</h2>"
   ]
  },
  {
   "cell_type": "markdown",
   "id": "c0d15ec7",
   "metadata": {},
   "source": [
    "***\n",
    "<p>We can use the global keyword within the function.</p>\n",
    "\n",
    "***"
   ]
  },
  {
   "cell_type": "code",
   "execution_count": 11,
   "id": "e213b7fe",
   "metadata": {},
   "outputs": [
    {
     "name": "stdout",
     "output_type": "stream",
     "text": [
      "10\n"
     ]
    }
   ],
   "source": [
    "#for example\n",
    "x=10\n",
    "def function():\n",
    "    global x\n",
    "    print(x)\n",
    "function()"
   ]
  },
  {
   "cell_type": "markdown",
   "id": "ec2d04c1",
   "metadata": {},
   "source": [
    "<h2>10. What is the data type of None?</h2>"
   ]
  },
  {
   "cell_type": "markdown",
   "id": "fdb6af4d",
   "metadata": {},
   "source": [
    "***\n",
    "<p>None is used to represent absence of value of \"null\" value, it is of the NoneType data type.</p>\n",
    "\n",
    "***"
   ]
  },
  {
   "cell_type": "markdown",
   "id": "db92843a",
   "metadata": {},
   "source": [
    "<h2>11. What does the sentence import areallyourpetsnamederic do?</h2>"
   ]
  },
  {
   "cell_type": "markdown",
   "id": "baee2b9a",
   "metadata": {},
   "source": [
    "***\n",
    "<p>It throws \n",
    "ModuleNotFoundError no module named  \"areallyourpetsnamederic\" error</p>\n",
    "\n",
    "***"
   ]
  },
  {
   "cell_type": "code",
   "execution_count": 15,
   "id": "671a4960",
   "metadata": {},
   "outputs": [
    {
     "ename": "ModuleNotFoundError",
     "evalue": "No module named 'areallyourpetsnamederic'",
     "output_type": "error",
     "traceback": [
      "\u001b[1;31m---------------------------------------------------------------------------\u001b[0m",
      "\u001b[1;31mModuleNotFoundError\u001b[0m                       Traceback (most recent call last)",
      "Input \u001b[1;32mIn [15]\u001b[0m, in \u001b[0;36m<cell line: 1>\u001b[1;34m()\u001b[0m\n\u001b[1;32m----> 1\u001b[0m \u001b[38;5;28;01mimport\u001b[39;00m \u001b[38;5;21;01mareallyourpetsnamederic\u001b[39;00m\n",
      "\u001b[1;31mModuleNotFoundError\u001b[0m: No module named 'areallyourpetsnamederic'"
     ]
    }
   ],
   "source": [
    "import areallyourpetsnamederic"
   ]
  },
  {
   "cell_type": "markdown",
   "id": "ade39eea",
   "metadata": {},
   "source": [
    "<h2>12. If you had a bacon() feature in a spam module, what would you call it after importing spam?</h2>"
   ]
  },
  {
   "cell_type": "markdown",
   "id": "4f4a76ea",
   "metadata": {},
   "source": [
    "***\n",
    "<p>By using the dot (.) operator, we can access and call functions or features defined within the imported module as part of the module's namespace.</p>\n",
    "\n",
    "***"
   ]
  },
  {
   "cell_type": "code",
   "execution_count": null,
   "id": "df368a7e",
   "metadata": {},
   "outputs": [],
   "source": [
    "import spam\n",
    "spam.bacon()"
   ]
  },
  {
   "cell_type": "markdown",
   "id": "2189e48a",
   "metadata": {},
   "source": [
    "<h2>13. What can you do to save a programme from crashing if it encounters an error?</h2>"
   ]
  },
  {
   "cell_type": "markdown",
   "id": "f7588291",
   "metadata": {},
   "source": [
    "***\n",
    "<p>we can use exception handling in Python to catch and handle specific types of errors that may occur during the execution of the program.\n",
    "    \n",
    "By using \"try\" and \"except\" blocks, you can catch exceptions and handle them, allowing your program to continue running without crashing. </p>\n",
    "\n",
    "***"
   ]
  },
  {
   "cell_type": "code",
   "execution_count": 18,
   "id": "ded2c558",
   "metadata": {},
   "outputs": [
    {
     "name": "stdout",
     "output_type": "stream",
     "text": [
      "error division by zero\n"
     ]
    }
   ],
   "source": [
    "try:\n",
    "    a=3/0\n",
    "except ZeroDivisionError as e:\n",
    "    print(\"error\",e)"
   ]
  },
  {
   "cell_type": "markdown",
   "id": "5162ac9f",
   "metadata": {},
   "source": [
    "<h2>14. What is the purpose of the try clause? What is the purpose of the except clause?</h2>"
   ]
  },
  {
   "cell_type": "markdown",
   "id": "275a5720",
   "metadata": {},
   "source": [
    "***\n",
    "<p>The 'try' clause in Python is used to enclose a block of code that may raise an exception, i.e., generate an error during its execution.</p>\n",
    "\n",
    "<p>The 'except' clause in Python is used to specify how to handle a specific type of exception that may be raised within the corresponding 'try' block.</p>\n",
    "\n",
    "***"
   ]
  }
 ],
 "metadata": {
  "kernelspec": {
   "display_name": "Python 3 (ipykernel)",
   "language": "python",
   "name": "python3"
  },
  "language_info": {
   "codemirror_mode": {
    "name": "ipython",
    "version": 3
   },
   "file_extension": ".py",
   "mimetype": "text/x-python",
   "name": "python",
   "nbconvert_exporter": "python",
   "pygments_lexer": "ipython3",
   "version": "3.9.12"
  }
 },
 "nbformat": 4,
 "nbformat_minor": 5
}
