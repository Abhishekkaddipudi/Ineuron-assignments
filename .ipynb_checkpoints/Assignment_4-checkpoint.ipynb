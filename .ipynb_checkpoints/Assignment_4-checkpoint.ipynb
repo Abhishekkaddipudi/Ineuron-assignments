{
 "cells": [
  {
   "cell_type": "markdown",
   "id": "61885ca6",
   "metadata": {},
   "source": [
    "<h2> 1. What exactly is []?</h2>"
   ]
  },
  {
   "cell_type": "markdown",
   "id": "4b426ce5",
   "metadata": {},
   "source": [
    ">\"[]\" is sqaure brackets used to define empty list, It is used to initialize the variable of type list\n"
   ]
  },
  {
   "cell_type": "code",
   "execution_count": 3,
   "id": "5b35055e",
   "metadata": {},
   "outputs": [
    {
     "data": {
      "text/plain": [
       "list"
      ]
     },
     "execution_count": 3,
     "metadata": {},
     "output_type": "execute_result"
    }
   ],
   "source": [
    "#ex \n",
    "li=[]\n",
    "type(li)"
   ]
  },
  {
   "cell_type": "markdown",
   "id": "16e8cbfe",
   "metadata": {},
   "source": [
    ">We can also create a list with initial values by separating the values with commas inside the square brackets."
   ]
  },
  {
   "cell_type": "code",
   "execution_count": 4,
   "id": "f3c0b16a",
   "metadata": {},
   "outputs": [
    {
     "data": {
      "text/plain": [
       "[1, 2, 3, 4]"
      ]
     },
     "execution_count": 4,
     "metadata": {},
     "output_type": "execute_result"
    }
   ],
   "source": [
    "#ex\n",
    "li=[1,2,3,4]\n",
    "li"
   ]
  },
  {
   "cell_type": "markdown",
   "id": "593046b6",
   "metadata": {},
   "source": [
    "<h2> 2. In a list of values stored in a variable called spam, how would you assign the value &#39;hello&#39; as the\n",
    "third value? (Assume [2, 4, 6, 8, 10] are in spam.)\n",
    "</h2>\n"
   ]
  },
  {
   "cell_type": "markdown",
   "id": "c60d7225",
   "metadata": {},
   "source": [
    "- spam=[2, 4, 6, 8, 10]\n",
    "\n",
    "\n",
    "- spam[2]=\"hello\"\n",
    "\n",
    "\n",
    "- by using index 2 which indicates 3 element in list"
   ]
  },
  {
   "cell_type": "code",
   "execution_count": 11,
   "id": "842c5a07",
   "metadata": {},
   "outputs": [
    {
     "data": {
      "text/plain": [
       "[2, 4, 'hello', 8, 10]"
      ]
     },
     "execution_count": 11,
     "metadata": {},
     "output_type": "execute_result"
    }
   ],
   "source": [
    "spam=[2, 4, 6, 8, 10]\n",
    "\n",
    "\n",
    "spam[2]=\"hello\"\n",
    "# 6 is replaced by 'hello'\n",
    "spam"
   ]
  },
  {
   "cell_type": "markdown",
   "id": "48d789b2",
   "metadata": {},
   "source": [
    "<h2>\n",
    "Let&#39;s pretend the spam includes the list [&#39;a&#39;, &#39;b&#39;, &#39;c&#39;, &#39;d&#39;] for the next three queries.\n",
    "</h2>"
   ]
  },
  {
   "cell_type": "markdown",
   "id": "ce807c63",
   "metadata": {},
   "source": [
    "<h2>3. What is the value of spam[int(int(&#39;3&#39; * 2) / 11)]?</h2>"
   ]
  },
  {
   "cell_type": "markdown",
   "id": "2ed07ee7",
   "metadata": {},
   "source": [
    ">spam=['a','b','c','d']\n",
    "\n",
    ">'3'*2='33'\n",
    "\n",
    ">int('33')=33\n",
    "\n",
    ">33/11=3.0\n",
    "\n",
    ">int(3.0)=3\n",
    "\n",
    ">spam[3]='d'"
   ]
  },
  {
   "cell_type": "code",
   "execution_count": 17,
   "id": "1df45cda",
   "metadata": {},
   "outputs": [
    {
     "data": {
      "text/plain": [
       "'d'"
      ]
     },
     "execution_count": 17,
     "metadata": {},
     "output_type": "execute_result"
    }
   ],
   "source": [
    "spam[int(int('3'*2)/11)]"
   ]
  },
  {
   "cell_type": "markdown",
   "id": "1405073c",
   "metadata": {},
   "source": [
    "<h2>4. What is the value of spam[-1]?</h2>"
   ]
  },
  {
   "cell_type": "markdown",
   "id": "4c3de3e1",
   "metadata": {},
   "source": [
    ">spam[-1] is last element of list i.e 'd'"
   ]
  },
  {
   "cell_type": "code",
   "execution_count": 18,
   "id": "b012e539",
   "metadata": {},
   "outputs": [
    {
     "data": {
      "text/plain": [
       "'d'"
      ]
     },
     "execution_count": 18,
     "metadata": {},
     "output_type": "execute_result"
    }
   ],
   "source": [
    "spam[-1]"
   ]
  },
  {
   "cell_type": "markdown",
   "id": "0d09a2f8",
   "metadata": {},
   "source": [
    "<h2>5. What is the value of spam[:2]?\n",
    "</h2>\n"
   ]
  },
  {
   "cell_type": "markdown",
   "id": "9d60e7d2",
   "metadata": {},
   "source": [
    ">spam[:2] indicactes slice list spam start from 0 : till index 2 i.e ['a','b']"
   ]
  },
  {
   "cell_type": "code",
   "execution_count": 22,
   "id": "6f1a3b82",
   "metadata": {},
   "outputs": [
    {
     "data": {
      "text/plain": [
       "['a', 'b']"
      ]
     },
     "execution_count": 22,
     "metadata": {},
     "output_type": "execute_result"
    }
   ],
   "source": [
    "spam[:2]"
   ]
  },
  {
   "cell_type": "markdown",
   "id": "1668fb7d",
   "metadata": {},
   "source": [
    "<h2>\n",
    "Let&#39;s pretend bacon has the list [3.14, &#39;cat&#39;, 11, &#39;cat&#39;, True] for the next three questions.\n",
    "</h2>"
   ]
  },
  {
   "cell_type": "markdown",
   "id": "1973900f",
   "metadata": {},
   "source": [
    "<h2>6. What is the value of bacon.index(&#39;cat&#39;)?</h2>"
   ]
  },
  {
   "cell_type": "markdown",
   "id": "702ba25f",
   "metadata": {},
   "source": [
    ">index of 'cat' is 1"
   ]
  },
  {
   "cell_type": "code",
   "execution_count": 56,
   "id": "078b5346",
   "metadata": {},
   "outputs": [
    {
     "data": {
      "text/plain": [
       "1"
      ]
     },
     "execution_count": 56,
     "metadata": {},
     "output_type": "execute_result"
    }
   ],
   "source": [
    "bacon=[3.14, 'cat', 11, 'cat', True] \n",
    "bacon.index('cat')"
   ]
  },
  {
   "cell_type": "markdown",
   "id": "adad4518",
   "metadata": {},
   "source": [
    "<h2>7. How does bacon.append(99) change the look of the list value in bacon?</h2>"
   ]
  },
  {
   "cell_type": "markdown",
   "id": "0b3f4be7",
   "metadata": {},
   "source": [
    ">bacon.append(99) adds item 99 to end of list"
   ]
  },
  {
   "cell_type": "code",
   "execution_count": 57,
   "id": "fb11d6f4",
   "metadata": {},
   "outputs": [
    {
     "data": {
      "text/plain": [
       "[3.14, 'cat', 11, 'cat', True, 99]"
      ]
     },
     "execution_count": 57,
     "metadata": {},
     "output_type": "execute_result"
    }
   ],
   "source": [
    "bacon.append(99)\n",
    "bacon"
   ]
  },
  {
   "cell_type": "markdown",
   "id": "ea8c0ae2",
   "metadata": {},
   "source": [
    "<h2>8. How does bacon.remove(&#39;cat&#39;) change the look of the list in bacon?</h2>"
   ]
  },
  {
   "cell_type": "markdown",
   "id": "1618398f",
   "metadata": {},
   "source": [
    "> bacon.remove('cat') removes first occurance of 'cat' from the list"
   ]
  },
  {
   "cell_type": "code",
   "execution_count": 58,
   "id": "f9322209",
   "metadata": {},
   "outputs": [],
   "source": [
    "bacon.remove('cat')"
   ]
  },
  {
   "cell_type": "code",
   "execution_count": 59,
   "id": "301248c5",
   "metadata": {},
   "outputs": [
    {
     "data": {
      "text/plain": [
       "[3.14, 11, 'cat', True, 99]"
      ]
     },
     "execution_count": 59,
     "metadata": {},
     "output_type": "execute_result"
    }
   ],
   "source": [
    "bacon"
   ]
  },
  {
   "cell_type": "markdown",
   "id": "0d896764",
   "metadata": {},
   "source": [
    "<h2>9. What are the list concatenation and list replication operators?</h2>"
   ]
  },
  {
   "cell_type": "markdown",
   "id": "785756d9",
   "metadata": {},
   "source": [
    "- '+' operator for list concatenation: This operator is used to concatenate (i.e., join) two or more lists into a single list.\n",
    "\n"
   ]
  },
  {
   "cell_type": "code",
   "execution_count": 60,
   "id": "eab7bf23",
   "metadata": {
    "scrolled": true
   },
   "outputs": [
    {
     "data": {
      "text/plain": [
       "[1, 2, 3, 4, 5, 6, 7, 8, 9]"
      ]
     },
     "execution_count": 60,
     "metadata": {},
     "output_type": "execute_result"
    }
   ],
   "source": [
    "list1=[1,2,3,4,5]\n",
    "list2=[6,7,8,9]\n",
    "list1+list2"
   ]
  },
  {
   "cell_type": "markdown",
   "id": "7d992643",
   "metadata": {},
   "source": [
    "- '*' operator for list replication: This operator is used to create a new list by replicating (i.e., repeating) the items of an existing list a specified number of times."
   ]
  },
  {
   "cell_type": "code",
   "execution_count": 63,
   "id": "3e1bfdd3",
   "metadata": {},
   "outputs": [
    {
     "data": {
      "text/plain": [
       "[0, 0, 0]"
      ]
     },
     "execution_count": 63,
     "metadata": {},
     "output_type": "execute_result"
    }
   ],
   "source": [
    "list1=[0]*3\n",
    "\n",
    "list1"
   ]
  },
  {
   "cell_type": "markdown",
   "id": "1ae9f9f2",
   "metadata": {},
   "source": [
    "<h2>10. What is difference between the list methods append() and insert()?</h2>"
   ]
  },
  {
   "cell_type": "markdown",
   "id": "8aef7041",
   "metadata": {},
   "source": [
    "- append() method: This method adds a new item to the end of a list. \n",
    "\n",
    "- insert() method: This method adds a new item to a specific index of a list."
   ]
  },
  {
   "cell_type": "markdown",
   "id": "b1083c34",
   "metadata": {},
   "source": [
    "<h2>11. What are the two methods for removing items from a list?</h2>"
   ]
  },
  {
   "cell_type": "markdown",
   "id": "209e6329",
   "metadata": {},
   "source": [
    "| Sno. | append()  | insert()|\n",
    "|------|------|-----|\n",
    "|   1  | This method adds a new item to the end of a list.|This method adds a new item to a specific index of a list.|\n",
    "||||\n",
    "|   2  |  It takes one argument, which is the item to be added. | It takes two arguments: the first is the index at which the new item should be inserted, and the second is the item to be added|"
   ]
  },
  {
   "cell_type": "code",
   "execution_count": 66,
   "id": "e5a8c656",
   "metadata": {},
   "outputs": [
    {
     "data": {
      "text/plain": [
       "[0, 1, 2, 3, 4, 5, 6]"
      ]
     },
     "execution_count": 66,
     "metadata": {},
     "output_type": "execute_result"
    }
   ],
   "source": [
    "list3=[0,1,2,3,4]\n",
    "list3.append(5)#inserts 5 at end of list\n",
    "list3.insert(6,6)#insert 6 at index 6\n",
    "list3"
   ]
  },
  {
   "cell_type": "markdown",
   "id": "189817ad",
   "metadata": {},
   "source": [
    "<h2>12. Describe how list values and string values are identical.</h2>"
   ]
  },
  {
   "cell_type": "markdown",
   "id": "85b2a386",
   "metadata": {},
   "source": [
    "- Indexing: Both lists and strings can be indexed to access individual elements or substrings. \n",
    "- Slicing: Both lists and strings can be sliced to extract a subset of the sequence. \n",
    "- Concatenation: Both lists and strings can be concatenated using the + operator to create a new sequence that combines the elements of the original sequences.\n",
    "- Repetition: Both lists and strings can be repeated using the * operator to create a new sequence that contains multiple copies of the original sequence."
   ]
  },
  {
   "cell_type": "code",
   "execution_count": 68,
   "id": "064df5d9",
   "metadata": {},
   "outputs": [
    {
     "name": "stdout",
     "output_type": "stream",
     "text": [
      "1\n",
      "h\n",
      "[1, 2, 3]\n",
      "hel\n",
      "[1, 2, 3, 4, 1, 2, 3, 4]\n",
      "hello World!hello World!\n",
      "[1, 2, 3, 4, 1, 2, 3, 4]\n",
      "hello World!hello World!\n"
     ]
    }
   ],
   "source": [
    "list1=[1,2,3,4]\n",
    "string1=\"hello World!\"\n",
    "print(list1[0])\n",
    "print(string1[0])\n",
    "print(list1[:3])\n",
    "print(string1[:3])\n",
    "print(list1+list1)\n",
    "print(string1+string1)\n",
    "print(list1*2)\n",
    "print(string1*2)"
   ]
  },
  {
   "cell_type": "markdown",
   "id": "4fe2ef51",
   "metadata": {},
   "source": [
    "<h2>13. What&#39;s the difference between tuples and lists?</h2>"
   ]
  },
  {
   "cell_type": "markdown",
   "id": "5fdef3c0",
   "metadata": {},
   "source": [
    "- The main difference between tuples and lists is that tuples are immutable and lists are mutable.\n",
    "\n",
    "\n",
    "- syntax: \n",
    "\n",
    "    my_tuple = (1, 2, 3)\n",
    "    \n",
    "    my_list = [1, 2, 3]\n",
    "    \n",
    "    \n",
    "- Tuples are often used to represent fixed collections of data where the order of the elements is important, such as coordinates, RGB color values, or the components of a date or time\n",
    "\n",
    "\n",
    "- Lists, on the other hand, are more general-purpose and can be used for a wide variety of tasks, from storing sets of numbers to building complex data structures like trees and graphs."
   ]
  },
  {
   "cell_type": "markdown",
   "id": "876d7af7",
   "metadata": {},
   "source": [
    "<h2>14. How do you type a tuple value that only contains the integer 42?</h2>"
   ]
  },
  {
   "cell_type": "markdown",
   "id": "c30fe0e3",
   "metadata": {},
   "source": [
    "> By using the comma at the end of the value python interpreter treats it as tuple enclosed in brackets"
   ]
  },
  {
   "cell_type": "code",
   "execution_count": 75,
   "id": "291398f0",
   "metadata": {},
   "outputs": [
    {
     "name": "stdout",
     "output_type": "stream",
     "text": [
      "<class 'int'>\n",
      "<class 'tuple'>\n"
     ]
    }
   ],
   "source": [
    "tuple1=(43)\n",
    "print(type(tuple1))\n",
    "tuple2=(43,)\n",
    "print(type(tuple2))"
   ]
  },
  {
   "cell_type": "markdown",
   "id": "963b1976",
   "metadata": {},
   "source": [
    "<h2>15. How do you get a list value&#39;s tuple form? How do you get a tuple value&#39;s list form?</h2>"
   ]
  },
  {
   "cell_type": "markdown",
   "id": "b117c6a0",
   "metadata": {},
   "source": [
    "- To get a list value's tuple form, you can simply use the tuple() function\n",
    "\n",
    "\n",
    "- To get a tuple value's list form, you can use the list() function"
   ]
  },
  {
   "cell_type": "code",
   "execution_count": 4,
   "id": "1db5a9ee",
   "metadata": {},
   "outputs": [
    {
     "name": "stdout",
     "output_type": "stream",
     "text": [
      "this is list = [12, 3, 4, 312]\n",
      "converted to tuple = (12, 3, 4, 312)\n",
      "this is tuple = (1, 2, 3, 45)\n",
      "converted to list = [1, 2, 3, 45]\n"
     ]
    }
   ],
   "source": [
    "list1=[12,3,4,312]\n",
    "print(f\"this is list = {list1}\")\n",
    "tuple1=tuple(list1)\n",
    "print(f\"converted to tuple = {tuple1}\")\n",
    "tuple1=(1,2,3,45)\n",
    "print(f\"this is tuple = {tuple1}\")\n",
    "list1=list(tuple1)\n",
    "print(f\"converted to list = {list1}\")"
   ]
  },
  {
   "cell_type": "markdown",
   "id": "b33d9f78",
   "metadata": {},
   "source": [
    "<h2>16. Variables that &quot;contain&quot; list values are not necessarily lists themselves. Instead, what do they\n",
    "contain?</h2>"
   ]
  },
  {
   "cell_type": "markdown",
   "id": "bff34988",
   "metadata": {},
   "source": [
    ">Variables that \"contain\" list values holds reference of memory location of the list, so if we assign the variable to new variable the new variable is pointing to same reference memory location.\n"
   ]
  },
  {
   "cell_type": "code",
   "execution_count": 8,
   "id": "6c23e3ba",
   "metadata": {},
   "outputs": [],
   "source": [
    "list1=[1,2,3,4]\n",
    "list2=list1"
   ]
  },
  {
   "cell_type": "markdown",
   "id": "b5634e3d",
   "metadata": {},
   "source": [
    "> if we change list2, list1 is also pointing to same location hence it also returns changed value"
   ]
  },
  {
   "cell_type": "code",
   "execution_count": 11,
   "id": "fdde7ff6",
   "metadata": {},
   "outputs": [
    {
     "name": "stdout",
     "output_type": "stream",
     "text": [
      "[1, 2, [5], 4]\n",
      "[1, 2, [5], 4]\n"
     ]
    }
   ],
   "source": [
    "list2[2]=[5]\n",
    "print(list1)\n",
    "print(list2)"
   ]
  },
  {
   "cell_type": "markdown",
   "id": "c480368d",
   "metadata": {},
   "source": [
    "<h2>17. How do you distinguish between copy.copy() and copy.deepcopy()?</h2>"
   ]
  },
  {
   "cell_type": "markdown",
   "id": "87b09053",
   "metadata": {},
   "source": [
    "- copy.copy() creates a shallow copy of the object \n",
    "\n",
    "\n",
    "> Shallow copy :-  a new object is created but the elements of the object are still referenced to the same objects as the original\n",
    ",if we change the value of copied element the original list is also changed"
   ]
  },
  {
   "cell_type": "code",
   "execution_count": 13,
   "id": "3a0ba6cd",
   "metadata": {},
   "outputs": [
    {
     "name": "stdout",
     "output_type": "stream",
     "text": [
      "[[5, 2], [3, 4]]\n",
      "[[5, 2], [3, 4]]\n"
     ]
    }
   ],
   "source": [
    "import copy\n",
    "\n",
    "my_list = [[1, 2], [3, 4]]\n",
    "new_list = copy.copy(my_list)\n",
    "\n",
    "# modify the first element of new_list\n",
    "new_list[0][0] = 5\n",
    "\n",
    "# print both lists\n",
    "print(my_list)  \n",
    "print(new_list) "
   ]
  },
  {
   "cell_type": "markdown",
   "id": "088ebf2a",
   "metadata": {},
   "source": [
    "- deepcopy() creates a deep copy\n",
    "\n",
    ">Deep copy:- a new object that is a copy of the original, including all of its elements is created. This means that changes made to the copied object will not affect the original object.\n"
   ]
  },
  {
   "cell_type": "code",
   "execution_count": 15,
   "id": "f85f73be",
   "metadata": {},
   "outputs": [
    {
     "name": "stdout",
     "output_type": "stream",
     "text": [
      "[[1, 2], [3, 4]]\n",
      "[[5, 2], [3, 4]]\n"
     ]
    }
   ],
   "source": [
    "import copy\n",
    "\n",
    "my_list = [[1, 2], [3, 4]]\n",
    "new_list = copy.deepcopy(my_list)\n",
    "\n",
    "# modify the first element of new_list\n",
    "new_list[0][0] = 5\n",
    "\n",
    "# print both lists\n",
    "print(my_list)  \n",
    "print(new_list) "
   ]
  }
 ],
 "metadata": {
  "kernelspec": {
   "display_name": "Python 3 (ipykernel)",
   "language": "python",
   "name": "python3"
  },
  "language_info": {
   "codemirror_mode": {
    "name": "ipython",
    "version": 3
   },
   "file_extension": ".py",
   "mimetype": "text/x-python",
   "name": "python",
   "nbconvert_exporter": "python",
   "pygments_lexer": "ipython3",
   "version": "3.9.12"
  }
 },
 "nbformat": 4,
 "nbformat_minor": 5
}
