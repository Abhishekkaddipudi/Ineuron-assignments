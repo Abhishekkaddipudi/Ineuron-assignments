{
 "cells": [
  {
   "cell_type": "markdown",
   "id": "40da764f",
   "metadata": {},
   "source": [
    "#### 1. Write a Python program to Extract Unique values dictionary values?"
   ]
  },
  {
   "cell_type": "code",
   "execution_count": 22,
   "id": "3ee07511",
   "metadata": {},
   "outputs": [
    {
     "name": "stdout",
     "output_type": "stream",
     "text": [
      "Enter the number of elements in dictionary: 2\n",
      "enter the key: 1\n",
      "enter the value: 2 2 2 2 2 2 2 2 2 2 2\n",
      "enter the key: 2\n",
      "enter the value: 2 2 2 2 2 3 3 3 3 3 3 4 4 44 \n",
      "the unique values from dictionary values are : {'44', '4', '2', '3'}\n"
     ]
    }
   ],
   "source": [
    "n=int(input(\"Enter the number of elements in dictionary: \"))\n",
    "d={}\n",
    "for i in range(n):\n",
    "    key=input(\"enter the key: \")\n",
    "    value=input(\"enter the value: \").split()\n",
    "    d[key]=value\n",
    "    \n",
    "se=set() #using set data type to exract unique values\n",
    "\n",
    "for v in d.values():\n",
    "    se.update(v)\n",
    "print(f\"the unique values from dictionary values are : {se}\")\n",
    "    "
   ]
  },
  {
   "cell_type": "markdown",
   "id": "51b23862",
   "metadata": {},
   "source": [
    "#### 2. Write a Python program to find the sum of all items in a dictionary?"
   ]
  },
  {
   "cell_type": "code",
   "execution_count": 40,
   "id": "78f3c051",
   "metadata": {},
   "outputs": [
    {
     "name": "stdout",
     "output_type": "stream",
     "text": [
      "Enter the number of elements in dictionary: 2\n",
      "enter the key: 1\n",
      "enter the value: 2\n",
      "enter the key: 2\n",
      "enter the value: 34\n",
      "sum = 36\n"
     ]
    }
   ],
   "source": [
    "n=int(input(\"Enter the number of elements in dictionary: \"))\n",
    "d={}\n",
    "for i in range(n):\n",
    "    key=input(\"enter the key: \")\n",
    "    value=input(\"enter the value: \").split()\n",
    "    d[key]=value\n",
    "s=0\n",
    "try:\n",
    "    for i in d.values():\n",
    "        s+=sum(map(int,i)) #iterating over each value converting to integer type and using sum function\n",
    "except:\n",
    "    print(\"error\")\n",
    "else:\n",
    "    print(f\"sum = {s}\")"
   ]
  },
  {
   "cell_type": "markdown",
   "id": "f43db482",
   "metadata": {},
   "source": [
    "#### 3. Write a Python program to Merging two Dictionaries?"
   ]
  },
  {
   "cell_type": "code",
   "execution_count": 35,
   "id": "aff3df84",
   "metadata": {},
   "outputs": [
    {
     "name": "stdout",
     "output_type": "stream",
     "text": [
      "Enter the number of elements in dictionary 1: 2\n",
      "enter the key: a\n",
      "enter the value: 3 4 5 6 7 89 9\n",
      "enter the key: b\n",
      "enter the value: 44\n",
      "Enter the number of elements in dictionary 2: 2\n",
      "enter the key: c\n",
      "enter the value: 2\n",
      "enter the key: d\n",
      "enter the value: 56\n",
      "Mergerd Dictionary: {'a': ['3', '4', '5', '6', '7', '89', '9'], 'b': ['44'], 'c': ['2'], 'd': ['56']}\n"
     ]
    }
   ],
   "source": [
    "n=int(input(\"Enter the number of elements in dictionary 1: \"))\n",
    "Dict1={}\n",
    "for i in range(n):\n",
    "    key=input(\"enter the key: \")\n",
    "    value=input(\"enter the value: \").split()\n",
    "    Dict1.update({key:value})\n",
    "n=int(input(\"Enter the number of elements in dictionary 2: \"))\n",
    "Dict2={}\n",
    "for i in range(n):\n",
    "    key=input(\"enter the key: \")\n",
    "    value=input(\"enter the value: \").split()\n",
    "    Dict2.update({key:value})\n",
    "\n",
    "Dict1.update(Dict2)\n",
    "#using update method\n",
    "\n",
    "print(f\"Mergerd Dictionary: {Dict1}\")"
   ]
  },
  {
   "cell_type": "markdown",
   "id": "ce0c94f8",
   "metadata": {},
   "source": [
    "#### 4. Write a Python program to convert key-values list to flat dictionary?"
   ]
  },
  {
   "cell_type": "code",
   "execution_count": 6,
   "id": "02c5503b",
   "metadata": {},
   "outputs": [
    {
     "name": "stdout",
     "output_type": "stream",
     "text": [
      "enter the elements of list: month [\"jan\",\"feb\",\"mar\",\"apr\",\"may\",\"jun\",\"jul\"] number [\"1\",\"2\",\"3\",\"4\",\"5\",\"6\",\"7\"]\n",
      "{'month': '[\"jan\",\"feb\",\"mar\",\"apr\",\"may\",\"jun\",\"jul\"]', 'number': '[\"1\",\"2\",\"3\",\"4\",\"5\",\"6\",\"7\"]'}\n"
     ]
    }
   ],
   "source": [
    "k_v_list=input(\"enter the elements of list: \").split()\n",
    "result={}\n",
    "for i in range(0,len(k_v_list),2):\n",
    "    result[k_v_list[i]]=k_v_list[i+1]\n",
    "               \n",
    "    \n",
    "print(result)\n"
   ]
  },
  {
   "cell_type": "code",
   "execution_count": 8,
   "id": "a29a6478",
   "metadata": {},
   "outputs": [
    {
     "name": "stdout",
     "output_type": "stream",
     "text": [
      "{'jan': '1', 'feb': '2', 'mar': '3', 'apr': '4', 'may': '5', 'jun': '6', 'jul': '7'}\n"
     ]
    }
   ],
   "source": [
    "list1={\"month\":[\"jan\",\"feb\",\"mar\",\"apr\",\"may\",\"jun\",\"jul\"],\"number\":[\"1\",\"2\",\"3\",\"4\",\"5\",\"6\",\"7\"]}\n",
    "\n",
    "\n",
    "result = dict(zip(list1[\"month\"],list1[\"number\"]))\n",
    "\n",
    "print(result)"
   ]
  },
  {
   "cell_type": "markdown",
   "id": "5e8d18b0",
   "metadata": {},
   "source": [
    "#### 5. Write a Python program to insertion at the beginning in OrderedDict?"
   ]
  },
  {
   "cell_type": "code",
   "execution_count": 19,
   "id": "306920e9",
   "metadata": {},
   "outputs": [
    {
     "name": "stdout",
     "output_type": "stream",
     "text": [
      "OrderedDict([('d', 4), ('a', 1), ('b', 2), ('c', 3)])\n"
     ]
    }
   ],
   "source": [
    "from collections import OrderedDict\n",
    "\n",
    "class Ordered_Dict:\n",
    "    \"\"\"Ordered Dictionary implementation\"\"\"\n",
    "    def __init__(self):\n",
    "        \"\"\"Initialize the OrderedDict\"\"\"\n",
    "        self.dict1=OrderedDict()\n",
    "        \n",
    "    def insert(self,key,value):\n",
    "        \"\"\"Insert into dictionary\"\"\"\n",
    "        self.dict1.update({key:value})\n",
    "        \n",
    "    def insert_at_the_begining(self,key,value):\n",
    "        \"\"\"Insert into begining of dictionary\"\"\"\n",
    "        self.dict1.update({key:value})\n",
    "        self.dict1.move_to_end(key,last=False)\n",
    "        #this moves an existing key to either end of an ordered dictionary\n",
    "        \n",
    "    def display(self):\n",
    "        \"\"\"Display the existing Dictionary\"\"\"\n",
    "        print(self.dict1)\n",
    "\n",
    "        \n",
    "if __name__==\"__main__\":\n",
    "    d=Ordered_Dict()\n",
    "    d.insert(\"a\",1)\n",
    "    d.insert(\"b\",2)\n",
    "    d.insert(\"c\",3)\n",
    "    d.insert_at_the_begining(\"d\",4)\n",
    "    d.display()\n",
    "    \n",
    "    \n",
    "        \n",
    "        "
   ]
  },
  {
   "cell_type": "markdown",
   "id": "7935076d",
   "metadata": {},
   "source": [
    "#### 6. Write a Python program to check order of character in string using OrderedDict()?"
   ]
  },
  {
   "cell_type": "code",
   "execution_count": 30,
   "id": "813fb017",
   "metadata": {},
   "outputs": [
    {
     "name": "stdout",
     "output_type": "stream",
     "text": [
      "Enter the String : string\n",
      "Enter the pattern : ng\n",
      "OrderedDict([('s', None), ('t', None), ('r', None), ('i', None), ('n', None), ('g', None)])\n",
      "The order of  pattern is correct\n"
     ]
    }
   ],
   "source": [
    "from collections import OrderedDict \n",
    "def checkOrder(string, pattern):\n",
    "    \"\"\"This function takes strig and converts it to OrderedDict and checks order of pattern\"\"\"\n",
    "    d = OrderedDict.fromkeys(string) \n",
    "    p = 0\n",
    "    print(d)\n",
    "    for key,value in d.items(): \n",
    "        if (key == pattern[p]): \n",
    "            p = p + 1\n",
    "        if (p == (len(pattern))): \n",
    "            return 'The order of  pattern is correct'\n",
    "    return 'The order of pattern is wrong'\n",
    "string=input(\"Enter the String : \")\n",
    "pattern=input(\"Enter the pattern : \")\n",
    "print(checkOrder(string,pattern))"
   ]
  },
  {
   "cell_type": "markdown",
   "id": "9875cf8e",
   "metadata": {},
   "source": [
    "#### 7. Write a Python program to sort Python Dictionaries by Key or Value?\n"
   ]
  },
  {
   "cell_type": "code",
   "execution_count": 45,
   "id": "e887fa79",
   "metadata": {},
   "outputs": [
    {
     "name": "stdout",
     "output_type": "stream",
     "text": [
      "Before sorting(key) : {'a': 2, 'b': 1, 'd': 5, 'c': 3}\n",
      "After sorting(key) : {'a': 2, 'b': 1, 'c': 3, 'd': 5}\n",
      "Before sorting(Value) : {'a': 2, 'b': 1, 'c': 3, 'd': 5}\n",
      "After sorting(Value) : {'b': 1, 'a': 2, 'c': 3, 'd': 5}\n"
     ]
    }
   ],
   "source": [
    "from collections import OrderedDict\n",
    "\n",
    "class Dict:\n",
    "    \"\"\"Dictionary implementation\"\"\"\n",
    "    def __init__(self):\n",
    "        \"\"\"Initialize the Dict\"\"\"\n",
    "        self.dict1=dict()\n",
    "        \n",
    "    def insert(self,key,value):\n",
    "        \"\"\"Insert into dictionary\"\"\"\n",
    "        self.dict1.update({key:value})\n",
    "        \n",
    "    def key_sort(self,reverse=False):\n",
    "        \"\"\"Sort by Key\"\"\"\n",
    "        self.dict1=dict(sorted(self.dict1.items(),reverse=reverse))\n",
    "        \n",
    "    def Value_sort(self,reverse=False):\n",
    "        \"\"\"Sort by value\"\"\"\n",
    "        def fun(x):\n",
    "            return x[1]\n",
    "        self.dict1=dict(sorted(self.dict1.items(),key=fun,reverse=reverse))\n",
    "        \n",
    "        \n",
    "   \n",
    "    def display(self):\n",
    "        \"\"\"Display the existing Dictionary\"\"\"\n",
    "        return self.dict1\n",
    "    \n",
    "\n",
    "        \n",
    "if __name__==\"__main__\":\n",
    "    d=Dict()\n",
    "    d.insert(\"a\",2)\n",
    "    d.insert(\"b\",1)\n",
    "    d.insert(\"d\",5)\n",
    "    d.insert(\"c\",3)\n",
    "    print(f\"Before sorting(key) : {d.display()}\")\n",
    "    d.key_sort()\n",
    "    print(f\"After sorting(key) : {d.display()}\")\n",
    "    print(f\"Before sorting(Value) : {d.display()}\")\n",
    "    d.Value_sort()\n",
    "    print(f\"After sorting(Value) : {d.display()}\")\n",
    "        \n",
    "    \n",
    "        \n",
    "        "
   ]
  },
  {
   "cell_type": "code",
   "execution_count": null,
   "id": "421f0e58",
   "metadata": {},
   "outputs": [],
   "source": []
  }
 ],
 "metadata": {
  "kernelspec": {
   "display_name": "Python 3 (ipykernel)",
   "language": "python",
   "name": "python3"
  },
  "language_info": {
   "codemirror_mode": {
    "name": "ipython",
    "version": 3
   },
   "file_extension": ".py",
   "mimetype": "text/x-python",
   "name": "python",
   "nbconvert_exporter": "python",
   "pygments_lexer": "ipython3",
   "version": "3.9.12"
  }
 },
 "nbformat": 4,
 "nbformat_minor": 5
}
