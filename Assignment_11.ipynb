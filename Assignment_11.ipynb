{
 "cells": [
  {
   "cell_type": "markdown",
   "id": "38cf8674",
   "metadata": {},
   "source": [
    "<h2>1. Create an assert statement that throws an AssertionError if the variable spam is a negative integer.</h2>"
   ]
  },
  {
   "cell_type": "code",
   "execution_count": 12,
   "id": "737a2b4c",
   "metadata": {},
   "outputs": [
    {
     "ename": "AssertionError",
     "evalue": "spam is a negative integer.",
     "output_type": "error",
     "traceback": [
      "\u001b[1;31m---------------------------------------------------------------------------\u001b[0m",
      "\u001b[1;31mAssertionError\u001b[0m                            Traceback (most recent call last)",
      "Input \u001b[1;32mIn [12]\u001b[0m, in \u001b[0;36m<cell line: 2>\u001b[1;34m()\u001b[0m\n\u001b[0;32m      1\u001b[0m spam\u001b[38;5;241m=\u001b[39m\u001b[38;5;241m-\u001b[39m\u001b[38;5;241m1\u001b[39m\n\u001b[1;32m----> 2\u001b[0m \u001b[38;5;28;01massert\u001b[39;00m spam \u001b[38;5;241m>\u001b[39m\u001b[38;5;241m=\u001b[39m \u001b[38;5;241m0\u001b[39m, \u001b[38;5;124m\"\u001b[39m\u001b[38;5;124mspam is a negative integer.\u001b[39m\u001b[38;5;124m\"\u001b[39m\n\u001b[0;32m      4\u001b[0m spam\u001b[38;5;241m=\u001b[39m\u001b[38;5;241m10\u001b[39m\n\u001b[0;32m      5\u001b[0m \u001b[38;5;28;01massert\u001b[39;00m spam \u001b[38;5;241m>\u001b[39m\u001b[38;5;241m=\u001b[39m \u001b[38;5;241m0\u001b[39m\n",
      "\u001b[1;31mAssertionError\u001b[0m: spam is a negative integer."
     ]
    }
   ],
   "source": [
    "spam=-1\n",
    "assert spam >= 0, \"spam is a negative integer.\"\n",
    "\n",
    "spam=10\n",
    "assert spam >= 0"
   ]
  },
  {
   "cell_type": "markdown",
   "id": "c0980885",
   "metadata": {},
   "source": [
    "<h2>2. Write an assert statement that triggers an AssertionError if the variables eggs and bacon contain strings that are the same as each other, even if their cases are different (that is, 'hello' and 'hello' are considered the same, and 'goodbye' and 'GOODbye' are also considered the same).</h2>"
   ]
  },
  {
   "cell_type": "code",
   "execution_count": 28,
   "id": "0f2b8bef",
   "metadata": {},
   "outputs": [
    {
     "ename": "AssertionError",
     "evalue": "eggs and bacon var are equal to each other 'hello'=='Hello'",
     "output_type": "error",
     "traceback": [
      "\u001b[1;31m---------------------------------------------------------------------------\u001b[0m",
      "\u001b[1;31mAssertionError\u001b[0m                            Traceback (most recent call last)",
      "Input \u001b[1;32mIn [28]\u001b[0m, in \u001b[0;36m<cell line: 8>\u001b[1;34m()\u001b[0m\n\u001b[0;32m      6\u001b[0m eggs\u001b[38;5;241m=\u001b[39m\u001b[38;5;124m\"\u001b[39m\u001b[38;5;124mhello\u001b[39m\u001b[38;5;124m\"\u001b[39m\n\u001b[0;32m      7\u001b[0m bacon\u001b[38;5;241m=\u001b[39m\u001b[38;5;124m\"\u001b[39m\u001b[38;5;124mHello\u001b[39m\u001b[38;5;124m\"\u001b[39m\n\u001b[1;32m----> 8\u001b[0m \u001b[38;5;28;01massert\u001b[39;00m eggs\u001b[38;5;241m.\u001b[39mcasefold()\u001b[38;5;241m!=\u001b[39mbacon\u001b[38;5;241m.\u001b[39mcasefold(),\u001b[38;5;124mf\u001b[39m\u001b[38;5;124m\"\u001b[39m\u001b[38;5;124meggs and bacon var are equal to each other \u001b[39m\u001b[38;5;124m'\u001b[39m\u001b[38;5;132;01m{\u001b[39;00meggs\u001b[38;5;132;01m}\u001b[39;00m\u001b[38;5;124m'\u001b[39m\u001b[38;5;124m==\u001b[39m\u001b[38;5;124m'\u001b[39m\u001b[38;5;132;01m{\u001b[39;00mbacon\u001b[38;5;132;01m}\u001b[39;00m\u001b[38;5;124m'\u001b[39m\u001b[38;5;124m\"\u001b[39m\n",
      "\u001b[1;31mAssertionError\u001b[0m: eggs and bacon var are equal to each other 'hello'=='Hello'"
     ]
    }
   ],
   "source": [
    "eggs=\"eggs\"\n",
    "bacon=\"bacon\"\n",
    "assert eggs.casefold()!=bacon.casefold(),f\"eggs and bacon var are equal to each other '{eggs}'='{bacon}'\"\n",
    "\n",
    "\n",
    "eggs=\"hello\"\n",
    "bacon=\"Hello\"\n",
    "assert eggs.casefold()!=bacon.casefold(),f\"eggs and bacon var are equal to each other '{eggs}'=='{bacon}'\"\n"
   ]
  },
  {
   "cell_type": "markdown",
   "id": "7a78e67f",
   "metadata": {},
   "source": [
    "<h2>3. Create an assert statement that throws an AssertionError every time.</h2>"
   ]
  },
  {
   "cell_type": "code",
   "execution_count": 30,
   "id": "e89d0d6f",
   "metadata": {},
   "outputs": [
    {
     "ename": "AssertionError",
     "evalue": "This assert statement will always raise an AssertionError",
     "output_type": "error",
     "traceback": [
      "\u001b[1;31m---------------------------------------------------------------------------\u001b[0m",
      "\u001b[1;31mAssertionError\u001b[0m                            Traceback (most recent call last)",
      "Input \u001b[1;32mIn [30]\u001b[0m, in \u001b[0;36m<cell line: 1>\u001b[1;34m()\u001b[0m\n\u001b[1;32m----> 1\u001b[0m \u001b[38;5;28;01massert\u001b[39;00m \u001b[38;5;28;01mFalse\u001b[39;00m, \u001b[38;5;124m\"\u001b[39m\u001b[38;5;124mThis assert statement will always raise an AssertionError\u001b[39m\u001b[38;5;124m\"\u001b[39m\n",
      "\u001b[1;31mAssertionError\u001b[0m: This assert statement will always raise an AssertionError"
     ]
    }
   ],
   "source": [
    "assert False, \"This assert statement will always raise an AssertionError\""
   ]
  },
  {
   "cell_type": "markdown",
   "id": "61d01b98",
   "metadata": {},
   "source": [
    "<h2>4. What are the two lines that must be present in your software in order to call logging.debug()?</h2>"
   ]
  },
  {
   "cell_type": "markdown",
   "id": "089a92f1",
   "metadata": {},
   "source": [
    "> - The first line imports the logging module, which provides the logging functionality."
   ]
  },
  {
   "cell_type": "code",
   "execution_count": 31,
   "id": "44283c4e",
   "metadata": {},
   "outputs": [],
   "source": [
    "import logging"
   ]
  },
  {
   "cell_type": "markdown",
   "id": "25243984",
   "metadata": {},
   "source": [
    "> - The second line initializes the logging system and sets the logging level to DEBUG. "
   ]
  },
  {
   "cell_type": "code",
   "execution_count": 32,
   "id": "644f3980",
   "metadata": {},
   "outputs": [],
   "source": [
    "logging.basicConfig(level=logging.DEBUG, format='%(asctime)s - %(levelname)s - %(message)s')"
   ]
  },
  {
   "cell_type": "code",
   "execution_count": 34,
   "id": "e2abc92b",
   "metadata": {},
   "outputs": [
    {
     "name": "stderr",
     "output_type": "stream",
     "text": [
      "2023-04-25 12:06:41,739 - DEBUG - this is a debug message\n"
     ]
    }
   ],
   "source": [
    "logging.debug(\"this is a debug message\")"
   ]
  },
  {
   "cell_type": "markdown",
   "id": "a57fac0c",
   "metadata": {},
   "source": [
    "<h2>5. What are the two lines that your program must have in order to have logging.debug() send a logging message to a file named programLog.txt?</h2>"
   ]
  },
  {
   "cell_type": "markdown",
   "id": "445ab6f8",
   "metadata": {},
   "source": [
    "> - The first line imports the logging module, which provides the logging functionality."
   ]
  },
  {
   "cell_type": "code",
   "execution_count": 1,
   "id": "30823f79",
   "metadata": {},
   "outputs": [],
   "source": [
    "import logging"
   ]
  },
  {
   "cell_type": "markdown",
   "id": "38391ac5",
   "metadata": {},
   "source": [
    "> - The second line initializes the logging system , set the filename to \"programLog.txt\" and set logging level to DEBUG"
   ]
  },
  {
   "cell_type": "code",
   "execution_count": 2,
   "id": "f4dfcf0b",
   "metadata": {},
   "outputs": [],
   "source": [
    "logging.basicConfig(filename=\"programLog.txt\",level=logging.DEBUG, format='%(asctime)s - %(levelname)s - %(message)s')"
   ]
  },
  {
   "cell_type": "code",
   "execution_count": 3,
   "id": "3b88908b",
   "metadata": {},
   "outputs": [],
   "source": [
    "logging.debug(\"this is a debug message\")"
   ]
  },
  {
   "cell_type": "code",
   "execution_count": 6,
   "id": "d8ee7ff3",
   "metadata": {},
   "outputs": [
    {
     "name": "stdout",
     "output_type": "stream",
     "text": [
      " Volume in drive C has no label.\n",
      " Volume Serial Number is F0A5-60CD\n",
      "\n",
      " Directory of C:\\Users\\hp\\Desktop\\iNeuron\\Ineuron-assignments\n",
      "\n",
      "25-04-2023  12:09                59 programLog.txt\n",
      "               1 File(s)             59 bytes\n",
      "               0 Dir(s)  16,067,072,000 bytes free\n"
     ]
    }
   ],
   "source": [
    "!dir \"C:\\Users\\hp\\Desktop\\iNeuron\\Ineuron-assignments\\programLog.txt\""
   ]
  },
  {
   "cell_type": "code",
   "execution_count": 7,
   "id": "19bda0d8",
   "metadata": {},
   "outputs": [
    {
     "name": "stdout",
     "output_type": "stream",
     "text": [
      "2023-04-25 12:09:19,946 - DEBUG - this is a debug message\n",
      "\n"
     ]
    }
   ],
   "source": [
    "f=open(\"programLog.txt\")\n",
    "print(f.read())\n",
    "f.close()"
   ]
  },
  {
   "cell_type": "markdown",
   "id": "66f2382f",
   "metadata": {},
   "source": [
    "<h2>6. What are the five levels of logging?</h2>"
   ]
  },
  {
   "cell_type": "markdown",
   "id": "f714df93",
   "metadata": {},
   "source": [
    "> - DEBUG: Detailed information for debugging purposes.\n",
    "> - INFO: General information about the program's execution.\n",
    "> - WARNING: An indication that something unexpected or suboptimal has happened.\n",
    "> - ERROR: An error has occurred, but the program can continue running.\n",
    "> - CRITICAL: A critical error has occurred and the program may not be able to continue running."
   ]
  },
  {
   "cell_type": "markdown",
   "id": "4e848478",
   "metadata": {},
   "source": [
    "<h2>7. What line of code would you add to your software to disable all logging messages?</h2>"
   ]
  },
  {
   "cell_type": "code",
   "execution_count": null,
   "id": "01a4b36a",
   "metadata": {},
   "outputs": [],
   "source": [
    "logging.disable(logging.CRITICAL)"
   ]
  },
  {
   "cell_type": "markdown",
   "id": "56bc800a",
   "metadata": {},
   "source": [
    "> This sets the logging level to CRITICAL, which is the highest level of severity. Since no log messages have a higher severity level than CRITICAL, this effectively disables all logging messages."
   ]
  },
  {
   "cell_type": "code",
   "execution_count": 1,
   "id": "f4a0fa1d",
   "metadata": {},
   "outputs": [
    {
     "name": "stderr",
     "output_type": "stream",
     "text": [
      "2023-04-25 12:14:58,171 - DEBUG - this is a debug message\n"
     ]
    }
   ],
   "source": [
    "import logging\n",
    "logging.basicConfig(level=logging.DEBUG, format='%(asctime)s - %(levelname)s - %(message)s')\n",
    "logging.debug(\"this is a debug message\")"
   ]
  },
  {
   "cell_type": "code",
   "execution_count": 2,
   "id": "196a4c93",
   "metadata": {},
   "outputs": [],
   "source": [
    "logging.disable(logging.CRITICAL)"
   ]
  },
  {
   "cell_type": "code",
   "execution_count": 3,
   "id": "dda230f7",
   "metadata": {},
   "outputs": [],
   "source": [
    "logging.debug(\"this is a debug message\")#no log will be displayed as logging is disabled"
   ]
  },
  {
   "cell_type": "markdown",
   "id": "593db208",
   "metadata": {},
   "source": [
    "<h2>8.Why is using logging messages better than using print() to display the same message?</h2>"
   ]
  },
  {
   "cell_type": "markdown",
   "id": "d0bea5fa",
   "metadata": {},
   "source": [
    "> - With logging, you can easily customize the format of your log messages and specify where they should be sent (e.g., to a file, to the console, or to a network socket). \n",
    "> - You can also add contextual information to your log messages, like the timestamp or the name of the function that generated the message. This can be helpful for debugging and tracing the flow of your program.\n",
    "> - When you use print() statements to debug your code, you have to manually remove them when you're done, which can be time-consuming. With logging, you can simply set the logging level to a higher level to suppress debugging messages without having to modify your code.\n",
    "> - It also includes features like logging handlers and formatters that allow you to fine-tune the performance of your logging code. By contrast, print() statements can be slow, especially when used in large loops or other performance-critical sections of your code."
   ]
  },
  {
   "cell_type": "markdown",
   "id": "73fb6ab2",
   "metadata": {},
   "source": [
    "<h2>9. What are the differences between the Step Over, Step In, and Step Out buttons in the debugger?</h2>"
   ]
  },
  {
   "cell_type": "markdown",
   "id": "2a7d1b44",
   "metadata": {},
   "source": [
    "> - Step Over: This button allows you to execute the current line of code and then move to the next line, without stepping into any functions or methods that might be called on that line.\n",
    "    "
   ]
  },
  {
   "cell_type": "markdown",
   "id": "835bcdb5",
   "metadata": {},
   "source": [
    "> - Step In: This button allows you to step into a function or method that is called on the current line of code. This means that the debugger will pause at the first line of the function and allow you to inspect and step through the code inside the function."
   ]
  },
  {
   "cell_type": "markdown",
   "id": "339025b9",
   "metadata": {},
   "source": [
    "> - Step Out: This button allows you to step out of the current function or method and continue execution at the next line of code in the calling function. This is useful if you have stepped into a function and want to return to the calling function without stepping through the rest of the current function."
   ]
  },
  {
   "cell_type": "markdown",
   "id": "e07374fb",
   "metadata": {},
   "source": [
    "<h2>10.After you click Continue, when will the debugger stop ?</h2>"
   ]
  },
  {
   "cell_type": "markdown",
   "id": "208d9886",
   "metadata": {},
   "source": [
    "> - When you click the \"Continue\" button in the debugger, it will resume the execution of the program until the next breakpoint is encountered or until the program exits. \n"
   ]
  },
  {
   "cell_type": "markdown",
   "id": "d66cd6d2",
   "metadata": {},
   "source": [
    "> - If there are no more breakpoints set in the program, the debugger will not stop until the program finishes executing or until an error occurs."
   ]
  },
  {
   "cell_type": "markdown",
   "id": "9a3143f4",
   "metadata": {},
   "source": [
    "> - we can also use pause button to pause the excecution at any point of time"
   ]
  },
  {
   "cell_type": "markdown",
   "id": "293fa6d6",
   "metadata": {},
   "source": [
    "<h2>11. What is the concept of a breakpoint?</h2>"
   ]
  },
  {
   "cell_type": "markdown",
   "id": "40e0db3e",
   "metadata": {},
   "source": [
    "- A breakpoint is a tool used by developers to pause the execution of a program at a specific line of code or instruction during debugging. \n",
    "- When a breakpoint is set, the program will run normally until it reaches that line of code, at which point it will pause, and the debugger will allow you to inspect the program's state at that point."
   ]
  }
 ],
 "metadata": {
  "kernelspec": {
   "display_name": "Python 3 (ipykernel)",
   "language": "python",
   "name": "python3"
  },
  "language_info": {
   "codemirror_mode": {
    "name": "ipython",
    "version": 3
   },
   "file_extension": ".py",
   "mimetype": "text/x-python",
   "name": "python",
   "nbconvert_exporter": "python",
   "pygments_lexer": "ipython3",
   "version": "3.9.12"
  }
 },
 "nbformat": 4,
 "nbformat_minor": 5
}
