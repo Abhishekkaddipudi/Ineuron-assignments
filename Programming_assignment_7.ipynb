{
 "cells": [
  {
   "cell_type": "markdown",
   "id": "067aabb6",
   "metadata": {},
   "source": [
    "#### 1. Write a Python Program to find sum of array?"
   ]
  },
  {
   "cell_type": "code",
   "execution_count": 7,
   "id": "9e492bf8",
   "metadata": {},
   "outputs": [
    {
     "name": "stdout",
     "output_type": "stream",
     "text": [
      "Enter the elements of array: 22 32 43 22 1 3 4 5 77\n",
      "the sum of array is: 209\n"
     ]
    }
   ],
   "source": [
    "arr=input(\"Enter the elements of array: \").split(\" \")\n",
    "for i in range(len(arr)):\n",
    "    arr[i]=int(arr[i])\n",
    "    \n",
    "print(f\"the sum of array is: {sum(arr)}\") #using sum method"
   ]
  },
  {
   "cell_type": "markdown",
   "id": "f87331fe",
   "metadata": {},
   "source": [
    "#### 2. Write a Python Program to find largest element in an array?"
   ]
  },
  {
   "cell_type": "code",
   "execution_count": 8,
   "id": "5a28361e",
   "metadata": {},
   "outputs": [
    {
     "name": "stdout",
     "output_type": "stream",
     "text": [
      "Enter the elements of array: 2 3 22 34 55 111 2 3333 77777\n",
      "the largest element in array is: 77777\n"
     ]
    }
   ],
   "source": [
    "arr=input(\"Enter the elements of array: \").split(\" \")\n",
    "for i in range(len(arr)):\n",
    "    arr[i]=int(arr[i])\n",
    "    \n",
    "print(f\"the largest element in array is: {max(arr)}\") #using Max method"
   ]
  },
  {
   "cell_type": "markdown",
   "id": "4555f83f",
   "metadata": {},
   "source": [
    "#### 3. Write a Python Program for array rotation?"
   ]
  },
  {
   "cell_type": "code",
   "execution_count": 17,
   "id": "af91e939",
   "metadata": {},
   "outputs": [
    {
     "name": "stdout",
     "output_type": "stream",
     "text": [
      "Enter the elements of array: 1 2 3 4 5 6 7 8 9\n",
      "enter the number elements for rotaion: 5\n",
      "Before roatation ['1', '2', '3', '4', '5', '6', '7', '8', '9']\n",
      "After roatation ['6', '7', '8', '9', '1', '2', '3', '4', '5']\n"
     ]
    }
   ],
   "source": [
    "#using temp array\n",
    "def Rotate(a,k):\n",
    "    temp=[]\n",
    "    for i in range(k,len(a)):\n",
    "        temp.append(a[i])\n",
    "    for i in range(k):\n",
    "        temp.append(a[i])\n",
    "    return temp\n",
    "\n",
    "arr=input(\"Enter the elements of array: \").split(\" \")\n",
    "k=int(input(\"enter the number elements for rotaion: \"))\n",
    "print(f\"Before roatation {arr}\")\n",
    "print(f\"After roatation {Rotate(arr,k)}\")"
   ]
  },
  {
   "cell_type": "markdown",
   "id": "c05ccfea",
   "metadata": {},
   "source": [
    "### 4. Write a Python Program to Split the array and add the first part to the end?"
   ]
  },
  {
   "cell_type": "code",
   "execution_count": 18,
   "id": "fe863c4c",
   "metadata": {},
   "outputs": [
    {
     "name": "stdout",
     "output_type": "stream",
     "text": [
      "Enter the elements of array: 1 2 3 4 5 6 7 8 9\n",
      "enter the split amount in array: 8\n",
      "before roatation ['1', '2', '3', '4', '5', '6', '7', '8', '9']\n",
      "after roatation ['9', '1', '2', '3', '4', '5', '6', '7', '8']\n"
     ]
    }
   ],
   "source": [
    "arr=input(\"Enter the elements of array: \").split(\" \")\n",
    "k=int(input(\"enter the split amount in array: \"))\n",
    "print(f\"before roatation {arr}\")\n",
    "arr=arr[k:]+arr[:k]  #using slicing\n",
    "print(f\"after roatation {arr}\")"
   ]
  },
  {
   "cell_type": "markdown",
   "id": "bcccd8bb",
   "metadata": {},
   "source": [
    "#### 5. Write a Python Program to check if given array is Monotonic?"
   ]
  },
  {
   "cell_type": "code",
   "execution_count": 30,
   "id": "711a2c1a",
   "metadata": {},
   "outputs": [
    {
     "name": "stdout",
     "output_type": "stream",
     "text": [
      "Enter the elements of array: 9 8 7 6 5 4 3 2 1 0 -1 -2 -3\n",
      "[9, 8, 7, 6, 5, 4, 3, 2, 1, 0, -1, -2, -3] is Monotonic\n"
     ]
    }
   ],
   "source": [
    "def Monotonic(arr): # if all elemnts are in descending or ascending order then array is monotonic\n",
    "    return (all(arr[i]<=arr[i+1] for i in range(len(arr)-1)) or\n",
    "            all(arr[i]>=arr[i+1] for i in range(len(arr)-1)))\n",
    "arr=input(\"Enter the elements of array: \").split(\" \")\n",
    "for i in range(len(arr)):\n",
    "    arr[i]=int(arr[i])\n",
    "if Monotonic(arr):\n",
    "    print(f\"{arr} is Monotonic\")\n",
    "else:\n",
    "    print(f\"{arr} is not Monotonic\")\n"
   ]
  }
 ],
 "metadata": {
  "kernelspec": {
   "display_name": "Python 3 (ipykernel)",
   "language": "python",
   "name": "python3"
  },
  "language_info": {
   "codemirror_mode": {
    "name": "ipython",
    "version": 3
   },
   "file_extension": ".py",
   "mimetype": "text/x-python",
   "name": "python",
   "nbconvert_exporter": "python",
   "pygments_lexer": "ipython3",
   "version": "3.9.12"
  }
 },
 "nbformat": 4,
 "nbformat_minor": 5
}
