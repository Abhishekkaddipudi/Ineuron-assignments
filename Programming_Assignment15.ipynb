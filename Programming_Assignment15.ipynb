{
 "cells": [
  {
   "cell_type": "markdown",
   "id": "8d6627c4",
   "metadata": {},
   "source": [
    "<h2>Question 1:</h2>\n",
    "<h2>Please write a program using generator to print the numbers which can be divisible by 5 and 7 between 0 and n in comma separated form while n is input by console.</h2>\n",
    "<h2>Example:\n",
    "If the following n is given as input to the program:</h2>\n",
    "<h2>100</h2>\n",
    "<h2>Then, the output of the program should be:</h2>\n",
    "<h2>0,35,70</h2>\n",
    "<h2></h2>"
   ]
  },
  {
   "cell_type": "code",
   "execution_count": 20,
   "id": "d5cc5948",
   "metadata": {},
   "outputs": [
    {
     "name": "stdout",
     "output_type": "stream",
     "text": [
      "enter the n value : 100\n",
      "0,35,70,"
     ]
    }
   ],
   "source": [
    "def gen_numbers(n):\n",
    "    \n",
    "    for i in range(n+1):\n",
    "        if i % 5 ==0 and i%7==0:\n",
    "            yield i\n",
    "for i in gen_numbers(int(input(\"enter the n value : \"))):\n",
    "    print(i,end=\",\")"
   ]
  },
  {
   "cell_type": "code",
   "execution_count": 21,
   "id": "1d9fdebc",
   "metadata": {},
   "outputs": [
    {
     "name": "stdout",
     "output_type": "stream",
     "text": [
      "enter the n value : 280\n",
      "0,35,70,105,140,175,210,245,280,"
     ]
    }
   ],
   "source": [
    "for i in gen_numbers(int(input(\"enter the n value : \"))):\n",
    "    print(i,end=\",\")"
   ]
  },
  {
   "cell_type": "markdown",
   "id": "8aac7692",
   "metadata": {},
   "source": [
    "<h2>Question 2:</h2>\n",
    "<h2>Please write a program using generator to print the even numbers between 0 and n in comma separated form while n is input by console.</h2>\n",
    "<h2>Example:\n",
    "If the following n is given as input to the program:</h2>\n",
    "<h2>10</h2>\n",
    "<h2>Then, the output of the program should be:</h2>\n",
    "<h2>0,2,4,6,8,10</h2>"
   ]
  },
  {
   "cell_type": "code",
   "execution_count": 22,
   "id": "58adc256",
   "metadata": {},
   "outputs": [
    {
     "name": "stdout",
     "output_type": "stream",
     "text": [
      "0,2,4,6,8,10,"
     ]
    }
   ],
   "source": [
    "def gen_numbers(n):  \n",
    "    for i in range(n+1):\n",
    "        if i % 2==0:\n",
    "            yield i\n",
    "for i in gen_numbers(10):\n",
    "    print(i,end=\",\")"
   ]
  },
  {
   "cell_type": "markdown",
   "id": "92e0f96d",
   "metadata": {},
   "source": [
    "<h2>Question 3:</h2>\n",
    "<h2>The Fibonacci Sequence is computed based on the following formula:</h2>\n",
    "<h2>f(n)=0 if n=0\n",
    "f(n)=1 if n=1\n",
    "f(n)=f(n-1)+f(n-2) if n>1</h2>\n",
    "<h2>Please write a program using list comprehension to print the Fibonacci Sequence in comma separated form with a given n input by console.</h2>\n",
    "<h2>Example:\n",
    "If the following n is given as input to the program:</h2>\n",
    "<h2>7</h2>\n",
    "<h2>Then, the output of the program should be:</h2>\n",
    "<h2>0,1,1,2,3,5,8,13</h2>"
   ]
  },
  {
   "cell_type": "code",
   "execution_count": 30,
   "id": "e76a0f86",
   "metadata": {},
   "outputs": [
    {
     "name": "stdout",
     "output_type": "stream",
     "text": [
      "Enter a number: 20\n",
      "0,1,1,2,3,5,8,13,21,34,55,89,144,233,377,610,987,1597,2584,4181,6765\n"
     ]
    }
   ],
   "source": [
    "n = int(input(\"Enter a number: \"))\n",
    "\n",
    "Fibonacci_Sequence = [0, 1]\n",
    "[Fibonacci_Sequence.append(fib[i-1] + fib[i-2]) for i in range(2, n+1)]\n",
    "\n",
    "print(\",\".join(str(x) for x in Fibonacci_Sequence[:n+1]))"
   ]
  },
  {
   "cell_type": "markdown",
   "id": "ec1dd117",
   "metadata": {},
   "source": [
    "<h2>Question 4:</h2>\n",
    "<h2>Assuming that we have some email addresses in the \"username@companyname.com\" format, please write program to print the user name of a given email address. Both user names and company names are composed of letters only.</h2>\n",
    "<h2>Example:\n",
    "If the following email address is given as input to the program:</h2>\n",
    "<h2>john@google.com</h2>\n",
    "<h2>Then, the output of the program should be:</h2>\n",
    "<h2>john</h2>"
   ]
  },
  {
   "cell_type": "code",
   "execution_count": 25,
   "id": "9fcb056e",
   "metadata": {},
   "outputs": [
    {
     "name": "stdout",
     "output_type": "stream",
     "text": [
      "Enter your email-id : john@google.com\n"
     ]
    },
    {
     "data": {
      "text/plain": [
       "'john'"
      ]
     },
     "execution_count": 25,
     "metadata": {},
     "output_type": "execute_result"
    }
   ],
   "source": [
    "string=input(\"Enter your email-id : \")\n",
    "username=string.split(\"@\")[0]\n",
    "username"
   ]
  },
  {
   "cell_type": "markdown",
   "id": "a8068630",
   "metadata": {},
   "source": [
    "<h2>Question 5: </h2>\n",
    "<h2>Define a class named Shape and its subclass Square. The Square class has an init function which takes a length as argument. Both classes have a area function which can print the area of the shape where Shape's area is 0 by default.</h2>"
   ]
  },
  {
   "cell_type": "code",
   "execution_count": 26,
   "id": "a52eaab4",
   "metadata": {},
   "outputs": [],
   "source": [
    "class Shape:\n",
    "    def area(self):\n",
    "        return 0\n",
    "class Square:\n",
    "    def __init__(self,length=0):\n",
    "\n",
    "        self.length=length\n",
    "    def area(self):\n",
    "        \"\"\"\n",
    "        returns area of square\n",
    "        \"\"\"\n",
    "        \n",
    "        return self.length**2\n",
    "    "
   ]
  },
  {
   "cell_type": "code",
   "execution_count": 27,
   "id": "ca472279",
   "metadata": {},
   "outputs": [
    {
     "data": {
      "text/plain": [
       "0"
      ]
     },
     "execution_count": 27,
     "metadata": {},
     "output_type": "execute_result"
    }
   ],
   "source": [
    "sh=Shape()\n",
    "sh.area()"
   ]
  },
  {
   "cell_type": "code",
   "execution_count": 29,
   "id": "5c885f94",
   "metadata": {},
   "outputs": [
    {
     "data": {
      "text/plain": [
       "4.0"
      ]
     },
     "execution_count": 29,
     "metadata": {},
     "output_type": "execute_result"
    }
   ],
   "source": [
    "sq=Square(4/2)\n",
    "sq.area()"
   ]
  },
  {
   "cell_type": "code",
   "execution_count": null,
   "id": "8ab3b2ab",
   "metadata": {},
   "outputs": [],
   "source": []
  }
 ],
 "metadata": {
  "kernelspec": {
   "display_name": "Python 3 (ipykernel)",
   "language": "python",
   "name": "python3"
  },
  "language_info": {
   "codemirror_mode": {
    "name": "ipython",
    "version": 3
   },
   "file_extension": ".py",
   "mimetype": "text/x-python",
   "name": "python",
   "nbconvert_exporter": "python",
   "pygments_lexer": "ipython3",
   "version": "3.9.12"
  }
 },
 "nbformat": 4,
 "nbformat_minor": 5
}
