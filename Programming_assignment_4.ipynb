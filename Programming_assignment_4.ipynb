{
 "cells": [
  {
   "cell_type": "markdown",
   "id": "5ad47f85",
   "metadata": {},
   "source": [
    "#### 1. Write a Python Program to Find the Factorial of a Number?"
   ]
  },
  {
   "cell_type": "code",
   "execution_count": 6,
   "id": "a5a56a52",
   "metadata": {},
   "outputs": [
    {
     "name": "stdout",
     "output_type": "stream",
     "text": [
      "Enter a number: 5\n",
      "Factorial of 5 is: 120\n"
     ]
    }
   ],
   "source": [
    "num=int(input(\"Enter a number: \"))\n",
    "fact=1\n",
    "if num <0:\n",
    "    print(f\"Factorial of {num} doesn't exist\")\n",
    "elif num == 0:          #factorial of 0 is 1\n",
    "    print(f\"Factorial of 0 is 1\")\n",
    "for i in range(1,num+1):\n",
    "    fact*=i\n",
    "print(f\"Factorial of {num} is: {fact}\")"
   ]
  },
  {
   "cell_type": "markdown",
   "id": "ddc57d63",
   "metadata": {},
   "source": [
    "#### 2. Write a Python Program to Display the multiplication Table?"
   ]
  },
  {
   "cell_type": "code",
   "execution_count": 9,
   "id": "e290d3cb",
   "metadata": {},
   "outputs": [
    {
     "name": "stdout",
     "output_type": "stream",
     "text": [
      "enter the number to display multiplicatoin table: 90\n",
      "90 X 1 = 90\n",
      "90 X 2 = 180\n",
      "90 X 3 = 270\n",
      "90 X 4 = 360\n",
      "90 X 5 = 450\n",
      "90 X 6 = 540\n",
      "90 X 7 = 630\n",
      "90 X 8 = 720\n",
      "90 X 9 = 810\n",
      "90 X 10 = 900\n"
     ]
    }
   ],
   "source": [
    "n=int(input(\"enter the number to display multiplicatoin table: \"))\n",
    "for i in range(1,11):  \n",
    "    print(f\"{n} X {i} = {n*i}\")"
   ]
  },
  {
   "cell_type": "markdown",
   "id": "0a667c9e",
   "metadata": {},
   "source": [
    "#### 3. Write a Python Program to Print the Fibonacci sequence?"
   ]
  },
  {
   "cell_type": "code",
   "execution_count": 13,
   "id": "96800fd9",
   "metadata": {},
   "outputs": [
    {
     "name": "stdout",
     "output_type": "stream",
     "text": [
      "Enter the limit of Fibonacci sequence: 10\n",
      "0\n",
      "1\n",
      "1\n",
      "2\n",
      "3\n",
      "5\n",
      "8\n",
      "13\n",
      "21\n",
      "34\n"
     ]
    }
   ],
   "source": [
    "n=int(input(\"Enter the limit of Fibonacci sequence: \"))\n",
    "first=0\n",
    "second=1\n",
    "third=0\n",
    "print(first)\n",
    "print(second)\n",
    "for i in range(n-2):#first two numbers already displayed so range is n-2 \n",
    "    third=first+second\n",
    "    first=second\n",
    "    second=third\n",
    "    print(third)\n",
    "    "
   ]
  },
  {
   "cell_type": "markdown",
   "id": "974a0cba",
   "metadata": {},
   "source": [
    "#### 4. Write a Python Program to Check Armstrong Number?"
   ]
  },
  {
   "cell_type": "code",
   "execution_count": 17,
   "id": "3b41ee2b",
   "metadata": {},
   "outputs": [
    {
     "name": "stdout",
     "output_type": "stream",
     "text": [
      "Enter a number: 9474\n",
      "9474 is armstrong number\n"
     ]
    }
   ],
   "source": [
    "n=input(\"Enter a number: \")\n",
    "l=len(n)\n",
    "n=int(n)\n",
    "total=0\n",
    "temp=n\n",
    "while temp>0:\n",
    "    sdigit=temp%10        #taking each digit seperately\n",
    "    total+=sdigit**l\n",
    "    temp//=10\n",
    "if total==n:\n",
    "    print(f\"{n} is armstrong number\")\n",
    "else:\n",
    "    print(f\"{n} is not armstrong number\")"
   ]
  },
  {
   "cell_type": "markdown",
   "id": "05bd3808",
   "metadata": {},
   "source": [
    "### 5. Write a Python Program to Find Armstrong Number in an Interval?"
   ]
  },
  {
   "cell_type": "code",
   "execution_count": 30,
   "id": "d064cd95",
   "metadata": {},
   "outputs": [
    {
     "name": "stdout",
     "output_type": "stream",
     "text": [
      "enter the interval to display armstrong numbers:(from-to) 10 10000\n",
      "the armstron numbers from 10 to 10000 are:\n",
      "153\n",
      "370\n",
      "371\n",
      "407\n",
      "1634\n",
      "8208\n",
      "9474\n"
     ]
    }
   ],
   "source": [
    "start,end=input(\"enter the interval to display armstrong numbers:(from-to) \").split(\" \")\n",
    "start,end=int(start),int(end)\n",
    "def armstrong(n):\n",
    "    l=len(str(n))\n",
    "    total=0\n",
    "    temp=n\n",
    "    while temp>0:\n",
    "        sdigit=temp%10     #taking each digit seperately\n",
    "        total+=sdigit**l\n",
    "        temp//=10\n",
    "    if total==n:\n",
    "        return True\n",
    "    else:\n",
    "        return False\n",
    "print(f\"the armstron numbers from {start} to {end} are:\")\n",
    "for i in range(start,end+1):\n",
    "    if armstrong(i):\n",
    "        print(i)"
   ]
  },
  {
   "cell_type": "markdown",
   "id": "4a4c0770",
   "metadata": {},
   "source": [
    "#### 6. Write a Python Program to Find the Sum of Natural Numbers?"
   ]
  },
  {
   "cell_type": "code",
   "execution_count": 42,
   "id": "c63d8bb2",
   "metadata": {},
   "outputs": [
    {
     "name": "stdout",
     "output_type": "stream",
     "text": [
      "Enter a number: 153\n",
      "the Sum of Natural Numbers untill 153 are: 11781\n"
     ]
    }
   ],
   "source": [
    "n=int(input(\"Enter a number: \"))\n",
    "total=0\n",
    "if n>0:#checking if -ve number is given\n",
    "    for i in range(1,n+1):\n",
    "        total+=i\n",
    "    print(f\"the Sum of Natural Numbers untill {n} are: {total}\")\n",
    "else:\n",
    "    print(f\"{n} is not a natural number\")"
   ]
  },
  {
   "cell_type": "code",
   "execution_count": null,
   "id": "59741c63",
   "metadata": {},
   "outputs": [],
   "source": []
  }
 ],
 "metadata": {
  "kernelspec": {
   "display_name": "Python 3 (ipykernel)",
   "language": "python",
   "name": "python3"
  },
  "language_info": {
   "codemirror_mode": {
    "name": "ipython",
    "version": 3
   },
   "file_extension": ".py",
   "mimetype": "text/x-python",
   "name": "python",
   "nbconvert_exporter": "python",
   "pygments_lexer": "ipython3",
   "version": "3.9.12"
  }
 },
 "nbformat": 4,
 "nbformat_minor": 5
}
