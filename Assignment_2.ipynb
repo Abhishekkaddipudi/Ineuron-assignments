{
 "cells": [
  {
   "cell_type": "markdown",
   "id": "8ff9799c",
   "metadata": {},
   "source": [
    "### 1.What are the two values of the Boolean data type? How do you write them?"
   ]
  },
  {
   "cell_type": "markdown",
   "id": "e8e265d9",
   "metadata": {},
   "source": [
    ">The two Values of the Boolean data type are True and False. \n",
    "\n",
    ">They are written as 'True' and 'False' with first letter capital \n"
   ]
  },
  {
   "cell_type": "markdown",
   "id": "9c531057",
   "metadata": {},
   "source": [
    "<div class=\"alert alert-block alert-info\">\n",
    "<b>Example:</b> val=True,val=False (True and False are reserved keywords in python)\n",
    "</div>"
   ]
  },
  {
   "cell_type": "markdown",
   "id": "04699854",
   "metadata": {},
   "source": [
    "### 2. What are the three different types of Boolean operators? "
   ]
  },
  {
   "cell_type": "markdown",
   "id": "706a9fad",
   "metadata": {},
   "source": [
    ">The three Boolean operators are : - AND , OR , NOT \n",
    "\n",
    ">AND opertaor - returns **True** if and only if both the operand are true , It is represented as **'and'** in python.\n",
    "\n",
    ">OR operator - returns **True** if any of the operand are true , It is represented as **'or'** in python.\n",
    "\n",
    ">NOT operator - returns opposite of operand value ,  It is represented as **'not'** in python."
   ]
  },
  {
   "cell_type": "markdown",
   "id": "cb8d8e42",
   "metadata": {},
   "source": [
    "<div class=\"alert alert-block alert-info\">\n",
    "<b>Example:</b> \n",
    "    In below example<ul> <li><b>not(B)</b> will be <b>True</b> ,</li><li> <b>A</b> and <b>True</b> will be <b>True</b> again , </li> <li><b>B</b> <b>or</b> <b>True</b> will be <b>True</b></li><li> hence <b>C</b> will be <b>True</b></li></ul>\n",
    "    \n",
    "</div>"
   ]
  },
  {
   "cell_type": "code",
   "execution_count": 219,
   "id": "6061ec1b",
   "metadata": {},
   "outputs": [
    {
     "name": "stdout",
     "output_type": "stream",
     "text": [
      "True\n"
     ]
    }
   ],
   "source": [
    "A=True\n",
    "B=False\n",
    "C=(A or (A and not(B)))\n",
    "print(C)"
   ]
  },
  {
   "cell_type": "markdown",
   "id": "ea0f25f4",
   "metadata": {},
   "source": [
    "### 3. Make a list of each Boolean operator&#39;s truth tables (i.e. every possible combination of Boolean values for the operator and what it evaluate )."
   ]
  },
  {
   "cell_type": "code",
   "execution_count": 220,
   "id": "34071b6a",
   "metadata": {
    "scrolled": false
   },
   "outputs": [],
   "source": [
    "import pandas as pd ##using pandas to create Dataframe from dict\n",
    "def truth_table(operation,A={},bool_value=(True,False)):\n",
    "    \n",
    "    \"\"\"Returns all possible combination of operator\n",
    "    \n",
    "    A : A is a dictionary to hold operand and result\n",
    "    bool_value : tuple of boolean values (True,False)\n",
    "    operation : specifies which operation to perform\n",
    "    \n",
    "    \"\"\"\n",
    "    try:\n",
    "        ## And operations\n",
    "        if operation == 'and':\n",
    "            A['Operand 1']=[]\n",
    "            A['Operand 2']=[]\n",
    "            A['Eval']=[]\n",
    "            A['Result']=[]\n",
    "            for i in bool_value:\n",
    "                for j in bool_value:\n",
    "                    A['Operand 1'].append(i)\n",
    "                    A['Operand 2'].append(j)\n",
    "                    A['Eval'].append(f\"{i} {operation} {j}\")\n",
    "                    A[\"Result\"].append(i and j)\n",
    "        ## And operations\n",
    "        elif operation == 'or':\n",
    "            A['Operand 1']=[]\n",
    "            A['Operand 2']=[]\n",
    "            A['Eval']=[]\n",
    "            A['Result']=[]\n",
    "            for i in bool_value:\n",
    "                for j in bool_value:\n",
    "                    A['Operand 1'].append(i)\n",
    "                    A['Operand 2'].append(j)\n",
    "                    A['Eval'].append(f\"{i} {operation} {j}\")\n",
    "                    A[\"Result\"].append(i or j)\n",
    "        ## And operations          \n",
    "        elif operation =='not':\n",
    "            A['Operand 1']=[]\n",
    "            A['Eval']=[]\n",
    "            A['Result']=[]\n",
    "            if \"Operand 2\" in A:\n",
    "                del A[\"Operand 2\"]\n",
    "            for i in bool_value:\n",
    "                A['Operand 1'].append(i)\n",
    "                A['Eval'].append(f\"{operation} {i}\") \n",
    "                A['Result'].append(not i)\n",
    "\n",
    "        df=pd.DataFrame(A)\n",
    "        df=df.style.hide(axis='index')\n",
    "        df=df.set_caption(f\"{operation.upper()} operations\")\n",
    "        #print(A)\n",
    "        display(df)\n",
    "    except KeyError:\n",
    "        print(KeyError,\"please check the above key values\")\n"
   ]
  },
  {
   "cell_type": "code",
   "execution_count": 221,
   "id": "aa72573b",
   "metadata": {},
   "outputs": [
    {
     "data": {
      "text/html": [
       "<style type=\"text/css\">\n",
       "</style>\n",
       "<table id=\"T_889e8\">\n",
       "  <caption>AND operations</caption>\n",
       "  <thead>\n",
       "    <tr>\n",
       "      <th id=\"T_889e8_level0_col0\" class=\"col_heading level0 col0\" >Operand 1</th>\n",
       "      <th id=\"T_889e8_level0_col1\" class=\"col_heading level0 col1\" >Operand 2</th>\n",
       "      <th id=\"T_889e8_level0_col2\" class=\"col_heading level0 col2\" >Eval</th>\n",
       "      <th id=\"T_889e8_level0_col3\" class=\"col_heading level0 col3\" >Result</th>\n",
       "    </tr>\n",
       "  </thead>\n",
       "  <tbody>\n",
       "    <tr>\n",
       "      <td id=\"T_889e8_row0_col0\" class=\"data row0 col0\" >True</td>\n",
       "      <td id=\"T_889e8_row0_col1\" class=\"data row0 col1\" >True</td>\n",
       "      <td id=\"T_889e8_row0_col2\" class=\"data row0 col2\" >True and True</td>\n",
       "      <td id=\"T_889e8_row0_col3\" class=\"data row0 col3\" >True</td>\n",
       "    </tr>\n",
       "    <tr>\n",
       "      <td id=\"T_889e8_row1_col0\" class=\"data row1 col0\" >True</td>\n",
       "      <td id=\"T_889e8_row1_col1\" class=\"data row1 col1\" >False</td>\n",
       "      <td id=\"T_889e8_row1_col2\" class=\"data row1 col2\" >True and False</td>\n",
       "      <td id=\"T_889e8_row1_col3\" class=\"data row1 col3\" >False</td>\n",
       "    </tr>\n",
       "    <tr>\n",
       "      <td id=\"T_889e8_row2_col0\" class=\"data row2 col0\" >False</td>\n",
       "      <td id=\"T_889e8_row2_col1\" class=\"data row2 col1\" >True</td>\n",
       "      <td id=\"T_889e8_row2_col2\" class=\"data row2 col2\" >False and True</td>\n",
       "      <td id=\"T_889e8_row2_col3\" class=\"data row2 col3\" >False</td>\n",
       "    </tr>\n",
       "    <tr>\n",
       "      <td id=\"T_889e8_row3_col0\" class=\"data row3 col0\" >False</td>\n",
       "      <td id=\"T_889e8_row3_col1\" class=\"data row3 col1\" >False</td>\n",
       "      <td id=\"T_889e8_row3_col2\" class=\"data row3 col2\" >False and False</td>\n",
       "      <td id=\"T_889e8_row3_col3\" class=\"data row3 col3\" >False</td>\n",
       "    </tr>\n",
       "  </tbody>\n",
       "</table>\n"
      ],
      "text/plain": [
       "<pandas.io.formats.style.Styler at 0x1a7d13c2fa0>"
      ]
     },
     "metadata": {},
     "output_type": "display_data"
    }
   ],
   "source": [
    "truth_table(operation='and')"
   ]
  },
  {
   "cell_type": "code",
   "execution_count": 222,
   "id": "4d30af01",
   "metadata": {},
   "outputs": [
    {
     "data": {
      "text/html": [
       "<style type=\"text/css\">\n",
       "</style>\n",
       "<table id=\"T_b8ee4\">\n",
       "  <caption>OR operations</caption>\n",
       "  <thead>\n",
       "    <tr>\n",
       "      <th id=\"T_b8ee4_level0_col0\" class=\"col_heading level0 col0\" >Operand 1</th>\n",
       "      <th id=\"T_b8ee4_level0_col1\" class=\"col_heading level0 col1\" >Operand 2</th>\n",
       "      <th id=\"T_b8ee4_level0_col2\" class=\"col_heading level0 col2\" >Eval</th>\n",
       "      <th id=\"T_b8ee4_level0_col3\" class=\"col_heading level0 col3\" >Result</th>\n",
       "    </tr>\n",
       "  </thead>\n",
       "  <tbody>\n",
       "    <tr>\n",
       "      <td id=\"T_b8ee4_row0_col0\" class=\"data row0 col0\" >True</td>\n",
       "      <td id=\"T_b8ee4_row0_col1\" class=\"data row0 col1\" >True</td>\n",
       "      <td id=\"T_b8ee4_row0_col2\" class=\"data row0 col2\" >True or True</td>\n",
       "      <td id=\"T_b8ee4_row0_col3\" class=\"data row0 col3\" >True</td>\n",
       "    </tr>\n",
       "    <tr>\n",
       "      <td id=\"T_b8ee4_row1_col0\" class=\"data row1 col0\" >True</td>\n",
       "      <td id=\"T_b8ee4_row1_col1\" class=\"data row1 col1\" >False</td>\n",
       "      <td id=\"T_b8ee4_row1_col2\" class=\"data row1 col2\" >True or False</td>\n",
       "      <td id=\"T_b8ee4_row1_col3\" class=\"data row1 col3\" >True</td>\n",
       "    </tr>\n",
       "    <tr>\n",
       "      <td id=\"T_b8ee4_row2_col0\" class=\"data row2 col0\" >False</td>\n",
       "      <td id=\"T_b8ee4_row2_col1\" class=\"data row2 col1\" >True</td>\n",
       "      <td id=\"T_b8ee4_row2_col2\" class=\"data row2 col2\" >False or True</td>\n",
       "      <td id=\"T_b8ee4_row2_col3\" class=\"data row2 col3\" >True</td>\n",
       "    </tr>\n",
       "    <tr>\n",
       "      <td id=\"T_b8ee4_row3_col0\" class=\"data row3 col0\" >False</td>\n",
       "      <td id=\"T_b8ee4_row3_col1\" class=\"data row3 col1\" >False</td>\n",
       "      <td id=\"T_b8ee4_row3_col2\" class=\"data row3 col2\" >False or False</td>\n",
       "      <td id=\"T_b8ee4_row3_col3\" class=\"data row3 col3\" >False</td>\n",
       "    </tr>\n",
       "  </tbody>\n",
       "</table>\n"
      ],
      "text/plain": [
       "<pandas.io.formats.style.Styler at 0x1a7d13c2bb0>"
      ]
     },
     "metadata": {},
     "output_type": "display_data"
    }
   ],
   "source": [
    "truth_table(operation='or')"
   ]
  },
  {
   "cell_type": "code",
   "execution_count": 223,
   "id": "c405156e",
   "metadata": {
    "scrolled": true
   },
   "outputs": [
    {
     "data": {
      "text/html": [
       "<style type=\"text/css\">\n",
       "</style>\n",
       "<table id=\"T_67bef\">\n",
       "  <caption>NOT operations</caption>\n",
       "  <thead>\n",
       "    <tr>\n",
       "      <th id=\"T_67bef_level0_col0\" class=\"col_heading level0 col0\" >Operand 1</th>\n",
       "      <th id=\"T_67bef_level0_col1\" class=\"col_heading level0 col1\" >Eval</th>\n",
       "      <th id=\"T_67bef_level0_col2\" class=\"col_heading level0 col2\" >Result</th>\n",
       "    </tr>\n",
       "  </thead>\n",
       "  <tbody>\n",
       "    <tr>\n",
       "      <td id=\"T_67bef_row0_col0\" class=\"data row0 col0\" >True</td>\n",
       "      <td id=\"T_67bef_row0_col1\" class=\"data row0 col1\" >not True</td>\n",
       "      <td id=\"T_67bef_row0_col2\" class=\"data row0 col2\" >False</td>\n",
       "    </tr>\n",
       "    <tr>\n",
       "      <td id=\"T_67bef_row1_col0\" class=\"data row1 col0\" >False</td>\n",
       "      <td id=\"T_67bef_row1_col1\" class=\"data row1 col1\" >not False</td>\n",
       "      <td id=\"T_67bef_row1_col2\" class=\"data row1 col2\" >True</td>\n",
       "    </tr>\n",
       "  </tbody>\n",
       "</table>\n"
      ],
      "text/plain": [
       "<pandas.io.formats.style.Styler at 0x1a7d13c2a30>"
      ]
     },
     "metadata": {},
     "output_type": "display_data"
    }
   ],
   "source": [
    "truth_table(operation='not')"
   ]
  },
  {
   "cell_type": "markdown",
   "id": "1b9e7dc0",
   "metadata": {},
   "source": [
    "<div class=\"alert alert-block alert-success\">\n",
    "    Note: Results is list of each Boolean operator's truth tables\n",
    "    </div>"
   ]
  },
  {
   "cell_type": "markdown",
   "id": "10394b73",
   "metadata": {},
   "source": [
    "### 4. What are the values of the following expressions?\n"
   ]
  },
  {
   "cell_type": "markdown",
   "id": "3cbfe0dc",
   "metadata": {},
   "source": [
    ">(5 > 4) and (3 == 5) = True **and** False = **False**\n",
    "\n",
    ">not (5 > 4) = **not** True =**False**\n",
    "\n",
    ">(5 > 4) or (3 == 5) = True **or** False =**True**\n",
    "\n",
    ">not ((5 > 4) or (3 == 5)) = **not** True **or** False = **False**\n",
    "\n",
    ">(True and True) and (True == False)=True **and** False = **False**\n",
    "\n",
    ">(not False) or (not True)= True **or** False = **True**"
   ]
  },
  {
   "cell_type": "markdown",
   "id": "f00ec2d7",
   "metadata": {},
   "source": [
    "### 5. What are the six comparison operators?"
   ]
  },
  {
   "cell_type": "markdown",
   "id": "d4c24267",
   "metadata": {},
   "source": [
    ">1. Equal to \"==\" - Checks if first value and second value are equal\n",
    "\n",
    ">2. Not equal to \"!=\" - Checks if first value is not equal to second value\n",
    "\n",
    ">3. Greater then or equal to \">=\" - Checks if first value is greater then or equal to second value\n",
    "\n",
    ">4. Lesser then or equal to \"<=\" - Checks if first value is lesser then or equal to second value\n",
    "\n",
    ">5. Less then \"<\" - Checks if first value is less then second value\n",
    "\n",
    ">6. Greater then \">\" - Checks if first value is greater then second value"
   ]
  },
  {
   "cell_type": "markdown",
   "id": "c232ce79",
   "metadata": {},
   "source": [
    "### 6. How do you tell the difference between the equal to and assignment operators? Describe a condition and when you would use one."
   ]
  },
  {
   "cell_type": "markdown",
   "id": "83bcecb4",
   "metadata": {},
   "source": [
    "The difference is that equal to is comparsion operator and **( = )** is assignment operator.\n",
    "\n",
    "In python, Equal to **(==)** operator is used to check if first value is equal to second value whereas assignment operator **(=)** is used to assign value to variable.\n",
    "\n"
   ]
  },
  {
   "cell_type": "markdown",
   "id": "600279f3",
   "metadata": {},
   "source": [
    "<div class=\"alert alert-block alert-info\">\n",
    "    Example:\n",
    "    \n",
    "    x=10 #assignment operator\n",
    "    \n",
    "    y=20 #assignment operator\n",
    "    \n",
    "    if x==y: # Equal to operator\n",
    "        print(\"x is equal to y\")\n",
    "    else:\n",
    "        print(\"x is not equal to y\")\n",
    "</div>"
   ]
  },
  {
   "cell_type": "markdown",
   "id": "69d28638",
   "metadata": {},
   "source": [
    ">> -In the above example assignment operator is used to assign 10 and 20 to variable x and y respectively. and if condition uses equal to operator to check their equality\n",
    "\n",
    ">> -If we need to assign a value to a object we would use assignment operator , if we need to check the equality of two object then we would use equal to operator"
   ]
  },
  {
   "cell_type": "markdown",
   "id": "9dc62d33",
   "metadata": {},
   "source": [
    "### 7. Identify the three blocks in this code:\n",
    "<pre style=\"font-weight: bold;\">   \n",
    "spam = 0\n",
    "\n",
    "if spam == 10:\n",
    "     print('eggs')\n",
    "\n",
    "if spam > 5:\n",
    "    print('bacon')\n",
    "else:\n",
    "    print('ham')\n",
    "    print('spam')\n",
    "    print('spam')\n",
    "\n",
    "</pre>\n",
    "\n"
   ]
  },
  {
   "cell_type": "code",
   "execution_count": 224,
   "id": "00afa764",
   "metadata": {},
   "outputs": [],
   "source": [
    "spam = 0 #first block"
   ]
  },
  {
   "cell_type": "code",
   "execution_count": 225,
   "id": "801eb4ba",
   "metadata": {},
   "outputs": [],
   "source": [
    "if spam == 10: # second block\n",
    "\n",
    "    print('eggs')"
   ]
  },
  {
   "cell_type": "code",
   "execution_count": 226,
   "id": "e5c8a1ab",
   "metadata": {},
   "outputs": [
    {
     "name": "stdout",
     "output_type": "stream",
     "text": [
      "ham\n",
      "spam\n",
      "spam\n"
     ]
    }
   ],
   "source": [
    "if spam > 5: #third block\n",
    "\n",
    "    print('bacon')\n",
    "\n",
    "else:\n",
    "\n",
    "    print('ham')\n",
    "\n",
    "    print('spam')\n",
    "\n",
    "    print('spam')"
   ]
  },
  {
   "cell_type": "markdown",
   "id": "2fd1fd49",
   "metadata": {},
   "source": [
    "### 8. Write code that prints Hello if 1 is stored in spam, prints Howdy if 2 is stored in spam, and prints Greetings! if anything else is stored in spam."
   ]
  },
  {
   "cell_type": "code",
   "execution_count": 227,
   "id": "b05f53f6",
   "metadata": {},
   "outputs": [
    {
     "name": "stdout",
     "output_type": "stream",
     "text": [
      "Greetings!\n"
     ]
    }
   ],
   "source": [
    "if spam==1:\n",
    "    print(\"Hello\")\n",
    "elif spam==2:\n",
    "    print(\"Howdy\")\n",
    "else:\n",
    "    print(\"Greetings!\")"
   ]
  },
  {
   "cell_type": "markdown",
   "id": "a5231a03",
   "metadata": {},
   "source": [
    "### 9. If your programme is stuck in an endless loop, what keys you’ll press?"
   ]
  },
  {
   "cell_type": "markdown",
   "id": "48afe54e",
   "metadata": {},
   "source": [
    "-In command prompt we can use CTRL + c\n",
    "\n",
    "-In jupyter notebook we can stop the **kernel**\n",
    "\n",
    "-sometime we may need to close the interpreter using task manager in windows machine (when program consumes total CPU memory and command prompt is not responding)"
   ]
  },
  {
   "cell_type": "markdown",
   "id": "da8493bd",
   "metadata": {},
   "source": [
    "### 10. How can you tell the difference between break and continue?"
   ]
  },
  {
   "cell_type": "markdown",
   "id": "e1a25ff0",
   "metadata": {},
   "source": [
    ">break\n",
    "\n",
    ">> when break statement is executed it breaks out of the loop further the loop will not be executed.\n"
   ]
  },
  {
   "cell_type": "code",
   "execution_count": 228,
   "id": "1635b95e",
   "metadata": {},
   "outputs": [
    {
     "name": "stdout",
     "output_type": "stream",
     "text": [
      "0 1 2 3 4 5 "
     ]
    }
   ],
   "source": [
    "#break example if i is greater then 5 loop will stop\n",
    "for i in range(10):\n",
    "    if i >5:\n",
    "        break\n",
    "    print(i,end=\" \")"
   ]
  },
  {
   "cell_type": "markdown",
   "id": "b303a6be",
   "metadata": {},
   "source": [
    ">continue\n",
    "\n",
    ">> when continue is executed it skips remaining statements for just one iteration further the loop will be executed as specified."
   ]
  },
  {
   "cell_type": "code",
   "execution_count": 229,
   "id": "7d71989e",
   "metadata": {},
   "outputs": [
    {
     "name": "stdout",
     "output_type": "stream",
     "text": [
      "0 1 2 4 5 "
     ]
    }
   ],
   "source": [
    "#continue example 3 is skipped \n",
    "for i in range(10):\n",
    "    if i==3:\n",
    "        continue\n",
    "    elif i>5:\n",
    "        break\n",
    "    print(i,end=\" \")"
   ]
  },
  {
   "cell_type": "markdown",
   "id": "97f65831",
   "metadata": {},
   "source": [
    "### 11. In a for loop, what is the difference between range(10), range(0, 10), and range(0, 10, 1)?"
   ]
  },
  {
   "cell_type": "markdown",
   "id": "51adc6b8",
   "metadata": {},
   "source": [
    "In python , \"range\" function is used to generate sequence of numbers.\n",
    "\n",
    "-***range(start,stop,step)*** : start indicates from where to start , stop indicates where to stop and step indicate jumps to take\n",
    "\n",
    "-***range(10)*** : here default value of start is 0 and stop is 10 and default value of step if 1 hence we will generate consecutive numbers for 0 to 9\n",
    "\n",
    "-***range(0,10)*** : the value of start is assigned as 0 and stop is 10 it will also generate consecutive numbers for 0 to 9\n",
    "\n",
    "-***range(0,10,1)***: the value of start is assigned as 0 , stop is 10 and step is 1 it will also generate consecutive numbers for 0 to 9\n",
    "\n",
    "-The main difference is that in ***range(0,10)*** and ***range(0,10,1)***, the user is explicitly assigning start or step value other then defaulted value but all three function produce the same result"
   ]
  },
  {
   "cell_type": "markdown",
   "id": "11b0331d",
   "metadata": {},
   "source": [
    "### 12. Write a short program that prints the numbers 1 to 10 using a for loop. Then write an equivalent program that prints the numbers 1 to 10 using a while loop."
   ]
  },
  {
   "cell_type": "code",
   "execution_count": 230,
   "id": "203e191f",
   "metadata": {},
   "outputs": [
    {
     "name": "stdout",
     "output_type": "stream",
     "text": [
      "the for loop\n",
      "1 2 3 4 5 6 7 8 9 10 \n",
      "the while loop\n",
      "1 2 3 4 5 6 7 8 9 10 "
     ]
    }
   ],
   "source": [
    "print(\"the for loop\")\n",
    "for i in range(1,11):\n",
    "    print(i,end=\" \")\n",
    "    \n",
    "print(\"\\nthe while loop\")\n",
    "i=1\n",
    "while i<11:\n",
    "    print(i,end=\" \")\n",
    "    i+=1"
   ]
  },
  {
   "cell_type": "markdown",
   "id": "241d0a40",
   "metadata": {},
   "source": [
    "## 13. If you had a function named bacon() inside a module named spam, how would you call it after importing spam?"
   ]
  },
  {
   "cell_type": "code",
   "execution_count": 231,
   "id": "ed877e5f",
   "metadata": {},
   "outputs": [],
   "source": [
    "f=open(\"spam.py\",\"w\")\n",
    "f.write(\"\"\"\n",
    "def bacon():\n",
    "    return \"i am a bacon\" \n",
    "        \"\"\")\n",
    "f.close()\n"
   ]
  },
  {
   "cell_type": "code",
   "execution_count": 232,
   "id": "368796d9",
   "metadata": {},
   "outputs": [
    {
     "name": "stdout",
     "output_type": "stream",
     "text": [
      " Volume in drive C has no label.\n",
      " Volume Serial Number is F0A5-60CD\n",
      "\n",
      " Directory of C:\\Users\\hp\\Desktop\\iNeuron\n",
      "\n",
      "26-02-2023  14:39                52 spam.py\n",
      "               1 File(s)             52 bytes\n",
      "               0 Dir(s)  30,218,997,760 bytes free\n"
     ]
    }
   ],
   "source": [
    "!dir spam.py\n"
   ]
  },
  {
   "cell_type": "code",
   "execution_count": 233,
   "id": "a966019a",
   "metadata": {},
   "outputs": [
    {
     "name": "stdout",
     "output_type": "stream",
     "text": [
      "i am a bacon\n"
     ]
    }
   ],
   "source": [
    "import spam\n",
    "#import spam and call function using \".\" operator \n",
    "spam.bacon()"
   ]
  }
 ],
 "metadata": {
  "kernelspec": {
   "display_name": "Python 3 (ipykernel)",
   "language": "python",
   "name": "python3"
  },
  "language_info": {
   "codemirror_mode": {
    "name": "ipython",
    "version": 3
   },
   "file_extension": ".py",
   "mimetype": "text/x-python",
   "name": "python",
   "nbconvert_exporter": "python",
   "pygments_lexer": "ipython3",
   "version": "3.9.12"
  }
 },
 "nbformat": 4,
 "nbformat_minor": 5
}
