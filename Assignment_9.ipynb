{
 "cells": [
  {
   "cell_type": "markdown",
   "id": "6bc209c9",
   "metadata": {},
   "source": [
    "<h2>1. To what does a relative path refer?</h2>"
   ]
  },
  {
   "cell_type": "markdown",
   "id": "faa2e55d",
   "metadata": {},
   "source": [
    "> - Relative paths refer to the current working directory."
   ]
  },
  {
   "cell_type": "markdown",
   "id": "df7979d7",
   "metadata": {},
   "source": [
    "<h2>2. What does an absolute path start with your operating system?</h2>"
   ]
  },
  {
   "cell_type": "markdown",
   "id": "19b96ed8",
   "metadata": {},
   "source": [
    "> - Absolute paths start with the root folder, in unix or mac-os (/) and \n",
    "> in Windows, the root directory is typically denoted by the drive letter, followed by a colon and a backslash (C:\\\\)"
   ]
  },
  {
   "cell_type": "code",
   "execution_count": 13,
   "id": "7d4b7924",
   "metadata": {},
   "outputs": [
    {
     "name": "stdout",
     "output_type": "stream",
     "text": [
      " Volume in drive C has no label.\n",
      " Volume Serial Number is F0A5-60CD\n",
      "\n",
      " Directory of C:\\Users\\hp\\Desktop\\iNeuron\n",
      "\n",
      "24-04-2023  09:14    <DIR>          .\n",
      "24-04-2023  09:14    <DIR>          ..\n",
      "24-04-2023  08:39    <DIR>          .ipynb_checkpoints\n",
      "13-12-2022  15:48    <DIR>          Ineuron class assignment\n",
      "24-04-2023  10:20    <DIR>          Ineuron-assignments\n",
      "08-03-2023  21:24    <DIR>          Resourse\n",
      "26-02-2023  14:29    <DIR>          __pycache__\n",
      "               0 File(s)              0 bytes\n",
      "               7 Dir(s)  17,764,880,384 bytes free\n"
     ]
    }
   ],
   "source": [
    "!dir C:\\Users\\hp\\Desktop\\iNeuron\\"
   ]
  },
  {
   "cell_type": "markdown",
   "id": "3665730f",
   "metadata": {},
   "source": [
    "<h2>3. What do the functions os.getcwd() and os.chdir() do?</h2>"
   ]
  },
  {
   "cell_type": "markdown",
   "id": "75089fb0",
   "metadata": {},
   "source": [
    "- os.getcwd() returns the current working directory as a string. The working directory is the directory in which the Python script is currently running."
   ]
  },
  {
   "cell_type": "code",
   "execution_count": 5,
   "id": "b8a84e28",
   "metadata": {},
   "outputs": [
    {
     "name": "stdout",
     "output_type": "stream",
     "text": [
      "C:\\Users\\hp\\Desktop\\iNeuron\\Ineuron-assignments\n"
     ]
    }
   ],
   "source": [
    "import os\n",
    "\n",
    "current_directory = os.getcwd()\n",
    "print(current_directory)"
   ]
  },
  {
   "cell_type": "markdown",
   "id": "c9e8e2ee",
   "metadata": {},
   "source": [
    "- os.chdir() changes the current working directory to the directory specified as its argument."
   ]
  },
  {
   "cell_type": "code",
   "execution_count": 8,
   "id": "807827b2",
   "metadata": {},
   "outputs": [
    {
     "name": "stdout",
     "output_type": "stream",
     "text": [
      "C:\\Users\\hp\\Downloads\n"
     ]
    }
   ],
   "source": [
    "os.chdir('C:\\\\Users\\\\hp\\\\Downloads')\n",
    "current_directory = os.getcwd()\n",
    "print(current_directory)"
   ]
  },
  {
   "cell_type": "markdown",
   "id": "0129fe11",
   "metadata": {},
   "source": [
    "<h2>4. What are the . and .. folders?</h2>"
   ]
  },
  {
   "cell_type": "markdown",
   "id": "548a28f0",
   "metadata": {},
   "source": [
    "- the . and .. folders are special directory names used to refer to the current directory and the parent directory, respectively."
   ]
  },
  {
   "cell_type": "markdown",
   "id": "b60d3145",
   "metadata": {},
   "source": [
    "- The '.' directory is a reference to the current directory."
   ]
  },
  {
   "cell_type": "markdown",
   "id": "75fde256",
   "metadata": {},
   "source": [
    "- The '..' directory is a reference to the parent directory of the current directory. "
   ]
  },
  {
   "cell_type": "code",
   "execution_count": null,
   "id": "d8234601",
   "metadata": {},
   "outputs": [],
   "source": [
    "f=open(\"./Assignment.py\")#current directory\n",
    "f=open(\"../Assignment.py\")#parent directory"
   ]
  },
  {
   "cell_type": "markdown",
   "id": "59edbc8d",
   "metadata": {},
   "source": [
    "<h2>5. In C:\\bacon\\eggs\\spam.txt, which part is the dir name, and which part is the base name?</h2>"
   ]
  },
  {
   "cell_type": "markdown",
   "id": "e5688294",
   "metadata": {},
   "source": [
    "> - In the file path C:\\bacon\\eggs\\spam.txt, the directory name is C:\\bacon\\eggs and the base name is spam.txt."
   ]
  },
  {
   "cell_type": "markdown",
   "id": "0a38cfab",
   "metadata": {},
   "source": [
    "<h2>6. What are the three “mode” arguments that can be passed to the open() function?</h2>"
   ]
  },
  {
   "cell_type": "markdown",
   "id": "e1aa9c5f",
   "metadata": {},
   "source": [
    "- r (read mode): This mode is used when we want to read data from a file. It is the default mode if no mode is specified. "
   ]
  },
  {
   "cell_type": "markdown",
   "id": "896810d8",
   "metadata": {},
   "source": [
    "- w (write mode): This mode is used when we want to write data to a file."
   ]
  },
  {
   "cell_type": "markdown",
   "id": "dbfe01ed",
   "metadata": {},
   "source": [
    "- a (append mode): This mode is used when we want to add data to an existing file."
   ]
  },
  {
   "cell_type": "code",
   "execution_count": null,
   "id": "ed5cc8d5",
   "metadata": {},
   "outputs": [],
   "source": [
    "f=open(\"temp.txt\",\"r\")#read\n",
    "f=open(\"temp.txt\",\"w\")#write\n",
    "f=open(\"temp.txt\",\"a\")#append"
   ]
  },
  {
   "cell_type": "markdown",
   "id": "cc6d2046",
   "metadata": {},
   "source": [
    "<h2>7. What happens if an existing file is opened in write mode?</h2>"
   ]
  },
  {
   "cell_type": "markdown",
   "id": "e3abe7f5",
   "metadata": {},
   "source": [
    "-  If an existing file is opened in write mode ('w'), the contents of the file will be truncated, and any previous data in the file will be lost. "
   ]
  },
  {
   "cell_type": "markdown",
   "id": "975413dd",
   "metadata": {},
   "source": [
    "- The file pointer will be placed at the beginning of the file, and any data written to the file will overwrite the existing content."
   ]
  },
  {
   "cell_type": "code",
   "execution_count": null,
   "id": "d265abf2",
   "metadata": {},
   "outputs": [],
   "source": [
    "f=open(\"temp.txt\",\"r\")\n",
    "f=open(\"temp.txt\",\"w\")# contents truncated"
   ]
  },
  {
   "cell_type": "markdown",
   "id": "0bb88406",
   "metadata": {},
   "source": [
    "<h2>8. How do you tell the difference between read() and readlines()?</h2>"
   ]
  },
  {
   "cell_type": "markdown",
   "id": "23ef2633",
   "metadata": {},
   "source": [
    "> - read(): This method reads the entire content of the file as a single string, including any newline characters. It returns a string object that contains the data read from the file.  "
   ]
  },
  {
   "cell_type": "code",
   "execution_count": 18,
   "id": "75b935c3",
   "metadata": {},
   "outputs": [
    {
     "name": "stdout",
     "output_type": "stream",
     "text": [
      "5 2\n",
      "1 5 3 4 2\n"
     ]
    }
   ],
   "source": [
    "with open('C:\\\\Users\\\\hp\\\\Desktop\\\\test\\\\input.txt', 'r',encoding=\"utf-8\") as f:\n",
    "    content = f.read()\n",
    "    print(content)"
   ]
  },
  {
   "cell_type": "markdown",
   "id": "3826f79f",
   "metadata": {},
   "source": [
    "> - readlines(): This method reads the entire content of the file and returns a list of strings, where each string represents a line of text from the file. The newline characters are included in each line of text."
   ]
  },
  {
   "cell_type": "code",
   "execution_count": 17,
   "id": "99107746",
   "metadata": {},
   "outputs": [
    {
     "name": "stdout",
     "output_type": "stream",
     "text": [
      "['5 2\\n', '1 5 3 4 2']\n"
     ]
    }
   ],
   "source": [
    "with open('C:\\\\Users\\\\hp\\\\Desktop\\\\test\\\\input.txt', 'r',encoding=\"utf-8\") as f:\n",
    "    content = f.readlines()\n",
    "    print(content)"
   ]
  },
  {
   "cell_type": "markdown",
   "id": "a6e050d3",
   "metadata": {},
   "source": [
    "<h2>9. What data structure does a shelf value resemble?</h2>"
   ]
  },
  {
   "cell_type": "markdown",
   "id": "2500cd73",
   "metadata": {},
   "source": [
    "> - A shelf object acts like a dictionary and has methods like keys(), values(), and items() to access its contents. It also supports the same operations as a dictionary, such as accessing, adding, and deleting key-value pairs."
   ]
  },
  {
   "cell_type": "markdown",
   "id": "dc41af62",
   "metadata": {},
   "source": [
    "> - However, unlike a dictionary, a shelf object is stored on disk, and its contents are persistent. When a shelf is closed, its contents are written to disk and can be retrieved later by reopening the shelf file."
   ]
  },
  {
   "cell_type": "code",
   "execution_count": 20,
   "id": "9d9ceb22",
   "metadata": {},
   "outputs": [
    {
     "name": "stdout",
     "output_type": "stream",
     "text": [
      "Alice\n",
      "30\n",
      "New York\n",
      "ItemsView(<shelve.DbfilenameShelf object at 0x000001BD259C8100>)\n"
     ]
    }
   ],
   "source": [
    "import shelve\n",
    "shelf = shelve.open('my_shelf')\n",
    "shelf['name'] = 'Alice'\n",
    "shelf['age'] = 30\n",
    "shelf['city'] = 'New York'\n",
    "print(shelf['name'])  \n",
    "print(shelf['age']) \n",
    "print(shelf['city'])\n",
    "print(shelf.items())  \n",
    "shelf.close()"
   ]
  }
 ],
 "metadata": {
  "kernelspec": {
   "display_name": "Python 3 (ipykernel)",
   "language": "python",
   "name": "python3"
  },
  "language_info": {
   "codemirror_mode": {
    "name": "ipython",
    "version": 3
   },
   "file_extension": ".py",
   "mimetype": "text/x-python",
   "name": "python",
   "nbconvert_exporter": "python",
   "pygments_lexer": "ipython3",
   "version": "3.9.12"
  }
 },
 "nbformat": 4,
 "nbformat_minor": 5
}
