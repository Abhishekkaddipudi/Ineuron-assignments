{
 "cells": [
  {
   "cell_type": "markdown",
   "id": "13d8ad44",
   "metadata": {},
   "source": [
    "<h2>Question1. Create a function that takes three arguments a, b, c and returns the sum of the numbers that are evenly divided by c from the range a, b inclusive.</h2>\n",
    "<h2>Examples</h2>\n",
    "<h2>evenly_divisible(1, 10, 20) ➞ 0</h2>\n",
    "<h2># No number between 1 and 10 can be evenly divided by 20.</h2>\n",
    "<h2>evenly_divisible(1, 10, 2) ➞ 30</h2>\n",
    "<h2># 2 + 4 + 6 + 8 + 10 = 30</h2>\n",
    "<h2></h2>\n",
    "<h2>evenly_divisible(1, 10, 3) ➞ 18</h2>\n",
    "<h2># 3 + 6 + 9 = 18</h2>"
   ]
  },
  {
   "cell_type": "code",
   "execution_count": 49,
   "id": "935402ca",
   "metadata": {},
   "outputs": [],
   "source": [
    "def evenly_divisible(a:int, b:int, c:int)->int:\n",
    "    total = 0\n",
    "    for i in range(a, b+1):\n",
    "        if i % c == 0:\n",
    "            total += i\n",
    "    return total"
   ]
  },
  {
   "cell_type": "code",
   "execution_count": 50,
   "id": "b119dd1f",
   "metadata": {},
   "outputs": [
    {
     "data": {
      "text/plain": [
       "0"
      ]
     },
     "execution_count": 50,
     "metadata": {},
     "output_type": "execute_result"
    }
   ],
   "source": [
    "evenly_divisible(1,10,20)"
   ]
  },
  {
   "cell_type": "code",
   "execution_count": 51,
   "id": "8d640c3e",
   "metadata": {},
   "outputs": [
    {
     "data": {
      "text/plain": [
       "30"
      ]
     },
     "execution_count": 51,
     "metadata": {},
     "output_type": "execute_result"
    }
   ],
   "source": [
    "evenly_divisible(1,10,2)"
   ]
  },
  {
   "cell_type": "code",
   "execution_count": 52,
   "id": "72be2997",
   "metadata": {},
   "outputs": [
    {
     "data": {
      "text/plain": [
       "18"
      ]
     },
     "execution_count": 52,
     "metadata": {},
     "output_type": "execute_result"
    }
   ],
   "source": [
    "evenly_divisible(1,10,3)"
   ]
  },
  {
   "cell_type": "markdown",
   "id": "6b65f66d",
   "metadata": {},
   "source": [
    "<h2>Question2. Create a function that returns True if a given inequality expression is correct and False otherwise.</h2>\n",
    "<h2>Examples</h2>\n",
    "<h2>correct_signs(\"3 < 7 < 11\") ➞ True</h2>\n",
    "<h2>correct_signs(\"13 > 44 > 33 > 1\") ➞ False</h2>\n",
    "<h2>correct_signs(\"1 < 2 < 6 < 9 > 3\") ➞ True</h2>"
   ]
  },
  {
   "cell_type": "code",
   "execution_count": 53,
   "id": "12f0798b",
   "metadata": {},
   "outputs": [],
   "source": [
    "def correct_signs(exp:str)-> bool:\n",
    "#Python’s eval() allows you to evaluate arbitrary Python expressions from a string-based or compiled-code-based input.\n",
    "    return eval(exp)\n",
    "    "
   ]
  },
  {
   "cell_type": "code",
   "execution_count": 54,
   "id": "135d09c7",
   "metadata": {},
   "outputs": [
    {
     "data": {
      "text/plain": [
       "True"
      ]
     },
     "execution_count": 54,
     "metadata": {},
     "output_type": "execute_result"
    }
   ],
   "source": [
    "correct_signs(\"3 < 7 < 11\")"
   ]
  },
  {
   "cell_type": "code",
   "execution_count": 55,
   "id": "00785240",
   "metadata": {},
   "outputs": [
    {
     "data": {
      "text/plain": [
       "False"
      ]
     },
     "execution_count": 55,
     "metadata": {},
     "output_type": "execute_result"
    }
   ],
   "source": [
    "correct_signs(\"13 > 44 > 33 > 1\") "
   ]
  },
  {
   "cell_type": "code",
   "execution_count": 56,
   "id": "eacc5832",
   "metadata": {},
   "outputs": [
    {
     "data": {
      "text/plain": [
       "True"
      ]
     },
     "execution_count": 56,
     "metadata": {},
     "output_type": "execute_result"
    }
   ],
   "source": [
    "correct_signs(\"1 < 2 < 6 < 9 > 3\")"
   ]
  },
  {
   "cell_type": "markdown",
   "id": "a7d69c47",
   "metadata": {},
   "source": [
    "<h2>Question3. Create a function that replaces all the vowels in a string with a specified character.</h2>\n",
    "<h2>Examples</h2>\n",
    "<h2>replace_vowels(\"the aardvark\", \"#\") ➞ \"th# ##rdv#rk\"</h2>\n",
    "<h2>replace_vowels(\"minnie mouse\", \"?\") ➞ \"m?nn?? m??s?\"</h2>\n",
    "<h2>replace_vowels(\"shakespeare\", \"*\") ➞ \"sh*k*sp**r*\"</h2>"
   ]
  },
  {
   "cell_type": "code",
   "execution_count": 57,
   "id": "bb6ce249",
   "metadata": {},
   "outputs": [],
   "source": [
    "def replace_vowels(string:str,character:str)->str:\n",
    "    string=string.lower()\n",
    "    #replace each vowels in string\n",
    "    for i in \"aeiou\":\n",
    "        string=string.replace(i,character)\n",
    "    return string"
   ]
  },
  {
   "cell_type": "code",
   "execution_count": 58,
   "id": "37309732",
   "metadata": {},
   "outputs": [
    {
     "data": {
      "text/plain": [
       "'th# ##rdv#rk'"
      ]
     },
     "execution_count": 58,
     "metadata": {},
     "output_type": "execute_result"
    }
   ],
   "source": [
    "replace_vowels(\"the aardvark\", \"#\")"
   ]
  },
  {
   "cell_type": "code",
   "execution_count": 59,
   "id": "76257070",
   "metadata": {},
   "outputs": [
    {
     "data": {
      "text/plain": [
       "'m?nn?? m??s?'"
      ]
     },
     "execution_count": 59,
     "metadata": {},
     "output_type": "execute_result"
    }
   ],
   "source": [
    "replace_vowels(\"minnie mouse\", \"?\") "
   ]
  },
  {
   "cell_type": "code",
   "execution_count": 60,
   "id": "488b045e",
   "metadata": {},
   "outputs": [
    {
     "data": {
      "text/plain": [
       "'sh*k*sp**r*'"
      ]
     },
     "execution_count": 60,
     "metadata": {},
     "output_type": "execute_result"
    }
   ],
   "source": [
    "replace_vowels(\"shakespeare\", \"*\")"
   ]
  },
  {
   "cell_type": "markdown",
   "id": "29fd18c3",
   "metadata": {},
   "source": [
    "<h2>Question4. Write a function that calculates the factorial of a number recursively.</h2>\n",
    "<h2>Examples</h2>\n",
    "<h2>factorial(5) ➞ 120</h2>\n",
    "<h2>factorial(3) ➞ 6</h2>\n",
    "<h2>factorial(1) ➞ 1</h2>\n",
    "<h2>factorial(0) ➞ 1</h2>"
   ]
  },
  {
   "cell_type": "code",
   "execution_count": 3,
   "id": "3aa4e4dc",
   "metadata": {},
   "outputs": [],
   "source": [
    "def factorial(n: int)-> int:\n",
    "    \n",
    "    if n==0 or n==1:\n",
    "        return 1\n",
    "    else:\n",
    "        return n*factorial(n-1)\n",
    "    "
   ]
  },
  {
   "cell_type": "code",
   "execution_count": 6,
   "id": "177c3dc3",
   "metadata": {},
   "outputs": [
    {
     "data": {
      "text/plain": [
       "120"
      ]
     },
     "execution_count": 6,
     "metadata": {},
     "output_type": "execute_result"
    }
   ],
   "source": [
    "factorial(5)"
   ]
  },
  {
   "cell_type": "code",
   "execution_count": 7,
   "id": "573f8501",
   "metadata": {},
   "outputs": [
    {
     "data": {
      "text/plain": [
       "6"
      ]
     },
     "execution_count": 7,
     "metadata": {},
     "output_type": "execute_result"
    }
   ],
   "source": [
    "factorial(3)"
   ]
  },
  {
   "cell_type": "code",
   "execution_count": 8,
   "id": "f4a7bebc",
   "metadata": {},
   "outputs": [
    {
     "data": {
      "text/plain": [
       "1"
      ]
     },
     "execution_count": 8,
     "metadata": {},
     "output_type": "execute_result"
    }
   ],
   "source": [
    "factorial(1)"
   ]
  },
  {
   "cell_type": "code",
   "execution_count": 9,
   "id": "e727030d",
   "metadata": {},
   "outputs": [
    {
     "data": {
      "text/plain": [
       "1"
      ]
     },
     "execution_count": 9,
     "metadata": {},
     "output_type": "execute_result"
    }
   ],
   "source": [
    "factorial(0)"
   ]
  },
  {
   "cell_type": "markdown",
   "id": "ce846a8b",
   "metadata": {},
   "source": [
    "<h2>Question 5</h2>\n",
    "<h2>Hamming distance is the number of characters that differ between two strings.</h2>\n",
    "<h2>To illustrate:</h2>\n",
    "<h2>String1: \"abcbba\"</h2>\n",
    "<h2>String2: \"abcbda\"</h2>\n",
    "<h2>Hamming Distance: 1 - \"b\" vs. \"d\" is the only difference.</h2>\n",
    "<h2>Create a function that computes the hamming distance between two strings.</h2>\n",
    "<h2>Examples</h2>\n",
    "<h2>hamming_distance(\"abcde\", \"bcdef\") ➞ 5</h2>\n",
    "<h2>hamming_distance(\"abcde\", \"abcde\") ➞ 0</h2>\n",
    "<h2>hamming_distance(\"strong\", \"strung\") ➞ 1</h2>"
   ]
  },
  {
   "cell_type": "code",
   "execution_count": 18,
   "id": "d418ebf8",
   "metadata": {},
   "outputs": [],
   "source": [
    "def hamming_distance(string1:str,string2:str)-> int:\n",
    "    \n",
    "    count=0\n",
    "    #zips both string return tuple of each corresponding character to i,j\n",
    "    for i,j in zip(string1,string2):\n",
    "        if i!=j:\n",
    "            count+=1\n",
    "    return count\n",
    "        "
   ]
  },
  {
   "cell_type": "code",
   "execution_count": 19,
   "id": "06291d13",
   "metadata": {},
   "outputs": [
    {
     "data": {
      "text/plain": [
       "5"
      ]
     },
     "execution_count": 19,
     "metadata": {},
     "output_type": "execute_result"
    }
   ],
   "source": [
    "hamming_distance(\"abcde\", \"bcdef\")"
   ]
  },
  {
   "cell_type": "code",
   "execution_count": 20,
   "id": "a01f1797",
   "metadata": {},
   "outputs": [
    {
     "data": {
      "text/plain": [
       "0"
      ]
     },
     "execution_count": 20,
     "metadata": {},
     "output_type": "execute_result"
    }
   ],
   "source": [
    "hamming_distance(\"abcde\", \"abcde\")"
   ]
  },
  {
   "cell_type": "code",
   "execution_count": 21,
   "id": "7dda61c9",
   "metadata": {},
   "outputs": [
    {
     "data": {
      "text/plain": [
       "1"
      ]
     },
     "execution_count": 21,
     "metadata": {},
     "output_type": "execute_result"
    }
   ],
   "source": [
    "hamming_distance(\"strong\", \"strung\")"
   ]
  }
 ],
 "metadata": {
  "kernelspec": {
   "display_name": "Python 3 (ipykernel)",
   "language": "python",
   "name": "python3"
  },
  "language_info": {
   "codemirror_mode": {
    "name": "ipython",
    "version": 3
   },
   "file_extension": ".py",
   "mimetype": "text/x-python",
   "name": "python",
   "nbconvert_exporter": "python",
   "pygments_lexer": "ipython3",
   "version": "3.9.12"
  }
 },
 "nbformat": 4,
 "nbformat_minor": 5
}
