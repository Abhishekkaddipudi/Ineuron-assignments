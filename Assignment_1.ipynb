{
 "cells": [
  {
   "cell_type": "markdown",
   "id": "89335663",
   "metadata": {},
   "source": [
    "#### 1. In the below elements which of them are values or an expression? eg:- values can be integer or string and expressions will be mathematical operators.\n",
    "  \n",
    " \n",
    "     * is a operator\n",
    "     'hello' is value\n",
    "     -87.8 is value\n",
    "     - is a operator\n",
    "     / is a operator\n",
    "     + is a operator\n",
    "     6 is a value\n",
    "     \n",
    "     \n",
    "    \n"
   ]
  },
  {
   "cell_type": "markdown",
   "id": "7ba11026",
   "metadata": {},
   "source": [
    "#### 2. What is the difference between string and variable?\n",
    "\n",
    "    String - String is datatype for seqeunce of characters.\n",
    "\n",
    "    Variable - Variables are references created to refer other values in a program.\n",
    "\n",
    "    String - Strings cannot be used for calculations\n",
    "\n",
    "    Variable - Variable of type 'int' or 'float' can be used for calculations \n",
    "\n",
    "    For example - Text=\"Hello\" \n",
    "\n",
    "    In the above example 'Text' is a variable of type string , and 'Hello' is String value."
   ]
  },
  {
   "cell_type": "markdown",
   "id": "a9cb8009",
   "metadata": {},
   "source": [
    "#### 3. Describe three different data types.\n",
    "    Data types are categorization of data items.It tells what kind of operations can be performed on that data. since everything is object in python, Data types are classes,and variables are instances of these classes.\n",
    "    \n",
    "    For Example-\n",
    "        \n",
    "        'Integer' - the integer data type holds only integer value. It represents integer class, \n",
    "        \n",
    "        'Float' - This value is represented by float class.It is a real number with floating point \n",
    "         representation. It is specified by a decimal point. \n",
    "        \n",
    "        'String' -  A string is a collection of one or more characters put in a single quote,         \n",
    "         double-quote or triple quote.In python there is no character data type, a character is a \n",
    "         string of length one. It is represented by str class.\n",
    "        "
   ]
  },
  {
   "cell_type": "markdown",
   "id": "8a7c5c93",
   "metadata": {},
   "source": [
    "#### 4. What is an expression made up of? What do all expressions do?\n",
    "\n",
    "An expression is a combination of operators and operands that is interpreted to produce some other value. The expression in Python produces some value or result after being interpreted by the Python interpreter.\n"
   ]
  },
  {
   "cell_type": "markdown",
   "id": "9029a70e",
   "metadata": {},
   "source": [
    "#### 5. This assignment statements, like spam = 10. What is the difference between and expression and a statement?\n",
    "\n",
    "    \n",
    "\n",
    "Expressions only contain identifiers, literals and operators, where operators include arithmetic and boolean operators and similar, and can be evaluated to a value.\n",
    "\n",
    "Statements on the other hand, are everything that can make up a line (or several lines) of Python code."
   ]
  },
  {
   "cell_type": "code",
   "execution_count": 4,
   "id": "a42857a7",
   "metadata": {},
   "outputs": [
    {
     "name": "stdout",
     "output_type": "stream",
     "text": [
      "200\n"
     ]
    }
   ],
   "source": [
    "spam=10\n",
    "spam=spam*10+(spam**2)  #this line is expression\n",
    "print(spam)             # whereas All the lines are statements"
   ]
  },
  {
   "cell_type": "markdown",
   "id": "bb0898e4",
   "metadata": {},
   "source": [
    "#### 6. After running the following code, what does the variable bacon contain?\n",
    "bacon = 22\n",
    "bacon + 1\n",
    "\n",
    "Variable bacon contain value 22 , the variable bacon in the second line doesn't change the original value of bacon"
   ]
  },
  {
   "cell_type": "markdown",
   "id": "ebd59b5d",
   "metadata": {},
   "source": [
    "#### 7. What should the values of the following two terms be?\n",
    "'spam' + 'spamspam' = 'spamspamspam'||\n",
    "'spam'*3 = 'spamspamspam'\n",
    "\n"
   ]
  },
  {
   "cell_type": "markdown",
   "id": "dd18e33b",
   "metadata": {},
   "source": [
    "#### 8. Why is eggs a valid variable name while 100 is invalid?\n",
    "\n",
    "Rules for Python variables:\n",
    "\n",
    "   * A variable name must start with a letter or the underscore character\n",
    "   * A variable name cannot start with a number\n",
    "   * A variable name can only contain alpha-numeric characters and underscores (A-z, 0-9, and _ )\n",
    "   * Variable names are case-sensitive (eggs, Eggs and EGGS are three different variables)\n",
    "    \n",
    "therefore eggs is valid variable name and 100 is invalid"
   ]
  },
  {
   "cell_type": "markdown",
   "id": "c0d2dee2",
   "metadata": {},
   "source": [
    "#### 9. What three functions can be used to get the integer, floating-point number, or string version of a value?\n",
    " Functions- \n",
    "   * int()\n",
    "   * float()\n",
    "   * str()"
   ]
  },
  {
   "cell_type": "code",
   "execution_count": 10,
   "id": "58f3efa6",
   "metadata": {},
   "outputs": [
    {
     "name": "stdout",
     "output_type": "stream",
     "text": [
      "<class 'int'> 78\n",
      "<class 'float'> 7.8\n",
      "<class 'str'> 90\n"
     ]
    }
   ],
   "source": [
    "#example\n",
    "var=\"78\"\n",
    "var2='7.8'\n",
    "var3=90\n",
    "print(type(int(var)),int(var))\n",
    "print(type(float(var2)),float(var2))\n",
    "print(type(str(var3)),str(var3))"
   ]
  },
  {
   "cell_type": "markdown",
   "id": "305c2611",
   "metadata": {},
   "source": [
    "#### 10. Why does this expression cause an error? How can you fix it?\n",
    "'I have eaten' + 99 + 'burritos'\n",
    "\n",
    "\n",
    "The above expression causes error because string cannot be added to integer type.\n",
    "\n",
    "We can fix it by changing type of 99 to string type"
   ]
  },
  {
   "cell_type": "code",
   "execution_count": 14,
   "id": "9f33a924",
   "metadata": {},
   "outputs": [
    {
     "ename": "TypeError",
     "evalue": "can only concatenate str (not \"int\") to str",
     "output_type": "error",
     "traceback": [
      "\u001b[1;31m---------------------------------------------------------------------------\u001b[0m",
      "\u001b[1;31mTypeError\u001b[0m                                 Traceback (most recent call last)",
      "Input \u001b[1;32mIn [14]\u001b[0m, in \u001b[0;36m<cell line: 1>\u001b[1;34m()\u001b[0m\n\u001b[1;32m----> 1\u001b[0m \u001b[38;5;124;43m'\u001b[39;49m\u001b[38;5;124;43mI have eaten\u001b[39;49m\u001b[38;5;124;43m'\u001b[39;49m\u001b[43m \u001b[49m\u001b[38;5;241;43m+\u001b[39;49m\u001b[43m \u001b[49m\u001b[38;5;241;43m99\u001b[39;49m \u001b[38;5;241m+\u001b[39m \u001b[38;5;124m'\u001b[39m\u001b[38;5;124mburritos\u001b[39m\u001b[38;5;124m'\u001b[39m\n",
      "\u001b[1;31mTypeError\u001b[0m: can only concatenate str (not \"int\") to str"
     ]
    }
   ],
   "source": [
    "'I have eaten' + 99 + 'burritos'"
   ]
  },
  {
   "cell_type": "code",
   "execution_count": 15,
   "id": "88762e84",
   "metadata": {},
   "outputs": [
    {
     "data": {
      "text/plain": [
       "'I have eaten 99 burritos'"
      ]
     },
     "execution_count": 15,
     "metadata": {},
     "output_type": "execute_result"
    }
   ],
   "source": [
    "'I have eaten' + ' 99 ' + 'burritos'"
   ]
  }
 ],
 "metadata": {
  "kernelspec": {
   "display_name": "Python 3 (ipykernel)",
   "language": "python",
   "name": "python3"
  },
  "language_info": {
   "codemirror_mode": {
    "name": "ipython",
    "version": 3
   },
   "file_extension": ".py",
   "mimetype": "text/x-python",
   "name": "python",
   "nbconvert_exporter": "python",
   "pygments_lexer": "ipython3",
   "version": "3.9.12"
  }
 },
 "nbformat": 4,
 "nbformat_minor": 5
}
