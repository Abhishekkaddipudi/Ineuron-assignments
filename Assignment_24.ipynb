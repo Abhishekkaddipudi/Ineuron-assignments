{
 "cells": [
  {
   "cell_type": "markdown",
   "id": "e8049e3e",
   "metadata": {},
   "source": [
    "<h2>1. What is the relationship between def statements and lambda expressions ?</h2>"
   ]
  },
  {
   "cell_type": "markdown",
   "id": "c4f9c8c6",
   "metadata": {},
   "source": [
    "- Both def statements and lambda expressions in Python are used for defining functions."
   ]
  },
  {
   "cell_type": "markdown",
   "id": "e306d228",
   "metadata": {},
   "source": [
    "- A def statement defines a named function that can be called using its name, whereas a lambda expression creates an anonymous function that can be assigned to a variable or passed as an argument to other functions."
   ]
  },
  {
   "cell_type": "markdown",
   "id": "26b07d8c",
   "metadata": {},
   "source": [
    "- Both def and lambda expressions take in arguments, and both can return a value. "
   ]
  },
  {
   "cell_type": "markdown",
   "id": "5ecedb1c",
   "metadata": {},
   "source": [
    "- However, def statements are used for more complex and reusable functions, while lambda expressions are typically used for simple functions that are used only once or as arguments to higher-order functions."
   ]
  },
  {
   "cell_type": "markdown",
   "id": "3e3e0049",
   "metadata": {},
   "source": [
    "<h2>2. What is the benefit of lambda?</h2>"
   ]
  },
  {
   "cell_type": "markdown",
   "id": "082396d4",
   "metadata": {},
   "source": [
    "- lambda function can make code more readable and expressive.\n",
    "\n",
    "\n",
    "- By using lambda expressions, you can avoid creating many small, one-line functions that are only used once. Instead, you can define the function inline and pass it directly as an argument to the higher-order function that expects it.\n",
    "\n",
    "\n",
    "- They allow you to write more functional-style code that treats functions as objects, which can be passed around and manipulated just like any other object.\n",
    "\n",
    "\n",
    "\n",
    "-  In some cases, using a lambda expression can be more efficient than defining a separate function. This is because the lambda expression does not create a new function object every time it is called, unlike a named function."
   ]
  },
  {
   "cell_type": "markdown",
   "id": "1648423f",
   "metadata": {},
   "source": [
    "<h2>3. Compare and contrast map, filter, and reduce.</h2>"
   ]
  },
  {
   "cell_type": "markdown",
   "id": "66003d08",
   "metadata": {},
   "source": [
    "- map() is used to apply a function to each element of an iterable and return a new iterable of the results.\n",
    "\n",
    "\n",
    "- filter() is used to apply a function to each element of an iterable and return a new iterable of the elements for which the function returns True.\n",
    "\n",
    "\n",
    "- reduce() is used to apply a function to the elements of an iterable in a cumulative way and return a single value that represents the cumulative result."
   ]
  },
  {
   "cell_type": "markdown",
   "id": "12523820",
   "metadata": {},
   "source": [
    "- All three functions take two arguments: a function and an iterable."
   ]
  },
  {
   "cell_type": "markdown",
   "id": "c488be8d",
   "metadata": {},
   "source": [
    "- map() and filter() both return new iterables that are the same length as the original iterable.\n",
    "\n",
    "\n",
    "- reduce() returns a single value that represents the cumulative result of applying the function to the elements of the iterable."
   ]
  },
  {
   "cell_type": "markdown",
   "id": "c5231b26",
   "metadata": {},
   "source": [
    "- map() and filter() take a function that takes one argument.\n",
    "\n",
    "\n",
    "- reduce() takes a function that takes two arguments."
   ]
  },
  {
   "cell_type": "code",
   "execution_count": 5,
   "id": "51015ca3",
   "metadata": {},
   "outputs": [
    {
     "name": "stdout",
     "output_type": "stream",
     "text": [
      "[1, 4, 9, 16, 25]\n",
      "['banana', 'cherry']\n",
      "120\n"
     ]
    }
   ],
   "source": [
    "# Example of map()\n",
    "numbers = [1, 2, 3, 4, 5]\n",
    "squared_numbers = map(lambda x: x**2, numbers)\n",
    "print(list(squared_numbers)) \n",
    "\n",
    "# Example of filter()\n",
    "words = ['apple', 'banana', 'cherry', 'date']\n",
    "long_words = filter(lambda x: len(x) > 5, words)\n",
    "print(list(long_words)) \n",
    "\n",
    "# Example of reduce()\n",
    "from functools import reduce\n",
    "numbers = [1, 2, 3, 4, 5]\n",
    "product = reduce(lambda x, y: x*y, numbers)\n",
    "print(product) "
   ]
  },
  {
   "cell_type": "markdown",
   "id": "f04b00b9",
   "metadata": {},
   "source": [
    "<h2>4. What are function annotations, and how are they used?</h2>"
   ]
  },
  {
   "cell_type": "markdown",
   "id": "69f7ab83",
   "metadata": {},
   "source": [
    "- Annotations can be used to indicate the expected types of the function arguments and return value, as well as to provide additional information about the function's behavior or usage."
   ]
  },
  {
   "cell_type": "markdown",
   "id": "a7951e01",
   "metadata": {},
   "source": [
    "- Annotations can be any expression, but they are typically either a type name or a string. The main benefit of annotations is to make the function's interface clearer and more self-documenting."
   ]
  },
  {
   "cell_type": "code",
   "execution_count": 22,
   "id": "b287cf6b",
   "metadata": {},
   "outputs": [
    {
     "data": {
      "text/plain": [
       "'Hello Ineuron! Hello Ineuron! '"
      ]
     },
     "execution_count": 22,
     "metadata": {},
     "output_type": "execute_result"
    }
   ],
   "source": [
    "def greet(name: str, times: int = 1) -> str:\n",
    "    \"\"\"\n",
    "    Greet someone multiple times.\n",
    "\n",
    "    Args:\n",
    "        name: The name of the person to greet.\n",
    "        times: The number of times to repeat the greeting.\n",
    "\n",
    "    Returns:\n",
    "        A string containing the greeting message.\n",
    "    \"\"\"\n",
    "    return (f\"Hello {name}! \") * times\n",
    "greet(\"Ineuron\",2)"
   ]
  },
  {
   "cell_type": "markdown",
   "id": "e32a9bd2",
   "metadata": {},
   "source": [
    "- Annotations can be accessed at runtime using the __annotations__ attribute of the function. For example, greet.__annotations__ would return a dictionary with the annotations for greet()."
   ]
  },
  {
   "cell_type": "code",
   "execution_count": 16,
   "id": "85e53883",
   "metadata": {},
   "outputs": [
    {
     "data": {
      "text/plain": [
       "{'name': str, 'times': int, 'return': str}"
      ]
     },
     "execution_count": 16,
     "metadata": {},
     "output_type": "execute_result"
    }
   ],
   "source": [
    "greet.__annotations__"
   ]
  },
  {
   "cell_type": "markdown",
   "id": "217d387d",
   "metadata": {},
   "source": [
    "<h2>5. What are recursive functions, and how are they used?</h2>"
   ]
  },
  {
   "cell_type": "markdown",
   "id": "952bbb6b",
   "metadata": {},
   "source": [
    "- Recursive functions are functions that call themselves within their own body. \n",
    "\n",
    "\n",
    "- They are used to solve problems that can be broken down into smaller sub-problems that are similar to the original problem."
   ]
  },
  {
   "cell_type": "code",
   "execution_count": 25,
   "id": "a34f93e3",
   "metadata": {},
   "outputs": [
    {
     "data": {
      "text/plain": [
       "24"
      ]
     },
     "execution_count": 25,
     "metadata": {},
     "output_type": "execute_result"
    }
   ],
   "source": [
    "#example\n",
    "\n",
    "def factorial(n: int)->int :\n",
    "    \n",
    "    \"\"\"\n",
    "    recursively finds factorial of a number\n",
    "    \n",
    "    n - integer value \n",
    "    \n",
    "    return factorial of a number\n",
    "    \n",
    "    \"\"\"\n",
    "    \n",
    "    if n == 0:\n",
    "        return 1\n",
    "    else:\n",
    "        return n * factorial(n-1)\n",
    "factorial(4)"
   ]
  },
  {
   "cell_type": "markdown",
   "id": "18add5cc",
   "metadata": {},
   "source": [
    "- Recursive functions are particularly useful for problems that have a recursive structure, such as traversing a tree or graph, generating permutations or combinations, and searching through nested data structures. "
   ]
  },
  {
   "cell_type": "markdown",
   "id": "db14633c",
   "metadata": {},
   "source": [
    "- They can also simplify the implementation of some algorithms, such as sorting and searching."
   ]
  },
  {
   "cell_type": "markdown",
   "id": "880cfbda",
   "metadata": {},
   "source": [
    "<h2>6. What are some general design guidelines for coding functions?</h2>"
   ]
  },
  {
   "cell_type": "markdown",
   "id": "9e96e619",
   "metadata": {},
   "source": [
    "1. Use 4-space indentation and no tabs.\n",
    "2. Use docstrings.\n",
    "3. Wrap lines so that they don’t exceed 79 characters.\n",
    "4. Use of regular and updated comments are valuable to both the coders and users\n",
    "5. Use Python’s default UTF-8 or ASCII encodings and not any fancy encodings\n",
    "6. Don't use ASCII characters in identifiers\n",
    "7. Importing one module at a time.\n",
    "8. Use a tab for indentation"
   ]
  },
  {
   "cell_type": "markdown",
   "id": "92b83701",
   "metadata": {},
   "source": [
    "<h2>7. Name three or more ways that functions can communicate results to a caller.</h2>"
   ]
  },
  {
   "cell_type": "markdown",
   "id": "b1ef7414",
   "metadata": {},
   "source": [
    "\n",
    "1. Function can return value\n",
    "2. Function can return multiple values (all the data types and data structures)\n",
    "3. can also use global variables to communicate results to the caller.\n",
    "4. can also raise exceptions to communicate errors or unexpected conditions to the caller.\n"
   ]
  }
 ],
 "metadata": {
  "kernelspec": {
   "display_name": "Python 3 (ipykernel)",
   "language": "python",
   "name": "python3"
  },
  "language_info": {
   "codemirror_mode": {
    "name": "ipython",
    "version": 3
   },
   "file_extension": ".py",
   "mimetype": "text/x-python",
   "name": "python",
   "nbconvert_exporter": "python",
   "pygments_lexer": "ipython3",
   "version": "3.9.12"
  }
 },
 "nbformat": 4,
 "nbformat_minor": 5
}
