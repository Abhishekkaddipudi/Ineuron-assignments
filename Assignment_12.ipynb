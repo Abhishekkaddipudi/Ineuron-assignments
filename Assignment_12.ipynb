{
 "cells": [
  {
   "cell_type": "markdown",
   "id": "8a18d672",
   "metadata": {},
   "source": [
    "<h2>1. In what modes should the PdfFileReader() and PdfFileWriter() File objects will be opened?</h2>"
   ]
  },
  {
   "cell_type": "markdown",
   "id": "f34cdcae",
   "metadata": {},
   "source": [
    "> - When creating a PdfFileReader() object to read from a PDF file, we should open the file in binary mode ('rb'). \n",
    "> - This is because PDF files contain binary data, and opening the file in binary mode ensures that the data is read and processed correctly."
   ]
  },
  {
   "cell_type": "code",
   "execution_count": 14,
   "id": "7de03809",
   "metadata": {},
   "outputs": [],
   "source": [
    "import PyPDF2\n",
    "pdf_file = open('example.pdf', 'rb')\n",
    "pdf_reader = PyPDF2.PdfReader(pdf_file)#pdffilereader is deprecated\n",
    "pdf_file.close()"
   ]
  },
  {
   "cell_type": "markdown",
   "id": "c6ca9b38",
   "metadata": {},
   "source": [
    "> - When creating a PdfFileWriter() object to write to a PDF file, we should also open the file in binary mode ('wb').\n",
    "> - This ensures that the data is written correctly to the file."
   ]
  },
  {
   "cell_type": "code",
   "execution_count": 15,
   "id": "7d5d9fe1",
   "metadata": {},
   "outputs": [],
   "source": [
    "pdf_writer = PyPDF2.PdfWriter()#pdffilewriter is deprecated\n",
    "output_file = open('output.pdf', 'wb')\n",
    "pdf_writer.write(output_file)\n",
    "output_file.close()"
   ]
  },
  {
   "cell_type": "markdown",
   "id": "945b144b",
   "metadata": {},
   "source": [
    "<h2>2. From a PdfFileReader object, how do you get a Page object for page 5?</h2>"
   ]
  },
  {
   "cell_type": "markdown",
   "id": "7f287db0",
   "metadata": {},
   "source": [
    "> - To get a Page object for a specific page from a PdfFileReader object in PyPDF2, we can use the getPage() method and pass in the page number (starting from 0) \n",
    "\n",
    "> - As \"PdfFileReader\" is deprecated from \"PdfReader\" object we use \"pages\" which contains pages indexed from 0"
   ]
  },
  {
   "cell_type": "code",
   "execution_count": 24,
   "id": "db3cce06",
   "metadata": {
    "scrolled": true
   },
   "outputs": [],
   "source": [
    "pdf_file = open('new.pdf', 'rb')\n",
    "pdf_reader = PyPDF2.PdfReader(pdf_file)\n",
    "page = pdf_reader.pages[4]  # Page numbers start from 0\n",
    "pdf_file.close()"
   ]
  },
  {
   "cell_type": "markdown",
   "id": "9f81b7bf",
   "metadata": {},
   "source": [
    "<h2>3. What PdfFileReader variable stores the number of pages in the PDF document?</h2>"
   ]
  },
  {
   "cell_type": "markdown",
   "id": "b212f9d4",
   "metadata": {},
   "source": [
    ">In PyPDF2, the number of pages in a PDF document can be obtained using the numPages attribute of a PdfFileReader object."
   ]
  },
  {
   "cell_type": "markdown",
   "id": "086b58d0",
   "metadata": {},
   "source": [
    "> In PdfReader we use \"len\" method to get length of pages generator which yeilds page object"
   ]
  },
  {
   "cell_type": "code",
   "execution_count": 32,
   "id": "de86a90d",
   "metadata": {},
   "outputs": [
    {
     "name": "stdout",
     "output_type": "stream",
     "text": [
      "2\n"
     ]
    }
   ],
   "source": [
    "pdf_file = open('example.pdf', 'rb')\n",
    "pdf_reader = PyPDF2.PdfReader(pdf_file)\n",
    "num_pages = len(pdf_reader.pages)\n",
    "print(num_pages)\n",
    "pdf_file.close()"
   ]
  },
  {
   "cell_type": "markdown",
   "id": "afd65ed6",
   "metadata": {},
   "source": [
    "<h2>4. If a PdfFileReader object’s PDF is encrypted with the password swordfish, what must you do before you can obtain Page objects from it?</h2>"
   ]
  },
  {
   "cell_type": "markdown",
   "id": "01ba59dd",
   "metadata": {},
   "source": [
    "> - In PyPDF2, you can use the decrypt() method of the PdfFileReader object to decrypt the PDF with the given password.\n",
    "> - The decrypt() method returns True if the decryption was successful, and False if the password is incorrect."
   ]
  },
  {
   "cell_type": "markdown",
   "id": "d6a469c0",
   "metadata": {},
   "source": [
    "> - PdfReader object also has decrypt() method which can be used to decrypt the pdf using password"
   ]
  },
  {
   "cell_type": "code",
   "execution_count": 39,
   "id": "8f7fc49d",
   "metadata": {},
   "outputs": [],
   "source": [
    "import PyPDF2\n",
    "pdf_file = open('example.pdf', 'rb')\n",
    "pdf_reader = PyPDF2.PdfReader(pdf_file)\n",
    "# Decrypt the PDF file with the password \"swordfish\"\n",
    "if pdf_reader.is_encrypted:\n",
    "    pdf_reader.decrypt('swordfish')\n",
    "page = pdf_reader.pages[0]  # Page numbers start from 0\n",
    "pdf_file.close()"
   ]
  },
  {
   "cell_type": "markdown",
   "id": "9464ecfa",
   "metadata": {},
   "source": [
    "<h2>5. What methods do you use to rotate a page?</h2>"
   ]
  },
  {
   "cell_type": "markdown",
   "id": "223410e8",
   "metadata": {},
   "source": [
    ">  - from PdfReader, we can use rotate() method which takes integer argument that specifies angle of rotation"
   ]
  },
  {
   "cell_type": "code",
   "execution_count": 48,
   "id": "6481ed58",
   "metadata": {},
   "outputs": [],
   "source": [
    "pdf_file = open('example.pdf', 'rb')\n",
    "pdf_reader = PyPDF2.PdfReader(pdf_file)\n",
    "page = pdf_reader.pages[1]  # Page numbers start from 0\n",
    "page.rotate(90)\n",
    "pdf_file.close()"
   ]
  },
  {
   "cell_type": "markdown",
   "id": "3a42dd1e",
   "metadata": {},
   "source": [
    "<h2>6. What is the difference between a Run object and a Paragraph object?</h2>"
   ]
  },
  {
   "cell_type": "markdown",
   "id": "b91a028b",
   "metadata": {},
   "source": [
    ">  A document contains multiple paragraphs. A paragraph begins on a new line and contains multiple runs.\n",
    "\n",
    "> Runs are contiguous groups of characters within a paragraph.\n",
    "\n",
    "> Overall, Paragraph objects represent a group of runs that are logically grouped together as a single unit of text, while Run objects represent a contiguous sequence of characters that share the same formatting."
   ]
  },
  {
   "cell_type": "markdown",
   "id": "ae697803",
   "metadata": {},
   "source": [
    "<h2>7. How do you obtain a list of Paragraph objects for a Document object that’s stored in a variable named doc?</h2>"
   ]
  },
  {
   "cell_type": "markdown",
   "id": "3f8d2a77",
   "metadata": {},
   "source": [
    "> - In Python's python-docx library, we can obtain a list of Paragraph objects for a Document object by accessing the paragraphs attribute of the Document object."
   ]
  },
  {
   "cell_type": "code",
   "execution_count": null,
   "id": "d11214e9",
   "metadata": {},
   "outputs": [],
   "source": [
    "import docx\n",
    "doc = docx.Document('example.docx')\n",
    "paragraphs = doc.paragraphs"
   ]
  },
  {
   "cell_type": "markdown",
   "id": "c04de414",
   "metadata": {},
   "source": [
    "<h2>8. What type of object has bold, underline, italic, strike, and outline variables?</h2>"
   ]
  },
  {
   "cell_type": "markdown",
   "id": "23782be7",
   "metadata": {},
   "source": [
    ">  the Font object represents the font formatting of a Run object, which is a contiguous sequence of characters within a paragraph that all have the same font, style, and other formatting attributes.\n",
    "\n",
    "> The Font object has properties such as :\n",
    "\n",
    "     - bold: A boolean indicating whether the font is bold or not.\n",
    "     \n",
    "     \n",
    "     - underline: A boolean indicating whether the font is underlined or not.\n",
    "     \n",
    "     \n",
    "     - italic: A boolean indicating whether the font is italicized or not.\n",
    "     \n",
    "     \n",
    "     - strike: A boolean indicating whether the font has a strikethrough line or not.\n",
    "     \n",
    "     \n",
    "     - outline: A boolean indicating whether the font has an outline or not."
   ]
  },
  {
   "cell_type": "markdown",
   "id": "25e3c492",
   "metadata": {},
   "source": [
    "<h2>9. What is the difference between False, True, and None for the bold variable?</h2>"
   ]
  },
  {
   "cell_type": "markdown",
   "id": "7692fce2",
   "metadata": {},
   "source": [
    "> True always makes the Run object bolded and False makes it always not bolded, no matter what the style’s bold setting is. \n",
    "\n",
    "> None will make the Run object just use the style’s bold setting."
   ]
  },
  {
   "cell_type": "markdown",
   "id": "73e91b5e",
   "metadata": {},
   "source": [
    "<h2>10. How do you create a Document object for a new Word document?</h2>"
   ]
  },
  {
   "cell_type": "markdown",
   "id": "4b92a1d7",
   "metadata": {},
   "source": [
    " > we can create a new Document object for a new Word document using the docx.Document() constructor."
   ]
  },
  {
   "cell_type": "code",
   "execution_count": 54,
   "id": "5f891225",
   "metadata": {},
   "outputs": [],
   "source": [
    "import docx\n",
    "doc = docx.Document()"
   ]
  },
  {
   "cell_type": "markdown",
   "id": "f1aac672",
   "metadata": {},
   "source": [
    "<h2>11. How do you add a paragraph with the text 'Hello, there!' to a Document object stored in a variable named doc?</h2>"
   ]
  },
  {
   "cell_type": "markdown",
   "id": "8a4e8c1f",
   "metadata": {},
   "source": [
    "> In Python's python-docx library, you can add a paragraph with the text 'Hello, there!' to a Document object stored in a variable named doc using the add_paragraph() method of the Document class."
   ]
  },
  {
   "cell_type": "code",
   "execution_count": 55,
   "id": "3c69a116",
   "metadata": {},
   "outputs": [
    {
     "data": {
      "text/plain": [
       "<docx.text.paragraph.Paragraph at 0x25daec8a1f0>"
      ]
     },
     "execution_count": 55,
     "metadata": {},
     "output_type": "execute_result"
    }
   ],
   "source": [
    "import docx\n",
    "doc = docx.Document()\n",
    "doc.add_paragraph('Hello, there!')"
   ]
  },
  {
   "cell_type": "markdown",
   "id": "28e66403",
   "metadata": {},
   "source": [
    "<h2>12. What integers represent the levels of headings available in Word documents?</h2>"
   ]
  },
  {
   "cell_type": "markdown",
   "id": "e1589aa2",
   "metadata": {},
   "source": [
    "> integer from 0 to 4\n",
    "\n",
    "> The arguments to add_heading() are a string of the heading text and an integer from 0 to 4. The integer 0 makes the heading the Title style, which is used for the top of the document. Integers 1 to 4 are for various heading levels, with 1 being the main heading and 4 the lowest subheading"
   ]
  }
 ],
 "metadata": {
  "kernelspec": {
   "display_name": "Python 3 (ipykernel)",
   "language": "python",
   "name": "python3"
  },
  "language_info": {
   "codemirror_mode": {
    "name": "ipython",
    "version": 3
   },
   "file_extension": ".py",
   "mimetype": "text/x-python",
   "name": "python",
   "nbconvert_exporter": "python",
   "pygments_lexer": "ipython3",
   "version": "3.9.12"
  }
 },
 "nbformat": 4,
 "nbformat_minor": 5
}
