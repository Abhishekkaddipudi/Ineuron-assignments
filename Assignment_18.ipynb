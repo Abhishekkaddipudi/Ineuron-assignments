{
 "cells": [
  {
   "cell_type": "markdown",
   "id": "3f0a7288",
   "metadata": {},
   "source": [
    "<h2>1. Create a zoo.py file first. Define the hours() function, which prints the string 'Open 9-5 daily'. Then, use the interactive interpreter to import the zoo module and call its hours() function.</h2>"
   ]
  },
  {
   "cell_type": "code",
   "execution_count": 6,
   "id": "1f9f509c",
   "metadata": {},
   "outputs": [
    {
     "name": "stdout",
     "output_type": "stream",
     "text": [
      "Open 9-5 daily\n"
     ]
    }
   ],
   "source": [
    "import zoo\n",
    "zoo.hours()"
   ]
  },
  {
   "cell_type": "markdown",
   "id": "45e94e61",
   "metadata": {},
   "source": [
    "<h2>2. In the interactive interpreter, import the zoo module as menagerie and call its hours() function.</h2>"
   ]
  },
  {
   "cell_type": "code",
   "execution_count": 7,
   "id": "cc2d226d",
   "metadata": {},
   "outputs": [
    {
     "name": "stdout",
     "output_type": "stream",
     "text": [
      "Open 9-5 daily\n"
     ]
    }
   ],
   "source": [
    "import zoo as menagerie\n",
    "menagerie.hours()"
   ]
  },
  {
   "cell_type": "markdown",
   "id": "611925c1",
   "metadata": {},
   "source": [
    "<h2>3. Using the interpreter, explicitly import and call the hours() function from zoo.</h2>"
   ]
  },
  {
   "cell_type": "code",
   "execution_count": 8,
   "id": "e1313ab9",
   "metadata": {},
   "outputs": [
    {
     "name": "stdout",
     "output_type": "stream",
     "text": [
      "Open 9-5 daily\n"
     ]
    }
   ],
   "source": [
    "from zoo import hours\n",
    "hours()"
   ]
  },
  {
   "cell_type": "markdown",
   "id": "a5070df1",
   "metadata": {},
   "source": [
    "<h2>4. Import the hours() function as info and call it.</h2>"
   ]
  },
  {
   "cell_type": "code",
   "execution_count": 9,
   "id": "bdd75c74",
   "metadata": {},
   "outputs": [
    {
     "name": "stdout",
     "output_type": "stream",
     "text": [
      "Open 9-5 daily\n"
     ]
    }
   ],
   "source": [
    "from zoo import hours as info\n",
    "info()"
   ]
  },
  {
   "cell_type": "markdown",
   "id": "2ab1a24d",
   "metadata": {},
   "source": [
    "<h2>5. Create a plain dictionary with the key-value pairs 'a': 1, 'b': 2, and 'c': 3, and print it out.</h2>"
   ]
  },
  {
   "cell_type": "code",
   "execution_count": 10,
   "id": "8bf60e23",
   "metadata": {},
   "outputs": [
    {
     "data": {
      "text/plain": [
       "{'a': 1, 'b': 2, 'c': 3}"
      ]
     },
     "execution_count": 10,
     "metadata": {},
     "output_type": "execute_result"
    }
   ],
   "source": [
    "plain_dictionary={'a': 1, 'b': 2, 'c': 3}\n",
    "plain_dictionary\n"
   ]
  },
  {
   "cell_type": "markdown",
   "id": "4873cd05",
   "metadata": {},
   "source": [
    "<h2>6.Make an OrderedDict called fancy from the same pairs listed in 5 and print it. Did it print in the same order as plain?</h2>"
   ]
  },
  {
   "cell_type": "code",
   "execution_count": 14,
   "id": "90e1ecef",
   "metadata": {},
   "outputs": [
    {
     "data": {
      "text/plain": [
       "OrderedDict([('a', 1), ('b', 2), ('c', 3)])"
      ]
     },
     "execution_count": 14,
     "metadata": {},
     "output_type": "execute_result"
    }
   ],
   "source": [
    "from collections import OrderedDict\n",
    "fancy=OrderedDict({'a': 1, 'b': 2, 'c': 3})\n",
    "fancy"
   ]
  },
  {
   "cell_type": "markdown",
   "id": "81253b02",
   "metadata": {},
   "source": [
    "- Yes it printed in same order as plain"
   ]
  },
  {
   "cell_type": "markdown",
   "id": "6fec28c5",
   "metadata": {},
   "source": [
    "<h2>7. Make a default dictionary called dict_of_lists and pass it the argument list. Make the list dict_of_lists['a'] and append the value 'something for a' to it in one assignment. Print dict_of_lists['a'].</h2>"
   ]
  },
  {
   "cell_type": "code",
   "execution_count": 18,
   "id": "cd202576",
   "metadata": {},
   "outputs": [
    {
     "data": {
      "text/plain": [
       "['something for a']"
      ]
     },
     "execution_count": 18,
     "metadata": {},
     "output_type": "execute_result"
    }
   ],
   "source": [
    "from collections import defaultdict\n",
    "\n",
    "dict_of_lists = defaultdict(list)\n",
    "dict_of_lists['a'].append('something for a')\n",
    "\n",
    "dict_of_lists['a']"
   ]
  }
 ],
 "metadata": {
  "kernelspec": {
   "display_name": "Python 3 (ipykernel)",
   "language": "python",
   "name": "python3"
  },
  "language_info": {
   "codemirror_mode": {
    "name": "ipython",
    "version": 3
   },
   "file_extension": ".py",
   "mimetype": "text/x-python",
   "name": "python",
   "nbconvert_exporter": "python",
   "pygments_lexer": "ipython3",
   "version": "3.9.12"
  }
 },
 "nbformat": 4,
 "nbformat_minor": 5
}
