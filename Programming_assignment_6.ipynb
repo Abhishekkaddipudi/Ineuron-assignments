{
 "cells": [
  {
   "cell_type": "markdown",
   "id": "b540c3e5",
   "metadata": {},
   "source": [
    "#### 1. Write a Python Program to Display Fibonacci Sequence Using Recursion?"
   ]
  },
  {
   "cell_type": "code",
   "execution_count": 5,
   "id": "d7d7e2e9",
   "metadata": {},
   "outputs": [
    {
     "name": "stdout",
     "output_type": "stream",
     "text": [
      "enter the number of terms: 10\n",
      "0\n",
      "1\n",
      "1\n",
      "2\n",
      "3\n",
      "5\n",
      "8\n",
      "13\n",
      "21\n",
      "34\n"
     ]
    }
   ],
   "source": [
    "def fibnacci(n):\n",
    "    if n<=1:\n",
    "        return n\n",
    "    else:\n",
    "        return(fibnacci(n-1)+fibnacci(n-2))\n",
    "n=int(input(\"enter the number of terms: \"))\n",
    "for i in range(n):\n",
    "    print(fibnacci(i))"
   ]
  },
  {
   "cell_type": "markdown",
   "id": "29a5dd41",
   "metadata": {},
   "source": [
    "#### 2. Write a Python Program to Find Factorial of Number Using Recursion?"
   ]
  },
  {
   "cell_type": "code",
   "execution_count": 10,
   "id": "0e3eb5c9",
   "metadata": {},
   "outputs": [
    {
     "name": "stdout",
     "output_type": "stream",
     "text": [
      "Enter the number: 5\n",
      "The factorial of 5 is 120\n"
     ]
    }
   ],
   "source": [
    "def fact(n):\n",
    "    if n<=1:\n",
    "        return n\n",
    "    else:\n",
    "        return (n*fact(n-1))\n",
    "n=int(input(\"Enter the number: \"))\n",
    "print(f\"The factorial of {n} is {fact(n)}\")"
   ]
  },
  {
   "cell_type": "markdown",
   "id": "460ba1cb",
   "metadata": {},
   "source": [
    "#### 3. Write a Python Program to calculate your Body Mass Index?"
   ]
  },
  {
   "cell_type": "code",
   "execution_count": 14,
   "id": "8d666c19",
   "metadata": {},
   "outputs": [
    {
     "name": "stdout",
     "output_type": "stream",
     "text": [
      "enter your height in mtrs: 1.798\n",
      "enter your weight in kg: 80\n",
      "you are Healthy\n"
     ]
    }
   ],
   "source": [
    "def BMICal(h,w):\n",
    "    bmi=w/(h)**2\n",
    "    if bmi<=18.5:\n",
    "        return \"underweight\"\n",
    "    elif bmi <=24.9:\n",
    "        return \"Healthy\"\n",
    "    elif bmi <=29.9:\n",
    "        return \"overweight\"\n",
    "    else:\n",
    "        return \"obese\"\n",
    "    \n",
    "    \n",
    "h=float(input(\"enter your height in mtrs: \"))\n",
    "w=float(input(\"enter your weight in kg: \"))\n",
    "res=BMICal(h,w)\n",
    "print(f\"you are {res}\")"
   ]
  },
  {
   "cell_type": "markdown",
   "id": "33e0b433",
   "metadata": {},
   "source": [
    "#### 4. Write a Python Program to calculate the natural logarithm of any number?"
   ]
  },
  {
   "cell_type": "code",
   "execution_count": 16,
   "id": "c79d7614",
   "metadata": {},
   "outputs": [
    {
     "name": "stdout",
     "output_type": "stream",
     "text": [
      "Enter any number: 4\n",
      "natural logarithm of 4.0 is: 1.3863\n"
     ]
    }
   ],
   "source": [
    "import numpy as np #importing numpy to use log function\n",
    "n=float(input(\"Enter any number: \"))\n",
    "print(f\"natural logarithm of {n} is: {np.log(n):.4f}\")"
   ]
  },
  {
   "cell_type": "markdown",
   "id": "db66d1f7",
   "metadata": {},
   "source": [
    "#### 5. Write a Python Program for cube sum of first n natural numbers?"
   ]
  },
  {
   "cell_type": "code",
   "execution_count": 21,
   "id": "e6f1e9b5",
   "metadata": {},
   "outputs": [
    {
     "name": "stdout",
     "output_type": "stream",
     "text": [
      "Enter the number: 12\n",
      "sum of cubes of first 12 natural numbers is: 6084\n"
     ]
    }
   ],
   "source": [
    "n=int(input(\"Enter the number: \"))\n",
    "def sum_natural(n):\n",
    "    res=(n*(n+1)//2)**2 #sum of cubes of first n natural numbers is (n(n+1)/2)^2\n",
    "    return res\n",
    "print(f\"sum of cubes of first {n} natural numbers is: {sum_natural(n)}\")"
   ]
  }
 ],
 "metadata": {
  "kernelspec": {
   "display_name": "Python 3 (ipykernel)",
   "language": "python",
   "name": "python3"
  },
  "language_info": {
   "codemirror_mode": {
    "name": "ipython",
    "version": 3
   },
   "file_extension": ".py",
   "mimetype": "text/x-python",
   "name": "python",
   "nbconvert_exporter": "python",
   "pygments_lexer": "ipython3",
   "version": "3.9.12"
  }
 },
 "nbformat": 4,
 "nbformat_minor": 5
}
