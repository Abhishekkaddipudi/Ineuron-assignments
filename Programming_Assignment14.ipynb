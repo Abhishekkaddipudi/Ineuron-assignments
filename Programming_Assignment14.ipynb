{
 "cells": [
  {
   "cell_type": "markdown",
   "id": "f9ade35c",
   "metadata": {},
   "source": [
    "<h2>Question 1:</h2>\n",
    "<h2>Define a class with a generator which can iterate the numbers, which are divisible by 7, between a given range 0 and n.</h2>\n"
   ]
  },
  {
   "cell_type": "code",
   "execution_count": 8,
   "id": "26362a50",
   "metadata": {},
   "outputs": [
    {
     "name": "stdout",
     "output_type": "stream",
     "text": [
      "0\n",
      "7\n",
      "14\n",
      "21\n",
      "28\n",
      "35\n",
      "42\n",
      "49\n",
      "56\n",
      "63\n",
      "70\n"
     ]
    }
   ],
   "source": [
    "class NumberGenerator:\n",
    "    def __init__(self,n=0):\n",
    "        self.higher_limit=n\n",
    "    def num_divisible_7(self):\n",
    "        for i in range(self.higher_limit):\n",
    "            if i %7==0:\n",
    "                yield i\n",
    "obj=NumberGenerator(71)\n",
    "for i in obj.num_divisible_7():\n",
    "    print(i)\n",
    "            "
   ]
  },
  {
   "cell_type": "markdown",
   "id": "d46ea803",
   "metadata": {},
   "source": [
    "<h2>Question 2:</h2>\n",
    "<h2>Write a program to compute the frequency of the words from the input. The output should output after sorting the key alphanumerically. </h2>\n",
    "\n",
    "\n",
    "<h2>Suppose the following input is supplied to the program:</h2>\n",
    "\n",
    "\n",
    "<h2>New to Python or choosing between Python 2 and Python 3? Read Python 2 or Python 3.</h2>\n",
    "\n",
    "\n",
    "<h2>Then, the output should be:</h2>\n",
    "\n",
    "\n",
    "<h2>2:2</h2>\n",
    "\n",
    "\n",
    "<h2>3.:1</h2>\n",
    "\n",
    "\n",
    "<h2>3?:1</h2>\n",
    "\n",
    "\n",
    "<h2>New:1</h2>\n",
    "\n",
    "\n",
    "<h2>Python:5</h2>\n",
    "\n",
    "\n",
    "<h2>Read:1</h2>\n",
    "\n",
    "\n",
    "<h2>and:1</h2>\n",
    "\n",
    "\n",
    "<h2>between:1</h2>\n",
    "\n",
    "\n",
    "<h2>choosing:1</h2>\n",
    "\n",
    "\n",
    "<h2>or:2</h2>\n",
    "\n",
    "<h2>to:1</h2>\n"
   ]
  },
  {
   "cell_type": "code",
   "execution_count": 18,
   "id": "0a544b54",
   "metadata": {},
   "outputs": [],
   "source": [
    "def calculateFrequency(string):\n",
    "    frequency={}\n",
    "    #calculating frequency\n",
    "    for i in string:\n",
    "        if i in frequency:\n",
    "            frequency[i]+=1\n",
    "        else:\n",
    "            frequency[i]=1\n",
    "            \n",
    "    #sorting keys\n",
    "    Keys = list(frequency.keys())\n",
    "    Keys.sort()\n",
    "    \n",
    "    #arranging dict according to keys\n",
    "    return {i: frequency[i] for i in Keys}\n"
   ]
  },
  {
   "cell_type": "code",
   "execution_count": 21,
   "id": "04015100",
   "metadata": {},
   "outputs": [
    {
     "name": "stdout",
     "output_type": "stream",
     "text": [
      "Enter string to calculate frequency : New to Python or choosing between Python 2 and Python 3? Read Python 2 or Python 3\n"
     ]
    },
    {
     "data": {
      "text/plain": [
       "{'2': 2,\n",
       " '3': 1,\n",
       " '3?': 1,\n",
       " 'New': 1,\n",
       " 'Python': 5,\n",
       " 'Read': 1,\n",
       " 'and': 1,\n",
       " 'between': 1,\n",
       " 'choosing': 1,\n",
       " 'or': 2,\n",
       " 'to': 1}"
      ]
     },
     "metadata": {},
     "output_type": "display_data"
    }
   ],
   "source": [
    "string=input(\"Enter string to calculate frequency : \").split()\n",
    "display(calculateFrequency(string))"
   ]
  },
  {
   "cell_type": "markdown",
   "id": "77459fef",
   "metadata": {},
   "source": [
    "<h2>Question 3:</h2>\n",
    "<h2>Define a class Person and its two child classes: Male and Female. All classes have a method \"getGender\" which can print \"Male\" for Male class and \"Female\" for Female class.</h2>"
   ]
  },
  {
   "cell_type": "code",
   "execution_count": 25,
   "id": "8d6d88c1",
   "metadata": {},
   "outputs": [],
   "source": [
    "class Person:\n",
    "    def getGender(self):\n",
    "        print(\"This is person class\")\n",
    "\n",
    "#inherited person class\n",
    "class Male(Person):\n",
    "    def getGender(self):\n",
    "        print(\"Male\")\n",
    "        \n",
    "#inherited person class\n",
    "class Female(Person):\n",
    "    def getGender(self):\n",
    "        print(\"Female\")"
   ]
  },
  {
   "cell_type": "code",
   "execution_count": 27,
   "id": "3a85a123",
   "metadata": {},
   "outputs": [
    {
     "name": "stdout",
     "output_type": "stream",
     "text": [
      "This is person class\n",
      "Male\n",
      "Female\n"
     ]
    }
   ],
   "source": [
    "p=Person()\n",
    "M=Male()\n",
    "p.getGender()\n",
    "F=Female()\n",
    "M.getGender()\n",
    "F.getGender()"
   ]
  },
  {
   "cell_type": "markdown",
   "id": "20ae1703",
   "metadata": {},
   "source": [
    "<h2>Question 4:</h2>\n",
    "<h2>Please write a program to generate all sentences where subject is in [\"I\", \"You\"] and verb is in [\"Play\", \"Love\"] and the object is in [\"Hockey\",\"Football\"].</h2>"
   ]
  },
  {
   "cell_type": "code",
   "execution_count": 33,
   "id": "9bfb482e",
   "metadata": {},
   "outputs": [
    {
     "name": "stdout",
     "output_type": "stream",
     "text": [
      "I Play Hockey\n",
      "I Play Football\n",
      "I Love Hockey\n",
      "I Love Football\n",
      "You Play Hockey\n",
      "You Play Football\n",
      "You Love Hockey\n",
      "You Love Football\n"
     ]
    }
   ],
   "source": [
    "from itertools import product\n",
    "#itertools.product()  finds the cartesian product from the given iterator\n",
    "\n",
    "subjects = [\"I\", \"You\"]\n",
    "verbs = [\"Play\", \"Love\"]\n",
    "objects = [\"Hockey\", \"Football\"]\n",
    "\n",
    "for i in product(subjects, verbs, objects):\n",
    "    print(\" \".join(i))\n"
   ]
  },
  {
   "cell_type": "markdown",
   "id": "31e61749",
   "metadata": {},
   "source": [
    "<h2>Question 5:</h2>\n",
    "<h2>Please write a program to compress and decompress the string \"hello world!hello world!hello world!hello world!\".</h2>"
   ]
  },
  {
   "cell_type": "code",
   "execution_count": 41,
   "id": "6533ff92",
   "metadata": {},
   "outputs": [
    {
     "name": "stdout",
     "output_type": "stream",
     "text": [
      "hello world!hello world!hello world!hello world!\n",
      "Original string: hello world!hello world!hello world!hello world!\n",
      "Compressed data: b'\\x1f\\x8b\\x08\\x00\\xc4kOd\\x02\\xff\\xcbH\\xcd\\xc9\\xc9W(\\xcf/\\xcaIQ\\xcc \\x82\\r\\x00\\xd3\\xe6\\xcf\\xae0\\x00\\x00\\x00'\n",
      "Decompressed string: hello world!hello world!hello world!hello world!\n"
     ]
    }
   ],
   "source": [
    "import gzip\n",
    "string=input()\n",
    "\n",
    "# Compress the string\n",
    "compressed_data = gzip.compress(string.encode())\n",
    "\n",
    "# Decompress the compressed data\n",
    "decompressed_data = gzip.decompress(compressed_data)\n",
    "\n",
    "# Convert the decompressed data to a string\n",
    "decompressed_string = decompressed_data.decode()\n",
    "\n",
    "# Print the original string and the decompressed string\n",
    "print(\"Original string:\", string)\n",
    "print(\"Compressed data:\", compressed_data)\n",
    "print(\"Decompressed string:\", decompressed_string)"
   ]
  },
  {
   "cell_type": "markdown",
   "id": "1d9c5ed5",
   "metadata": {},
   "source": [
    "<h2>Question 6:</h2>\n",
    "<h2>Please write a binary search function which searches an item in a sorted list. The function should return the index of element to be searched in the list.</h2>"
   ]
  },
  {
   "cell_type": "code",
   "execution_count": 42,
   "id": "385ceaf9",
   "metadata": {},
   "outputs": [],
   "source": [
    "def binary_search(arr, target):\n",
    "    \"\"\"\n",
    "    Searches for the target element in a sorted list using binary search.\n",
    "\n",
    "    Args:\n",
    "        arr (list): The sorted list to search.\n",
    "        target (any): The element to search for.\n",
    "\n",
    "    Returns:\n",
    "        int: The index of the target element in the list, or -1 if it is not found.\n",
    "    \"\"\"\n",
    "    left = 0\n",
    "    right = len(arr) - 1\n",
    "\n",
    "    while left <= right:\n",
    "        mid = (left + right) // 2\n",
    "        if arr[mid] == target:\n",
    "            return mid\n",
    "        elif arr[mid] < target:\n",
    "            left = mid + 1\n",
    "        else:\n",
    "            right = mid - 1\n",
    "\n",
    "    return -1\n"
   ]
  },
  {
   "cell_type": "code",
   "execution_count": 50,
   "id": "6aced073",
   "metadata": {},
   "outputs": [
    {
     "name": "stdout",
     "output_type": "stream",
     "text": [
      "1,2,3,4,5,6,7,8,9,10,11,12,13\n",
      "3\n",
      "item found at index : 2\n"
     ]
    }
   ],
   "source": [
    "integer_arr=list(map(int,input().split(\",\")))\n",
    "target=int(input())\n",
    "\n",
    "string=f\"item found at index : {binary_search(integer_arr,target)}\" \\\n",
    "if binary_search(integer_arr,target)!=-1 else \"Not Found\"\n",
    "print(string)"
   ]
  },
  {
   "cell_type": "code",
   "execution_count": 51,
   "id": "5dacd212",
   "metadata": {},
   "outputs": [
    {
     "name": "stdout",
     "output_type": "stream",
     "text": [
      "1,2,3,4,5,6,7,8,9,10,11,12,13\n",
      "14\n",
      "Not Found\n"
     ]
    }
   ],
   "source": [
    "integer_arr=list(map(int,input().split(\",\")))\n",
    "target=int(input())\n",
    "\n",
    "string=f\"item found at index : {binary_search(integer_arr,target)}\" \\\n",
    "if binary_search(integer_arr,target)!=-1 else \"Not Found\"\n",
    "print(string)"
   ]
  }
 ],
 "metadata": {
  "kernelspec": {
   "display_name": "Python 3 (ipykernel)",
   "language": "python",
   "name": "python3"
  },
  "language_info": {
   "codemirror_mode": {
    "name": "ipython",
    "version": 3
   },
   "file_extension": ".py",
   "mimetype": "text/x-python",
   "name": "python",
   "nbconvert_exporter": "python",
   "pygments_lexer": "ipython3",
   "version": "3.9.12"
  }
 },
 "nbformat": 4,
 "nbformat_minor": 5
}
