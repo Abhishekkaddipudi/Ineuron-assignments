{
 "cells": [
  {
   "cell_type": "markdown",
   "id": "48117a54",
   "metadata": {},
   "source": [
    "#### 1. Write a Python program to convert kilometers to miles?"
   ]
  },
  {
   "cell_type": "code",
   "execution_count": 9,
   "id": "8be1e30e",
   "metadata": {},
   "outputs": [
    {
     "name": "stdout",
     "output_type": "stream",
     "text": [
      "enter the kilometer: 45\n",
      "45.0 KMs are 27.962 miles\n"
     ]
    }
   ],
   "source": [
    "def kilotomiles(n):\n",
    "    return (n * 0.621371)#one kilometer is 0.621371 miles according to google\n",
    "\n",
    "kilo=float(input(\"enter the kilometer: \"))\n",
    "\n",
    "print(f\"{kilo} KMs are {kilotomiles(kilo):.3f} miles\")#calling the function in f-String"
   ]
  },
  {
   "cell_type": "markdown",
   "id": "225700b7",
   "metadata": {},
   "source": [
    "#### 2. Write a Python program to convert Celsius to Fahrenheit?"
   ]
  },
  {
   "cell_type": "code",
   "execution_count": 13,
   "id": "ef648157",
   "metadata": {},
   "outputs": [
    {
     "name": "stdout",
     "output_type": "stream",
     "text": [
      "enter the celsius: 54\n",
      "54.0 celsius is 129.200 Fahrenheit\n"
     ]
    }
   ],
   "source": [
    "def celtofar(n):\n",
    "    return (n * 1.8)+32 # F = C * 1.8 +32\n",
    "cel=float(input(\"enter the celsius: \"))\n",
    "\n",
    "print(f\"{cel} celsius is {celtofar(cel):.3f} Fahrenheit\")#calling the function in f-String"
   ]
  },
  {
   "cell_type": "markdown",
   "id": "a11f1011",
   "metadata": {},
   "source": [
    "#### 3. Write a Python program to display calendar?"
   ]
  },
  {
   "cell_type": "code",
   "execution_count": 17,
   "id": "2b370d35",
   "metadata": {},
   "outputs": [
    {
     "name": "stdout",
     "output_type": "stream",
     "text": [
      "enter the year: 2022\n",
      "enter the Month: 10\n",
      "    October 2022\n",
      "Mo Tu We Th Fr Sa Su\n",
      "                1  2\n",
      " 3  4  5  6  7  8  9\n",
      "10 11 12 13 14 15 16\n",
      "17 18 19 20 21 22 23\n",
      "24 25 26 27 28 29 30\n",
      "31\n",
      "\n"
     ]
    }
   ],
   "source": [
    "#importing calendar module\n",
    "import calendar\n",
    "year=int(input(\"enter the year: \"))\n",
    "Mon=int(input(\"enter the Month: \"))\n",
    "print(calendar.month(year,Mon)) #using month method"
   ]
  },
  {
   "cell_type": "markdown",
   "id": "0e64d6ad",
   "metadata": {},
   "source": [
    "#### 4. Write a Python program to solve quadratic equation?"
   ]
  },
  {
   "cell_type": "code",
   "execution_count": 26,
   "id": "d2908f47",
   "metadata": {},
   "outputs": [
    {
     "name": "stdout",
     "output_type": "stream",
     "text": [
      "enter the values of a,b,c respectively: 8 5 9\n",
      "(-0.3125-1.0135796712641785j) or (-0.3125+1.0135796712641785j) \n"
     ]
    }
   ],
   "source": [
    "#importing complex math module\n",
    "import cmath\n",
    "\n",
    "def solution(a,b,c):\n",
    "    d=(b**2)-(4*a*c)\n",
    "    return (-b-cmath.sqrt(d))/(2*a),(-b+cmath.sqrt(d))/(2*a)\n",
    "\n",
    "a,b,c=input(\"enter the values of a,b,c respectively: \").split(\" \")\n",
    "\n",
    "soln1, soln2 =solution(int(a),int(b),int(c))#converting type to int \n",
    "print(f\"{soln1} or {soln2} \")"
   ]
  },
  {
   "cell_type": "markdown",
   "id": "e6c476a0",
   "metadata": {},
   "source": [
    "#### 5. Write a Python program to swap two variables without temp variable?"
   ]
  },
  {
   "cell_type": "code",
   "execution_count": 29,
   "id": "e931e777",
   "metadata": {},
   "outputs": [
    {
     "name": "stdout",
     "output_type": "stream",
     "text": [
      "Enter the value of a and b: iNeuron Courses\n",
      "Before Swapping: iNeuron Courses\n",
      "After Swapping: Courses iNeuron\n"
     ]
    }
   ],
   "source": [
    "var1,var2=input(\"Enter the value of a and b: \").split(\" \")\n",
    "print(f\"Before Swapping: {var1} {var2}\")\n",
    "var1,var2=var2,var1 #built in method\n",
    "print(f\"After Swapping: {var1} {var2}\")"
   ]
  }
 ],
 "metadata": {
  "kernelspec": {
   "display_name": "Python 3 (ipykernel)",
   "language": "python",
   "name": "python3"
  },
  "language_info": {
   "codemirror_mode": {
    "name": "ipython",
    "version": 3
   },
   "file_extension": ".py",
   "mimetype": "text/x-python",
   "name": "python",
   "nbconvert_exporter": "python",
   "pygments_lexer": "ipython3",
   "version": "3.9.12"
  }
 },
 "nbformat": 4,
 "nbformat_minor": 5
}
