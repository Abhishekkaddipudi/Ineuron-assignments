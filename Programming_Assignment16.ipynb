{
 "cells": [
  {
   "cell_type": "markdown",
   "id": "64498b6e",
   "metadata": {},
   "source": [
    "<h2>Question1. Write a function that stutters a word as if someone is struggling to read it. The first two letters are repeated twice with an ellipsis ... and space after each, and then the word is pronounced with a question mark ?.</h2>\n",
    "<h2>Examples</h2>\n",
    "<h2>\t\t\t\t\t\t\t\t\t\t\t\t\t\t\t\tstutter(\"incredible\") ➞ \"in... in... incredible?\"</h2>\n",
    "<h2>\t\t\t\t\t\t\t\t\t\t\t\t\t\t\t\tstutter(\"enthusiastic\") ➞ \"en... en... enthusiastic?\"</h2>\n",
    "<h2>\t\t\t\t\t\t\t\t\t\t\t\t\t\t\t\tstutter(\"outstanding\") ➞ \"ou... ou... outstanding?\"</h2>\n",
    "<h2>Hint :- Assume all input is in lower case and at least two characters long.</h2>"
   ]
  },
  {
   "cell_type": "code",
   "execution_count": 3,
   "id": "88b92404",
   "metadata": {},
   "outputs": [
    {
     "data": {
      "text/plain": [
       "'in...in...incredible?'"
      ]
     },
     "execution_count": 3,
     "metadata": {},
     "output_type": "execute_result"
    }
   ],
   "source": [
    "def stutter(string):\n",
    "    left=(string[:2]+\"...\")*2\n",
    "    right=\"?\"\n",
    "    return left+string+right\n"
   ]
  },
  {
   "cell_type": "code",
   "execution_count": 4,
   "id": "9ca743bd",
   "metadata": {},
   "outputs": [
    {
     "data": {
      "text/plain": [
       "'in...in...incredible?'"
      ]
     },
     "execution_count": 4,
     "metadata": {},
     "output_type": "execute_result"
    }
   ],
   "source": [
    "stutter(\"incredible\")"
   ]
  },
  {
   "cell_type": "code",
   "execution_count": 5,
   "id": "bc73dbea",
   "metadata": {},
   "outputs": [
    {
     "data": {
      "text/plain": [
       "'en...en...enthusiastic?'"
      ]
     },
     "execution_count": 5,
     "metadata": {},
     "output_type": "execute_result"
    }
   ],
   "source": [
    "stutter(\"enthusiastic\")"
   ]
  },
  {
   "cell_type": "code",
   "execution_count": 6,
   "id": "cbe3eb93",
   "metadata": {},
   "outputs": [
    {
     "data": {
      "text/plain": [
       "'ou...ou...outstanding?'"
      ]
     },
     "execution_count": 6,
     "metadata": {},
     "output_type": "execute_result"
    }
   ],
   "source": [
    "stutter(\"outstanding\")"
   ]
  },
  {
   "cell_type": "code",
   "execution_count": 8,
   "id": "864eed24",
   "metadata": {},
   "outputs": [
    {
     "data": {
      "text/plain": [
       "'Do...Do...Do?'"
      ]
     },
     "execution_count": 8,
     "metadata": {},
     "output_type": "execute_result"
    }
   ],
   "source": [
    "stutter(\"Do\")"
   ]
  },
  {
   "cell_type": "markdown",
   "id": "485d2e4c",
   "metadata": {},
   "source": [
    "<h2>Question 2.Create a function that takes an angle in radians and returns the corresponding angle in degrees rounded to one decimal place.</h2>\n",
    "<h2>Examples</h2>\n",
    "<h2>radians_to_degrees(1) ➞ 57.3</h2>\n",
    "<h2>radians_to_degrees(20) ➞ 1145.9</h2>\n",
    "<h2>radians_to_degrees(50) ➞ 2864.8</h2>"
   ]
  },
  {
   "cell_type": "code",
   "execution_count": 9,
   "id": "5d361eb1",
   "metadata": {},
   "outputs": [],
   "source": [
    "import math\n",
    "\n",
    "def radians_to_degrees(rad):\n",
    "    deg = rad * 180 / math.pi\n",
    "    return round(deg, 1)"
   ]
  },
  {
   "cell_type": "code",
   "execution_count": 10,
   "id": "ca0785ba",
   "metadata": {},
   "outputs": [
    {
     "data": {
      "text/plain": [
       "2864.8"
      ]
     },
     "execution_count": 10,
     "metadata": {},
     "output_type": "execute_result"
    }
   ],
   "source": [
    "radians_to_degrees(50)"
   ]
  },
  {
   "cell_type": "code",
   "execution_count": 11,
   "id": "e893f8c1",
   "metadata": {},
   "outputs": [
    {
     "data": {
      "text/plain": [
       "1145.9"
      ]
     },
     "execution_count": 11,
     "metadata": {},
     "output_type": "execute_result"
    }
   ],
   "source": [
    "radians_to_degrees(20)"
   ]
  },
  {
   "cell_type": "code",
   "execution_count": 12,
   "id": "12fbdd1f",
   "metadata": {},
   "outputs": [
    {
     "data": {
      "text/plain": [
       "57.3"
      ]
     },
     "execution_count": 12,
     "metadata": {},
     "output_type": "execute_result"
    }
   ],
   "source": [
    "radians_to_degrees(1)"
   ]
  },
  {
   "cell_type": "markdown",
   "id": "606450e1",
   "metadata": {},
   "source": [
    "<h2>Question 3. In this challenge, establish if a given integer num is a Curzon number. If 1 plus 2 elevated to num is exactly divisible by 1 plus 2 multiplied by num, then num is a Curzon number.</h2>\n",
    "<h2>Given a non-negative integer num, implement a function that returns True if num is a Curzon number, or False otherwise.</h2>\n",
    "<h2>Examples</h2>\n",
    "<h2>is_curzon(5) ➞ True</h2>\n",
    "<h2># 2 ** 5 + 1 = 33</h2>\n",
    "<h2># 2 * 5 + 1 = 11</h2>\n",
    "<h2># 33 is a multiple of 11</h2>\n",
    "<h2></h2>\n",
    "<h2>is_curzon(10) ➞ False</h2>\n",
    "<h2># 2 ** 10 + 1 = 1025</h2>\n",
    "<h2># 2 * 10 + 1 = 21</h2>\n",
    "<h2># 1025 is not a multiple of 21</h2>\n",
    "<h2></h2>\n",
    "<h2>is_curzon(14) ➞ True</h2>\n",
    "<h2># 2 ** 14 + 1 = 16385</h2>\n",
    "<h2># 2 * 14 + 1 = 29</h2>\n",
    "<h2># 16385 is a multiple of 29</h2>\n",
    "<h2></h2>"
   ]
  },
  {
   "cell_type": "code",
   "execution_count": 28,
   "id": "abd326f7",
   "metadata": {},
   "outputs": [],
   "source": [
    "def is_curzon(num):\n",
    "    numerator = 2**num + 1\n",
    "    denominator = 2*num + 1\n",
    "    if numerator % denominator == 0:\n",
    "        return True\n",
    "    else:\n",
    "        return False\n"
   ]
  },
  {
   "cell_type": "code",
   "execution_count": 32,
   "id": "a776af77",
   "metadata": {},
   "outputs": [
    {
     "data": {
      "text/plain": [
       "True"
      ]
     },
     "execution_count": 32,
     "metadata": {},
     "output_type": "execute_result"
    }
   ],
   "source": [
    "is_curzon(14)"
   ]
  },
  {
   "cell_type": "code",
   "execution_count": 33,
   "id": "35e9fb1e",
   "metadata": {},
   "outputs": [
    {
     "data": {
      "text/plain": [
       "False"
      ]
     },
     "execution_count": 33,
     "metadata": {},
     "output_type": "execute_result"
    }
   ],
   "source": [
    "is_curzon(10)"
   ]
  },
  {
   "cell_type": "code",
   "execution_count": 34,
   "id": "a97ac538",
   "metadata": {},
   "outputs": [
    {
     "data": {
      "text/plain": [
       "True"
      ]
     },
     "execution_count": 34,
     "metadata": {},
     "output_type": "execute_result"
    }
   ],
   "source": [
    "is_curzon(5)"
   ]
  },
  {
   "cell_type": "markdown",
   "id": "d61c7fae",
   "metadata": {},
   "source": [
    "<h2>Question 4.Given the side length x find the area of a hexagon.</h2>\n",
    "<h2>Examples</h2>\n",
    "<h2>area_of_hexagon(1) ➞ 2.6</h2>\n",
    "<h2>area_of_hexagon(2) ➞ 10.4</h2>\n",
    "<h2>area_of_hexagon(3) ➞ 23.4</h2>"
   ]
  },
  {
   "cell_type": "code",
   "execution_count": 36,
   "id": "39ed07de",
   "metadata": {},
   "outputs": [],
   "source": [
    "def area_of_hexagon(x):\n",
    "    area = (3 * math.sqrt(3) * x**2) / 2\n",
    "    return round(area, 1)"
   ]
  },
  {
   "cell_type": "code",
   "execution_count": 37,
   "id": "7b0f7362",
   "metadata": {},
   "outputs": [
    {
     "data": {
      "text/plain": [
       "2.6"
      ]
     },
     "execution_count": 37,
     "metadata": {},
     "output_type": "execute_result"
    }
   ],
   "source": [
    "area_of_hexagon(1)"
   ]
  },
  {
   "cell_type": "code",
   "execution_count": 38,
   "id": "8131136b",
   "metadata": {},
   "outputs": [
    {
     "data": {
      "text/plain": [
       "10.4"
      ]
     },
     "execution_count": 38,
     "metadata": {},
     "output_type": "execute_result"
    }
   ],
   "source": [
    "area_of_hexagon(2)"
   ]
  },
  {
   "cell_type": "code",
   "execution_count": 40,
   "id": "2f979f26",
   "metadata": {},
   "outputs": [
    {
     "data": {
      "text/plain": [
       "23.4"
      ]
     },
     "execution_count": 40,
     "metadata": {},
     "output_type": "execute_result"
    }
   ],
   "source": [
    "area_of_hexagon(3)"
   ]
  },
  {
   "cell_type": "markdown",
   "id": "285034e9",
   "metadata": {},
   "source": [
    "<h2>Question 5. Create a function that returns a base-2 (binary) representation of a base-10 (decimal) string number. To convert is simple: ((2) means base-2 and (10) means base-10) 010101001(2) = 1 + 8 + 32 + 128.</h2>\n",
    "<h2>Going from right to left, the value of the most right bit is 1, now from that every bit to the left will be x2 the value, value of an 8 bit binary numbers are (256, 128, 64, 32, 16, 8, 4, 2, 1).</h2>\n",
    "<h2>Examples</h2>\n",
    "<h2>binary(1) ➞ \"1\"</h2>\n",
    "<h2># 1*1 = 1</h2>\n",
    "<h2>binary(5) ➞ \"101\"</h2>\n",
    "<h2># 1*1 + 1*4 = 5</h2>\n",
    "\n",
    "<h2>binary(10) ➞ \"1010\"</h2>\n",
    "<h2># 1*2 + 1*8 = 10</h2>"
   ]
  },
  {
   "cell_type": "code",
   "execution_count": 41,
   "id": "792c76fb",
   "metadata": {},
   "outputs": [],
   "source": [
    "def binary(decimal):\n",
    "    decimal = int(decimal)\n",
    "    binary = ''\n",
    "    while decimal > 0:\n",
    "        remainder = decimal % 2\n",
    "        binary = str(remainder) + binary\n",
    "        decimal = decimal // 2\n",
    "    return binary"
   ]
  },
  {
   "cell_type": "code",
   "execution_count": 42,
   "id": "1c0abf7f",
   "metadata": {},
   "outputs": [
    {
     "data": {
      "text/plain": [
       "'1'"
      ]
     },
     "execution_count": 42,
     "metadata": {},
     "output_type": "execute_result"
    }
   ],
   "source": [
    "binary(1)"
   ]
  },
  {
   "cell_type": "code",
   "execution_count": 43,
   "id": "9b0d679d",
   "metadata": {},
   "outputs": [
    {
     "data": {
      "text/plain": [
       "'101'"
      ]
     },
     "execution_count": 43,
     "metadata": {},
     "output_type": "execute_result"
    }
   ],
   "source": [
    "binary(5)"
   ]
  },
  {
   "cell_type": "code",
   "execution_count": 44,
   "id": "3da200be",
   "metadata": {},
   "outputs": [
    {
     "data": {
      "text/plain": [
       "'1010'"
      ]
     },
     "execution_count": 44,
     "metadata": {},
     "output_type": "execute_result"
    }
   ],
   "source": [
    "binary(10)"
   ]
  },
  {
   "cell_type": "code",
   "execution_count": null,
   "id": "d587cb82",
   "metadata": {},
   "outputs": [],
   "source": []
  }
 ],
 "metadata": {
  "kernelspec": {
   "display_name": "Python 3 (ipykernel)",
   "language": "python",
   "name": "python3"
  },
  "language_info": {
   "codemirror_mode": {
    "name": "ipython",
    "version": 3
   },
   "file_extension": ".py",
   "mimetype": "text/x-python",
   "name": "python",
   "nbconvert_exporter": "python",
   "pygments_lexer": "ipython3",
   "version": "3.9.12"
  }
 },
 "nbformat": 4,
 "nbformat_minor": 5
}
