{
 "cells": [
  {
   "cell_type": "markdown",
   "id": "daf43bce",
   "metadata": {},
   "source": [
    "<h2> 1. What are escape characters, and how do you use them?</h2>"
   ]
  },
  {
   "cell_type": "markdown",
   "id": "3c13135b",
   "metadata": {},
   "source": [
    "- Escape characters represent characters in string values that would otherwise be difficult to type into code.\n",
    "- These characters are typically represented with a backslash () followed by a character that represents the special character.\n",
    "- some of the escape characters are:\n",
    "\n",
    "    \\n - represents a newline character\n",
    "    \n",
    "    \\t - represents a tab character\n",
    "    \n",
    "    \\r - represents a carriage return character\n",
    "    \n",
    "    \\b - represents a backspace character"
   ]
  },
  {
   "cell_type": "code",
   "execution_count": 37,
   "id": "a50a07ca",
   "metadata": {},
   "outputs": [
    {
     "name": "stdout",
     "output_type": "stream",
     "text": [
      "\\n -  Hello\n",
      "World\n",
      "\n",
      "\\t -  Hello\tWorld\n",
      "\n",
      "\\r -\n",
      "     Hello\r",
      "world\n",
      "\n",
      "\\b -  HelloWorld\b\b\n"
     ]
    }
   ],
   "source": [
    "print(r\"\\n - \"+\" \"+\"Hello\\nWorld\")\n",
    "print()\n",
    "print(r\"\\t - \"+\" \"+\"Hello\\tWorld\")\n",
    "print()\n",
    "print(r\"\\r -\")\n",
    "print(\"     Hello\\rworld\")\n",
    "print()\n",
    "print(r\"\\b - \"+\" \"+\"HelloWorld\\b\\b\")"
   ]
  },
  {
   "cell_type": "markdown",
   "id": "90d7ec82",
   "metadata": {},
   "source": [
    "<h2> 2. What do the escape characters n and t stand for?</h2>"
   ]
  },
  {
   "cell_type": "markdown",
   "id": "5e231b4c",
   "metadata": {},
   "source": [
    "<h4>\\n is a newline</h4>\n",
    "\n",
    "    \n",
    "    \n",
    "    \n",
    "    \n",
    "<h4>\\t is a tab.</h4>"
   ]
  },
  {
   "cell_type": "markdown",
   "id": "accd4a15",
   "metadata": {},
   "source": [
    "<h2>3. What is the way to include backslash characters in a string?</h2>"
   ]
  },
  {
   "cell_type": "markdown",
   "id": "fce87e7b",
   "metadata": {},
   "source": [
    "<h4>The \\\\\\ escape character will represent a backslash character.</h4>"
   ]
  },
  {
   "cell_type": "code",
   "execution_count": 39,
   "id": "f572c8b9",
   "metadata": {},
   "outputs": [
    {
     "name": "stdout",
     "output_type": "stream",
     "text": [
      "\\ - backslash\n"
     ]
    }
   ],
   "source": [
    "print(\"\\\\ - backslash\")"
   ]
  },
  {
   "cell_type": "markdown",
   "id": "337d4398",
   "metadata": {},
   "source": [
    "<h2> 4. The string &quot;Howl&#39;s Moving Castle&quot; is a correct value. Why isn&#39;t the single quote character in the\n",
    "word Howl&#39;s not escaped a problem?</h2>"
   ]
  },
  {
   "cell_type": "markdown",
   "id": "bb6bfe3d",
   "metadata": {},
   "source": [
    "<h4>The single quote in \"Howl's\" is usable because double quotes are used to mark the beginning and end of the string.</h4>"
   ]
  },
  {
   "cell_type": "code",
   "execution_count": 40,
   "id": "fb05fb8b",
   "metadata": {},
   "outputs": [
    {
     "name": "stdout",
     "output_type": "stream",
     "text": [
      "Howl's Moving Castle\n"
     ]
    }
   ],
   "source": [
    "print(\"Howl's Moving Castle\")"
   ]
  },
  {
   "cell_type": "markdown",
   "id": "5726c718",
   "metadata": {},
   "source": [
    "<h2>5. How do you write a string of newlines if you don&#39;t want to use the n character?</h2>"
   ]
  },
  {
   "cell_type": "markdown",
   "id": "aa077ee6",
   "metadata": {},
   "source": [
    "<h4>Multiline strings allow you to use newlines in strings without the \\n escape character.</h4>"
   ]
  },
  {
   "cell_type": "code",
   "execution_count": 49,
   "id": "e17e281a",
   "metadata": {},
   "outputs": [
    {
     "name": "stdout",
     "output_type": "stream",
     "text": [
      "This is Multiline string \n",
      "This is newline\n",
      "This is newline\n",
      "\n",
      "This is Multiline string \n",
      "This is newline\n",
      "This is newline\n",
      "\n"
     ]
    }
   ],
   "source": [
    "print(\"\"\"This is Multiline string \n",
    "This is newline\n",
    "This is newline\"\"\")\n",
    "print()\n",
    "print('''This is Multiline string \n",
    "This is newline\n",
    "This is newline\n",
    "''')"
   ]
  },
  {
   "cell_type": "markdown",
   "id": "0b523768",
   "metadata": {},
   "source": [
    "<h2> 6. What are the values of the given expressions?\n",
    "    \n",
    "    \n",
    "    \n",
    "&#39;Hello, world!&#39;[1]\n",
    "\n",
    "&#39;Hello, world!&#39;[0:5]\n",
    "\n",
    "&#39;Hello, world!&#39;[:5]\n",
    "\n",
    "&#39;Hello, world!&#39;[3:] </h2>"
   ]
  },
  {
   "cell_type": "markdown",
   "id": "d831e183",
   "metadata": {},
   "source": [
    "\n",
    "\n",
    "    'e'\n",
    "\n",
    "    'Hello'\n",
    "\n",
    "    'Hello'\n",
    "\n",
    "    'lo world!\n"
   ]
  },
  {
   "cell_type": "code",
   "execution_count": 56,
   "id": "6723ea6e",
   "metadata": {},
   "outputs": [
    {
     "name": "stdout",
     "output_type": "stream",
     "text": [
      "e\n",
      "Hello\n",
      "Hello\n",
      "lo, world!\n"
     ]
    }
   ],
   "source": [
    "print('Hello, world!'[1])# 1 index of string is returned\n",
    "\n",
    "print('Hello, world!'[0:5])# string is sliced upto 5 characters\n",
    "\n",
    "print('Hello, world!'[:5])# string is sliced upto 5 characters\n",
    "\n",
    "print('Hello, world!'[3:]) #string is sliced from index 3 characters"
   ]
  },
  {
   "cell_type": "markdown",
   "id": "2d3d62f3",
   "metadata": {},
   "source": [
    "<h2> 7. What are the values of the following expressions?\n",
    "    \n",
    "&#39;Hello&#39;.upper()\n",
    "\n",
    "&#39;Hello&#39;.upper().isupper()\n",
    "\n",
    "&#39;Hello&#39;.upper().lower()</h2>"
   ]
  },
  {
   "cell_type": "markdown",
   "id": "f5c6807d",
   "metadata": {},
   "source": [
    "'HELLO'\n",
    "\n",
    "True\n",
    "\n",
    "'hello'"
   ]
  },
  {
   "cell_type": "code",
   "execution_count": 57,
   "id": "bd466280",
   "metadata": {},
   "outputs": [
    {
     "name": "stdout",
     "output_type": "stream",
     "text": [
      "HELLO\n",
      "True\n",
      "hello\n"
     ]
    }
   ],
   "source": [
    "print('Hello'.upper())#capital value of string is returned\n",
    "\n",
    "print('Hello'.upper().isupper())#string is converted to capital and checked if it is capital or not\n",
    "\n",
    "print('Hello'.upper().lower())#string is converted to capital and then to lower form"
   ]
  },
  {
   "cell_type": "markdown",
   "id": "0ba8adb0",
   "metadata": {},
   "source": [
    "<h2>8. What are the values of the following expressions?\n",
    "    \n",
    "&#39;Remember, remember, the fifth of July.&#39;.split()\n",
    "\n",
    "&#39;-&#39;.join(&#39;There can only one.&#39;.split())</h2>"
   ]
  },
  {
   "cell_type": "markdown",
   "id": "8c794cd7",
   "metadata": {},
   "source": [
    "['Remember,', 'remember,', 'the', 'fifth', 'of', 'November.']\n",
    "\n",
    "\n",
    "'There-can-be-only-one.'"
   ]
  },
  {
   "cell_type": "code",
   "execution_count": 59,
   "id": "d5f3ba1f",
   "metadata": {},
   "outputs": [
    {
     "name": "stdout",
     "output_type": "stream",
     "text": [
      "['Remember,', 'remember,', 'the', 'fifth', 'of', 'July.']\n"
     ]
    },
    {
     "data": {
      "text/plain": [
       "'There-can-only-one.'"
      ]
     },
     "execution_count": 59,
     "metadata": {},
     "output_type": "execute_result"
    }
   ],
   "source": [
    "print('Remember, remember, the fifth of July.'.split()) # split the string and converts to list of strings\n",
    "'-'.join('There can only one.'.split())#replaces all white spaces with \"-\""
   ]
  },
  {
   "cell_type": "markdown",
   "id": "00220ed8",
   "metadata": {},
   "source": [
    "<h2> 9. What are the methods for right-justifying, left-justifying, and centering a string?</h2>"
   ]
  },
  {
   "cell_type": "markdown",
   "id": "0f907f72",
   "metadata": {},
   "source": [
    "<h4>The rjust(), ljust(), and center() string methods, respectively</h4>"
   ]
  },
  {
   "cell_type": "code",
   "execution_count": 61,
   "id": "e1833860",
   "metadata": {},
   "outputs": [
    {
     "name": "stdout",
     "output_type": "stream",
     "text": [
      "-------hey\n",
      "hello-----\n",
      "--center--\n"
     ]
    }
   ],
   "source": [
    "print(\"hey\".rjust(10,\"-\"))#adds fillchar to right of string\n",
    "print(\"hello\".ljust(10,\"-\"))#adds fillchar to left of string\n",
    "print(\"center\".center(10,\"-\"))#centers the string and adds fillchar to left and right"
   ]
  },
  {
   "cell_type": "markdown",
   "id": "30b525c9",
   "metadata": {},
   "source": [
    "<h2>10. What is the best way to remove whitespace characters from the start or end?</h2>"
   ]
  },
  {
   "cell_type": "markdown",
   "id": "4df048c2",
   "metadata": {},
   "source": [
    "<h4>The lstrip() and rstrip() methods remove whitespace from the left and right ends of a string..</h4>"
   ]
  },
  {
   "cell_type": "code",
   "execution_count": 64,
   "id": "0820ad16",
   "metadata": {
    "scrolled": true
   },
   "outputs": [
    {
     "name": "stdout",
     "output_type": "stream",
     "text": [
      "     hello    \n"
     ]
    }
   ],
   "source": [
    "print(\"     hello    \")"
   ]
  },
  {
   "cell_type": "code",
   "execution_count": 63,
   "id": "b2c02445",
   "metadata": {},
   "outputs": [
    {
     "name": "stdout",
     "output_type": "stream",
     "text": [
      "hello\n"
     ]
    }
   ],
   "source": [
    "print(\"     hello     \".lstrip().rstrip())"
   ]
  },
  {
   "cell_type": "code",
   "execution_count": 68,
   "id": "8eafe04e",
   "metadata": {},
   "outputs": [
    {
     "name": "stdout",
     "output_type": "stream",
     "text": [
      "****hello*****\n"
     ]
    }
   ],
   "source": [
    "print(\"****hello*****\")"
   ]
  },
  {
   "cell_type": "code",
   "execution_count": 67,
   "id": "cdbd9936",
   "metadata": {},
   "outputs": [
    {
     "name": "stdout",
     "output_type": "stream",
     "text": [
      "hello\n"
     ]
    }
   ],
   "source": [
    "print(\"****hello*****\".lstrip('*').rstrip('*'))"
   ]
  },
  {
   "cell_type": "code",
   "execution_count": null,
   "id": "6ba1f639",
   "metadata": {},
   "outputs": [],
   "source": [
    "!git add .\n",
    "!git commit -m \"assignment_6\"\n",
    "!git p"
   ]
  }
 ],
 "metadata": {
  "kernelspec": {
   "display_name": "Python 3 (ipykernel)",
   "language": "python",
   "name": "python3"
  },
  "language_info": {
   "codemirror_mode": {
    "name": "ipython",
    "version": 3
   },
   "file_extension": ".py",
   "mimetype": "text/x-python",
   "name": "python",
   "nbconvert_exporter": "python",
   "pygments_lexer": "ipython3",
   "version": "3.9.12"
  }
 },
 "nbformat": 4,
 "nbformat_minor": 5
}
