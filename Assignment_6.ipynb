{
 "cells": [
  {
   "cell_type": "markdown",
   "id": "d3a2fc5a",
   "metadata": {},
   "source": [
    "<h2> 1. What are escape characters, and how do you use them?</h2>"
   ]
  },
  {
   "cell_type": "markdown",
   "id": "02082471",
   "metadata": {},
   "source": [
    "- Escape characters represent characters in string values that would otherwise be difficult to type into code.\n",
    "- These characters are typically represented with a backslash () followed by a character that represents the special character.\n",
    "- some of the escape characters are:\n",
    "\n",
    "    \\n - represents a newline character\n",
    "    \n",
    "    \\t - represents a tab character\n",
    "    \n",
    "    \\r - represents a carriage return character\n",
    "    \n",
    "    \\b - represents a backspace character"
   ]
  },
  {
   "cell_type": "code",
   "execution_count": 37,
   "id": "9bb1b8e7",
   "metadata": {},
   "outputs": [
    {
     "name": "stdout",
     "output_type": "stream",
     "text": [
      "\\n -  Hello\n",
      "World\n",
      "\n",
      "\\t -  Hello\tWorld\n",
      "\n",
      "\\r -\n",
      "     Hello\r",
      "world\n",
      "\n",
      "\\b -  HelloWorld\b\b\n"
     ]
    }
   ],
   "source": [
    "print(r\"\\n - \"+\" \"+\"Hello\\nWorld\")\n",
    "print()\n",
    "print(r\"\\t - \"+\" \"+\"Hello\\tWorld\")\n",
    "print()\n",
    "print(r\"\\r -\")\n",
    "print(\"     Hello\\rworld\")\n",
    "print()\n",
    "print(r\"\\b - \"+\" \"+\"HelloWorld\\b\\b\")"
   ]
  },
  {
   "cell_type": "markdown",
   "id": "756a9094",
   "metadata": {},
   "source": [
    "<h2> 2. What do the escape characters n and t stand for?</h2>"
   ]
  },
  {
   "cell_type": "markdown",
   "id": "b75bbb24",
   "metadata": {},
   "source": [
    "<h4>\\n is a newline</h4>\n",
    "\n",
    "    \n",
    "    \n",
    "    \n",
    "    \n",
    "<h4>\\t is a tab.</h4>"
   ]
  },
  {
   "cell_type": "markdown",
   "id": "ab83f1a1",
   "metadata": {},
   "source": [
    "<h2>3. What is the way to include backslash characters in a string?</h2>"
   ]
  },
  {
   "cell_type": "markdown",
   "id": "400d180b",
   "metadata": {},
   "source": [
    "<h4>The \\\\\\ escape character will represent a backslash character.</h4>"
   ]
  },
  {
   "cell_type": "code",
   "execution_count": 39,
   "id": "f8851177",
   "metadata": {},
   "outputs": [
    {
     "name": "stdout",
     "output_type": "stream",
     "text": [
      "\\ - backslash\n"
     ]
    }
   ],
   "source": [
    "print(\"\\\\ - backslash\")"
   ]
  },
  {
   "cell_type": "markdown",
   "id": "109216db",
   "metadata": {},
   "source": [
    "<h2> 4. The string &quot;Howl&#39;s Moving Castle&quot; is a correct value. Why isn&#39;t the single quote character in the\n",
    "word Howl&#39;s not escaped a problem?</h2>"
   ]
  },
  {
   "cell_type": "markdown",
   "id": "46e789b9",
   "metadata": {},
   "source": [
    "<h4>The single quote in \"Howl's\" is usable because double quotes are used to mark the beginning and end of the string.</h4>"
   ]
  },
  {
   "cell_type": "code",
   "execution_count": 40,
   "id": "c0067356",
   "metadata": {},
   "outputs": [
    {
     "name": "stdout",
     "output_type": "stream",
     "text": [
      "Howl's Moving Castle\n"
     ]
    }
   ],
   "source": [
    "print(\"Howl's Moving Castle\")"
   ]
  },
  {
   "cell_type": "markdown",
   "id": "d2fa7867",
   "metadata": {},
   "source": [
    "<h2>5. How do you write a string of newlines if you don&#39;t want to use the n character?</h2>"
   ]
  },
  {
   "cell_type": "markdown",
   "id": "1e75cf84",
   "metadata": {},
   "source": [
    "<h4>Multiline strings allow you to use newlines in strings without the \\n escape character.</h4>"
   ]
  },
  {
   "cell_type": "code",
   "execution_count": 49,
   "id": "68c9a023",
   "metadata": {},
   "outputs": [
    {
     "name": "stdout",
     "output_type": "stream",
     "text": [
      "This is Multiline string \n",
      "This is newline\n",
      "This is newline\n",
      "\n",
      "This is Multiline string \n",
      "This is newline\n",
      "This is newline\n",
      "\n"
     ]
    }
   ],
   "source": [
    "print(\"\"\"This is Multiline string \n",
    "This is newline\n",
    "This is newline\"\"\")\n",
    "print()\n",
    "print('''This is Multiline string \n",
    "This is newline\n",
    "This is newline\n",
    "''')"
   ]
  },
  {
   "cell_type": "markdown",
   "id": "277b57b8",
   "metadata": {},
   "source": [
    "<h2> 6. What are the values of the given expressions?\n",
    "    \n",
    "    \n",
    "    \n",
    "&#39;Hello, world!&#39;[1]\n",
    "\n",
    "&#39;Hello, world!&#39;[0:5]\n",
    "\n",
    "&#39;Hello, world!&#39;[:5]\n",
    "\n",
    "&#39;Hello, world!&#39;[3:] </h2>"
   ]
  },
  {
   "cell_type": "markdown",
   "id": "89ba69b0",
   "metadata": {},
   "source": [
    "\n",
    "\n",
    "    'e'\n",
    "\n",
    "    'Hello'\n",
    "\n",
    "    'Hello'\n",
    "\n",
    "    'lo world!\n"
   ]
  },
  {
   "cell_type": "code",
   "execution_count": 56,
   "id": "6d09bdcf",
   "metadata": {},
   "outputs": [
    {
     "name": "stdout",
     "output_type": "stream",
     "text": [
      "e\n",
      "Hello\n",
      "Hello\n",
      "lo, world!\n"
     ]
    }
   ],
   "source": [
    "print('Hello, world!'[1])# 1 index of string is returned\n",
    "\n",
    "print('Hello, world!'[0:5])# string is sliced upto 5 characters\n",
    "\n",
    "print('Hello, world!'[:5])# string is sliced upto 5 characters\n",
    "\n",
    "print('Hello, world!'[3:]) #string is sliced from index 3 characters"
   ]
  },
  {
   "cell_type": "markdown",
   "id": "f899ab3d",
   "metadata": {},
   "source": [
    "<h2> 7. What are the values of the following expressions?\n",
    "    \n",
    "&#39;Hello&#39;.upper()\n",
    "\n",
    "&#39;Hello&#39;.upper().isupper()\n",
    "\n",
    "&#39;Hello&#39;.upper().lower()</h2>"
   ]
  },
  {
   "cell_type": "markdown",
   "id": "de3d6791",
   "metadata": {},
   "source": [
    "'HELLO'\n",
    "\n",
    "True\n",
    "\n",
    "'hello'"
   ]
  },
  {
   "cell_type": "code",
   "execution_count": 57,
   "id": "988db8f5",
   "metadata": {},
   "outputs": [
    {
     "name": "stdout",
     "output_type": "stream",
     "text": [
      "HELLO\n",
      "True\n",
      "hello\n"
     ]
    }
   ],
   "source": [
    "print('Hello'.upper())#capital value of string is returned\n",
    "\n",
    "print('Hello'.upper().isupper())#string is converted to capital and checked if it is capital or not\n",
    "\n",
    "print('Hello'.upper().lower())#string is converted to capital and then to lower form"
   ]
  },
  {
   "cell_type": "markdown",
   "id": "b774e632",
   "metadata": {},
   "source": [
    "<h2>8. What are the values of the following expressions?\n",
    "    \n",
    "&#39;Remember, remember, the fifth of July.&#39;.split()\n",
    "\n",
    "&#39;-&#39;.join(&#39;There can only one.&#39;.split())</h2>"
   ]
  },
  {
   "cell_type": "markdown",
   "id": "9d9436bd",
   "metadata": {},
   "source": [
    "['Remember,', 'remember,', 'the', 'fifth', 'of', 'November.']\n",
    "\n",
    "\n",
    "'There-can-be-only-one.'"
   ]
  },
  {
   "cell_type": "code",
   "execution_count": 59,
   "id": "2b824e6c",
   "metadata": {},
   "outputs": [
    {
     "name": "stdout",
     "output_type": "stream",
     "text": [
      "['Remember,', 'remember,', 'the', 'fifth', 'of', 'July.']\n"
     ]
    },
    {
     "data": {
      "text/plain": [
       "'There-can-only-one.'"
      ]
     },
     "execution_count": 59,
     "metadata": {},
     "output_type": "execute_result"
    }
   ],
   "source": [
    "print('Remember, remember, the fifth of July.'.split()) # split the string and converts to list of strings\n",
    "'-'.join('There can only one.'.split())#replaces all white spaces with \"-\""
   ]
  },
  {
   "cell_type": "markdown",
   "id": "5a3715ab",
   "metadata": {},
   "source": [
    "<h2> 9. What are the methods for right-justifying, left-justifying, and centering a string?</h2>"
   ]
  },
  {
   "cell_type": "markdown",
   "id": "6b6f591b",
   "metadata": {},
   "source": [
    "<h4>The rjust(), ljust(), and center() string methods, respectively</h4>"
   ]
  },
  {
   "cell_type": "code",
   "execution_count": 61,
   "id": "01a4bf37",
   "metadata": {},
   "outputs": [
    {
     "name": "stdout",
     "output_type": "stream",
     "text": [
      "-------hey\n",
      "hello-----\n",
      "--center--\n"
     ]
    }
   ],
   "source": [
    "print(\"hey\".rjust(10,\"-\"))#adds fillchar to right of string\n",
    "print(\"hello\".ljust(10,\"-\"))#adds fillchar to left of string\n",
    "print(\"center\".center(10,\"-\"))#centers the string and adds fillchar to left and right"
   ]
  },
  {
   "cell_type": "markdown",
   "id": "236d2c01",
   "metadata": {},
   "source": [
    "<h2>10. What is the best way to remove whitespace characters from the start or end?</h2>"
   ]
  },
  {
   "cell_type": "markdown",
   "id": "1e659ca2",
   "metadata": {},
   "source": [
    "<h4>The lstrip() and rstrip() methods remove whitespace from the left and right ends of a string..</h4>"
   ]
  },
  {
   "cell_type": "code",
   "execution_count": 64,
   "id": "10d8bbfd",
   "metadata": {
    "scrolled": true
   },
   "outputs": [
    {
     "name": "stdout",
     "output_type": "stream",
     "text": [
      "     hello    \n"
     ]
    }
   ],
   "source": [
    "print(\"     hello    \")"
   ]
  },
  {
   "cell_type": "code",
   "execution_count": 63,
   "id": "41c6bbe8",
   "metadata": {},
   "outputs": [
    {
     "name": "stdout",
     "output_type": "stream",
     "text": [
      "hello\n"
     ]
    }
   ],
   "source": [
    "print(\"     hello     \".lstrip().rstrip())"
   ]
  },
  {
   "cell_type": "code",
   "execution_count": 68,
   "id": "99c2b647",
   "metadata": {},
   "outputs": [
    {
     "name": "stdout",
     "output_type": "stream",
     "text": [
      "****hello*****\n"
     ]
    }
   ],
   "source": [
    "print(\"****hello*****\")"
   ]
  },
  {
   "cell_type": "code",
   "execution_count": 67,
   "id": "04fe1b71",
   "metadata": {},
   "outputs": [
    {
     "name": "stdout",
     "output_type": "stream",
     "text": [
      "hello\n"
     ]
    }
   ],
   "source": [
    "print(\"****hello*****\".lstrip('*').rstrip('*'))"
   ]
  }
 ],
 "metadata": {
  "kernelspec": {
   "display_name": "Python 3 (ipykernel)",
   "language": "python",
   "name": "python3"
  },
  "language_info": {
   "codemirror_mode": {
    "name": "ipython",
    "version": 3
   },
   "file_extension": ".py",
   "mimetype": "text/x-python",
   "name": "python",
   "nbconvert_exporter": "python",
   "pygments_lexer": "ipython3",
   "version": "3.9.12"
  }
 },
 "nbformat": 4,
 "nbformat_minor": 5
}
