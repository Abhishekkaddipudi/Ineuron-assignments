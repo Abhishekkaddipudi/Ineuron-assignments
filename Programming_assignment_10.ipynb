{
 "cells": [
  {
   "cell_type": "markdown",
   "id": "657536c0",
   "metadata": {},
   "source": [
    "#### 1. Write a Python program to find sum of elements in list?"
   ]
  },
  {
   "cell_type": "code",
   "execution_count": 4,
   "id": "a9a1eab2",
   "metadata": {},
   "outputs": [
    {
     "name": "stdout",
     "output_type": "stream",
     "text": [
      "Enter the elements of array: 1 2 3 4 5 6 7 8 9 9 9 1 12 21\n",
      "sum of elements in list: 97\n"
     ]
    }
   ],
   "source": [
    "list_num=input(\"Enter the elements of array: \").split(\" \")\n",
    "for i in range(len(list_num)):\n",
    "    list_num[i]=int(list_num[i])\n",
    "print(f\"sum of elements in list: {sum(list_num)}\")"
   ]
  },
  {
   "cell_type": "markdown",
   "id": "2200e995",
   "metadata": {},
   "source": [
    "#### 2. Write a Python program to Multiply all numbers in the list?"
   ]
  },
  {
   "cell_type": "code",
   "execution_count": 8,
   "id": "1ad6a8b4",
   "metadata": {},
   "outputs": [
    {
     "name": "stdout",
     "output_type": "stream",
     "text": [
      "Enter the elements of array: 2 3 4 5 6 7 8 9 -1\n",
      "sum of elements in list: -362880\n"
     ]
    }
   ],
   "source": [
    "import numpy as np\n",
    "list_num=input(\"Enter the elements of array: \").split(\" \")\n",
    "for i in range(len(list_num)):\n",
    "    list_num[i]=int(list_num[i])\n",
    "print(f\"Product of elements in list: {np.prod(list_num)}\")"
   ]
  },
  {
   "cell_type": "markdown",
   "id": "60f63507",
   "metadata": {},
   "source": [
    "#### 3. Write a Python program to find smallest number in a list?"
   ]
  },
  {
   "cell_type": "code",
   "execution_count": 9,
   "id": "1ac7082b",
   "metadata": {},
   "outputs": [
    {
     "name": "stdout",
     "output_type": "stream",
     "text": [
      "Enter the elements of array: 1 2 3 40 -1 2 3 4 5 6\n",
      "smallest of element in list: -1\n"
     ]
    }
   ],
   "source": [
    "list_num=input(\"Enter the elements of array: \").split(\" \")\n",
    "for i in range(len(list_num)):\n",
    "    list_num[i]=int(list_num[i])\n",
    "print(f\"smallest of element in list: {min(list_num)}\")"
   ]
  },
  {
   "cell_type": "markdown",
   "id": "2468007a",
   "metadata": {},
   "source": [
    "#### 4. Write a Python program to find largest number in a list?"
   ]
  },
  {
   "cell_type": "code",
   "execution_count": 11,
   "id": "a538f133",
   "metadata": {},
   "outputs": [
    {
     "name": "stdout",
     "output_type": "stream",
     "text": [
      "Enter the elements of array: 1 2 2 3 4 5 44 32 2 2\n",
      "smallest of element in list: 44\n"
     ]
    }
   ],
   "source": [
    "list_num=input(\"Enter the elements of array: \").split(\" \")\n",
    "for i in range(len(list_num)):\n",
    "    list_num[i]=int(list_num[i])\n",
    "print(f\"smallest of element in list: {max(list_num)}\")"
   ]
  },
  {
   "cell_type": "markdown",
   "id": "0f50540f",
   "metadata": {},
   "source": [
    "#### 5. Write a Python program to find second largest number in a list?"
   ]
  },
  {
   "cell_type": "code",
   "execution_count": 14,
   "id": "2c528f8f",
   "metadata": {},
   "outputs": [
    {
     "name": "stdout",
     "output_type": "stream",
     "text": [
      "Enter the elements of array: 1 2 3 45 4 42 2 7 8 9\n",
      "second largest number in a list: 42\n"
     ]
    }
   ],
   "source": [
    "list_num=input(\"Enter the elements of array: \").split(\" \")\n",
    "for i in range(len(list_num)):\n",
    "    list_num[i]=int(list_num[i])\n",
    "list_num.sort()\n",
    "print(f\"second largest number in a list: {list_num[-2]}\")"
   ]
  },
  {
   "cell_type": "markdown",
   "id": "d5a9a627",
   "metadata": {},
   "source": [
    "#### 6. Write a Python program to find N largest elements from a list?"
   ]
  },
  {
   "cell_type": "code",
   "execution_count": 18,
   "id": "99877177",
   "metadata": {},
   "outputs": [
    {
     "name": "stdout",
     "output_type": "stream",
     "text": [
      "Enter the elements of array: 1 2 3 4 5 6 7 8 9\n",
      "Enter Nth largest element to find: 9\n",
      "second largest number in a list: 1\n"
     ]
    }
   ],
   "source": [
    "list_num=input(\"Enter the elements of array: \").split(\" \")\n",
    "n=int(input(f\"Enter Nth largest element to find: \"))\n",
    "for i in range(len(list_num)):\n",
    "    list_num[i]=int(list_num[i])\n",
    "list_num.sort()\n",
    "if n > len(list_num):\n",
    "    print(f\"There are only {len(list_num)} elements in the given list\")\n",
    "else:\n",
    "    print(f\"second largest number in a list: {list_num[-n]}\")"
   ]
  },
  {
   "cell_type": "markdown",
   "id": "165dde0c",
   "metadata": {},
   "source": [
    "#### 7. Write a Python program to print even numbers in a list?"
   ]
  },
  {
   "cell_type": "code",
   "execution_count": 19,
   "id": "4e4ae6da",
   "metadata": {},
   "outputs": [
    {
     "name": "stdout",
     "output_type": "stream",
     "text": [
      "Enter the elements of array: 2 3 4 5 6 7 8 2 1\n",
      "the even numbers in list are: \n",
      "2 4 6 8 2 "
     ]
    }
   ],
   "source": [
    "list_num=input(\"Enter the elements of array: \").split(\" \")\n",
    "for i in range(len(list_num)):\n",
    "    list_num[i]=int(list_num[i])\n",
    "    \n",
    "print(f\"the even numbers in list are: \")\n",
    "for i in list_num:\n",
    "    if i % 2 ==0:\n",
    "        print(i,end=\" \")"
   ]
  },
  {
   "cell_type": "markdown",
   "id": "1c49ef5a",
   "metadata": {},
   "source": [
    "#### 8. Write a Python program to print odd numbers in a List?"
   ]
  },
  {
   "cell_type": "code",
   "execution_count": 20,
   "id": "d3ea453c",
   "metadata": {},
   "outputs": [
    {
     "name": "stdout",
     "output_type": "stream",
     "text": [
      "Enter the elements of array: 2 3 4 5 6 7 8 2 1\n",
      "the even numbers in list are: \n",
      "3 5 7 1 "
     ]
    }
   ],
   "source": [
    "list_num=input(\"Enter the elements of array: \").split(\" \")\n",
    "for i in range(len(list_num)):\n",
    "    list_num[i]=int(list_num[i])\n",
    "    \n",
    "print(f\"the even numbers in list are: \")\n",
    "for i in list_num:\n",
    "    if i % 2 !=0:\n",
    "        print(i,end=\" \")"
   ]
  },
  {
   "cell_type": "markdown",
   "id": "b7d536c5",
   "metadata": {},
   "source": [
    "#### 9. Write a Python program to Remove empty List from List?"
   ]
  },
  {
   "cell_type": "code",
   "execution_count": 32,
   "id": "3547a670",
   "metadata": {},
   "outputs": [
    {
     "name": "stdout",
     "output_type": "stream",
     "text": [
      "Original List: [5, 4, 3, 2, [], 2, 3, [], 4, []]\n",
      "Removong empty List: [5, 4, 3, 2, 2, 3, 4]\n"
     ]
    }
   ],
   "source": [
    "list_num=[5,4,3,2,[],2,3,[],4,[]]\n",
    "print(f\"Original List: {list_num}\")\n",
    "list_num = [ele for ele in list_num if ele != []]\n",
    "print(f\"Removong empty List: {list_num}\")"
   ]
  },
  {
   "cell_type": "markdown",
   "id": "2741e8fd",
   "metadata": {},
   "source": [
    "#### 10. Write a Python program to Cloning or Copying a list?"
   ]
  },
  {
   "cell_type": "code",
   "execution_count": 34,
   "id": "c329fcf0",
   "metadata": {},
   "outputs": [
    {
     "name": "stdout",
     "output_type": "stream",
     "text": [
      "Enter the elements of array: hello 1 2 3 4 5 6 7 \n",
      "Copyied list: ['hello', '1', '2', '3', '4', '5', '6', '7', '']\n"
     ]
    }
   ],
   "source": [
    "def copying(l):\n",
    "    return l[:]\n",
    "li=input(\"Enter the elements of array: \").split(\" \")\n",
    "copied_list=copying(li)\n",
    "print(f\"Copyied list: {copied_list}\")"
   ]
  },
  {
   "cell_type": "markdown",
   "id": "eb37eb5e",
   "metadata": {},
   "source": [
    "#### 11. Write a Python program to Count occurrences of an element in a list?"
   ]
  },
  {
   "cell_type": "code",
   "execution_count": 35,
   "id": "506f603d",
   "metadata": {},
   "outputs": [
    {
     "name": "stdout",
     "output_type": "stream",
     "text": [
      "Enter the elements of array: 2 2 2 2 23 2 23 4 5 \n",
      "enter the element to find: 2\n",
      "2 occurs 5 times\n"
     ]
    }
   ],
   "source": [
    "li=input(\"Enter the elements of array: \").split(\" \")\n",
    "k=input(\"enter the element to find: \")\n",
    "print(f\"{k} occurs {li.count(k)} times\")"
   ]
  }
 ],
 "metadata": {
  "kernelspec": {
   "display_name": "Python 3 (ipykernel)",
   "language": "python",
   "name": "python3"
  },
  "language_info": {
   "codemirror_mode": {
    "name": "ipython",
    "version": 3
   },
   "file_extension": ".py",
   "mimetype": "text/x-python",
   "name": "python",
   "nbconvert_exporter": "python",
   "pygments_lexer": "ipython3",
   "version": "3.9.12"
  }
 },
 "nbformat": 4,
 "nbformat_minor": 5
}
