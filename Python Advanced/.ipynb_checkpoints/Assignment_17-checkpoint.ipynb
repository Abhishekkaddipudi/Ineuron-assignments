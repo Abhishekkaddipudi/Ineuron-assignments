{
 "cells": [
  {
   "cell_type": "markdown",
   "id": "ad9b8df1",
   "metadata": {},
   "source": [
    "<h2>Q1. Explain the difference between greedy and non-greedy syntax with visual terms in as few words as possible. What is the bare minimum effort required to transform a greedy pattern into a non-greedy one? What characters or characters can you introduce or change?</h2>"
   ]
  },
  {
   "cell_type": "markdown",
   "id": "979154ca",
   "metadata": {},
   "source": [
    "In regular expressions, a greedy syntax matches as much as possible, while a non-greedy (also known as lazy) syntax matches as little as possible. \n",
    "\n",
    "To transform a greedy pattern into a non-greedy one, you can introduce a question mark (`?`) after the quantifier (`*`, `+`, `?`, `{m,n}`). This changes the quantifier from greedy to non-greedy.\n",
    "\n",
    "For example, the greedy pattern .* matches the longest possible string, while the non-greedy pattern .*? matches the shortest possible string."
   ]
  },
  {
   "cell_type": "code",
   "execution_count": 4,
   "id": "099183ee",
   "metadata": {},
   "outputs": [
    {
     "name": "stdout",
     "output_type": "stream",
     "text": [
      "['vvvvvv', '']\n",
      "['', 'v', '', 'v', '', 'v', '', 'v', '', 'v', '', 'v', '']\n"
     ]
    }
   ],
   "source": [
    "import re\n",
    "print(re.findall(\"v*\", \"vvvvvv\")) # Greedy Match Synatx\n",
    "print(re.findall(\"v*?\", \"vvvvvv\")) # Non Greddy Syntax"
   ]
  },
  {
   "cell_type": "markdown",
   "id": "750f9b90",
   "metadata": {},
   "source": [
    "<h2>Q2. When exactly does greedy versus non-greedy make a difference?  What if you're looking for a non-greedy match but the only one available is greedy?</h2>"
   ]
  },
  {
   "cell_type": "markdown",
   "id": "334f912d",
   "metadata": {},
   "source": [
    "Greedy versus non-greedy makes a difference when there are multiple matches in the text.\n",
    "\n",
    "Greedy matches the longest possible string, while non-greedy matches the shortest possible string."
   ]
  },
  {
   "cell_type": "markdown",
   "id": "9ff92e9f",
   "metadata": {},
   "source": [
    "<h2>Q3. In a simple match of a string, which looks only for one match and does not do any replacement, is the use of a nontagged group likely to make any practical difference?</h2>"
   ]
  },
  {
   "cell_type": "markdown",
   "id": "4ace8d6b",
   "metadata": {},
   "source": [
    "In a simple match that looks for only one match and does not do any replacement, the use of a non-tagged group (`(?:...)`) may not make a practical difference. \n",
    "\n",
    "Non-tagged groups are primarily used for grouping and capturing, but if you don't need to capture the matched substring or refer to it later in the expression or code, using a non-tagged group might not have a significant impact."
   ]
  },
  {
   "cell_type": "code",
   "execution_count": 6,
   "id": "307284f7",
   "metadata": {},
   "outputs": [
    {
     "name": "stdout",
     "output_type": "stream",
     "text": [
      "Phone number found -> 234\n",
      "Phone number found -> 234\n"
     ]
    }
   ],
   "source": [
    "import re\n",
    "phoneNumRegex = re.compile(r'\\d\\d\\d')\n",
    "num = phoneNumRegex.search('My number is 234-567-8901.')\n",
    "print(f'Phone number found -> {num.group()}') # Non Tagged group\n",
    "print(f'Phone number found -> {num.group(0)}') # Tagged Group"
   ]
  },
  {
   "cell_type": "markdown",
   "id": "21659d03",
   "metadata": {},
   "source": [
    "<h2>Q4. Describe a scenario in which using a non-tagged category would have a significant impact on the program's outcomes.</h2>"
   ]
  },
  {
   "cell_type": "markdown",
   "id": "22b455fa",
   "metadata": {},
   "source": [
    "A scenario where using a non-tagged category (`(?:...)`) would have a significant impact is when you want to group a portion of the regular expression for logical grouping or applying a quantifier, but you don't need to capture the matched substring or refer to it later."
   ]
  },
  {
   "cell_type": "code",
   "execution_count": 7,
   "id": "3d7c0c5c",
   "metadata": {},
   "outputs": [
    {
     "data": {
      "text/plain": [
       "('135', '456')"
      ]
     },
     "execution_count": 7,
     "metadata": {},
     "output_type": "execute_result"
    }
   ],
   "source": [
    "import re\n",
    "text='135.456'\n",
    "pattern=r'(\\d+)(?:.)(\\d+)'\n",
    "regobj=re.compile(pattern)\n",
    "matobj=regobj.search(text)\n",
    "matobj.groups()"
   ]
  },
  {
   "cell_type": "markdown",
   "id": "f927c893",
   "metadata": {},
   "source": [
    "<h2>Q5. Unlike a normal regex pattern, a look-ahead condition does not consume the characters it examines. Describe a situation in which this could make a difference in the results of your program.</h2>"
   ]
  },
  {
   "cell_type": "markdown",
   "id": "3adc8c53",
   "metadata": {},
   "source": [
    "One situation where the non-consumptive nature of look-ahead conditions in a regex pattern can make a difference is when you want to find overlapping matches."
   ]
  },
  {
   "cell_type": "code",
   "execution_count": 36,
   "id": "03c2de72",
   "metadata": {},
   "outputs": [
    {
     "name": "stdout",
     "output_type": "stream",
     "text": [
      "Positive Look-Ahead Matches: ['apple']\n",
      "Negative Look-Ahead Matches: ['apple', 'banana', 'cherry', 'date']\n"
     ]
    }
   ],
   "source": [
    "import re\n",
    "\n",
    "text = \"apple banana cherry date\"\n",
    "\n",
    "# Positive Look-Ahead\n",
    "positive_pattern = r\"\\w+(?=\\sbanana)\"\n",
    "positive_matches = re.findall(positive_pattern, text)\n",
    "print(\"Positive Look-Ahead Matches:\", positive_matches)\n",
    "\n",
    "\n",
    "# Negative Look-Ahead\n",
    "negative_pattern = r\"\\w+(?!\\sanana)\"\n",
    "negative_matches = re.findall(negative_pattern, text)\n",
    "print(\"Negative Look-Ahead Matches:\", negative_matches)\n",
    "\n"
   ]
  },
  {
   "cell_type": "markdown",
   "id": "7c46be21",
   "metadata": {},
   "source": [
    "<h2>Q6. In standard expressions, what is the difference between positive look-ahead and negative look-ahead?</h2>"
   ]
  },
  {
   "cell_type": "markdown",
   "id": "9dddf36a",
   "metadata": {},
   "source": [
    "In standard regular expressions, positive look-ahead and negative look-ahead are two types of look-ahead conditions with different purposes:\n",
    "\n",
    "  * Positive Look-Ahead ((?=...)): Positive look-ahead asserts that the pattern inside the look-ahead must be followed by the main pattern for a match to occur. It is used to ensure that a certain pattern exists ahead in the text without including it in the actual match.\n",
    "  \n"
   ]
  },
  {
   "cell_type": "markdown",
   "id": "9d6e4dbf",
   "metadata": {},
   "source": [
    "  \n",
    "\n",
    "  * Negative Look-Ahead ((?!...)): Negative look-ahead asserts that the pattern inside the look-ahead must not be followed by the main pattern for a match to occur. It is used to ensure that a certain pattern does not exist ahead in the text without including it in the actual match."
   ]
  },
  {
   "cell_type": "markdown",
   "id": "26f7e5a6",
   "metadata": {},
   "source": [
    "<h2>Q7. What is the benefit of referring to groups by name rather than by number in a standard expression?</h2>"
   ]
  },
  {
   "cell_type": "markdown",
   "id": "cd96db11",
   "metadata": {},
   "source": [
    "referring to groups by name improves the readability, maintainability, clarity, and accessibility of regular expressions in code."
   ]
  },
  {
   "cell_type": "markdown",
   "id": "ad3555ce",
   "metadata": {},
   "source": [
    "<h2>Q8. Can you identify repeated items within a target string using named groups, as in \"The cow jumped over the moon\"?</h2>"
   ]
  },
  {
   "cell_type": "markdown",
   "id": "c3407131",
   "metadata": {},
   "source": [
    "Yes, you can identify repeated items within a target string using named groups in regular expressions."
   ]
  },
  {
   "cell_type": "code",
   "execution_count": 13,
   "id": "7933578f",
   "metadata": {},
   "outputs": [
    {
     "data": {
      "text/plain": [
       "['The', 'the']"
      ]
     },
     "execution_count": 13,
     "metadata": {},
     "output_type": "execute_result"
    }
   ],
   "source": [
    "import re\n",
    "text = \"The cow jumped over the moon\"\n",
    "regobj=re.compile(r'(?P<w1>The)',re.I)\n",
    "regobj.findall(text)"
   ]
  },
  {
   "cell_type": "markdown",
   "id": "5dd59f21",
   "metadata": {},
   "source": [
    "<h2>Q9. When parsing a string, what is at least one thing that the Scanner interface does for you that the re.findall feature does not?</h2>"
   ]
  },
  {
   "cell_type": "markdown",
   "id": "a361c6b7",
   "metadata": {},
   "source": [
    "The Scanner interface provides a more advanced and flexible way to parse strings by allowing you to define multiple patterns and associated actions, enabling more complex parsing tasks compared to the ```re.findall()``` feature."
   ]
  },
  {
   "cell_type": "markdown",
   "id": "14bc3cd0",
   "metadata": {},
   "source": [
    "<h2>Q10. Does a scanner object have to be named scanner?</h2>"
   ]
  },
  {
   "cell_type": "markdown",
   "id": "5d8c37b7",
   "metadata": {},
   "source": [
    "The choice of variable name for the scanner object is independent of its functionality."
   ]
  }
 ],
 "metadata": {
  "kernelspec": {
   "display_name": "Python 3 (ipykernel)",
   "language": "python",
   "name": "python3"
  },
  "language_info": {
   "codemirror_mode": {
    "name": "ipython",
    "version": 3
   },
   "file_extension": ".py",
   "mimetype": "text/x-python",
   "name": "python",
   "nbconvert_exporter": "python",
   "pygments_lexer": "ipython3",
   "version": "3.10.11"
  }
 },
 "nbformat": 4,
 "nbformat_minor": 5
}
