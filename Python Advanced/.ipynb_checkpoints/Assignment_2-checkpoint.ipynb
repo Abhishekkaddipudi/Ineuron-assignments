{
 "cells": [
  {
   "cell_type": "markdown",
   "id": "516e508f",
   "metadata": {},
   "source": [
    "<h2>Q1. What is the relationship between classes and modules?</h2>"
   ]
  },
  {
   "cell_type": "markdown",
   "id": "cecdcfaf",
   "metadata": {},
   "source": [
    "+ Modules can contain class definitions. By defining classes within modules, you can organize related classes and avoid cluttering the global namespace. Classes defined in a module can be imported and used in other modules or programs.\n",
    "\n",
    ">\n",
    "\n",
    "+  When a module needs to use a class defined in another module, it can import that class. By importing the class, the module gains access to its attributes and methods, allowing it to create instances of the class and use its functionality.\n",
    "\n",
    ">\n",
    "\n",
    "+ modules provide a way to organize and reuse code, and classes define the structure and behavior of objects. Classes can be defined within modules, imported from modules, and can inherit from classes defined in modules, facilitating code organization and reusability."
   ]
  },
  {
   "cell_type": "markdown",
   "id": "892c265a",
   "metadata": {},
   "source": [
    "<h2>Q2. How do you make instances and classes?</h2>"
   ]
  },
  {
   "cell_type": "markdown",
   "id": "7fd60839",
   "metadata": {},
   "source": [
    "* Classes are the blueprints or templates for creating objects.\n",
    "\n",
    "\n",
    "* Define a class by using the class keyword followed by the class name.\n",
    "\n",
    "\n",
    "* Within the class, define attributes (variables) and behaviors (methods) that the objects of the class will have."
   ]
  },
  {
   "cell_type": "code",
   "execution_count": 3,
   "id": "2f70860d",
   "metadata": {},
   "outputs": [],
   "source": [
    "#creating a class\n",
    "class Car:\n",
    "    def __init__(self, brand, model):\n",
    "        self.brand = brand\n",
    "        self.model = model\n",
    "\n",
    "    def start_engine(self):\n",
    "        print(\"Engine started!\")\n"
   ]
  },
  {
   "cell_type": "markdown",
   "id": "13723a92",
   "metadata": {},
   "source": [
    "* Instances are individual objects created from a class.\n",
    "* To create an instance, call the class name followed by parentheses, optionally passing any required arguments to the class's initializer (typically the __init__ method).\n",
    "* The __init__ method initializes the object's attributes."
   ]
  },
  {
   "cell_type": "code",
   "execution_count": 5,
   "id": "28399530",
   "metadata": {},
   "outputs": [],
   "source": [
    "car1 = Car(\"Toyota\", \"Camry\")\n",
    "car2 = Car(\"Honda\", \"Civic\")\n",
    "#creating instances"
   ]
  },
  {
   "cell_type": "code",
   "execution_count": 6,
   "id": "7a797ab0",
   "metadata": {},
   "outputs": [
    {
     "name": "stdout",
     "output_type": "stream",
     "text": [
      "True\n",
      "True\n"
     ]
    }
   ],
   "source": [
    "print(isinstance(car1,Car))\n",
    "print(isinstance(car2,Car))"
   ]
  },
  {
   "cell_type": "markdown",
   "id": "6ae2fd4a",
   "metadata": {},
   "source": [
    "<h2>Q3. Where and how should be class attributes created?</h2>"
   ]
  },
  {
   "cell_type": "markdown",
   "id": "fb4a903c",
   "metadata": {},
   "source": [
    "Class attributes are created within the class definition, outside of any methods, and are typically placed at the top of the class."
   ]
  },
  {
   "cell_type": "code",
   "execution_count": 10,
   "id": "070cc04b",
   "metadata": {},
   "outputs": [],
   "source": [
    "class Car:\n",
    "    # Class attribute\n",
    "    wheels = 4\n",
    "\n",
    "    def __init__(self, brand, model):\n",
    "        self.brand = brand\n",
    "        self.model = model\n"
   ]
  },
  {
   "cell_type": "code",
   "execution_count": 11,
   "id": "a33b02e0",
   "metadata": {},
   "outputs": [
    {
     "name": "stdout",
     "output_type": "stream",
     "text": [
      "4\n",
      "4\n",
      "4\n"
     ]
    }
   ],
   "source": [
    "print(Car.wheels)    # Output: 4\n",
    "\n",
    "car1 = Car(\"Toyota\", \"Camry\")\n",
    "print(car1.wheels)   # Output: 4\n",
    "\n",
    "car2 = Car(\"Honda\", \"Civic\")\n",
    "print(car2.wheels)   # Output: 4\n"
   ]
  },
  {
   "cell_type": "markdown",
   "id": "8eac3cdb",
   "metadata": {},
   "source": [
    "<h2>Q4. Where and how are instance attributes created?</h2>"
   ]
  },
  {
   "cell_type": "markdown",
   "id": "4a7e8532",
   "metadata": {},
   "source": [
    "They are typically created and assigned values within the class's __init__ method, which is a special method used to initialize the object's attributes."
   ]
  },
  {
   "cell_type": "code",
   "execution_count": 12,
   "id": "1888b347",
   "metadata": {},
   "outputs": [],
   "source": [
    "class Car:\n",
    "    wheels = 4\n",
    "\n",
    "    def __init__(self, brand, model):\n",
    "        self.brand = brand\n",
    "        self.model = model\n"
   ]
  },
  {
   "cell_type": "code",
   "execution_count": 13,
   "id": "ef4aed31",
   "metadata": {},
   "outputs": [
    {
     "name": "stdout",
     "output_type": "stream",
     "text": [
      "Toyota\n",
      "Civic\n"
     ]
    }
   ],
   "source": [
    "car1 = Car(\"Toyota\", \"Camry\")\n",
    "car2 = Car(\"Honda\", \"Civic\")\n",
    "print(car1.brand)  \n",
    "print(car2.model)   \n"
   ]
  },
  {
   "cell_type": "markdown",
   "id": "bee1711d",
   "metadata": {},
   "source": [
    "<h2>Q5. What does the term \"self\" in a Python class mean?</h2>"
   ]
  },
  {
   "cell_type": "markdown",
   "id": "27331884",
   "metadata": {},
   "source": [
    " The use of \"self\" is a way to reference and access the attributes and methods of the instance within the class."
   ]
  },
  {
   "cell_type": "code",
   "execution_count": 14,
   "id": "b84a9288",
   "metadata": {},
   "outputs": [],
   "source": [
    "class Car:\n",
    "    def __init__(self, brand, model):\n",
    "        self.brand = brand\n",
    "        self.model = model\n",
    "\n",
    "    def get_info(self):\n",
    "        return f\"This car is a {self.brand} {self.model}.\"\n"
   ]
  },
  {
   "cell_type": "code",
   "execution_count": 15,
   "id": "2ea1301f",
   "metadata": {},
   "outputs": [
    {
     "name": "stdout",
     "output_type": "stream",
     "text": [
      "This car is a Toyota Camry.\n",
      "This car is a Honda Civic.\n"
     ]
    }
   ],
   "source": [
    "car1 = Car(\"Toyota\", \"Camry\")\n",
    "car2 = Car(\"Honda\", \"Civic\")\n",
    "\n",
    "print(car1.get_info())   \n",
    "print(car2.get_info())   \n"
   ]
  },
  {
   "cell_type": "markdown",
   "id": "6e75b029",
   "metadata": {},
   "source": [
    "<h2>Q6. How does a Python class handle operator overloading?</h2>"
   ]
  },
  {
   "cell_type": "markdown",
   "id": "f7164c73",
   "metadata": {},
   "source": [
    "operator overloading refers to the ability to define the behavior of built-in operators (+, -, *, /, etc.) for objects of a custom class. "
   ]
  },
  {
   "cell_type": "code",
   "execution_count": 16,
   "id": "a595b11c",
   "metadata": {},
   "outputs": [],
   "source": [
    "class Vector:\n",
    "    def __init__(self, x, y):\n",
    "        self.x = x\n",
    "        self.y = y\n",
    "\n",
    "    def __str__(self):\n",
    "        return f\"Vector({self.x}, {self.y})\"\n",
    "\n",
    "    def __add__(self, other):\n",
    "        if isinstance(other, Vector):\n",
    "            return Vector(self.x + other.x, self.y + other.y)\n",
    "        else:\n",
    "            raise ValueError(\"Addition is only supported between two Vector instances.\")\n",
    "\n",
    "    def __eq__(self, other):\n",
    "        if isinstance(other, Vector):\n",
    "            return self.x == other.x and self.y == other.y\n",
    "        else:\n",
    "            return False\n"
   ]
  },
  {
   "cell_type": "code",
   "execution_count": 17,
   "id": "bba812bd",
   "metadata": {},
   "outputs": [
    {
     "name": "stdout",
     "output_type": "stream",
     "text": [
      "Vector(6, 8)\n",
      "False\n"
     ]
    }
   ],
   "source": [
    "v1 = Vector(2, 3)\n",
    "v2 = Vector(4, 5)\n",
    "\n",
    "v3 = v1 + v2   \n",
    "print(v3)      \n",
    "\n",
    "print(v1 == v2)   "
   ]
  },
  {
   "cell_type": "markdown",
   "id": "b7cb648a",
   "metadata": {},
   "source": [
    "<h2>Q7. When do you consider allowing operator overloading of your classes?</h2>"
   ]
  },
  {
   "cell_type": "markdown",
   "id": "6ec9c838",
   "metadata": {},
   "source": [
    "\n",
    "\n",
    "1. Natural and Intuitive Semantics: When the use of operators with your objects aligns with their natural and intuitive meaning, allowing operator overloading can make your code more expressive and readable.\n",
    "\n",
    "\n",
    "\n",
    "2. Enhanced Usability: If enabling operator operations on your objects simplifies the usage and improves the usability of your class, operator overloading can provide a convenient and familiar interface for users of your class."
   ]
  },
  {
   "cell_type": "markdown",
   "id": "4740b685",
   "metadata": {},
   "source": [
    "<h2>Q8. What is the most popular form of operator overloading?</h2>"
   ]
  },
  {
   "cell_type": "markdown",
   "id": "1bd61497",
   "metadata": {},
   "source": [
    "* one of the most popular forms of operator overloading is the implementation of the '__getitem__' and '__setitem__' methods, which allow objects to be accessed using square brackets ([]) as if they were containers or sequences."
   ]
  },
  {
   "cell_type": "code",
   "execution_count": 29,
   "id": "c14b2c03",
   "metadata": {},
   "outputs": [],
   "source": [
    "class MyDictionary:\n",
    "    def __init__(self):\n",
    "        self.data = {}\n",
    "\n",
    "    def __getitem__(self, key):\n",
    "        return self.data[key]\n",
    "\n",
    "    def __setitem__(self, key, value):\n",
    "        self.data[key] = value"
   ]
  },
  {
   "cell_type": "code",
   "execution_count": 30,
   "id": "6eba16af",
   "metadata": {},
   "outputs": [
    {
     "name": "stdout",
     "output_type": "stream",
     "text": [
      "John\n",
      "30\n"
     ]
    }
   ],
   "source": [
    "my_dict = MyDictionary()\n",
    "my_dict['name'] = 'John'\n",
    "my_dict['age'] = 30\n",
    "print(my_dict['name'])  \n",
    "print(my_dict['age'])    "
   ]
  },
  {
   "cell_type": "markdown",
   "id": "dabc1f62",
   "metadata": {},
   "source": [
    "<h2>Q9. What are the two most important concepts to grasp in order to comprehend Python OOP code?</h2>"
   ]
  },
  {
   "cell_type": "markdown",
   "id": "bc7acbbb",
   "metadata": {},
   "source": [
    "**Inheritance and Polymorphism**: Inheritance allows classes to inherit attributes and methods from parent classes, promoting code reuse and creating hierarchies of related classes. Understanding how inheritance works, including concepts such as superclasses, subclasses, and method overriding, is crucial. Polymorphism, another key concept, allows objects of different classes to be treated interchangeably based on a common interface, enabling flexible and dynamic behavior in code."
   ]
  }
 ],
 "metadata": {
  "kernelspec": {
   "display_name": "Python 3 (ipykernel)",
   "language": "python",
   "name": "python3"
  },
  "language_info": {
   "codemirror_mode": {
    "name": "ipython",
    "version": 3
   },
   "file_extension": ".py",
   "mimetype": "text/x-python",
   "name": "python",
   "nbconvert_exporter": "python",
   "pygments_lexer": "ipython3",
   "version": "3.10.11"
  }
 },
 "nbformat": 4,
 "nbformat_minor": 5
}
