{
 "cells": [
  {
   "cell_type": "markdown",
   "id": "699c7e4a",
   "metadata": {},
   "source": [
    "<h2>Q1. What is the meaning of multiple inheritance?</h2>"
   ]
  },
  {
   "cell_type": "markdown",
   "id": "6b2b222b",
   "metadata": {},
   "source": [
    "> Multiple inheritance refers to the ability of a class to inherit attributes and behaviors from multiple parent classes."
   ]
  },
  {
   "cell_type": "code",
   "execution_count": 4,
   "id": "e3e2ef76",
   "metadata": {},
   "outputs": [
    {
     "name": "stdout",
     "output_type": "stream",
     "text": [
      "Method from ParentClass1\n",
      "Method from ParentClass2\n"
     ]
    }
   ],
   "source": [
    "class ParentClass1:\n",
    "    def method1(self):\n",
    "        print(\"Method from ParentClass1\")\n",
    "\n",
    "class ParentClass2:\n",
    "    def method2(self):\n",
    "        print(\"Method from ParentClass2\")\n",
    "\n",
    "class ChildClass(ParentClass1, ParentClass2):\n",
    "    pass\n",
    "\n",
    "\n",
    "child = ChildClass()\n",
    "child.method1()  \n",
    "child.method2()  \n"
   ]
  },
  {
   "cell_type": "markdown",
   "id": "e8fa1721",
   "metadata": {},
   "source": [
    "<h2>Q2. What is the concept of delegation?</h2>"
   ]
  },
  {
   "cell_type": "markdown",
   "id": "ffb623d4",
   "metadata": {},
   "source": [
    "> The concept of delegation promotes code reuse, modular design, and separation of concerns. It allows objects to collaborate and work together by leveraging the capabilities and expertise of other objects."
   ]
  },
  {
   "cell_type": "markdown",
   "id": "bdc50f31",
   "metadata": {},
   "source": [
    "> Delegation allows objects to focus on their core responsibilities while relying on other objects to handle specific tasks, promoting modular and flexible code design."
   ]
  },
  {
   "cell_type": "code",
   "execution_count": 5,
   "id": "12e10498",
   "metadata": {},
   "outputs": [
    {
     "name": "stdout",
     "output_type": "stream",
     "text": [
      "Worker performs the task\n"
     ]
    }
   ],
   "source": [
    "class Worker:\n",
    "    def perform_task(self):\n",
    "        print(\"Worker performs the task\")\n",
    "\n",
    "class Manager:\n",
    "    def __init__(self):\n",
    "        self.worker = Worker()\n",
    "\n",
    "    def delegate_task(self):\n",
    "        self.worker.perform_task()\n",
    "\n",
    "manager = Manager()\n",
    "manager.delegate_task() \n"
   ]
  },
  {
   "cell_type": "markdown",
   "id": "3ecdc517",
   "metadata": {},
   "source": [
    "<h2>Q3. What is the concept of composition?</h2>"
   ]
  },
  {
   "cell_type": "markdown",
   "id": "2123c5ce",
   "metadata": {},
   "source": [
    "- Composition is a concept in object-oriented programming (OOP) that involves building complex objects by combining or composing simpler objects.\n",
    "\n",
    "- It allows objects to be composed of other objects as parts, forming a hierarchy or structure.\n",
    "\n",
    "- In composition, objects are combined to create more complex behaviors or functionalities. "
   ]
  },
  {
   "cell_type": "code",
   "execution_count": 7,
   "id": "d6d0e094",
   "metadata": {},
   "outputs": [
    {
     "name": "stdout",
     "output_type": "stream",
     "text": [
      "Starting the car\n",
      "Engine started\n"
     ]
    }
   ],
   "source": [
    "class Engine:\n",
    "    def start(self):\n",
    "        print(\"Engine started\")\n",
    "\n",
    "class Car:\n",
    "    def __init__(self):\n",
    "        self.engine = Engine()\n",
    "\n",
    "    def start(self):\n",
    "        print(\"Starting the car\")\n",
    "        self.engine.start()\n",
    "\n",
    "\n",
    "car = Car()\n",
    "car.start()\n"
   ]
  },
  {
   "cell_type": "markdown",
   "id": "34c191e3",
   "metadata": {},
   "source": [
    "<h2>Q4. What are bound methods and how do we use them?</h2>"
   ]
  },
  {
   "cell_type": "markdown",
   "id": "79dff7a2",
   "metadata": {},
   "source": [
    " > In Python, a bound method is a method that is associated with an instance of a class. When a method is accessed via an instance, it becomes a bound method, automatically passing the instance as the first argument (self) when called.\n",
    " \n",
    " > Bound methods are a fundamental concept in object-oriented programming, enabling objects to invoke their own methods and operate on their own data."
   ]
  },
  {
   "cell_type": "code",
   "execution_count": 9,
   "id": "4de6cd32",
   "metadata": {},
   "outputs": [
    {
     "name": "stdout",
     "output_type": "stream",
     "text": [
      "Hello, John\n"
     ]
    }
   ],
   "source": [
    "class MyClass:\n",
    "    def __init__(self, name):\n",
    "        self.name = name\n",
    "\n",
    "    def say_hello(self):\n",
    "        print(\"Hello, \" + self.name)\n",
    "\n",
    "obj = MyClass(\"John\")\n",
    "obj.say_hello() \n"
   ]
  },
  {
   "cell_type": "markdown",
   "id": "61523107",
   "metadata": {},
   "source": [
    "<h2>Q5. What is the purpose of pseudoprivate attributes?</h2>"
   ]
  },
  {
   "cell_type": "markdown",
   "id": "89d0671f",
   "metadata": {},
   "source": [
    "> Pseudoprivate attributes in Python serve as a naming convention to indicate intended internal use, promote encapsulation, and help prevent unintentional modifications or conflicts in subclasses or external code."
   ]
  },
  {
   "cell_type": "code",
   "execution_count": 11,
   "id": "40067fb6",
   "metadata": {},
   "outputs": [
    {
     "name": "stdout",
     "output_type": "stream",
     "text": [
      "Private method\n",
      "10\n",
      "10\n"
     ]
    }
   ],
   "source": [
    "class MyClass:\n",
    "    def __init__(self):\n",
    "        self.__private_attribute = 10\n",
    "\n",
    "    def __private_method(self):\n",
    "        print(\"Private method\")\n",
    "\n",
    "    def public_method(self):\n",
    "        self.__private_method()\n",
    "        print(self.__private_attribute)\n",
    "\n",
    "\n",
    "obj = MyClass()\n",
    "obj.public_method() \n",
    "\n",
    "print(obj._MyClass__private_attribute)\n"
   ]
  },
  {
   "cell_type": "markdown",
   "id": "86d5eb4f",
   "metadata": {},
   "source": [
    "- In the above example, the __private_attribute and __private_method are pseudoprivate attributes within the MyClass."
   ]
  },
  {
   "cell_type": "markdown",
   "id": "3c31d4a3",
   "metadata": {},
   "source": [
    "* They are intended for internal use and discourage direct access. The public_method can access and utilize these pseudoprivate attributes, but external code is discouraged from accessing them directly."
   ]
  },
  {
   "cell_type": "markdown",
   "id": "77362022",
   "metadata": {},
   "source": [
    "*  Pseudoprivate attributes are not truly private in Python, as they can still be accessed from outside the class by using the mangled name "
   ]
  }
 ],
 "metadata": {
  "kernelspec": {
   "display_name": "Python 3 (ipykernel)",
   "language": "python",
   "name": "python3"
  },
  "language_info": {
   "codemirror_mode": {
    "name": "ipython",
    "version": 3
   },
   "file_extension": ".py",
   "mimetype": "text/x-python",
   "name": "python",
   "nbconvert_exporter": "python",
   "pygments_lexer": "ipython3",
   "version": "3.10.11"
  }
 },
 "nbformat": 4,
 "nbformat_minor": 5
}
