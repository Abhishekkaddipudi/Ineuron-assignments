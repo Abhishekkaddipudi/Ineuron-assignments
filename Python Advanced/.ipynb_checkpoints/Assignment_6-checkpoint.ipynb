{
 "cells": [
  {
   "cell_type": "markdown",
   "id": "51fee64e",
   "metadata": {},
   "source": [
    "<h2>Q1. Describe three applications for exception processing.</h2>"
   ]
  },
  {
   "cell_type": "markdown",
   "id": "16818c12",
   "metadata": {},
   "source": [
    "**Exception processing is a vital aspect of error handling in programming.**"
   ]
  },
  {
   "cell_type": "markdown",
   "id": "199e7afb",
   "metadata": {},
   "source": [
    "- Error Handling: Exceptions are commonly used to handle and recover from errors or exceptional situations that may occur during program execution.\n",
    "- Input Validation:  Exception processing is often employed to validate user input. For example, if you expect numeric input but receive a string, you can raise a ValueError exception to indicate the invalid input.\n",
    "- Resource Management:  Exceptions can be used to manage resources effectively. For instance, when working with files or database connections, exceptions help ensure that resources are properly closed or released even if an error occurs."
   ]
  },
  {
   "cell_type": "markdown",
   "id": "231c8bda",
   "metadata": {},
   "source": [
    "\n",
    "<h2>Q2. What happens if you don't do something extra to treat an exception?</h2>"
   ]
  },
  {
   "cell_type": "markdown",
   "id": "9caefbf3",
   "metadata": {},
   "source": [
    "> If you don't handle or treat an exception in your code, it will propagate up the call stack until it reaches an exception handler or the program terminates. This behavior is known as an \"unhandled exception.\""
   ]
  },
  {
   "cell_type": "code",
   "execution_count": 2,
   "id": "dbd3fe72",
   "metadata": {},
   "outputs": [
    {
     "ename": "ZeroDivisionError",
     "evalue": "division by zero",
     "output_type": "error",
     "traceback": [
      "\u001b[1;31m---------------------------------------------------------------------------\u001b[0m",
      "\u001b[1;31mZeroDivisionError\u001b[0m                         Traceback (most recent call last)",
      "Cell \u001b[1;32mIn[2], line 1\u001b[0m\n\u001b[1;32m----> 1\u001b[0m \u001b[38;5;241;43m4\u001b[39;49m\u001b[38;5;241;43m/\u001b[39;49m\u001b[38;5;241;43m0\u001b[39;49m\n",
      "\u001b[1;31mZeroDivisionError\u001b[0m: division by zero"
     ]
    }
   ],
   "source": [
    "4/0 #example"
   ]
  },
  {
   "cell_type": "markdown",
   "id": "4d5c95c0",
   "metadata": {},
   "source": [
    "\n",
    "<h2>Q3. What are your options for recovering from an exception in your script?</h2>"
   ]
  },
  {
   "cell_type": "markdown",
   "id": "6c5b741f",
   "metadata": {},
   "source": [
    "> When an exception occurs in your script, We have several options for recovering from it"
   ]
  },
  {
   "cell_type": "markdown",
   "id": "be0b721c",
   "metadata": {},
   "source": [
    "* Use a try-except block to catch and handle the exception.\n",
    "* If you encounter a situation where you need to raise an exception explicitly, you can use the raise statement.\n",
    "* If you are unable to handle the exception at a particular point in your script, you can choose not to catch the exception locally. This allows the exception to propagate up the call stack to higher-level exception handlers or the default exception handler, eventually terminating the program if not handled."
   ]
  },
  {
   "cell_type": "markdown",
   "id": "95655d61",
   "metadata": {},
   "source": [
    "\n",
    "<h2>Q4. Describe two methods for triggering exceptions in your script.</h2>"
   ]
  },
  {
   "cell_type": "markdown",
   "id": "34ae5ea2",
   "metadata": {},
   "source": [
    "In Python, you can trigger exceptions in your script using the following methods:"
   ]
  },
  {
   "cell_type": "markdown",
   "id": "765733cd",
   "metadata": {},
   "source": [
    "1. **raise** Statement"
   ]
  },
  {
   "cell_type": "code",
   "execution_count": 3,
   "id": "ca29e523",
   "metadata": {},
   "outputs": [
    {
     "ename": "ValueError",
     "evalue": "Invalid value",
     "output_type": "error",
     "traceback": [
      "\u001b[1;31m---------------------------------------------------------------------------\u001b[0m",
      "\u001b[1;31mValueError\u001b[0m                                Traceback (most recent call last)",
      "Cell \u001b[1;32mIn[3], line 1\u001b[0m\n\u001b[1;32m----> 1\u001b[0m \u001b[38;5;28;01mraise\u001b[39;00m \u001b[38;5;167;01mValueError\u001b[39;00m(\u001b[38;5;124m\"\u001b[39m\u001b[38;5;124mInvalid value\u001b[39m\u001b[38;5;124m\"\u001b[39m)\n\u001b[0;32m      3\u001b[0m \u001b[38;5;28;01mclass\u001b[39;00m \u001b[38;5;21;01mCustomException\u001b[39;00m(\u001b[38;5;167;01mException\u001b[39;00m):\n\u001b[0;32m      4\u001b[0m     \u001b[38;5;28;01mpass\u001b[39;00m\n",
      "\u001b[1;31mValueError\u001b[0m: Invalid value"
     ]
    }
   ],
   "source": [
    "\n",
    "raise ValueError(\"Invalid value\")"
   ]
  },
  {
   "cell_type": "code",
   "execution_count": 6,
   "id": "208d500c",
   "metadata": {},
   "outputs": [
    {
     "ename": "CustomException",
     "evalue": "Custom exception occurred",
     "output_type": "error",
     "traceback": [
      "\u001b[1;31m---------------------------------------------------------------------------\u001b[0m",
      "\u001b[1;31mCustomException\u001b[0m                           Traceback (most recent call last)",
      "Cell \u001b[1;32mIn[6], line 4\u001b[0m\n\u001b[0;32m      1\u001b[0m \u001b[38;5;28;01mclass\u001b[39;00m \u001b[38;5;21;01mCustomException\u001b[39;00m(\u001b[38;5;167;01mException\u001b[39;00m):\n\u001b[0;32m      2\u001b[0m     \u001b[38;5;28;01mpass\u001b[39;00m\n\u001b[1;32m----> 4\u001b[0m \u001b[38;5;28;01mraise\u001b[39;00m CustomException(\u001b[38;5;124m\"\u001b[39m\u001b[38;5;124mCustom exception occurred\u001b[39m\u001b[38;5;124m\"\u001b[39m)\n",
      "\u001b[1;31mCustomException\u001b[0m: Custom exception occurred"
     ]
    }
   ],
   "source": [
    "class CustomException(Exception):\n",
    "    pass\n",
    "\n",
    "raise CustomException(\"Custom exception occurred\")\n"
   ]
  },
  {
   "cell_type": "markdown",
   "id": "da41c0f7",
   "metadata": {},
   "source": [
    "2. Python provides several built-in functions that can be used to trigger exceptions based on specific conditions."
   ]
  },
  {
   "cell_type": "markdown",
   "id": "cc9373e2",
   "metadata": {},
   "source": [
    "The int() function can raise a ValueError exception when converting a string to an integer if the string is not a valid numeric representation."
   ]
  },
  {
   "cell_type": "markdown",
   "id": "db72eb1f",
   "metadata": {},
   "source": [
    " The open() function can raise a FileNotFoundError exception if the specified file does not exist."
   ]
  },
  {
   "cell_type": "code",
   "execution_count": 8,
   "id": "c0997491",
   "metadata": {},
   "outputs": [
    {
     "ename": "ValueError",
     "evalue": "invalid literal for int() with base 10: 'abc'",
     "output_type": "error",
     "traceback": [
      "\u001b[1;31m---------------------------------------------------------------------------\u001b[0m",
      "\u001b[1;31mValueError\u001b[0m                                Traceback (most recent call last)",
      "Cell \u001b[1;32mIn[8], line 1\u001b[0m\n\u001b[1;32m----> 1\u001b[0m num \u001b[38;5;241m=\u001b[39m \u001b[38;5;28;43mint\u001b[39;49m\u001b[43m(\u001b[49m\u001b[38;5;124;43m\"\u001b[39;49m\u001b[38;5;124;43mabc\u001b[39;49m\u001b[38;5;124;43m\"\u001b[39;49m\u001b[43m)\u001b[49m\n",
      "\u001b[1;31mValueError\u001b[0m: invalid literal for int() with base 10: 'abc'"
     ]
    }
   ],
   "source": [
    "\n",
    "num = int(\"abc\")"
   ]
  },
  {
   "cell_type": "code",
   "execution_count": 9,
   "id": "106f7dae",
   "metadata": {},
   "outputs": [
    {
     "ename": "FileNotFoundError",
     "evalue": "[Errno 2] No such file or directory: 'nonexistent.txt'",
     "output_type": "error",
     "traceback": [
      "\u001b[1;31m---------------------------------------------------------------------------\u001b[0m",
      "\u001b[1;31mFileNotFoundError\u001b[0m                         Traceback (most recent call last)",
      "Cell \u001b[1;32mIn[9], line 1\u001b[0m\n\u001b[1;32m----> 1\u001b[0m file \u001b[38;5;241m=\u001b[39m \u001b[38;5;28;43mopen\u001b[39;49m\u001b[43m(\u001b[49m\u001b[38;5;124;43m\"\u001b[39;49m\u001b[38;5;124;43mnonexistent.txt\u001b[39;49m\u001b[38;5;124;43m\"\u001b[39;49m\u001b[43m)\u001b[49m\n",
      "File \u001b[1;32m~\\anaconda3\\lib\\site-packages\\IPython\\core\\interactiveshell.py:284\u001b[0m, in \u001b[0;36m_modified_open\u001b[1;34m(file, *args, **kwargs)\u001b[0m\n\u001b[0;32m    277\u001b[0m \u001b[38;5;28;01mif\u001b[39;00m file \u001b[38;5;129;01min\u001b[39;00m {\u001b[38;5;241m0\u001b[39m, \u001b[38;5;241m1\u001b[39m, \u001b[38;5;241m2\u001b[39m}:\n\u001b[0;32m    278\u001b[0m     \u001b[38;5;28;01mraise\u001b[39;00m \u001b[38;5;167;01mValueError\u001b[39;00m(\n\u001b[0;32m    279\u001b[0m         \u001b[38;5;124mf\u001b[39m\u001b[38;5;124m\"\u001b[39m\u001b[38;5;124mIPython won\u001b[39m\u001b[38;5;124m'\u001b[39m\u001b[38;5;124mt let you open fd=\u001b[39m\u001b[38;5;132;01m{\u001b[39;00mfile\u001b[38;5;132;01m}\u001b[39;00m\u001b[38;5;124m by default \u001b[39m\u001b[38;5;124m\"\u001b[39m\n\u001b[0;32m    280\u001b[0m         \u001b[38;5;124m\"\u001b[39m\u001b[38;5;124mas it is likely to crash IPython. If you know what you are doing, \u001b[39m\u001b[38;5;124m\"\u001b[39m\n\u001b[0;32m    281\u001b[0m         \u001b[38;5;124m\"\u001b[39m\u001b[38;5;124myou can use builtins\u001b[39m\u001b[38;5;124m'\u001b[39m\u001b[38;5;124m open.\u001b[39m\u001b[38;5;124m\"\u001b[39m\n\u001b[0;32m    282\u001b[0m     )\n\u001b[1;32m--> 284\u001b[0m \u001b[38;5;28;01mreturn\u001b[39;00m io_open(file, \u001b[38;5;241m*\u001b[39margs, \u001b[38;5;241m*\u001b[39m\u001b[38;5;241m*\u001b[39mkwargs)\n",
      "\u001b[1;31mFileNotFoundError\u001b[0m: [Errno 2] No such file or directory: 'nonexistent.txt'"
     ]
    }
   ],
   "source": [
    "file = open(\"nonexistent.txt\")"
   ]
  },
  {
   "cell_type": "markdown",
   "id": "dd949541",
   "metadata": {},
   "source": [
    "\n",
    "<h2>Q5. Identify two methods for specifying actions to be executed at termination time, regardless of whether or not an exception exists.</h2>"
   ]
  },
  {
   "cell_type": "markdown",
   "id": "771d8826",
   "metadata": {},
   "source": [
    ">The try-finally block allows you to define a cleanup section of code that will be executed regardless of whether an exception occurs or not. \n",
    "The code within the finally block will always run before the control flow exits the try block, ensuring that necessary cleanup operations are performed."
   ]
  },
  {
   "cell_type": "code",
   "execution_count": 13,
   "id": "0ce41bd8",
   "metadata": {},
   "outputs": [
    {
     "name": "stdout",
     "output_type": "stream",
     "text": [
      "Performing some operations\n",
      "division by zero\n",
      "Cleanup operations\n"
     ]
    }
   ],
   "source": [
    "try:\n",
    "    print(\"Performing some operations\")\n",
    "    4/0\n",
    "except Exception as e:\n",
    "    print(str(e))\n",
    "finally:\n",
    "    # Cleanup code to be executed\n",
    "    print(\"Cleanup operations\")\n"
   ]
  },
  {
   "cell_type": "markdown",
   "id": "e253d1ec",
   "metadata": {},
   "source": [
    "> Context managers in Python, implemented using the with statement, provide a convenient way to define setup and cleanup operations around a block of code. The cleanup code is automatically executed when the block exits, even if an exception occurs. Context managers are useful for managing resources and ensuring"
   ]
  },
  {
   "cell_type": "code",
   "execution_count": 20,
   "id": "1272ccce",
   "metadata": {},
   "outputs": [
    {
     "ename": "ZeroDivisionError",
     "evalue": "division by zero",
     "output_type": "error",
     "traceback": [
      "\u001b[1;31m---------------------------------------------------------------------------\u001b[0m",
      "\u001b[1;31mZeroDivisionError\u001b[0m                         Traceback (most recent call last)",
      "Cell \u001b[1;32mIn[20], line 2\u001b[0m\n\u001b[0;32m      1\u001b[0m \u001b[38;5;28;01mwith\u001b[39;00m \u001b[38;5;28mopen\u001b[39m(\u001b[38;5;124m\"\u001b[39m\u001b[38;5;124mmyfile.txt\u001b[39m\u001b[38;5;124m\"\u001b[39m, \u001b[38;5;124m\"\u001b[39m\u001b[38;5;124mw\u001b[39m\u001b[38;5;124m\"\u001b[39m) \u001b[38;5;28;01mas\u001b[39;00m file:\n\u001b[1;32m----> 2\u001b[0m     \u001b[38;5;241;43m4\u001b[39;49m\u001b[38;5;241;43m/\u001b[39;49m\u001b[38;5;241;43m0\u001b[39;49m\n\u001b[0;32m      3\u001b[0m     \u001b[38;5;28mprint\u001b[39m(file\u001b[38;5;241m.\u001b[39mread())\n",
      "\u001b[1;31mZeroDivisionError\u001b[0m: division by zero"
     ]
    }
   ],
   "source": [
    "with open(\"myfile.txt\", \"w\") as file:\n",
    "    4/0\n",
    "    print(file.read())\n",
    "    \n"
   ]
  },
  {
   "cell_type": "code",
   "execution_count": 21,
   "id": "1e120e79",
   "metadata": {
    "scrolled": true
   },
   "outputs": [
    {
     "data": {
      "text/plain": [
       "True"
      ]
     },
     "execution_count": 21,
     "metadata": {},
     "output_type": "execute_result"
    }
   ],
   "source": [
    "file.closed"
   ]
  },
  {
   "cell_type": "markdown",
   "id": "60665f2e",
   "metadata": {},
   "source": [
    ">  The with statement ensures that the file is automatically closed after the block of code finishes executing, regardless of whether an exception occurs or not"
   ]
  },
  {
   "cell_type": "code",
   "execution_count": 28,
   "id": "ce5026e5",
   "metadata": {},
   "outputs": [
    {
     "ename": "ZeroDivisionError",
     "evalue": "division by zero",
     "output_type": "error",
     "traceback": [
      "\u001b[1;31m---------------------------------------------------------------------------\u001b[0m",
      "\u001b[1;31mZeroDivisionError\u001b[0m                         Traceback (most recent call last)",
      "Cell \u001b[1;32mIn[28], line 2\u001b[0m\n\u001b[0;32m      1\u001b[0m file\u001b[38;5;241m=\u001b[39m\u001b[38;5;28mopen\u001b[39m(\u001b[38;5;124m\"\u001b[39m\u001b[38;5;124mmyfile.txt\u001b[39m\u001b[38;5;124m\"\u001b[39m,\u001b[38;5;124m\"\u001b[39m\u001b[38;5;124mr+\u001b[39m\u001b[38;5;124m\"\u001b[39m)\n\u001b[1;32m----> 2\u001b[0m \u001b[38;5;241;43m4\u001b[39;49m\u001b[38;5;241;43m/\u001b[39;49m\u001b[38;5;241;43m0\u001b[39;49m\n",
      "\u001b[1;31mZeroDivisionError\u001b[0m: division by zero"
     ]
    }
   ],
   "source": [
    "file=open(\"myfile.txt\",\"r+\")\n",
    "4/0"
   ]
  },
  {
   "cell_type": "code",
   "execution_count": 29,
   "id": "fd379e8b",
   "metadata": {},
   "outputs": [
    {
     "data": {
      "text/plain": [
       "False"
      ]
     },
     "execution_count": 29,
     "metadata": {},
     "output_type": "execute_result"
    }
   ],
   "source": [
    "file.closed"
   ]
  },
  {
   "cell_type": "code",
   "execution_count": 30,
   "id": "4c83e98b",
   "metadata": {},
   "outputs": [],
   "source": [
    "file.close()"
   ]
  },
  {
   "cell_type": "code",
   "execution_count": 31,
   "id": "1fdc0b27",
   "metadata": {},
   "outputs": [
    {
     "data": {
      "text/plain": [
       "True"
      ]
     },
     "execution_count": 31,
     "metadata": {},
     "output_type": "execute_result"
    }
   ],
   "source": [
    "file.closed"
   ]
  },
  {
   "cell_type": "markdown",
   "id": "9b05dc66",
   "metadata": {},
   "source": [
    "> While file opened directly did not closed automatically "
   ]
  }
 ],
 "metadata": {
  "kernelspec": {
   "display_name": "Python 3 (ipykernel)",
   "language": "python",
   "name": "python3"
  },
  "language_info": {
   "codemirror_mode": {
    "name": "ipython",
    "version": 3
   },
   "file_extension": ".py",
   "mimetype": "text/x-python",
   "name": "python",
   "nbconvert_exporter": "python",
   "pygments_lexer": "ipython3",
   "version": "3.10.11"
  }
 },
 "nbformat": 4,
 "nbformat_minor": 5
}
