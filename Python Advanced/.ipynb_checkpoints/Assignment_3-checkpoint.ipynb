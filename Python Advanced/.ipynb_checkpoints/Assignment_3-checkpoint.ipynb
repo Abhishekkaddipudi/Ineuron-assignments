{
 "cells": [
  {
   "cell_type": "markdown",
   "id": "e3a88d67",
   "metadata": {},
   "source": [
    "<h2>1. What is the concept of an abstract superclass?</h2>"
   ]
  },
  {
   "cell_type": "markdown",
   "id": "c0ca89df",
   "metadata": {},
   "source": [
    "> An abstract superclass serves as a blueprint or template for its subclasses and cannot be instantiated on its own.\n",
    "\n",
    "> It provides a set of abstract methods, which are methods without any implementation, and may also contain concrete methods with actual code.\n",
    "\n",
    "> The purpose of an abstract superclass is to establish a contract or common behavior that its subclasses should adhere to.\n",
    "\n",
    "> It ensures that subclasses share a common set of methods, allowing for polymorphic behavior and code reuse.\n"
   ]
  },
  {
   "cell_type": "markdown",
   "id": "ac734504",
   "metadata": {},
   "source": [
    "<h2>2. What happens when a class statement's top level contains a basic assignment statement?</h2>"
   ]
  },
  {
   "cell_type": "markdown",
   "id": "a0e4966c",
   "metadata": {},
   "source": [
    " > when a class statement's top level contains a basic assignment statement, it defines a class-level attribute. The attribute is shared by all instances of the class, and its value remains the same across all instances."
   ]
  },
  {
   "cell_type": "code",
   "execution_count": 4,
   "id": "ebb9a894",
   "metadata": {},
   "outputs": [
    {
     "name": "stdout",
     "output_type": "stream",
     "text": [
      "Shared Value\n",
      "Instance Value\n",
      "Instance Value\n",
      "New Value\n",
      "New Value\n"
     ]
    }
   ],
   "source": [
    "class MyClass:\n",
    "    class_attribute = \"Shared Value\"\n",
    "\n",
    "    def __init__(self):\n",
    "        self.instance_attribute = \"Instance Value\"\n",
    "\n",
    "print(MyClass.class_attribute)  \n",
    "\n",
    "obj1 = MyClass()\n",
    "obj2 = MyClass()\n",
    "print(obj1.instance_attribute)\n",
    "print(obj2.instance_attribute) \n",
    "MyClass.class_attribute = \"New Value\"\n",
    "print(obj1.class_attribute)\n",
    "print(obj2.class_attribute)"
   ]
  },
  {
   "cell_type": "markdown",
   "id": "6f86ee62",
   "metadata": {},
   "source": [
    "<h2>3. Why does a class need to manually call a superclass's __init__ method?</h2>"
   ]
  },
  {
   "cell_type": "markdown",
   "id": "d33cf30b",
   "metadata": {},
   "source": [
    "> if a child class has __init__ method, then it will not inherit the __init__ method of the parent class. in other words the __init__ method of the child class overrides the __init__ method of the parent class. so we have to manually call a parent superclass's __init__ using super() method"
   ]
  },
  {
   "cell_type": "code",
   "execution_count": 5,
   "id": "585efd82",
   "metadata": {},
   "outputs": [
    {
     "name": "stdout",
     "output_type": "stream",
     "text": [
      "{'name': 'Vivek', 'age': 28, 'salary': 20000}\n"
     ]
    }
   ],
   "source": [
    "class Person:\n",
    "    def __init__(self,name,age):\n",
    "        self.name = name\n",
    "        self.age = age       \n",
    "class Employee(Person):\n",
    "    def __init__(self,name,age,salary):\n",
    "        super().__init__(name,age)\n",
    "        self.salary = salary\n",
    "emp_1 = Employee('Vivek',28,20000)\n",
    "print(emp_1.__dict__)"
   ]
  },
  {
   "cell_type": "markdown",
   "id": "b8872100",
   "metadata": {},
   "source": [
    "<h2>4. How can you augment, instead of completely replacing, an inherited method?</h2>"
   ]
  },
  {
   "cell_type": "markdown",
   "id": "86fa326f",
   "metadata": {},
   "source": [
    "> super() method can be used to augment, instead of completely replacing, an inherited method."
   ]
  },
  {
   "cell_type": "code",
   "execution_count": 9,
   "id": "f5c34231",
   "metadata": {},
   "outputs": [
    {
     "name": "stdout",
     "output_type": "stream",
     "text": [
      "{'name': 'jhon', 'gender': 'Male', 'salary': 10000}\n"
     ]
    }
   ],
   "source": [
    "class Person:\n",
    "    def __init__(self,name,gender):\n",
    "        self.name = name\n",
    "        self.gender = gender\n",
    "class Employee(Person):\n",
    "    def __init__(self,name,gender,salary):\n",
    "        super().__init__(name,gender) \n",
    "        self.salary = salary\n",
    "emp_1 = Employee('jhon','Male',10000)\n",
    "print(emp_1.__dict__)       "
   ]
  },
  {
   "cell_type": "markdown",
   "id": "a8957968",
   "metadata": {},
   "source": [
    "<h2>5. How is the local scope of a class different from that of a function?</h2>\n"
   ]
  },
  {
   "cell_type": "markdown",
   "id": "95167788",
   "metadata": {},
   "source": [
    "> A Variable which is defined inside a function is local to that function. it is accesible from the point at which it is defined until the end of the function, and exists for as long as the function is existing.\n",
    "\n",
    "> Similary a variable inside of a class also has a local variable scope. Variables which are defined in the class body (but outside all methods) are called as class level variables or class attributes. they can be referenced by there bare names within the same scope, but they can also be accessed from outside this scope if we use the attribute access operator (.). on a class or an instance of the class."
   ]
  },
  {
   "cell_type": "code",
   "execution_count": 15,
   "id": "7e08b424",
   "metadata": {},
   "outputs": [
    {
     "name": "stdout",
     "output_type": "stream",
     "text": [
      "Hello Abhishek\n",
      "name 'name' is not defined\n",
      "HomeSapines\n",
      "HomeSapines\n"
     ]
    }
   ],
   "source": [
    "def hello(name):\n",
    "    print(f\"Hello {name}\")\n",
    "    \n",
    "hello('Abhishek')\n",
    "\n",
    "try:\n",
    "    name\n",
    "except NameError as e:\n",
    "    print(str(e))\n",
    "\n",
    "class Person:\n",
    "    species = \"HomeSapines\"\n",
    "    def __init__(self):\n",
    "        pass\n",
    "        \n",
    "print(Person.species)\n",
    "Male = Person()\n",
    "print(Male.species)"
   ]
  }
 ],
 "metadata": {
  "kernelspec": {
   "display_name": "Python 3 (ipykernel)",
   "language": "python",
   "name": "python3"
  },
  "language_info": {
   "codemirror_mode": {
    "name": "ipython",
    "version": 3
   },
   "file_extension": ".py",
   "mimetype": "text/x-python",
   "name": "python",
   "nbconvert_exporter": "python",
   "pygments_lexer": "ipython3",
   "version": "3.10.11"
  }
 },
 "nbformat": 4,
 "nbformat_minor": 5
}
