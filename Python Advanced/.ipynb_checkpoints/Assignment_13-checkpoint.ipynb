{
 "cells": [
  {
   "cell_type": "markdown",
   "id": "a52736a0",
   "metadata": {},
   "source": [
    "<h2>Q1. Can you create a programme or function that employs both positive and negative indexing? Is there any repercussion if you do so?</h2>"
   ]
  },
  {
   "cell_type": "markdown",
   "id": "6fd06918",
   "metadata": {},
   "source": [
    "Yes, you can create a program or function that uses both positive and negative indexing in Python. "
   ]
  },
  {
   "cell_type": "code",
   "execution_count": 7,
   "id": "272cdfa9",
   "metadata": {},
   "outputs": [
    {
     "name": "stdout",
     "output_type": "stream",
     "text": [
      "1\n",
      "3\n",
      "5\n",
      "5\n",
      "3\n",
      "1\n"
     ]
    }
   ],
   "source": [
    "def indexing_demo():\n",
    "    lst = [1, 2, 3, 4, 5]\n",
    "\n",
    "    # Accessing elements using positive indexing\n",
    "    print(lst[0])   \n",
    "    print(lst[2])   \n",
    "    print(lst[4])   \n",
    "\n",
    "    # Accessing elements using negative indexing\n",
    "    print(lst[-1])  \n",
    "    print(lst[-3])   \n",
    "    print(lst[-5])\n",
    "\n",
    "indexing_demo()\n"
   ]
  },
  {
   "cell_type": "markdown",
   "id": "3479947d",
   "metadata": {},
   "source": [
    "There are no specific repercussions of using both positive and negative indexing together. It depends on your specific use case and the requirements of your program or function. "
   ]
  },
  {
   "cell_type": "markdown",
   "id": "c3f98d76",
   "metadata": {},
   "source": [
    "<h2>Q2. What is the most effective way of starting with 1,000 elements in a Python list? Assume that all elements should be set to the same value.</h2>"
   ]
  },
  {
   "cell_type": "markdown",
   "id": "bd9cfc10",
   "metadata": {},
   "source": [
    "The most effective way to create a Python list with 1,000 elements, all set to the same value, is to use the list multiplication technique along with a single-element list."
   ]
  },
  {
   "cell_type": "code",
   "execution_count": 8,
   "id": "605fe9ac",
   "metadata": {},
   "outputs": [],
   "source": [
    "value = 42  # The value to be repeated\n",
    "lst = [value] * 1000\n"
   ]
  },
  {
   "cell_type": "markdown",
   "id": "d4f03ff5",
   "metadata": {},
   "source": [
    "Using list multiplication provides a more efficient approach than using a loop or list comprehension to set each element individually. It takes advantage of the underlying implementation of lists in Python to create the desired list quickly."
   ]
  },
  {
   "cell_type": "markdown",
   "id": "77c2bbd0",
   "metadata": {},
   "source": [
    "<h2>Q3. How do you slice a list to get any other part while missing the rest? (For example, suppose you want to make a new list with the elements first, third, fifth, seventh, and so on.)</h2>"
   ]
  },
  {
   "cell_type": "markdown",
   "id": "4e344c47",
   "metadata": {},
   "source": [
    "To create a new list with specific elements from the original list, while skipping the rest, we can use list slicing with a step value."
   ]
  },
  {
   "cell_type": "code",
   "execution_count": 9,
   "id": "d8664f93",
   "metadata": {},
   "outputs": [
    {
     "name": "stdout",
     "output_type": "stream",
     "text": [
      "[1, 3, 5, 7, 9]\n"
     ]
    }
   ],
   "source": [
    "lst = [1, 2, 3, 4, 5, 6, 7, 8, 9, 10]\n",
    "\n",
    "new_lst = lst[::2]  # Slice with step 2 to skip alternate elements\n",
    "\n",
    "print(new_lst)  # Output: [1, 3, 5, 7, 9]\n"
   ]
  },
  {
   "cell_type": "markdown",
   "id": "62b11ecd",
   "metadata": {},
   "source": [
    "<h2>Q4. Explain the distinctions between indexing and slicing.</h2>"
   ]
  },
  {
   "cell_type": "markdown",
   "id": "37676a81",
   "metadata": {},
   "source": [
    "Indexing and slicing are both used to access elements from a list in Python, but they have distinct differences."
   ]
  },
  {
   "cell_type": "code",
   "execution_count": 10,
   "id": "fc624088",
   "metadata": {},
   "outputs": [
    {
     "name": "stdout",
     "output_type": "stream",
     "text": [
      "3\n"
     ]
    }
   ],
   "source": [
    "lst = [1, 2, 3, 4, 5]\n",
    "element = lst[2]  # Accessing the element at index 2\n",
    "print(element)   # Output: 3\n"
   ]
  },
  {
   "cell_type": "code",
   "execution_count": 11,
   "id": "2377f750",
   "metadata": {},
   "outputs": [
    {
     "name": "stdout",
     "output_type": "stream",
     "text": [
      "[2, 3, 4]\n"
     ]
    }
   ],
   "source": [
    "lst = [1, 2, 3, 4, 5]\n",
    "sublist = lst[1:4]  # Slicing from index 1 to 4 (exclusive)\n",
    "print(sublist)     # Output: [2, 3, 4]\n"
   ]
  },
  {
   "cell_type": "markdown",
   "id": "19b9ef6f",
   "metadata": {},
   "source": [
    "In summary, indexing is used to access individual elements, while slicing is used to extract a range of elements and create a new list."
   ]
  },
  {
   "cell_type": "markdown",
   "id": "8c7325d0",
   "metadata": {},
   "source": [
    "<h2>Q5. What happens if one of the slicing expression's indexes is out of range?</h2>"
   ]
  },
  {
   "cell_type": "markdown",
   "id": "973c34d2",
   "metadata": {},
   "source": [
    "If one of the slicing expression's indexes is out of range, Python does not raise an exception. Instead, it gracefully handles the situation and returns as many elements as possible within the valid range"
   ]
  },
  {
   "cell_type": "code",
   "execution_count": 12,
   "id": "ee7fdfde",
   "metadata": {},
   "outputs": [
    {
     "name": "stdout",
     "output_type": "stream",
     "text": [
      "[3, 4, 5]\n"
     ]
    }
   ],
   "source": [
    "lst = [1, 2, 3, 4, 5]\n",
    "slice_out_of_range = lst[2:10]  # Slicing with an end index out of range\n",
    "\n",
    "print(slice_out_of_range)  # Output: [3, 4, 5]\n"
   ]
  },
  {
   "cell_type": "markdown",
   "id": "8ffe9467",
   "metadata": {},
   "source": [
    "Python handles out-of-range slicing indexes gracefully without raising an exception, ensuring that you still get the valid elements within the available range."
   ]
  },
  {
   "cell_type": "markdown",
   "id": "d7f867d3",
   "metadata": {},
   "source": [
    "<h2>Q6. If you pass a list to a function, and if you want the function to be able to change the values of the list—so that the list is different after the function returns—what action should you avoid?</h2>"
   ]
  },
  {
   "cell_type": "markdown",
   "id": "3a5fa9f5",
   "metadata": {},
   "source": [
    "If we want a function to be able to change the values of a list passed as an argument, you should avoid reassigning the entire list to a new object. Instead, you should modify the existing list in place."
   ]
  },
  {
   "cell_type": "code",
   "execution_count": 13,
   "id": "2868c749",
   "metadata": {},
   "outputs": [
    {
     "name": "stdout",
     "output_type": "stream",
     "text": [
      "[1, 2, 3]\n"
     ]
    }
   ],
   "source": [
    "def modify_list(lst):\n",
    "    lst = [4, 5, 6]  \n",
    "\n",
    "my_list = [1, 2, 3]\n",
    "modify_list(my_list)\n",
    "print(my_list)  # Output: [1, 2, 3]\n"
   ]
  },
  {
   "cell_type": "markdown",
   "id": "4be40b29",
   "metadata": {},
   "source": [
    "To modify the values of the list in place, you should directly modify the elements of the list using indexing or other list methods without reassigning the entire list. This way, the modifications will be reflected in the original list."
   ]
  },
  {
   "cell_type": "markdown",
   "id": "a6669127",
   "metadata": {},
   "source": [
    "<h2>Q7. What is the concept of an unbalanced matrix?</h2>"
   ]
  },
  {
   "cell_type": "markdown",
   "id": "882395c6",
   "metadata": {},
   "source": [
    "In the context of matrices, an unbalanced matrix refers to a matrix where the number of elements (rows or columns) is not the same for all rows or columns. In other words, the matrix has varying dimensions."
   ]
  },
  {
   "cell_type": "code",
   "execution_count": null,
   "id": "b42d9e84",
   "metadata": {},
   "outputs": [],
   "source": [
    "1 2 3\n",
    "4 5\n",
    "6 7 8 9\n",
    "#unbalanced matrix"
   ]
  },
  {
   "cell_type": "markdown",
   "id": "74c5b444",
   "metadata": {},
   "source": [
    "Unbalanced matrices can pose challenges in terms of indexing, accessing elements, and performing matrix operations, as the dimensions may not align. It is important to consider and handle the irregularities when working with unbalanced matrices."
   ]
  },
  {
   "cell_type": "markdown",
   "id": "d4c00b1d",
   "metadata": {},
   "source": [
    "<h2>Q8. Why is it necessary to use either list comprehension or a loop to create arbitrarily large matrices?</h2>"
   ]
  },
  {
   "cell_type": "markdown",
   "id": "fae8d5c2",
   "metadata": {},
   "source": [
    "When creating arbitrarily large matrices, it is necessary to use either list comprehension or a loop to dynamically generate the matrix elements. This is because defining the matrix elements manually would be impractical and inefficient, especially for large matrices."
   ]
  },
  {
   "cell_type": "markdown",
   "id": "3d896dba",
   "metadata": {},
   "source": [
    "List comprehension and loops provide a way to generate matrix elements based on a pattern or a set of rules, allowing for efficient and flexible construction of large matrices."
   ]
  }
 ],
 "metadata": {
  "kernelspec": {
   "display_name": "Python 3 (ipykernel)",
   "language": "python",
   "name": "python3"
  },
  "language_info": {
   "codemirror_mode": {
    "name": "ipython",
    "version": 3
   },
   "file_extension": ".py",
   "mimetype": "text/x-python",
   "name": "python",
   "nbconvert_exporter": "python",
   "pygments_lexer": "ipython3",
   "version": "3.10.11"
  }
 },
 "nbformat": 4,
 "nbformat_minor": 5
}
