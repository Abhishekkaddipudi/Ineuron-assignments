{
 "cells": [
  {
   "cell_type": "markdown",
   "id": "31f3f95e",
   "metadata": {},
   "source": [
    "<h2>Q1. Which two operator overloading methods can you use in your classes to support iteration?</h2>"
   ]
  },
  {
   "cell_type": "markdown",
   "id": "05dd22a7",
   "metadata": {},
   "source": [
    ">   __iter__: This method allows the class to be iterable by returning an iterator object. The iterator object should define the __next__ method to retrieve the next item in the iteration.\n",
    "\n",
    ">  __next__: This method defines the behavior for fetching the next item in the iteration. It is typically implemented in conjunction with the __iter__ method."
   ]
  },
  {
   "cell_type": "code",
   "execution_count": 4,
   "id": "cd99f74f",
   "metadata": {},
   "outputs": [
    {
     "name": "stdout",
     "output_type": "stream",
     "text": [
      "1\n",
      "2\n",
      "3\n",
      "4\n",
      "5\n"
     ]
    }
   ],
   "source": [
    "class Iterable:\n",
    "    def __init__(self, data):\n",
    "        self.data = data\n",
    "        self.index = 0\n",
    "\n",
    "    def __iter__(self):\n",
    "        return self\n",
    "\n",
    "    def __next__(self):\n",
    "        if self.index < len(self.data):\n",
    "            item = self.data[self.index]\n",
    "            self.index += 1\n",
    "            return item\n",
    "        else:\n",
    "            raise StopIteration()\n",
    "\n",
    "iterable = Iterable([1, 2, 3, 4, 5])\n",
    "\n",
    "for item in iterable:\n",
    "    print(item)\n"
   ]
  },
  {
   "cell_type": "markdown",
   "id": "42c35c17",
   "metadata": {},
   "source": [
    "<h2>Q2. In what contexts do the two operator overloading methods manage printing?</h2>"
   ]
  },
  {
   "cell_type": "markdown",
   "id": "5466f3cd",
   "metadata": {},
   "source": [
    ">    __str__: This method returns a string representation of the object when str() or print() is called on an instance of the class. It provides a human-readable representation of the object.\n",
    "\n",
    ">   __repr__: This method returns a string representation of the object when repr() is called on an instance of the class. It provides an unambiguous representation of the object, typically used for debugging purposes."
   ]
  },
  {
   "cell_type": "code",
   "execution_count": 6,
   "id": "28bc351f",
   "metadata": {},
   "outputs": [
    {
     "name": "stdout",
     "output_type": "stream",
     "text": [
      "MyClass: Example\n",
      "MyClass: Example\n",
      "MyClass('Example')\n"
     ]
    }
   ],
   "source": [
    "class MyClass:\n",
    "    def __init__(self, name):\n",
    "        self.name = name\n",
    "\n",
    "    def __str__(self):\n",
    "        return f\"MyClass: {self.name}\"\n",
    "\n",
    "    def __repr__(self):\n",
    "        return f\"MyClass('{self.name}')\"\n",
    "obj = MyClass(\"Example\")\n",
    "print(obj)\n",
    "print(str(obj))\n",
    "print(repr(obj))\n"
   ]
  },
  {
   "cell_type": "markdown",
   "id": "30d281a8",
   "metadata": {},
   "source": [
    "<h2>Q3. In a class, how do you intercept slice operations?</h2>"
   ]
  },
  {
   "cell_type": "markdown",
   "id": "e93d185d",
   "metadata": {},
   "source": [
    "- To intercept slice operations in a class, you can use the __getitem__ method with slicing indices as the argument."
   ]
  },
  {
   "cell_type": "code",
   "execution_count": 7,
   "id": "8e892b74",
   "metadata": {},
   "outputs": [
    {
     "name": "stdout",
     "output_type": "stream",
     "text": [
      "[2, 3, 4]\n"
     ]
    }
   ],
   "source": [
    "class MyList:\n",
    "    def __init__(self, data):\n",
    "        self.data = data\n",
    "\n",
    "    def __getitem__(self, index):\n",
    "        if isinstance(index, slice):\n",
    "            return self.data[index]\n",
    "        else:\n",
    "            return self.data[index]\n",
    "\n",
    "\n",
    "my_list = MyList([1, 2, 3, 4, 5])\n",
    "\n",
    "sliced_data = my_list[1:4] \n",
    "print(sliced_data)  \n"
   ]
  },
  {
   "cell_type": "markdown",
   "id": "ee02ed0e",
   "metadata": {},
   "source": [
    "<h2>Q4. In a class, how do you capture in-place addition?</h2>"
   ]
  },
  {
   "cell_type": "markdown",
   "id": "1b71c78a",
   "metadata": {},
   "source": [
    "- To capture in-place addition in a class, you can use the __iadd__ method, which corresponds to the += operator."
   ]
  },
  {
   "cell_type": "code",
   "execution_count": 15,
   "id": "3694636a",
   "metadata": {},
   "outputs": [
    {
     "name": "stdout",
     "output_type": "stream",
     "text": [
      "15\n"
     ]
    }
   ],
   "source": [
    "class MyNumber:\n",
    "    def __init__(self, value):\n",
    "        self.value = value\n",
    "\n",
    "    def __iadd__(self, other):\n",
    "        self.value += other\n",
    "        return self\n",
    "\n",
    "\n",
    "num = MyNumber(5)\n",
    "num += 10  \n",
    "print(num.value)  \n"
   ]
  },
  {
   "cell_type": "markdown",
   "id": "7294651a",
   "metadata": {},
   "source": [
    "<h2>Q5. When is it appropriate to use operator overloading?</h2>"
   ]
  },
  {
   "cell_type": "markdown",
   "id": "b957dd15",
   "metadata": {},
   "source": [
    "> Operator overloading is used when we want to use an operator other than its normal operation to have different meaning according to the context required in user defined function."
   ]
  },
  {
   "cell_type": "code",
   "execution_count": 16,
   "id": "94708e8b",
   "metadata": {},
   "outputs": [
    {
     "name": "stdout",
     "output_type": "stream",
     "text": [
      "Total Number of Pages -> 300\n"
     ]
    }
   ],
   "source": [
    "class Book:\n",
    "    def __init__(self,pages):\n",
    "        self.pages = pages\n",
    "    def __add__(self,other):\n",
    "        return self.pages+other.pages\n",
    "b1 = Book(100)\n",
    "b2 = Book(200)\n",
    "print(f'Total Number of Pages -> {b1+b2}')"
   ]
  }
 ],
 "metadata": {
  "kernelspec": {
   "display_name": "Python 3 (ipykernel)",
   "language": "python",
   "name": "python3"
  },
  "language_info": {
   "codemirror_mode": {
    "name": "ipython",
    "version": 3
   },
   "file_extension": ".py",
   "mimetype": "text/x-python",
   "name": "python",
   "nbconvert_exporter": "python",
   "pygments_lexer": "ipython3",
   "version": "3.10.11"
  }
 },
 "nbformat": 4,
 "nbformat_minor": 5
}
