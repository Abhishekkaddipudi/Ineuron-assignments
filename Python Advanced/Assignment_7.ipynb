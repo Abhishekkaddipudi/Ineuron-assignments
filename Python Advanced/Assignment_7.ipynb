{
 "cells": [
  {
   "cell_type": "markdown",
   "id": "afe44b04",
   "metadata": {},
   "source": [
    "<h2>Q1. What is the purpose of the try statement?</h2>"
   ]
  },
  {
   "cell_type": "markdown",
   "id": "1b74a3af",
   "metadata": {},
   "source": [
    "> The purpose of the try statement in Python is to enclose a block of code that may raise exceptions. It allows you to handle potential exceptions by providing a mechanism for catching and handling errors or exceptional situations that might occur during the execution of the code within the try block."
   ]
  },
  {
   "cell_type": "code",
   "execution_count": 7,
   "id": "e82b73b6",
   "metadata": {},
   "outputs": [
    {
     "name": "stdout",
     "output_type": "stream",
     "text": [
      "Cannot divide by zero\n"
     ]
    }
   ],
   "source": [
    "try:\n",
    "    \n",
    "    result = 10 / 0  # Division by zero to intentionally raise an exception\n",
    "except ZeroDivisionError:\n",
    "    # Exception handling code\n",
    "    print(\"Cannot divide by zero\")\n"
   ]
  },
  {
   "cell_type": "markdown",
   "id": "b752cae6",
   "metadata": {},
   "source": [
    "<h2>Q2. What are the two most popular try statement variations?</h2>"
   ]
  },
  {
   "cell_type": "markdown",
   "id": "b4c987e7",
   "metadata": {},
   "source": [
    "> try-except Statement: This variation allows you to catch and handle specific exceptions that may occur within the try block. "
   ]
  },
  {
   "cell_type": "code",
   "execution_count": 8,
   "id": "4de4b5fb",
   "metadata": {},
   "outputs": [
    {
     "name": "stdout",
     "output_type": "stream",
     "text": [
      "Cannot divide by zero\n"
     ]
    }
   ],
   "source": [
    "try:\n",
    "\n",
    "    result = 10 / 0  # Division by zero to intentionally raise an exception\n",
    "except ZeroDivisionError:\n",
    "    # Exception handling code for ZeroDivisionError\n",
    "    print(\"Cannot divide by zero\")\n",
    "except ValueError:\n",
    "    # Exception handling code for ValueError\n",
    "    print(\"Invalid value\")\n"
   ]
  },
  {
   "cell_type": "markdown",
   "id": "5dd747dc",
   "metadata": {},
   "source": [
    "> try-except-else Statement: This variation allows you to specify a block of code to be executed if no exception occurs within the try block. "
   ]
  },
  {
   "cell_type": "code",
   "execution_count": 9,
   "id": "338f855d",
   "metadata": {},
   "outputs": [
    {
     "name": "stdout",
     "output_type": "stream",
     "text": [
      "Division successful. Result: 5.0\n"
     ]
    }
   ],
   "source": [
    "try:\n",
    "  \n",
    "    result = 10 / 2  # Division that won't raise an exception\n",
    "except ZeroDivisionError:\n",
    "    # Exception handling code\n",
    "    print(\"Cannot divide by zero\")\n",
    "else:\n",
    "    # Code to be executed if no exception occurs\n",
    "    print(\"Division successful. Result:\", result)\n"
   ]
  },
  {
   "cell_type": "markdown",
   "id": "502248d6",
   "metadata": {},
   "source": [
    "<h2>Q3. What is the purpose of the raise statement?</h2>"
   ]
  },
  {
   "cell_type": "markdown",
   "id": "573ef8eb",
   "metadata": {},
   "source": [
    "> The purpose of the raise statement in Python is to explicitly raise exceptions. \n",
    "\n",
    "> It allows you to generate and raise exceptions programmatically, signaling exceptional conditions or errors within your code."
   ]
  },
  {
   "cell_type": "code",
   "execution_count": 15,
   "id": "d49a50bb",
   "metadata": {
    "scrolled": true
   },
   "outputs": [
    {
     "name": "stdout",
     "output_type": "stream",
     "text": [
      "Error: Invalid Expression\n"
     ]
    }
   ],
   "source": [
    "try:\n",
    "    condition=3==45\n",
    "    \n",
    "    if not condition:\n",
    "        # Raise an exception if the condition is False\n",
    "        raise ValueError(\"Invalid Expression\")\n",
    "except ValueError as e:\n",
    "    # Exception handling code\n",
    "    print(\"Error:\", str(e))\n"
   ]
  },
  {
   "cell_type": "markdown",
   "id": "da7e5202",
   "metadata": {},
   "source": [
    "<h2>Q4. What does the assert statement do, and what other statement is it like?</h2>"
   ]
  },
  {
   "cell_type": "markdown",
   "id": "6e67200a",
   "metadata": {},
   "source": [
    "> The assert statement in Python is used for debugging and to check if a given condition evaluates to True.\n",
    "\n",
    "> It is a convenient way to perform self-checks during development and can help catch logical errors or detect unexpected conditions in your code."
   ]
  },
  {
   "cell_type": "code",
   "execution_count": 16,
   "id": "470dd339",
   "metadata": {},
   "outputs": [],
   "source": [
    "x = 10\n",
    "assert x > 0 \"x must be a positive value\"\n"
   ]
  },
  {
   "cell_type": "code",
   "execution_count": 19,
   "id": "799f1d7b",
   "metadata": {},
   "outputs": [
    {
     "ename": "AssertionError",
     "evalue": "x must be a positive value",
     "output_type": "error",
     "traceback": [
      "\u001b[1;31m---------------------------------------------------------------------------\u001b[0m",
      "\u001b[1;31mAssertionError\u001b[0m                            Traceback (most recent call last)",
      "Cell \u001b[1;32mIn[19], line 1\u001b[0m\n\u001b[1;32m----> 1\u001b[0m \u001b[38;5;28;01massert\u001b[39;00m x \u001b[38;5;241m<\u001b[39m \u001b[38;5;241m0\u001b[39m, \u001b[38;5;124m\"\u001b[39m\u001b[38;5;124mx must be a positive value\u001b[39m\u001b[38;5;124m\"\u001b[39m\n",
      "\u001b[1;31mAssertionError\u001b[0m: x must be a positive value"
     ]
    }
   ],
   "source": [
    "assert x < 0, \"x must be a positive value\""
   ]
  },
  {
   "cell_type": "markdown",
   "id": "f32c64b1",
   "metadata": {},
   "source": [
    "> If the condition is False, the assert statement raises an AssertionError exception with the specified error message."
   ]
  },
  {
   "cell_type": "markdown",
   "id": "5a8e22fb",
   "metadata": {},
   "source": [
    "<h2>Q5. What is the purpose of the with/as argument, and what other statement is it like?</h2>"
   ]
  },
  {
   "cell_type": "markdown",
   "id": "1476f59e",
   "metadata": {},
   "source": [
    "> The with/as statement in Python is used for context management.\n",
    "\n",
    "> It provides a convenient way to manage resources and ensure proper initialization and cleanup. "
   ]
  },
  {
   "cell_type": "code",
   "execution_count": 20,
   "id": "e6758230",
   "metadata": {},
   "outputs": [
    {
     "ename": "ZeroDivisionError",
     "evalue": "division by zero",
     "output_type": "error",
     "traceback": [
      "\u001b[1;31m---------------------------------------------------------------------------\u001b[0m",
      "\u001b[1;31mZeroDivisionError\u001b[0m                         Traceback (most recent call last)",
      "Cell \u001b[1;32mIn[20], line 2\u001b[0m\n\u001b[0;32m      1\u001b[0m \u001b[38;5;28;01mwith\u001b[39;00m \u001b[38;5;28mopen\u001b[39m(\u001b[38;5;124m\"\u001b[39m\u001b[38;5;124mmyfile.txt\u001b[39m\u001b[38;5;124m\"\u001b[39m, \u001b[38;5;124m\"\u001b[39m\u001b[38;5;124mw\u001b[39m\u001b[38;5;124m\"\u001b[39m) \u001b[38;5;28;01mas\u001b[39;00m file:\n\u001b[1;32m----> 2\u001b[0m     \u001b[38;5;241;43m4\u001b[39;49m\u001b[38;5;241;43m/\u001b[39;49m\u001b[38;5;241;43m0\u001b[39;49m\n\u001b[0;32m      3\u001b[0m     \u001b[38;5;28mprint\u001b[39m(file\u001b[38;5;241m.\u001b[39mread())\n",
      "\u001b[1;31mZeroDivisionError\u001b[0m: division by zero"
     ]
    }
   ],
   "source": [
    "with open(\"myfile.txt\", \"w\") as file:\n",
    "    4/0\n",
    "    print(file.read())\n",
    "    \n"
   ]
  },
  {
   "cell_type": "code",
   "execution_count": 21,
   "id": "e46b0fee",
   "metadata": {
    "scrolled": true
   },
   "outputs": [
    {
     "data": {
      "text/plain": [
       "True"
      ]
     },
     "execution_count": 21,
     "metadata": {},
     "output_type": "execute_result"
    }
   ],
   "source": [
    "file.closed"
   ]
  },
  {
   "cell_type": "markdown",
   "id": "384f1fd9",
   "metadata": {},
   "source": [
    ">  The with statement ensures that the file is automatically closed after the block of code finishes executing, regardless of whether an exception occurs or not"
   ]
  },
  {
   "cell_type": "code",
   "execution_count": 28,
   "id": "57d1c7e3",
   "metadata": {},
   "outputs": [
    {
     "ename": "ZeroDivisionError",
     "evalue": "division by zero",
     "output_type": "error",
     "traceback": [
      "\u001b[1;31m---------------------------------------------------------------------------\u001b[0m",
      "\u001b[1;31mZeroDivisionError\u001b[0m                         Traceback (most recent call last)",
      "Cell \u001b[1;32mIn[28], line 2\u001b[0m\n\u001b[0;32m      1\u001b[0m file\u001b[38;5;241m=\u001b[39m\u001b[38;5;28mopen\u001b[39m(\u001b[38;5;124m\"\u001b[39m\u001b[38;5;124mmyfile.txt\u001b[39m\u001b[38;5;124m\"\u001b[39m,\u001b[38;5;124m\"\u001b[39m\u001b[38;5;124mr+\u001b[39m\u001b[38;5;124m\"\u001b[39m)\n\u001b[1;32m----> 2\u001b[0m \u001b[38;5;241;43m4\u001b[39;49m\u001b[38;5;241;43m/\u001b[39;49m\u001b[38;5;241;43m0\u001b[39;49m\n",
      "\u001b[1;31mZeroDivisionError\u001b[0m: division by zero"
     ]
    }
   ],
   "source": [
    "file=open(\"myfile.txt\",\"r+\")\n",
    "4/0"
   ]
  },
  {
   "cell_type": "code",
   "execution_count": 29,
   "id": "f8e84a46",
   "metadata": {},
   "outputs": [
    {
     "data": {
      "text/plain": [
       "False"
      ]
     },
     "execution_count": 29,
     "metadata": {},
     "output_type": "execute_result"
    }
   ],
   "source": [
    "file.closed"
   ]
  },
  {
   "cell_type": "code",
   "execution_count": 30,
   "id": "888c898d",
   "metadata": {},
   "outputs": [],
   "source": [
    "file.close()"
   ]
  },
  {
   "cell_type": "code",
   "execution_count": 31,
   "id": "1bc8a142",
   "metadata": {},
   "outputs": [
    {
     "data": {
      "text/plain": [
       "True"
      ]
     },
     "execution_count": 31,
     "metadata": {},
     "output_type": "execute_result"
    }
   ],
   "source": [
    "file.closed"
   ]
  },
  {
   "cell_type": "markdown",
   "id": "a936e779",
   "metadata": {},
   "source": [
    "> While file opened directly did not closed automatically "
   ]
  }
 ],
 "metadata": {
  "kernelspec": {
   "display_name": "Python 3 (ipykernel)",
   "language": "python",
   "name": "python3"
  },
  "language_info": {
   "codemirror_mode": {
    "name": "ipython",
    "version": 3
   },
   "file_extension": ".py",
   "mimetype": "text/x-python",
   "name": "python",
   "nbconvert_exporter": "python",
   "pygments_lexer": "ipython3",
   "version": "3.10.11"
  }
 },
 "nbformat": 4,
 "nbformat_minor": 5
}
