{
 "cells": [
  {
   "cell_type": "markdown",
   "id": "d1c608a6",
   "metadata": {},
   "source": [
    "<h2>Q1. What is the concept of a metaclass?</h2>"
   ]
  },
  {
   "cell_type": "markdown",
   "id": "c2fe9d13",
   "metadata": {},
   "source": [
    "> In Python, a metaclass is a class that defines the behavior and structure of other classes. It is essentially a class that creates and controls other classes. \n",
    "\n",
    "> A metaclass defines how a class should be instantiated, what attributes and methods it should have, and how it should behave.\n",
    "\n",
    ">  They provide a way to modify the class creation process, allowing you to intervene and customize various aspects of the class definition and behavior. "
   ]
  },
  {
   "cell_type": "code",
   "execution_count": 9,
   "id": "30436d67",
   "metadata": {},
   "outputs": [
    {
     "name": "stdout",
     "output_type": "stream",
     "text": [
      "Meta class\n",
      "<__main__.MyClass object at 0x000002BD47ED0730>\n"
     ]
    }
   ],
   "source": [
    "class MyMeta(type):\n",
    "    def __new__(cls, name, bases, attrs):\n",
    "        print(\"Meta class\")\n",
    "        return super().__new__(cls, name, bases, attrs)\n",
    "\n",
    "class MyClass(metaclass=MyMeta):\n",
    "    pass\n",
    "\n",
    "obj = MyClass()\n",
    "print(obj)\n"
   ]
  },
  {
   "cell_type": "markdown",
   "id": "dceebae5",
   "metadata": {},
   "source": [
    "<h2>Q2. What is the best way to declare a class's metaclass?</h2>"
   ]
  },
  {
   "cell_type": "markdown",
   "id": "fc901b62",
   "metadata": {},
   "source": [
    "- specifying the metaclass in the class definition:"
   ]
  },
  {
   "cell_type": "code",
   "execution_count": 13,
   "id": "11d0e780",
   "metadata": {},
   "outputs": [
    {
     "name": "stdout",
     "output_type": "stream",
     "text": [
      "<__main__.MyClass object at 0x000002BD47F36440>\n"
     ]
    }
   ],
   "source": [
    "class MyMeta(type):\n",
    "    def __new__(cls, name, bases, attrs):\n",
    "        return super().__new__(cls, name, bases, attrs)\n",
    "\n",
    "class MyClass(metaclass=MyMeta):\n",
    "    pass\n",
    "obj = MyClass()\n",
    "print(obj)"
   ]
  },
  {
   "cell_type": "markdown",
   "id": "48d8d5da",
   "metadata": {},
   "source": [
    "- Using the __metaclass__ attribute in the class body"
   ]
  },
  {
   "cell_type": "code",
   "execution_count": 14,
   "id": "0f60c8c6",
   "metadata": {},
   "outputs": [
    {
     "name": "stdout",
     "output_type": "stream",
     "text": [
      "<__main__.MyClass object at 0x000002BD47ED0BB0>\n"
     ]
    }
   ],
   "source": [
    "class MyMeta(type):\n",
    "    def __new__(cls, name, bases, attrs):\n",
    "        # Custom metaclass behavior\n",
    "        return super().__new__(cls, name, bases, attrs)\n",
    "\n",
    "class MyClass:\n",
    "    __metaclass__ = MyMeta\n",
    "    pass\n",
    "\n",
    "obj = MyClass()\n",
    "print(obj)"
   ]
  },
  {
   "cell_type": "markdown",
   "id": "d7684688",
   "metadata": {},
   "source": [
    "<h2>Q3. How do class decorators overlap with metaclasses for handling classes?</h2>"
   ]
  },
  {
   "cell_type": "markdown",
   "id": "70621b70",
   "metadata": {},
   "source": [
    "> Class decorators and metaclasses are both mechanisms in Python for modifying or extending the behavior of classes. While they have some similarities, they operate at different levels and offer different levels of control.\n",
    "\n",
    ">class decorators can provide similar functionality to metaclasses in some cases. They both allow you to add functionality to classes, modify their attributes, or customize their behavior. However, metaclasses operate at a lower level, defining the rules and behavior of class creation, while class decorators operate on existing class objects.\n",
    "\n",
    "> The choice between class decorators and metaclasses depends on the specific requirements of your code. Class decorators are often more suitable for simple modifications or enhancements to individual classes, while metaclasses are useful for implementing complex class hierarchies or modifying the behavior of multiple classes at once."
   ]
  },
  {
   "cell_type": "markdown",
   "id": "66522bf5",
   "metadata": {},
   "source": [
    "<h2>Q4. How do class decorators overlap with metaclasses for handling instances?</h2>"
   ]
  },
  {
   "cell_type": "markdown",
   "id": "07e1ba47",
   "metadata": {},
   "source": [
    "> Class decorators and metaclasses are primarily concerned with modifying or extending the behavior of classes, rather than instances. However, both mechanisms can indirectly affect instances through their impact on class behavior.\n",
    "\n",
    "> While both class decorators and metaclasses can indirectly impact instances, the primary focus of both mechanisms is on the class level. Class decorators enhance or modify class methods that will be accessible by instances, while metaclasses define the rules and behavior of class creation, which can affect instances indirectly."
   ]
  }
 ],
 "metadata": {
  "kernelspec": {
   "display_name": "Python 3 (ipykernel)",
   "language": "python",
   "name": "python3"
  },
  "language_info": {
   "codemirror_mode": {
    "name": "ipython",
    "version": 3
   },
   "file_extension": ".py",
   "mimetype": "text/x-python",
   "name": "python",
   "nbconvert_exporter": "python",
   "pygments_lexer": "ipython3",
   "version": "3.10.11"
  }
 },
 "nbformat": 4,
 "nbformat_minor": 5
}
