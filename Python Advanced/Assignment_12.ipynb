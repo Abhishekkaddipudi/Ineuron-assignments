{
 "cells": [
  {
   "cell_type": "markdown",
   "id": "9b781e29",
   "metadata": {},
   "source": [
    "<h2>Q1. Does assigning a value to a string's indexed character violate Python's string immutability?</h2>"
   ]
  },
  {
   "cell_type": "markdown",
   "id": "21cc4231",
   "metadata": {},
   "source": [
    "Yes, assigning a value to a string's indexed character violates Python's string immutability. In Python, strings are immutable, which means that once a string is created, its contents cannot be changed. When you try to assign a new value to a specific character in a string, Python raises a TypeError because strings do not support item assignment."
   ]
  },
  {
   "cell_type": "code",
   "execution_count": 4,
   "id": "2873580c",
   "metadata": {},
   "outputs": [
    {
     "ename": "TypeError",
     "evalue": "'str' object does not support item assignment",
     "output_type": "error",
     "traceback": [
      "\u001b[1;31m---------------------------------------------------------------------------\u001b[0m",
      "\u001b[1;31mTypeError\u001b[0m                                 Traceback (most recent call last)",
      "Cell \u001b[1;32mIn[4], line 2\u001b[0m\n\u001b[0;32m      1\u001b[0m strr\u001b[38;5;241m=\u001b[39m\u001b[38;5;124m\"\u001b[39m\u001b[38;5;124mJhon\u001b[39m\u001b[38;5;124m\"\u001b[39m\n\u001b[1;32m----> 2\u001b[0m strr[\u001b[38;5;241m3\u001b[39m]\u001b[38;5;241m=\u001b[39m\u001b[38;5;124m\"\u001b[39m\u001b[38;5;124ma\u001b[39m\u001b[38;5;124m\"\u001b[39m\n",
      "\u001b[1;31mTypeError\u001b[0m: 'str' object does not support item assignment"
     ]
    }
   ],
   "source": [
    "strr=\"Jhon\"\n",
    "strr[3]=\"a\""
   ]
  },
  {
   "cell_type": "markdown",
   "id": "904e25d1",
   "metadata": {},
   "source": [
    "<h2>Q2. Does using the += operator to concatenate strings violate Python's string immutability? Why or why not?</h2>"
   ]
  },
  {
   "cell_type": "markdown",
   "id": "ee3d1b2e",
   "metadata": {},
   "source": [
    "No, using the += operator to concatenate strings does not violate Python's string immutability. Although strings are immutable, the += operator does not directly modify the original string. Instead, it creates a new string by concatenating the original string with the new string, and then reassigns the new string to the same variable. This behavior is allowed in Python."
   ]
  },
  {
   "cell_type": "code",
   "execution_count": 5,
   "id": "96bd9f81",
   "metadata": {},
   "outputs": [
    {
     "name": "stdout",
     "output_type": "stream",
     "text": [
      "Hello World\n"
     ]
    }
   ],
   "source": [
    "string = \"Hello\"\n",
    "string += \" World\"\n",
    "print(string)  \n"
   ]
  },
  {
   "cell_type": "markdown",
   "id": "47568493",
   "metadata": {},
   "source": [
    "<h2>Q3. In Python, how many different ways are there to index a character?</h2>"
   ]
  },
  {
   "cell_type": "markdown",
   "id": "a7aa8436",
   "metadata": {},
   "source": [
    "In Python, there are two different ways to index a character in a string: positive indexing and negative indexing.\n",
    "\n",
    "Positive indexing starts from 0, where the first character of the string has an index of 0, the second character has an index of 1, and so on.\n",
    "\n",
    "Negative indexing starts from -1, where the last character of the string has an index of -1, the second-to-last character has an index of -2, and so on."
   ]
  },
  {
   "cell_type": "code",
   "execution_count": 6,
   "id": "e29fc859",
   "metadata": {},
   "outputs": [
    {
     "name": "stdout",
     "output_type": "stream",
     "text": [
      "H\n",
      "o\n"
     ]
    }
   ],
   "source": [
    "string = \"Hello\"\n",
    "print(string[0])   \n",
    "print(string[-1])  \n"
   ]
  },
  {
   "cell_type": "markdown",
   "id": "2568ed58",
   "metadata": {},
   "source": [
    "<h2>Q4. What is the relationship between indexing and slicing?</h2>"
   ]
  },
  {
   "cell_type": "markdown",
   "id": "6d76da7d",
   "metadata": {},
   "source": [
    "Indexing and slicing are both used to access specific parts of a string in Python.\n",
    "\n",
    "Indexing refers to accessing an individual character in a string by its position. It returns a single character at the specified index.\n",
    "\n",
    "Slicing, on the other ,hand, refers to extracting a portion of a string by specifying a range of indices. It returns a new string that includes the characters from the start index (inclusive) to the end index (exclusive).\n",
    "\n",
    "Both indexing and slicing operate on strings and can be used to retrieve specific portions of the string based on the desired indices."
   ]
  },
  {
   "cell_type": "code",
   "execution_count": 10,
   "id": "19ed87d1",
   "metadata": {},
   "outputs": [
    {
     "name": "stdout",
     "output_type": "stream",
     "text": [
      "e\n",
      "ell\n"
     ]
    }
   ],
   "source": [
    "string = \"Hello\"\n",
    "print(string[1])       \n",
    "print(string[1:4])     \n"
   ]
  },
  {
   "cell_type": "markdown",
   "id": "488b5dd4",
   "metadata": {},
   "source": [
    "<h2>Q5. What is an indexed character's exact data type? What is the data form of a slicing-generated substring?</h2>"
   ]
  },
  {
   "cell_type": "markdown",
   "id": "8b30274f",
   "metadata": {},
   "source": [
    "An indexed character in Python is of the data type **str**, which represents a single character as a string.\n",
    "\n",
    "A slicing-generated substring is also of the data type **str**. It represents a portion of the original string and is stored as a separate string object."
   ]
  },
  {
   "cell_type": "code",
   "execution_count": 12,
   "id": "fee844d5",
   "metadata": {},
   "outputs": [
    {
     "name": "stdout",
     "output_type": "stream",
     "text": [
      "<class 'str'> <class 'str'>\n"
     ]
    }
   ],
   "source": [
    "string = \"Hello\"\n",
    "char = string[1]      \n",
    "substring = string[1:4] \n",
    "print(type(char),type(substring))"
   ]
  },
  {
   "cell_type": "markdown",
   "id": "792b6070",
   "metadata": {},
   "source": [
    "<h2>Q6. What is the relationship between string and character \"types\" in Python?</h2>"
   ]
  },
  {
   "cell_type": "markdown",
   "id": "172a5af9",
   "metadata": {},
   "source": [
    "In Python, strings are sequences of characters. Each character in a string is treated as a separate entity and has its own type, which is **str**.\n",
    "\n",
    "String and character types are related in the sense that characters are the building blocks of strings. \n",
    "\n",
    "A string can contain one or more characters, and each character within a string is represented as a string object."
   ]
  },
  {
   "cell_type": "code",
   "execution_count": 13,
   "id": "e24cc40f",
   "metadata": {},
   "outputs": [
    {
     "name": "stdout",
     "output_type": "stream",
     "text": [
      "<class 'str'>\n"
     ]
    }
   ],
   "source": [
    "string = \"Hello\"\n",
    "character_type = type(string[0])\n",
    "print(character_type) \n"
   ]
  },
  {
   "cell_type": "markdown",
   "id": "ad1379af",
   "metadata": {},
   "source": [
    "<h2>Q7. Identify at least two operators and one method that allow you to combine one or more smaller strings to create a larger string.</h2>"
   ]
  },
  {
   "cell_type": "markdown",
   "id": "8818f6a8",
   "metadata": {},
   "source": [
    "Two operators that allow you to combine smaller strings to create a larger string are:\n",
    "\n",
    "    Concatenation Operator (+): The + operator concatenates two strings together, creating a new string that contains     the contents of both strings."
   ]
  },
  {
   "cell_type": "code",
   "execution_count": 18,
   "id": "e4aa75dc",
   "metadata": {},
   "outputs": [
    {
     "name": "stdout",
     "output_type": "stream",
     "text": [
      "Hello World\n"
     ]
    }
   ],
   "source": [
    "string1 = \"Hello\"\n",
    "string2 = \" World\"\n",
    "result = string1 + string2\n",
    "print(result) \n"
   ]
  },
  {
   "cell_type": "markdown",
   "id": "ae1f0df2",
   "metadata": {},
   "source": [
    "    Augmented Assignment Operator (+=): The += operator concatenates a string to the original string and assigns          the result back to the original string variable."
   ]
  },
  {
   "cell_type": "code",
   "execution_count": 20,
   "id": "823be5f3",
   "metadata": {},
   "outputs": [
    {
     "name": "stdout",
     "output_type": "stream",
     "text": [
      "Hello World\n"
     ]
    }
   ],
   "source": [
    "string = \"Hello\"\n",
    "string += \" World\"\n",
    "print(string) \n"
   ]
  },
  {
   "cell_type": "markdown",
   "id": "fd2a9152",
   "metadata": {},
   "source": [
    "One method that allows you to combine smaller strings is:\n",
    "         \n",
    "       Join() Method: The join() method concatenates multiple strings by using a specified string as a separator."
   ]
  },
  {
   "cell_type": "code",
   "execution_count": 21,
   "id": "0015aa5b",
   "metadata": {},
   "outputs": [
    {
     "name": "stdout",
     "output_type": "stream",
     "text": [
      "Hello World\n"
     ]
    }
   ],
   "source": [
    "strings = [\"Hello\", \" \", \"World\"]\n",
    "result = \"\".join(strings)\n",
    "print(result)\n"
   ]
  },
  {
   "cell_type": "markdown",
   "id": "e61f172b",
   "metadata": {},
   "source": [
    "<h2>Q8. What is the benefit of first checking the target string with in or not in before using the index method to find a substring?</h2>"
   ]
  },
  {
   "cell_type": "markdown",
   "id": "5943fcf2",
   "metadata": {},
   "source": [
    "Checking the target string with **in** or **not in** before using the index() method to find a substring provides a benefit in terms of error handling and avoiding exceptions."
   ]
  },
  {
   "cell_type": "code",
   "execution_count": 24,
   "id": "cf963bad",
   "metadata": {},
   "outputs": [
    {
     "name": "stdout",
     "output_type": "stream",
     "text": [
      "6\n"
     ]
    }
   ],
   "source": [
    "string = \"Hello World\"\n",
    "\n",
    "if \"World\" in string:\n",
    "    index = string.index(\"World\")\n",
    "    print(index)  # Output: 6\n",
    "else:\n",
    "    print(\"Substring not found\")\n"
   ]
  },
  {
   "cell_type": "code",
   "execution_count": 25,
   "id": "95e4236c",
   "metadata": {},
   "outputs": [
    {
     "ename": "ValueError",
     "evalue": "substring not found",
     "output_type": "error",
     "traceback": [
      "\u001b[1;31m---------------------------------------------------------------------------\u001b[0m",
      "\u001b[1;31mValueError\u001b[0m                                Traceback (most recent call last)",
      "Cell \u001b[1;32mIn[25], line 4\u001b[0m\n\u001b[0;32m      1\u001b[0m string \u001b[38;5;241m=\u001b[39m \u001b[38;5;124m\"\u001b[39m\u001b[38;5;124mHello World\u001b[39m\u001b[38;5;124m\"\u001b[39m\n\u001b[1;32m----> 4\u001b[0m index \u001b[38;5;241m=\u001b[39m \u001b[43mstring\u001b[49m\u001b[38;5;241;43m.\u001b[39;49m\u001b[43mindex\u001b[49m\u001b[43m(\u001b[49m\u001b[38;5;124;43m\"\u001b[39;49m\u001b[38;5;124;43meld\u001b[39;49m\u001b[38;5;124;43m\"\u001b[39;49m\u001b[43m)\u001b[49m\n\u001b[0;32m      5\u001b[0m \u001b[38;5;28mprint\u001b[39m(index)\n",
      "\u001b[1;31mValueError\u001b[0m: substring not found"
     ]
    }
   ],
   "source": [
    "string = \"Hello World\"\n",
    "\n",
    "\n",
    "index = string.index(\"eld\")\n",
    "print(index) \n",
    "\n"
   ]
  },
  {
   "cell_type": "markdown",
   "id": "c608cb46",
   "metadata": {},
   "source": [
    "The  **in** or **not in** operators can be used to check if a substring exists within a target string. By performing this check before using the index() method, you can prevent the ValueError exception that would occur if the substring is not found."
   ]
  },
  {
   "cell_type": "markdown",
   "id": "9536bcaa",
   "metadata": {},
   "source": [
    "<h2>Q9. Which operators and built-in string methods produce simple Boolean (true/false) results?</h2>"
   ]
  },
  {
   "cell_type": "markdown",
   "id": "1f8fb706",
   "metadata": {},
   "source": [
    "**The following operators and built-in string methods produce simple Boolean (true/false) results:**"
   ]
  },
  {
   "cell_type": "markdown",
   "id": "c69b6a24",
   "metadata": {},
   "source": [
    "+ Operators:\n",
    "        \n",
    "    - Equality Operator (==): We compare string1 and string2 using the equality operator and store the result in equality_result.\n",
    "    \n",
    "    - Inequality Operator (!=): We compare string1 and string3 using the inequality operator and store the result in inequality_result.\n",
    "\n",
    "+ Built-in String Methods:\n",
    "     - startswith(): We use the startswith() method on string1 to check if it starts with the letter \"H\" and store the result in startswith_result.\n",
    "     \n",
    "     - endswith(): We use the endswith() method on string3 to check if it ends with the letter \"d\" and store the result in endswith_result.\n",
    "      \n",
    "     - isalpha(): We use the isalpha() method on string1 to check if all characters are alphabetic and store the result in isalpha_result.\n",
    "      \n",
    "     - isdigit(): We use the isdigit() method on string1 to check if all characters are digits and store the result in isdigit_result."
   ]
  },
  {
   "cell_type": "code",
   "execution_count": 28,
   "id": "d3c85754",
   "metadata": {},
   "outputs": [
    {
     "name": "stdout",
     "output_type": "stream",
     "text": [
      "Equality Result: True\n",
      "Inequality Result: True\n",
      "Startswith Result: True\n",
      "Endswith Result: True\n",
      "Isalpha Result: True\n",
      "Isdigit Result: False\n"
     ]
    }
   ],
   "source": [
    "string1 = \"Hello\"\n",
    "string2 = \"Hello\"\n",
    "string3 = \"World\"\n",
    "\n",
    "# Operators\n",
    "equality_result = string1 == string2  # Equality Operator (==)\n",
    "inequality_result = string1 != string3  # Inequality Operator (!=)\n",
    "\n",
    "# Built-in String Methods\n",
    "startswith_result = string1.startswith(\"H\")  # startswith()\n",
    "endswith_result = string3.endswith(\"d\")  # endswith()\n",
    "isalpha_result = string1.isalpha()  # isalpha()\n",
    "isdigit_result = string1.isdigit()  # isdigit()\n",
    "\n",
    "\n",
    "print(f\"Equality Result: {equality_result}\")  \n",
    "print(f\"Inequality Result: {inequality_result}\")  \n",
    "print(f\"Startswith Result: {startswith_result}\") \n",
    "print(f\"Endswith Result: {endswith_result}\")  \n",
    "print(f\"Isalpha Result: {isalpha_result}\")  \n",
    "print(f\"Isdigit Result: {isdigit_result}\")  \n"
   ]
  }
 ],
 "metadata": {
  "kernelspec": {
   "display_name": "Python 3 (ipykernel)",
   "language": "python",
   "name": "python3"
  },
  "language_info": {
   "codemirror_mode": {
    "name": "ipython",
    "version": 3
   },
   "file_extension": ".py",
   "mimetype": "text/x-python",
   "name": "python",
   "nbconvert_exporter": "python",
   "pygments_lexer": "ipython3",
   "version": "3.10.11"
  }
 },
 "nbformat": 4,
 "nbformat_minor": 5
}
