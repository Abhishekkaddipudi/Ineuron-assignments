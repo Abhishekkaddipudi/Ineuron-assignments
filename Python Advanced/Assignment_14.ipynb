{
 "cells": [
  {
   "cell_type": "markdown",
   "id": "76145df9",
   "metadata": {},
   "source": [
    "<h2>Q1. Is an assignment operator like += only for show? Is it possible that it would lead to faster results at runtime?</h2>"
   ]
  },
  {
   "cell_type": "markdown",
   "id": "ee224fff",
   "metadata": {},
   "source": [
    "> No, the assignment operator like `+=` is not just for show. It serves a practical purpose and can lead to faster results at runtime in certain scenarios. \n",
    "\n",
    "> The += operator is a shorthand notation for performing an addition and assignment operation. It updates the value of a variable by adding a specified value to its current value. For example, a += b is equivalent to a = a + b.\n",
    "\n",
    "> The potential performance gain comes into play when using mutable objects like lists or arrays. Instead of creating a new object by adding two lists together, the += operator allows you to modify the existing list in-place. This can be more efficient in terms of memory usage and execution time, especially when dealing with large data sets."
   ]
  },
  {
   "cell_type": "markdown",
   "id": "09c15155",
   "metadata": {},
   "source": [
    "<h2>Q2. What is the smallest number of statements you'd have to write in most programming languages to replace the Python expression a, b = a + b, a?</h2>"
   ]
  },
  {
   "cell_type": "markdown",
   "id": "7e898ecf",
   "metadata": {},
   "source": [
    "In most programming languages, the smallest number of statements required to replace the Python expression `a, b = a + b, a` is three statements."
   ]
  },
  {
   "cell_type": "code",
   "execution_count": null,
   "id": "034d780d",
   "metadata": {},
   "outputs": [],
   "source": [
    "temp = a;\n",
    "a = a + b;\n",
    "b = temp;"
   ]
  },
  {
   "cell_type": "markdown",
   "id": "70b69d71",
   "metadata": {},
   "source": [
    "<h2>Q3. In Python, what is the most effective way to set a list of 100 integers to 0?</h2>"
   ]
  },
  {
   "cell_type": "markdown",
   "id": "50a94ff6",
   "metadata": {},
   "source": [
    "we can use a list comprehension to set a list of 100 integers to 0 effectively."
   ]
  },
  {
   "cell_type": "code",
   "execution_count": 2,
   "id": "f57fe2bc",
   "metadata": {},
   "outputs": [],
   "source": [
    "lis = [0] * 100"
   ]
  },
  {
   "cell_type": "code",
   "execution_count": 3,
   "id": "d16f01ff",
   "metadata": {},
   "outputs": [
    {
     "name": "stdout",
     "output_type": "stream",
     "text": [
      "0000000000000000000000000000000000000000000000000000000000000000000000000000000000000000000000000000"
     ]
    }
   ],
   "source": [
    "for i in lis:\n",
    "    print(i,end=\"\")"
   ]
  },
  {
   "cell_type": "markdown",
   "id": "381bcff0",
   "metadata": {},
   "source": [
    "<h2>Q4. What is the most effective way to initialize a list of 99 integers that repeats the sequence 1, 2, 3? If necessary, show step-by-step instructions on how to accomplish this.</h2>"
   ]
  },
  {
   "cell_type": "markdown",
   "id": "3d704a66",
   "metadata": {},
   "source": [
    "To initialize a list of 99 integers that repeats the sequence 1, 2, 3, we can use a combination of list comprehension and the modulo operator (%)."
   ]
  },
  {
   "cell_type": "markdown",
   "id": "9adb872f",
   "metadata": {},
   "source": [
    "* range(99) generates a sequence of numbers from 0 to 98.\n",
    "\n",
    "* For each number i in the range, (i % 3) + 1 calculates the remainder of i divided by 3 and adds 1 to it.\n",
    "\n",
    "* The resulting values are collected in a list using list comprehension."
   ]
  },
  {
   "cell_type": "code",
   "execution_count": 6,
   "id": "5648b7db",
   "metadata": {},
   "outputs": [],
   "source": [
    "lis = [(i % 3) + 1 for i in range(99)]\n"
   ]
  },
  {
   "cell_type": "code",
   "execution_count": 8,
   "id": "e11bbb3e",
   "metadata": {},
   "outputs": [
    {
     "name": "stdout",
     "output_type": "stream",
     "text": [
      "1 2 3 1 2 3 1 2 3 1 2 3 1 2 3 1 2 3 1 2 3 1 2 3 1 2 3 1 2 3 1 2 3 1 2 3 1 2 3 1 2 3 1 2 3 1 2 3 1 2 3 1 2 3 1 2 3 1 2 3 1 2 3 1 2 3 1 2 3 1 2 3 1 2 3 1 2 3 1 2 3 1 2 3 1 2 3 1 2 3 1 2 3 1 2 3 1 2 3 "
     ]
    }
   ],
   "source": [
    "for i in lis:\n",
    "    print(i,end=\" \")"
   ]
  },
  {
   "cell_type": "markdown",
   "id": "74500d02",
   "metadata": {},
   "source": [
    "<h2>Q5. If you're using IDLE to run a Python application, explain how to print a multidimensional list efficiently.</h2>"
   ]
  },
  {
   "cell_type": "markdown",
   "id": "4ea14a1e",
   "metadata": {},
   "source": [
    "To print a multidimensional list efficiently in IDLE, we can use a loop to iterate over the elements and print them in a structured format."
   ]
  },
  {
   "cell_type": "code",
   "execution_count": 11,
   "id": "a8a0d480",
   "metadata": {},
   "outputs": [
    {
     "name": "stdout",
     "output_type": "stream",
     "text": [
      "[1, 2, 3]\n",
      "[4, 5, 6]\n",
      "[7, 8, 9]\n"
     ]
    }
   ],
   "source": [
    "my_list = [[1, 2, 3], [4, 5, 6], [7, 8, 9]]\n",
    "\n",
    "for row in my_list:\n",
    "    print(row)\n"
   ]
  },
  {
   "cell_type": "code",
   "execution_count": 13,
   "id": "79a9e580",
   "metadata": {},
   "outputs": [
    {
     "name": "stdout",
     "output_type": "stream",
     "text": [
      "1 2 3\n",
      "4 5 6\n",
      "7 8 9\n"
     ]
    }
   ],
   "source": [
    "my_list = [[1, 2, 3], [4, 5, 6], [7, 8, 9]]\n",
    "\n",
    "for row in my_list:\n",
    "    print(' '.join(map(str, row)))\n"
   ]
  },
  {
   "cell_type": "markdown",
   "id": "0ad468cd",
   "metadata": {},
   "source": [
    "If we want to print the elements without the square brackets and commas, we can use the join function along with a space separator."
   ]
  },
  {
   "cell_type": "markdown",
   "id": "6353e090",
   "metadata": {},
   "source": [
    "<h2>Q6. Is it possible to use list comprehension with a string? If so, how can you go about doing it?</h2>"
   ]
  },
  {
   "cell_type": "markdown",
   "id": "5544844a",
   "metadata": {},
   "source": [
    "Yes, it is possible to use list comprehension with a string in Python. List comprehension allows you to create a new list by iterating over the elements of any iterable"
   ]
  },
  {
   "cell_type": "code",
   "execution_count": 14,
   "id": "7ba19c40",
   "metadata": {},
   "outputs": [
    {
     "name": "stdout",
     "output_type": "stream",
     "text": [
      "['H', 'e', 'l', 'l', 'o', ',', ' ', 'W', 'o', 'r', 'l', 'd', '!']\n"
     ]
    }
   ],
   "source": [
    "#example\n",
    "my_string = \"Hello, World!\"\n",
    "char_list = [char for char in my_string]\n",
    "print(char_list)\n"
   ]
  },
  {
   "cell_type": "code",
   "execution_count": 16,
   "id": "a4ba338c",
   "metadata": {},
   "outputs": [
    {
     "name": "stdout",
     "output_type": "stream",
     "text": [
      "['H', 'E', 'L', 'L', 'O', 'W', 'O', 'R', 'L', 'D']\n"
     ]
    }
   ],
   "source": [
    "#example\n",
    "uppercase_list = [char.upper() for char in my_string if char.isalpha()]\n",
    "print(uppercase_list)"
   ]
  },
  {
   "cell_type": "markdown",
   "id": "37031f72",
   "metadata": {},
   "source": [
    "<h2>Q7. From the command line, how do you get support with a user-written Python program? Is this possible from inside IDLE?</h2>"
   ]
  },
  {
   "cell_type": "markdown",
   "id": "ee81ce5e",
   "metadata": {},
   "source": [
    "The official Python documentation  is available online at python.org and can also be accessed using the help() function from the Python interactive shell or command line."
   ]
  },
  {
   "cell_type": "markdown",
   "id": "89c03628",
   "metadata": {},
   "source": [
    "As for IDLE, it provides some limited support for Python programming. we can access the Python documentation within IDLE by using the help() function or by typing help('topic') to get help on a specific topic."
   ]
  },
  {
   "cell_type": "markdown",
   "id": "41dfa8b6",
   "metadata": {},
   "source": [
    "However, help() does not provide the same level of comprehensive support as external resources and communities."
   ]
  },
  {
   "cell_type": "markdown",
   "id": "301e7316",
   "metadata": {},
   "source": [
    "It is recommended to use external resources or IDEs (Integrated Development Environments) that offer advanced features like code completion, debugging tools, and integration with online resources."
   ]
  },
  {
   "cell_type": "markdown",
   "id": "54af6c4f",
   "metadata": {},
   "source": [
    "<h2>Q8. Functions are said to be “first-class objects” in Python but not in most other languages, such as C++ or Java. What can you do in Python with a function (callable object) that you can't do in C or C++?</h2>a"
   ]
  },
  {
   "cell_type": "markdown",
   "id": "dd690395",
   "metadata": {},
   "source": [
    "> In Python, functions are considered \"first-class objects,\" which means they can be treated like any other object in the language. This provides several advantages and capabilities that are not present in languages like C or C++. \n",
    "\n",
    "> > Assign functions to variables\n",
    "\n",
    "> > Define functions within functions\n",
    "\n",
    "> > Pass functions as arguments\n",
    "\n",
    "> >Return functions from functions\n",
    "\n",
    "> >Store functions in data structures"
   ]
  },
  {
   "cell_type": "markdown",
   "id": "83e7a184",
   "metadata": {},
   "source": [
    "<h2>Q9. How do you distinguish between a wrapper, a wrapped feature, and a decorator?</h2>"
   ]
  },
  {
   "cell_type": "markdown",
   "id": "f21469be",
   "metadata": {},
   "source": [
    "A wrapper is the general concept of a function or class that modifies or enhances another feature.\n",
    " \n",
    "The wrapped feature is the original feature being modified.\n",
    " \n",
    "A decorator is a specific type of wrapper that uses the @ syntax in Python."
   ]
  },
  {
   "cell_type": "markdown",
   "id": "7429e2c1",
   "metadata": {},
   "source": [
    "<h2>Q10. If a function is a generator function, what does it return?</h2>"
   ]
  },
  {
   "cell_type": "markdown",
   "id": "cd97f8cc",
   "metadata": {},
   "source": [
    "If a function is a generator function in Python, it doesn't return a value in the traditional sense. Instead, it returns a generator object. \n",
    "\n",
    "A generator object is an iterator that can be used to generate a sequence of values on-the-fly."
   ]
  },
  {
   "cell_type": "code",
   "execution_count": 28,
   "id": "53f51047",
   "metadata": {},
   "outputs": [],
   "source": [
    "def even_numbers(n):\n",
    "    for i in range(n):\n",
    "        if i % 2 == 0:\n",
    "            yield i\n"
   ]
  },
  {
   "cell_type": "code",
   "execution_count": 29,
   "id": "f50a2796",
   "metadata": {},
   "outputs": [
    {
     "name": "stdout",
     "output_type": "stream",
     "text": [
      "<generator object even_numbers at 0x000001BEC04C2810>\n"
     ]
    }
   ],
   "source": [
    "evens = even_numbers(10)\n",
    "print(evens)\n"
   ]
  },
  {
   "cell_type": "code",
   "execution_count": 25,
   "id": "aacbf4c7",
   "metadata": {},
   "outputs": [
    {
     "name": "stdout",
     "output_type": "stream",
     "text": [
      "0\n",
      "2\n",
      "4\n",
      "6\n",
      "8\n"
     ]
    }
   ],
   "source": [
    "for num in evens:\n",
    "    print(num)  "
   ]
  },
  {
   "cell_type": "code",
   "execution_count": 30,
   "id": "5e471c26",
   "metadata": {},
   "outputs": [
    {
     "name": "stdout",
     "output_type": "stream",
     "text": [
      "0\n",
      "2\n",
      "4\n"
     ]
    }
   ],
   "source": [
    "\n",
    "print(next(evens))  \n",
    "print(next(evens))  \n",
    "print(next(evens))  \n"
   ]
  },
  {
   "cell_type": "markdown",
   "id": "040f0669",
   "metadata": {},
   "source": [
    "<h2>Q12. Identify at least one benefit of generators.</h2>"
   ]
  },
  {
   "cell_type": "markdown",
   "id": "d76832dd",
   "metadata": {},
   "source": [
    "* Generators use lazy evaluation, meaning that values are computed and generated only when they are requested.This provides efficiency by generating values on-demand, as opposed to upfront generation.\n",
    "* Generators can generate infinite sequences of values.\n",
    "* Generators seamlessly integrate with iteration constructs like for loops, making it easy to process each generated value in a sequential manner."
   ]
  }
 ],
 "metadata": {
  "kernelspec": {
   "display_name": "Python 3 (ipykernel)",
   "language": "python",
   "name": "python3"
  },
  "language_info": {
   "codemirror_mode": {
    "name": "ipython",
    "version": 3
   },
   "file_extension": ".py",
   "mimetype": "text/x-python",
   "name": "python",
   "nbconvert_exporter": "python",
   "pygments_lexer": "ipython3",
   "version": "3.10.11"
  }
 },
 "nbformat": 4,
 "nbformat_minor": 5
}
