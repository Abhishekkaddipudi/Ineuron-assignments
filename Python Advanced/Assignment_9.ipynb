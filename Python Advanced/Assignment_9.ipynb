{
 "cells": [
  {
   "cell_type": "markdown",
   "id": "866eaa79",
   "metadata": {},
   "source": [
    "<h2>Q1. In Python 3.X, what are the names and functions of string object types?</h2>"
   ]
  },
  {
   "cell_type": "markdown",
   "id": "74aef6e4",
   "metadata": {},
   "source": [
    "- `isdecimal()`: Returns True if all characters in a string are decimal.\n",
    "- `isalnum()`: Returns True if all characters in the string are alphanumeric.\n",
    "- `istitle()`: Returns True if the first character in a string is in uppercase.\n",
    "- `partition(<sub_string>)`: Splits the string at the first occurrence of the sub-string and returns a tuple of 3 elements.\n",
    "- `rpartition(<sub_string>)`: Splits the string at the last occurrence of the sub-string and returns a tuple of 3 elements.\n",
    "- `isidentifier()`: Returns True if the given string is a valid identifier name.\n",
    "- `len(<string>)`: Returns the length of the given string.\n",
    "- `index(<sub_string>)`: Returns the lowest index of the sub-string if the sub-string is found in the string.\n",
    "- `rindex(<sub_string>)`: Returns the highest index of the sub-string if the sub-string is found in the string.\n",
    "- `max(<string>)`: Returns the highest alphabetical character in the string as per ASCII.\n",
    "- `min(<string>)`: Returns the lowest alphabetical character in the string as per ASCII.\n",
    "- `splitlines()`: Returns a list of lines in the string.\n",
    "- `capitalize()`: Returns the string with the first character capitalized.\n",
    "- `upper()`: Returns the string with all characters in uppercase.\n",
    "- `lower()`: Returns the string with all characters in lowercase.\n",
    "- `casefold()`: Returns the string in lowercase, which can be used for caseless comparisons.\n",
    "- `expandtabs(no_of_spaces)`: Replaces tabs in a string with the specified number of spaces (default is 8).\n",
    "- `find(<sub_string>)`: Returns the lowest index of the sub-string if the sub-string is found in the string, else returns -1.\n",
    "- `rfind(<sub_string>)`: Returns the highest index of the sub-string if the sub-string is found in the string, else returns -1.\n",
    "- `count(<char>)`: Returns the number of occurrences of the character in the given string.\n",
    "- `split(<sep>)`: Returns a list of words separated by the given separator, else separated by whitespace.\n",
    "- `rsplit(<sep>)`: Returns a list of words separated by the given separator, else separated by whitespace, scanning from the end.\n",
    "- `lstrip()`: Returns a copy of the string where leading whitespaces are removed.\n",
    "- `rstrip()`: Returns a copy of the string where trailing whitespaces are removed.\n",
    "- `strip()`: Returns a copy of the string where both leading and trailing whitespaces are removed.\n",
    "- `swapcase()`: Swaps lowercase characters with uppercase and vice versa.\n",
    "- `join(<list>)`: Concatenates a list or tuple of words with intervening occurrences of the separator.\n",
    "- `translate(<mapping_table>)`: Translates the characters using the specified translation table.\n",
    "- `maketrans(<dict>)`: Creating a mapping translation table usable for `translate()`.\n",
    "- `replace(<char_1>,<char_2>)`: Replaces all occurrences of `char_1` with `char_2` in the string.\n",
    "- `encode()`: Encodes the string into any encoding supported by Python. The default encoding is UTF-8.\n",
    "- `ljust(<no_of_spaces>)`: Left-justifies in a field of the given width.\n",
    "- `rjust(<no_of_spaces>)`: Right-justifies in a field of the given width.\n",
    "- `center(<no_of_spaces>)`: Center-justifies in a field of the given width.\n",
    "- `zfill(<length>)`: Zfill adds zeros to the beginning of the string until the specified length is reached.\n"
   ]
  },
  {
   "cell_type": "code",
   "execution_count": 3,
   "id": "7a58a1a2",
   "metadata": {},
   "outputs": [
    {
     "name": "stdout",
     "output_type": "stream",
     "text": [
      "False\n",
      "False\n",
      "True\n",
      "('Hello', ',', ' World!')\n",
      "('Hello', ',', ' World!')\n",
      "False\n",
      "13\n",
      "5\n",
      "5\n",
      "r\n",
      " \n",
      "['Hello, World!']\n",
      "Hello, world!\n",
      "HELLO, WORLD!\n",
      "hello, world!\n",
      "hello, world!\n",
      "Hello, World!\n",
      "5\n",
      "5\n",
      "2\n",
      "['Hello,', 'World!']\n",
      "['Hello,', 'World!']\n",
      "Hello, World!\n",
      "Hello, World!\n",
      "Hello, World!\n",
      "hELLO, wORLD!\n",
      "Hello, World!\n",
      "Hellx, Wxrld!\n",
      "{111: 'x'}\n",
      "Hellx, Wxrld!\n",
      "b'Hello, World!'\n",
      "Hello, World!       \n",
      "       Hello, World!\n",
      "   Hello, World!    \n",
      "0000000Hello, World!\n"
     ]
    }
   ],
   "source": [
    "string = \"Hello, World!\"\n",
    "sub_string = \",\"\n",
    "sep = \" \"\n",
    "char_1 = \"o\"\n",
    "char_2 = \"x\"\n",
    "no_of_spaces = 8\n",
    "length = 10\n",
    "dictionary = {\"o\": \"x\"}\n",
    "width = 20\n",
    "\n",
    "# isdecimal()\n",
    "print(string.isdecimal())\n",
    "\n",
    "# isalnum()\n",
    "print(string.isalnum())\n",
    "\n",
    "# istitle()\n",
    "print(string.istitle())\n",
    "\n",
    "# partition()\n",
    "print(string.partition(sub_string))\n",
    "''''''\n",
    "# rpartition()\n",
    "print(string.rpartition(sub_string))\n",
    "\n",
    "# isidentifier()\n",
    "print(string.isidentifier())\n",
    "\n",
    "# len()\n",
    "print(len(string))\n",
    "\n",
    "# index()\n",
    "print(string.index(sub_string))\n",
    "\n",
    "# rindex()\n",
    "print(string.rindex(sub_string))\n",
    "\n",
    "# max()\n",
    "print(max(string))\n",
    "\n",
    "# min()\n",
    "print(min(string))\n",
    "\n",
    "# splitlines()\n",
    "print(string.splitlines())\n",
    "\n",
    "# capitalize()\n",
    "print(string.capitalize())\n",
    "\n",
    "# upper()\n",
    "print(string.upper())\n",
    "\n",
    "# lower()\n",
    "print(string.lower())\n",
    "\n",
    "# casefold()\n",
    "print(string.casefold())\n",
    "\n",
    "# expandtabs()\n",
    "print(string.expandtabs(no_of_spaces))\n",
    "\n",
    "# find()\n",
    "print(string.find(sub_string))\n",
    "\n",
    "# rfind()\n",
    "print(string.rfind(sub_string))\n",
    "\n",
    "# count()\n",
    "print(string.count(char_1))\n",
    "\n",
    "# split()\n",
    "print(string.split(sep))\n",
    "\n",
    "# rsplit()\n",
    "print(string.rsplit(sep))\n",
    "\n",
    "# lstrip()\n",
    "print(string.lstrip())\n",
    "\n",
    "# rstrip()\n",
    "print(string.rstrip())\n",
    "\n",
    "# strip()\n",
    "print(string.strip())\n",
    "\n",
    "# swapcase()\n",
    "print(string.swapcase())\n",
    "\n",
    "# join()\n",
    "print(sep.join(string.split()))\n",
    "\n",
    "# translate()\n",
    "print(string.translate(str.maketrans(dictionary)))\n",
    "\n",
    "# maketrans()\n",
    "print(str.maketrans(dictionary))\n",
    "\n",
    "# replace()\n",
    "print(string.replace(char_1, char_2))\n",
    "\n",
    "# encode()\n",
    "print(string.encode())\n",
    "\n",
    "# ljust()\n",
    "print(string.ljust(width))\n",
    "\n",
    "# rjust()\n",
    "print(string.rjust(width))\n",
    "\n",
    "# center()\n",
    "print(string.center(width))\n",
    "\n",
    "# zfill()\n",
    "print(string.zfill(width))\n"
   ]
  },
  {
   "cell_type": "markdown",
   "id": "141dadaf",
   "metadata": {},
   "source": [
    "<h2>Q2. How do the string forms in Python 3.X vary in terms of operations?</h2>"
   ]
  },
  {
   "cell_type": "markdown",
   "id": "19e8989e",
   "metadata": {},
   "source": [
    "* The str type represents Unicode text and supports various string manipulation operations. \n",
    "* It allows you to perform tasks like concatenation, slicing, indexing, searching, replacing, formatting, and more. \n",
    "* It also provides methods to convert the string to uppercase or lowercase, split it into substrings, join substrings together, etc."
   ]
  },
  {
   "cell_type": "markdown",
   "id": "8baae87a",
   "metadata": {},
   "source": [
    "<h2>Q3. In 3.X, how do you put non-ASCII Unicode characters in a string?</h2>"
   ]
  },
  {
   "cell_type": "markdown",
   "id": "fe8a9bff",
   "metadata": {},
   "source": [
    " *   Unicode Escapes: You can use Unicode escapes to represent non-ASCII characters using their Unicode code point. The syntax is '\\uXXXX' or '\\UXXXXXXXX', where XXXX is the hexadecimal representation of the Unicode code point. For example, to represent the character 'é' (U+00E9), you can use '\\u00E9'.\n",
    "\n",
    "*  Unicode Literals: Python allows you to include Unicode characters directly in string literals by using the 'u' or 'U' prefix. For example, you can write the character 'é' as u'é' or U'é'.\n",
    "\n",
    " *   UTF-8 Encoding: You can include non-ASCII characters directly in a string if you declare the string with the UTF-8 encoding. To do this, add the following line at the beginning of your Python source file:"
   ]
  },
  {
   "cell_type": "code",
   "execution_count": 7,
   "id": "0badafd7",
   "metadata": {},
   "outputs": [
    {
     "name": "stdout",
     "output_type": "stream",
     "text": [
      "Café\n",
      "Café\n",
      "Café\n"
     ]
    }
   ],
   "source": [
    "# Using Unicode escapes\n",
    "string_unicode_escape = 'Caf\\u00E9' \n",
    "print(string_unicode_escape)  \n",
    "# Using Unicode literals\n",
    "string_unicode_literal = u'Café'\n",
    "print(string_unicode_literal) \n",
    "\n",
    "# Using UTF-8 encoding with declaration\n",
    "# -*- coding: utf-8 -*-\n",
    "string_utf8 = 'Café'  \n",
    "print(string_utf8) \n"
   ]
  },
  {
   "cell_type": "markdown",
   "id": "7d385e85",
   "metadata": {},
   "source": [
    "<h2>Q4. In Python 3.X, what are the key differences between text-mode and binary-mode files?</h2>"
   ]
  },
  {
   "cell_type": "markdown",
   "id": "6c216aec",
   "metadata": {},
   "source": [
    "Text-mode files:\n",
    "\n",
    "   - Text-mode files are opened using the 't' mode specifier, or by default if no mode specifier is provided.\n",
    "   \n",
    "   - Text-mode files handle text data encoded with a specific encoding (e.g., UTF-8) and perform automatic encoding and decoding when reading from or writing to the file.\n",
    "    \n",
    "   - When reading from a text-mode file, the contents are automatically decoded into Unicode strings.\n",
    "   - When writing to a text-mode file, the provided Unicode strings are automatically encoded into bytes using the specified encoding before writing to the file."
   ]
  },
  {
   "cell_type": "code",
   "execution_count": null,
   "id": "ee9d4624",
   "metadata": {},
   "outputs": [],
   "source": [
    "# Text-mode file\n",
    "with open('text_file.txt', 'rt') as file:\n",
    "    content = file.read()\n",
    "    print(content)"
   ]
  },
  {
   "cell_type": "markdown",
   "id": "aafac8f2",
   "metadata": {},
   "source": [
    "Binary-mode files:\n",
    "\n",
    "   - Binary-mode files are opened using the 'b' mode specifier.\n",
    "   - Binary-mode files handle binary data as-is, without any encoding or decoding.\n",
    "   - When reading from a binary-mode file, the contents are returned as bytes objects.\n",
    "   - When writing to a binary-mode file, the provided data must be in the form of bytes objects."
   ]
  },
  {
   "cell_type": "code",
   "execution_count": null,
   "id": "adf5b277",
   "metadata": {},
   "outputs": [],
   "source": [
    "# Binary-mode file\n",
    "with open('binary_file.bin', 'rb') as file:\n",
    "    content = file.read()\n",
    "    print(content)"
   ]
  },
  {
   "cell_type": "markdown",
   "id": "9b524fe6",
   "metadata": {},
   "source": [
    "<h2>Q5. How can you interpret a Unicode text file containing text encoded in a different encoding than your platform's default?</h2>"
   ]
  },
  {
   "cell_type": "markdown",
   "id": "9bdee16b",
   "metadata": {},
   "source": [
    "> To interpret a Unicode text file containing text encoded in a different encoding than your platform's default, we can use the `open()` function in Python with the appropriate encoding parameter. "
   ]
  },
  {
   "cell_type": "code",
   "execution_count": null,
   "id": "289d9bb1",
   "metadata": {},
   "outputs": [],
   "source": [
    "with open('filename.txt', 'r', encoding='utf-8') as file:\n",
    "    content = file.read()\n"
   ]
  },
  {
   "cell_type": "markdown",
   "id": "f43f2478",
   "metadata": {},
   "source": [
    "<h2>Q6. What is the best way to make a Unicode text file in a particular encoding format?</h2>"
   ]
  },
  {
   "cell_type": "markdown",
   "id": "d3940c56",
   "metadata": {},
   "source": [
    "> Open a file using the open() function in Python with the appropriate encoding parameter. Use the 'w' or 'x' mode specifier to open the file for writing."
   ]
  },
  {
   "cell_type": "code",
   "execution_count": null,
   "id": "2cf02e13",
   "metadata": {},
   "outputs": [],
   "source": [
    "with open('filename.txt', 'w', encoding='utf-8') as file:\n",
    "    content = \"Café\"\n",
    "    encoded_content = content.encode('utf-8')\n",
    "    file.write(encoded_content)"
   ]
  },
  {
   "cell_type": "markdown",
   "id": "e46af0ec",
   "metadata": {},
   "source": [
    "> Write the content to the file using the write() method of the file object. Ensure that the content you write is already encoded in the specified encoding format."
   ]
  },
  {
   "cell_type": "code",
   "execution_count": null,
   "id": "2a9136c7",
   "metadata": {},
   "outputs": [],
   "source": [
    "content = \"Café\"\n",
    "encoded_content = content.encode('utf-8')\n",
    "file.write(encoded_content)"
   ]
  },
  {
   "cell_type": "markdown",
   "id": "151e864e",
   "metadata": {},
   "source": [
    "> Close the file to ensure that all the data is written and the resources are properly released."
   ]
  },
  {
   "cell_type": "code",
   "execution_count": null,
   "id": "cca8d9c8",
   "metadata": {},
   "outputs": [],
   "source": [
    "file.close()"
   ]
  },
  {
   "cell_type": "markdown",
   "id": "c3179e11",
   "metadata": {},
   "source": [
    "<h2>Q7. What qualifies ASCII text as a form of Unicode text?</h2>"
   ]
  },
  {
   "cell_type": "markdown",
   "id": "848984fa",
   "metadata": {},
   "source": [
    "> ASCII text is considered a form of Unicode text because ASCII characters are a subset of Unicode characters"
   ]
  },
  {
   "cell_type": "markdown",
   "id": "d7dc7016",
   "metadata": {},
   "source": [
    "> ASCII (American Standard Code for Information Interchange) is a character encoding standard that represents basic English characters using 7 bits, allowing for a total of 128 characters."
   ]
  },
  {
   "cell_type": "markdown",
   "id": "9f0fc28e",
   "metadata": {},
   "source": [
    "> The first 128 Unicode code points (U+0000 to U+007F) exactly match the ASCII character set. Therefore, any text that consists only of ASCII characters is already encoded as Unicode text because Unicode includes all the ASCII characters as a subset."
   ]
  },
  {
   "cell_type": "markdown",
   "id": "efa81008",
   "metadata": {},
   "source": [
    "<h2>Q8. How much of an effect does the change in string types in Python 3.X have on your code?</h2>"
   ]
  },
  {
   "cell_type": "markdown",
   "id": "4ceba5fe",
   "metadata": {},
   "source": [
    "    String literals: In Python 3.X, string literals are Unicode by default (str type), whereas in Python 2.X, they were ASCII by default (str/unicode types). If you have string literals with non-ASCII characters, you might need to add appropriate Unicode literals or encoding declarations to ensure proper handling.\n",
    "\n",
    "    String manipulation: Some string manipulation functions or methods may have changed names or behavior in Python 3.X. For example, the unicode() function in Python 2.X is replaced by str() in Python 3.X. Additionally, certain operations that were available on the str type in Python 2.X may not be available on the bytes type in Python 3.X.\n",
    "\n",
    "    Encoding and decoding: Python 3.X introduced explicit encoding and decoding operations for handling text and binary data. You might need to update your code to use encode() and decode() functions to convert between text (str) and bytes objects.\n",
    "\n",
    "    I/O operations: If your code involves reading from or writing to files, you may need to update the file handling code to specify the correct encoding and handle text and binary data accordingly."
   ]
  }
 ],
 "metadata": {
  "kernelspec": {
   "display_name": "Python 3 (ipykernel)",
   "language": "python",
   "name": "python3"
  },
  "language_info": {
   "codemirror_mode": {
    "name": "ipython",
    "version": 3
   },
   "file_extension": ".py",
   "mimetype": "text/x-python",
   "name": "python",
   "nbconvert_exporter": "python",
   "pygments_lexer": "ipython3",
   "version": "3.10.11"
  }
 },
 "nbformat": 4,
 "nbformat_minor": 5
}
