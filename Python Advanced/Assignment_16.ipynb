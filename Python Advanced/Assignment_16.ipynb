{
 "cells": [
  {
   "cell_type": "markdown",
   "id": "a2629f03",
   "metadata": {},
   "source": [
    "<h2>Q1. What is the benefit of regular expressions?</h2>"
   ]
  },
  {
   "cell_type": "markdown",
   "id": "3bb44ea5",
   "metadata": {},
   "source": [
    "Regular expressions offer several benefits in text processing and pattern matching tasks:\n",
    "\n",
    " * Regular expressions provide a powerful and flexible way to search, match, and manipulate text based on specific patterns.\n",
    " \n",
    " * Regular expressions can be used to validate and ensure the correctness of input data.\n",
    " \n",
    " * Regular expressions enable you to extract specific parts of a text that match a particular pattern.\n",
    " \n",
    " * Regular expressions allow you to perform various text manipulations such as search and replace, find and delete, or find and insert operations.\n",
    " \n",
    " * Regular expressions are highly optimized for searching and matching text. They utilize efficient algorithms and techniques to quickly find matches, making them suitable for handling large amounts of data.\n",
    " \n",
    "  * Regular expressions are widely supported across different programming languages and platforms.\n",
    "  \n",
    "  "
   ]
  },
  {
   "cell_type": "markdown",
   "id": "b3db2899",
   "metadata": {},
   "source": [
    "<h2>Q2. Describe the difference between the effects of \"(ab)c+\" and \"a(bc)+.\" Which of these, if any, is the unqualified pattern \"abc+\"?</h2>"
   ]
  },
  {
   "cell_type": "markdown",
   "id": "e54669bc",
   "metadata": {},
   "source": [
    "   * \"(ab)c+\" matches \"ab\" followed by one or more \"c\"s , like \"abc\", \"abcc\", \"abccc\", and so on.\n",
    "   * \"a(bc)+\" matches \"a\" followed by one or more occurrences of \"bc\" ,like \"abc\", \"abcbc\", \"abcbcbc\", and so on.\n",
    "   * The unqualified pattern \"abc+\" refers to the pattern \"abc\" with the letter \"c\" occurring one or more times consecutively. This pattern will match strings like \"abc\", \"abcc\", \"abccc\", and so on. Therefore, the unqualified pattern \"abc+\" corresponds to the regular expression \"(ab)c+\"."
   ]
  },
  {
   "cell_type": "markdown",
   "id": "207b17ec",
   "metadata": {},
   "source": [
    "<h2>Q3. How much do you need to use the following sentence while using regular expressions? \n",
    "    \n",
    "    import re"
   ]
  },
  {
   "cell_type": "markdown",
   "id": "8649ce90",
   "metadata": {},
   "source": [
    "- **import re statement always has to be imported before using regular expressions atleast once.**"
   ]
  },
  {
   "cell_type": "markdown",
   "id": "9856ce05",
   "metadata": {},
   "source": [
    "<h2>Q4. Which characters have special significance in square brackets when expressing a range, and under what circumstances?</h2>"
   ]
  },
  {
   "cell_type": "markdown",
   "id": "041d082b",
   "metadata": {},
   "source": [
    "The Characters ```.,*,?,^,or,(),``` have a special signiface when used with square brackets. They need not be be explicitly escaped by ```\\``` as in case of pattern texts in a raw string."
   ]
  },
  {
   "cell_type": "markdown",
   "id": "cd45ab28",
   "metadata": {},
   "source": [
    "<h2>Q5. How does compiling a regular-expression object benefit you?</h2>"
   ]
  },
  {
   "cell_type": "markdown",
   "id": "e1a2bc68",
   "metadata": {},
   "source": [
    "Compiling a regular-expression object in Python using the `re.compile()` function offers several benefits:\n",
    "    \n",
    "   * Compiling a regular expression allows the pattern to be pre-processed and optimized, resulting in faster matching times.\n",
    "    \n",
    "   * By compiling a regular expression object, you can assign it to a variable with a meaningful name.\n",
    "    \n",
    "   * The compiled regular expression object can be reused multiple times within your code.\n",
    "    \n",
    "   * The compiled regular expression object provides access to various useful methods, such as match(), search(), findall(), etc."
   ]
  },
  {
   "cell_type": "markdown",
   "id": "a30e5463",
   "metadata": {},
   "source": [
    "<h2>Q6. What are some examples of how to use the match object returned by re.match and re.search?</h2>"
   ]
  },
  {
   "cell_type": "markdown",
   "id": "010718fd",
   "metadata": {},
   "source": [
    "When using the `re.match()` or `re.search()` functions in Python, a match object is returned if a match is found. The match object contains information about the match and provides various methods and attributes to access and manipulate the matched content."
   ]
  },
  {
   "cell_type": "code",
   "execution_count": 6,
   "id": "db5df70a",
   "metadata": {},
   "outputs": [
    {
     "name": "stdout",
     "output_type": "stream",
     "text": [
      "Matched string: 123\n"
     ]
    }
   ],
   "source": [
    "import re\n",
    "\n",
    "pattern = r'\\d+' \n",
    "text = 'Hello 123 World'\n",
    "\n",
    "match = re.search(pattern, text)\n",
    "if match:\n",
    "    print(\"Matched string:\", match.group())\n"
   ]
  },
  {
   "cell_type": "code",
   "execution_count": 7,
   "id": "1df16e60",
   "metadata": {},
   "outputs": [
    {
     "name": "stdout",
     "output_type": "stream",
     "text": [
      "First name: John\n",
      "Last name: Doe\n"
     ]
    }
   ],
   "source": [
    "import re\n",
    "\n",
    "pattern = r'(\\w+)\\s(\\w+)'\n",
    "text = 'John Doe'\n",
    "\n",
    "match = re.match(pattern, text)\n",
    "if match:\n",
    "    print(\"First name:\", match.group(1))\n",
    "    print(\"Last name:\", match.group(2))\n"
   ]
  },
  {
   "cell_type": "markdown",
   "id": "fb36a782",
   "metadata": {},
   "source": [
    "<h2>Q7. What is the difference between using a vertical bar (|) as an alteration and using square brackets as a character set?</h2>"
   ]
  },
  {
   "cell_type": "markdown",
   "id": "8a86b50b",
   "metadata": {},
   "source": [
    "In regular expressions, the vertical bar acts as an alteration operator. It allows you to specify alternatives for matching. \n",
    "\n",
    "Square brackets are used to define a character set or character class. They allow you to specify a set of characters from which a match can occur. For example, the pattern [aeiou] matches any single vowel character."
   ]
  },
  {
   "cell_type": "code",
   "execution_count": 8,
   "id": "e8e63517",
   "metadata": {},
   "outputs": [
    {
     "name": "stdout",
     "output_type": "stream",
     "text": [
      "['cat', 'dog']\n"
     ]
    }
   ],
   "source": [
    "import re\n",
    "#using |\n",
    "pattern = r\"cat|dog\"\n",
    "text = \"I have a cat and a dog\"\n",
    "\n",
    "matches = re.findall(pattern, text)\n",
    "print(matches) \n"
   ]
  },
  {
   "cell_type": "code",
   "execution_count": 10,
   "id": "70969272",
   "metadata": {},
   "outputs": [
    {
     "name": "stdout",
     "output_type": "stream",
     "text": [
      "['e', 'o', 'o']\n"
     ]
    }
   ],
   "source": [
    "import re\n",
    "#using []\n",
    "pattern = r\"[aeiou]\"\n",
    "text = \"Hello, world!\"\n",
    "\n",
    "matches = re.findall(pattern, text)\n",
    "print(matches) \n"
   ]
  },
  {
   "cell_type": "markdown",
   "id": "0325e4a1",
   "metadata": {},
   "source": [
    "<h2>Q8. In regular-expression search patterns, why is it necessary to use the raw-string indicator (r)? In   replacement strings?</h2>"
   ]
  },
  {
   "cell_type": "markdown",
   "id": "d03f4400",
   "metadata": {},
   "source": [
    "In regular-expression search patterns, using the raw-string indicator (`r`) is not always necessary, but it is often recommended. The raw-string indicator (`r`) allows you to specify a raw string literal, which treats backslashes (`\\`) as literal characters instead of escape characters"
   ]
  },
  {
   "cell_type": "code",
   "execution_count": 11,
   "id": "0c0598bb",
   "metadata": {},
   "outputs": [
    {
     "name": "stdout",
     "output_type": "stream",
     "text": [
      "Matched value: 3.14\n"
     ]
    }
   ],
   "source": [
    "import re\n",
    "\n",
    "pattern = r\"(\\w+), (\\w+)\"\n",
    "text = \"Doe, John\"\n",
    "\n",
    "replacement = r\"\\2 \\1\"\n",
    "replaced_text = re.sub(pattern, replacement, text)\n",
    "print(replaced_text)  \n"
   ]
  },
  {
   "cell_type": "code",
   "execution_count": 16,
   "id": "3ed4aee7",
   "metadata": {},
   "outputs": [
    {
     "name": "stdout",
     "output_type": "stream",
     "text": [
      "\u0002 \u0001\n"
     ]
    }
   ],
   "source": [
    "import re\n",
    "\n",
    "pattern = r\"(\\w+), (\\w+)\"\n",
    "text = \"Doe, John\"\n",
    "#r removed\n",
    "replacement = \"\\2 \\1\"\n",
    "replaced_text = re.sub(pattern, replacement, text)\n",
    "print(replaced_text)  \n",
    "#no output"
   ]
  }
 ],
 "metadata": {
  "kernelspec": {
   "display_name": "Python 3 (ipykernel)",
   "language": "python",
   "name": "python3"
  },
  "language_info": {
   "codemirror_mode": {
    "name": "ipython",
    "version": 3
   },
   "file_extension": ".py",
   "mimetype": "text/x-python",
   "name": "python",
   "nbconvert_exporter": "python",
   "pygments_lexer": "ipython3",
   "version": "3.10.11"
  }
 },
 "nbformat": 4,
 "nbformat_minor": 5
}
