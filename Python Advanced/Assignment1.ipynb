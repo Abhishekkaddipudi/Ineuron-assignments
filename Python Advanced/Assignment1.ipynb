{
 "cells": [
  {
   "cell_type": "markdown",
   "id": "3865d204",
   "metadata": {},
   "source": [
    "<h2>Q1. What is the purpose of Python's OOP?</h2>"
   ]
  },
  {
   "cell_type": "markdown",
   "id": "f6af2448",
   "metadata": {},
   "source": [
    "-  The purpose of Python's OOP is to help you write code that is more modular, reusable, and easier to maintain.\n",
    "- OOP is a way of organizing code in a manner that is easy to understand, maintain, and extend.\n",
    "- In Python, OOP is implemented using classes and objects.\n",
    "- A class is a blueprint or template for creating objects, while an object is an instance of a class.\n",
    "- Encapsulation: OOP allows you to encapsulate data and behavior into objects, which helps to prevent accidental modification of data and makes your code more secure.\n",
    "- Inheritance: OOP allows you to create new classes that inherit properties and methods from existing classes, which can help to reduce duplication of code and make your code more organized.\n",
    "- Polymorphism: OOP allows you to write code that can work with objects of different classes in a seamless manner, which can make your code more flexible and easier to maintain."
   ]
  },
  {
   "cell_type": "markdown",
   "id": "38642206",
   "metadata": {},
   "source": [
    "<h2>Q2. Where does an inheritance search look for an attribute?</h2>"
   ]
  },
  {
   "cell_type": "markdown",
   "id": "a5922962",
   "metadata": {},
   "source": [
    "When we use inheritance in Python, the interpreter looks for an attribute in the following order:\n",
    "\n",
    " -   The instance itself: If the attribute is defined in the instance itself (i.e., using self.attribute), then it is returned.\n",
    "\n",
    " -   The instance's class: If the attribute is not defined in the instance itself, then the interpreter looks for the attribute in the instance's class.\n",
    "\n",
    " -  The first parent class: If the attribute is not defined in the instance's class, then the interpreter looks for the attribute in the first parent class.\n",
    "\n",
    " -  The parent's parent class: If the attribute is not defined in the first parent class, then the interpreter looks for the attribute in the parent's parent class.\n",
    "\n",
    " -   And so on, until the top-level object class is reached."
   ]
  },
  {
   "cell_type": "markdown",
   "id": "5129257f",
   "metadata": {},
   "source": [
    "<h2>Q3. How do you distinguish between a class object and an instance object?</h2>"
   ]
  },
  {
   "cell_type": "markdown",
   "id": "2485d09a",
   "metadata": {},
   "source": [
    "- A class is defined using the class keyword, while an instance is created using the class constructor.\n",
    "- A class object is a single object that resides in memory, while an instance object is a separate object that is created in memory when the class constructor is called.\n",
    "- A class object can have class-level attributes and methods, which are shared by all instances of the class. An instance object, on the other hand, can have instance-level attributes and methods, which are specific to that instance.\n",
    "- You use a class object to define the blueprint for creating instances, while you use an instance object to perform operations and access attributes of a specific object."
   ]
  },
  {
   "cell_type": "code",
   "execution_count": 6,
   "id": "02aa6798",
   "metadata": {},
   "outputs": [],
   "source": [
    "class Car:\n",
    "    # Class-level attribute\n",
    "    manufacturer = \"Toyota\"\n",
    "\n",
    "    def __init__(self, model, year):\n",
    "        # Instance-level attributes\n",
    "        self.model = model"
   ]
  },
  {
   "cell_type": "markdown",
   "id": "9cfe18db",
   "metadata": {},
   "source": [
    "<h2>Q4. What makes the first argument in a class’s method function special?</h2>"
   ]
  },
  {
   "cell_type": "markdown",
   "id": "86108fba",
   "metadata": {},
   "source": [
    "- The first argument of a class method function is conventionally called 'self', although we can use any name you want for this argument. \n",
    "\n",
    "\n",
    "- This argument is special because it refers to the instance of the class that is calling the method.\n",
    "\n",
    "\n",
    "\n",
    "- When you call a method on an instance of a class, Python automatically passes a reference to that instance as the first argument to the method. \n",
    "\n",
    "\n",
    "- This allows the method to access the instance's data and other methods."
   ]
  },
  {
   "cell_type": "code",
   "execution_count": 7,
   "id": "f16139f1",
   "metadata": {},
   "outputs": [],
   "source": [
    "#example\n",
    "class MyClass:\n",
    "    def my_method(self, x):\n",
    "        self.x = x"
   ]
  },
  {
   "cell_type": "markdown",
   "id": "8ed05393",
   "metadata": {},
   "source": [
    "<h2>Q5. What is the purpose of the __init__ method?</h2>"
   ]
  },
  {
   "cell_type": "markdown",
   "id": "783f713c",
   "metadata": {},
   "source": [
    "- The '__init__' method is a special method in Python classes that is used to initialize the instance variables of an object when it is created.\n",
    "\n",
    "\n",
    "- This method is called a constructor because it constructs an instance of the class.\n",
    "\n",
    "\n",
    "- The purpose of the 'init' method is to set the initial state of an object by assigning values to its attributes. \n",
    "\n",
    "\n",
    "-  This method is called automatically when you create a new instance of the class, and it takes the instance itself (i.e., self) and any arguments you pass to the class constructor as parameters."
   ]
  },
  {
   "cell_type": "code",
   "execution_count": 9,
   "id": "6b60667d",
   "metadata": {},
   "outputs": [],
   "source": [
    "#example\n",
    "class Person:\n",
    "    def __init__(self, name, age):\n",
    "        self.name = name\n",
    "        self.age = age\n",
    "person1 = Person(\"Alice\", 25)"
   ]
  },
  {
   "cell_type": "markdown",
   "id": "ccbf6b21",
   "metadata": {},
   "source": [
    "<h2>Q6. What is the process for creating a class instance?</h2>"
   ]
  },
  {
   "cell_type": "markdown",
   "id": "a6828f20",
   "metadata": {},
   "source": [
    "- we create a class instance by calling the class name as though it were a function; any arguments passed into the class name show up as arguments two and beyond in the __init__ constructor method.\n",
    "\n",
    "\n",
    "- The general process for creating a class instance can be broken down into the following steps:\n",
    "\n",
    "\n",
    "\n",
    "- Define the class: First, we need to define the class using the class keyword.\n",
    "\n",
    "\n",
    "\n",
    " - Define the __init__ method: If we want to initialize the instance variables of the object, we should define the      __init__ method in the class.\n",
    "\n",
    "\n",
    "\n",
    " - Create the instance: To create an instance of the class, we use the class name followed by parentheses containing any arguments we want to pass to the class constructor."
   ]
  },
  {
   "cell_type": "markdown",
   "id": "6dc1edfb",
   "metadata": {},
   "source": [
    "<h2>Q7. What is the process for creating a class?</h2>"
   ]
  },
  {
   "cell_type": "markdown",
   "id": "6f904699",
   "metadata": {},
   "source": [
    "- To create a class in Python, you use the class keyword followed by the name of the class, and optionally, the name of the base class(es) in parentheses.\n",
    "\n",
    "\n",
    "- Define the class: Use the class keyword followed by the name of the class.\n",
    "\n",
    "\n",
    "\n",
    "- Define the class attributes: Define any class-level attributes that you want to be shared across all instances of the class.\n",
    "\n",
    "\n",
    "\n",
    "- Define the class methods: Define any methods that you want to be associated with the class."
   ]
  },
  {
   "cell_type": "markdown",
   "id": "4196407f",
   "metadata": {},
   "source": [
    "<h2>Q8. How would you define the superclasses of a class?</h2>"
   ]
  },
  {
   "cell_type": "markdown",
   "id": "4eb1b9fa",
   "metadata": {},
   "source": [
    "- A class can inherit from one or more parent classes, which are also known as superclasses.\n",
    "\n",
    "\n",
    "\n",
    "- To define the superclasses of a class, we include the name(s) of the superclass(es) in parentheses after the class name."
   ]
  },
  {
   "cell_type": "code",
   "execution_count": 11,
   "id": "2035ce99",
   "metadata": {},
   "outputs": [],
   "source": [
    "#example\n",
    "#superclass\n",
    "class Person:\n",
    "    def __init__(self, name):\n",
    "        self.name = name\n",
    "        \n",
    "    def say_hello(self):\n",
    "        print(\"Hello, my name is\", self.name)\n",
    "#child class       \n",
    "class Student(Person):\n",
    "    def __init__(self, name, student_id):\n",
    "        super().__init__(name)\n",
    "        self.student_id = student_id\n",
    "        \n",
    "    def study(self):\n",
    "        print(self.name, \"is studying.\")"
   ]
  }
 ],
 "metadata": {
  "kernelspec": {
   "display_name": "Python 3 (ipykernel)",
   "language": "python",
   "name": "python3"
  },
  "language_info": {
   "codemirror_mode": {
    "name": "ipython",
    "version": 3
   },
   "file_extension": ".py",
   "mimetype": "text/x-python",
   "name": "python",
   "nbconvert_exporter": "python",
   "pygments_lexer": "ipython3",
   "version": "3.9.12"
  }
 },
 "nbformat": 4,
 "nbformat_minor": 5
}
