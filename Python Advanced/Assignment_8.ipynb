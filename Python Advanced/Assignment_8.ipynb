{
 "cells": [
  {
   "cell_type": "markdown",
   "id": "e0ec72d4",
   "metadata": {},
   "source": [
    "<h2>Q1. What are the two latest user-defined exception constraints in Python 3.X?</h2>"
   ]
  },
  {
   "cell_type": "markdown",
   "id": "aeb83d1c",
   "metadata": {},
   "source": [
    "> With exception chaining, you can associate one exception with another, allowing for better error tracing and providing additional context about the exception."
   ]
  },
  {
   "cell_type": "code",
   "execution_count": 21,
   "id": "6abe86c2",
   "metadata": {},
   "outputs": [
    {
     "ename": "AssertionError",
     "evalue": "Assert Error",
     "output_type": "error",
     "traceback": [
      "\u001b[1;31m---------------------------------------------------------------------------\u001b[0m",
      "\u001b[1;31mValueError\u001b[0m                                Traceback (most recent call last)",
      "Cell \u001b[1;32mIn[21], line 3\u001b[0m\n\u001b[0;32m      1\u001b[0m \u001b[38;5;28;01mtry\u001b[39;00m:\n\u001b[1;32m----> 3\u001b[0m     \u001b[38;5;28;01mraise\u001b[39;00m \u001b[38;5;167;01mValueError\u001b[39;00m(\u001b[38;5;124m\"\u001b[39m\u001b[38;5;124mError occurred\u001b[39m\u001b[38;5;124m\"\u001b[39m)\n\u001b[0;32m      4\u001b[0m \u001b[38;5;28;01mexcept\u001b[39;00m \u001b[38;5;167;01mValueError\u001b[39;00m \u001b[38;5;28;01mas\u001b[39;00m e:\n",
      "\u001b[1;31mValueError\u001b[0m: Error occurred",
      "\nThe above exception was the direct cause of the following exception:\n",
      "\u001b[1;31mRuntimeError\u001b[0m                              Traceback (most recent call last)",
      "Cell \u001b[1;32mIn[21], line 7\u001b[0m\n\u001b[0;32m      5\u001b[0m \u001b[38;5;28;01mtry\u001b[39;00m:\n\u001b[1;32m----> 7\u001b[0m     \u001b[38;5;28;01mraise\u001b[39;00m \u001b[38;5;167;01mRuntimeError\u001b[39;00m(\u001b[38;5;124m\"\u001b[39m\u001b[38;5;124mRuntime error\u001b[39m\u001b[38;5;124m\"\u001b[39m) \u001b[38;5;28;01mfrom\u001b[39;00m \u001b[38;5;21;01me\u001b[39;00m\n\u001b[0;32m      8\u001b[0m \u001b[38;5;28;01mexcept\u001b[39;00m \u001b[38;5;167;01mRuntimeError\u001b[39;00m \u001b[38;5;28;01mas\u001b[39;00m e:\n",
      "\u001b[1;31mRuntimeError\u001b[0m: Runtime error",
      "\nThe above exception was the direct cause of the following exception:\n",
      "\u001b[1;31mAssertionError\u001b[0m                            Traceback (most recent call last)",
      "Cell \u001b[1;32mIn[21], line 9\u001b[0m\n\u001b[0;32m      7\u001b[0m     \u001b[38;5;28;01mraise\u001b[39;00m \u001b[38;5;167;01mRuntimeError\u001b[39;00m(\u001b[38;5;124m\"\u001b[39m\u001b[38;5;124mRuntime error\u001b[39m\u001b[38;5;124m\"\u001b[39m) \u001b[38;5;28;01mfrom\u001b[39;00m \u001b[38;5;21;01me\u001b[39;00m\n\u001b[0;32m      8\u001b[0m \u001b[38;5;28;01mexcept\u001b[39;00m \u001b[38;5;167;01mRuntimeError\u001b[39;00m \u001b[38;5;28;01mas\u001b[39;00m e:\n\u001b[1;32m----> 9\u001b[0m     \u001b[38;5;28;01mraise\u001b[39;00m \u001b[38;5;167;01mAssertionError\u001b[39;00m(\u001b[38;5;124m\"\u001b[39m\u001b[38;5;124mAssert Error\u001b[39m\u001b[38;5;124m\"\u001b[39m) \u001b[38;5;28;01mfrom\u001b[39;00m \u001b[38;5;21;01me\u001b[39;00m\n",
      "\u001b[1;31mAssertionError\u001b[0m: Assert Error"
     ]
    }
   ],
   "source": [
    "try:\n",
    "  \n",
    "    raise ValueError(\"Error occurred\")\n",
    "    \n",
    "except ValueError as e:\n",
    "    try:\n",
    "\n",
    "        raise RuntimeError(\"Runtime error\") from e\n",
    "        \n",
    "    except RuntimeError as e:\n",
    "        \n",
    "        raise AssertionError(\"Assert Error\") from e\n"
   ]
  },
  {
   "cell_type": "markdown",
   "id": "ffa6d1cb",
   "metadata": {},
   "source": [
    "* The exception context feature allows for attaching additional context information to an exception object.\n",
    "* This can include relevant data or metadata that provides more details about the exception's occurrence."
   ]
  },
  {
   "cell_type": "code",
   "execution_count": 25,
   "id": "456c6f38",
   "metadata": {},
   "outputs": [
    {
     "name": "stdout",
     "output_type": "stream",
     "text": [
      "Context:  {'input_value': 42}\n"
     ]
    }
   ],
   "source": [
    "try:\n",
    "    raise ValueError(\"Invalid input\")\n",
    "except ValueError as e:\n",
    "    e.context = {\"input_value\": 42}\n",
    "    print(\"Context: \",e.context)\n"
   ]
  },
  {
   "cell_type": "markdown",
   "id": "8125f7ea",
   "metadata": {},
   "source": [
    "<h2>Q2. How are class-based exceptions that have been raised matched to handlers?</h2>"
   ]
  },
  {
   "cell_type": "markdown",
   "id": "0134b2f0",
   "metadata": {},
   "source": [
    "* When class-based exceptions are raised in Python, they are matched to exception handlers using an inheritance-based mechanism"
   ]
  },
  {
   "cell_type": "markdown",
   "id": "f500735a",
   "metadata": {},
   "source": [
    "* Python searches for an appropriate exception handler by moving up the exception class hierarchy until a matching except block is found. If a matching except block is not found, the exception is propagated to the calling code or the default exception handler."
   ]
  },
  {
   "cell_type": "code",
   "execution_count": 2,
   "id": "5ac43e8e",
   "metadata": {},
   "outputs": [
    {
     "name": "stdout",
     "output_type": "stream",
     "text": [
      "CustomException handler\n"
     ]
    }
   ],
   "source": [
    "class CustomException(Exception):\n",
    "    pass\n",
    "\n",
    "class SpecificException(CustomException):\n",
    "    pass\n",
    "\n",
    "try:\n",
    "    raise SpecificException(\"Exception occurred\")\n",
    "except CustomException:\n",
    "    print(\"CustomException handler\")\n",
    "except Exception:\n",
    "    print(\"Generic Exception handler\")\n"
   ]
  },
  {
   "cell_type": "markdown",
   "id": "b1407b7c",
   "metadata": {},
   "source": [
    "<h2>Q3. Describe two methods for attaching context information to exception artefacts.</h2>"
   ]
  },
  {
   "cell_type": "markdown",
   "id": "91ec73e2",
   "metadata": {},
   "source": [
    "* When raising an exception, you can provide additional arguments that carry context information about the exception.\n",
    "* These arguments can be used to pass relevant data or details related to the exception's occurrence."
   ]
  },
  {
   "cell_type": "code",
   "execution_count": 14,
   "id": "634e79c8",
   "metadata": {},
   "outputs": [
    {
     "name": "stdout",
     "output_type": "stream",
     "text": [
      "Error: Invalid value\n",
      "Context: 3\n"
     ]
    }
   ],
   "source": [
    "try:\n",
    "\n",
    "    raise ValueError(\"Invalid value\", 3)\n",
    "except ValueError as e:\n",
    "    \n",
    "    message, context = e.args\n",
    "    print(\"Error:\", message)\n",
    "    print(\"Context:\", context)\n",
    "\n",
    "    "
   ]
  },
  {
   "cell_type": "markdown",
   "id": "77df63e3",
   "metadata": {},
   "source": [
    "*  You can define custom exception classes and attach attributes to them to carry context information. \n",
    "*  By creating custom exception classes, you can define additional attributes that provide relevant context about the exception."
   ]
  },
  {
   "cell_type": "code",
   "execution_count": 15,
   "id": "ffadd6ca",
   "metadata": {
    "scrolled": true
   },
   "outputs": [
    {
     "name": "stdout",
     "output_type": "stream",
     "text": [
      "Error: Exception occurred\n",
      "Context: {'8': 'raised'}\n"
     ]
    }
   ],
   "source": [
    "class CustomException(Exception):\n",
    "    def __init__(self, message, context):\n",
    "        super().__init__(message)\n",
    "        self.context = context\n",
    "\n",
    "try:\n",
    "   \n",
    "    raise CustomException(\"Exception occurred\", {\"8\": \"raised\"})\n",
    "except CustomException as e:\n",
    "    print(\"Error:\", str(e))\n",
    "    print(\"Context:\", e.context)\n"
   ]
  },
  {
   "cell_type": "markdown",
   "id": "a8e97de9",
   "metadata": {},
   "source": [
    "<h2>Q4. Describe two methods for specifying the text of an exception object's error message.</h2>"
   ]
  },
  {
   "cell_type": "markdown",
   "id": "ab70c8ce",
   "metadata": {},
   "source": [
    "* When raising an exception, you can provide the error message as an argument to the exception class.\n",
    "\n",
    "* This allows you to pass a string or any other object representing the error message."
   ]
  },
  {
   "cell_type": "code",
   "execution_count": 18,
   "id": "35556be0",
   "metadata": {},
   "outputs": [
    {
     "name": "stdout",
     "output_type": "stream",
     "text": [
      "Error: Invalid value\n"
     ]
    }
   ],
   "source": [
    "try:\n",
    "\n",
    "    raise ValueError(\"Invalid value\")\n",
    "except ValueError as e:\n",
    "\n",
    "    print(\"Error:\", str(e))\n"
   ]
  },
  {
   "cell_type": "markdown",
   "id": "18a57d37",
   "metadata": {},
   "source": [
    "* By creating custom exception classes, you can define the error message as an attribute of the exception class. \n",
    " *   The error message can be set during the initialization of the exception object, allowing for customized error messages for specific exception types."
   ]
  },
  {
   "cell_type": "code",
   "execution_count": 19,
   "id": "1af328e4",
   "metadata": {},
   "outputs": [
    {
     "name": "stdout",
     "output_type": "stream",
     "text": [
      "Error: Exception occurred\n"
     ]
    }
   ],
   "source": [
    "class CustomException(Exception):\n",
    "    def __init__(self, message):\n",
    "        super().__init__(message)\n",
    "\n",
    "try:\n",
    " \n",
    "    raise CustomException(\"Exception occurred\")\n",
    "except CustomException as e:\n",
    "  \n",
    "    print(\"Error:\", str(e))\n"
   ]
  },
  {
   "cell_type": "markdown",
   "id": "71803ca8",
   "metadata": {},
   "source": [
    "<h2>Q5. Why do you no longer use string-based exceptions?</h2>"
   ]
  },
  {
   "cell_type": "markdown",
   "id": "9d48b15c",
   "metadata": {},
   "source": [
    "> String-based exceptions were used in older versions of Python to represent exceptions as plain strings.\n",
    "\n",
    "> using string-based exceptions is no longer recommended, and they have been deprecated in Python 2.x and removed in Python 3.x\n",
    "\n",
    "> String-based exceptions do not provide specific information about the type or category of the exception.\n",
    "\n",
    "> String-based exceptions do not provide a mechanism to attach additional information about the exception.\n",
    "\n",
    "> String-based exceptions make code less readable and harder to understand."
   ]
  }
 ],
 "metadata": {
  "kernelspec": {
   "display_name": "Python 3 (ipykernel)",
   "language": "python",
   "name": "python3"
  },
  "language_info": {
   "codemirror_mode": {
    "name": "ipython",
    "version": 3
   },
   "file_extension": ".py",
   "mimetype": "text/x-python",
   "name": "python",
   "nbconvert_exporter": "python",
   "pygments_lexer": "ipython3",
   "version": "3.10.11"
  }
 },
 "nbformat": 4,
 "nbformat_minor": 5
}
