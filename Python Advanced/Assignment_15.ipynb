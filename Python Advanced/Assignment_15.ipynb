{
 "cells": [
  {
   "cell_type": "markdown",
   "id": "70e5afcb",
   "metadata": {},
   "source": [
    "<h2>1 .What are the new features added in Python 3.8 version?</h2>"
   ]
  },
  {
   "cell_type": "markdown",
   "id": "281154d7",
   "metadata": {},
   "source": [
    "Some New Features Added in Python 3.8 Version are:\n",
    "\n",
    "**Walrus Operator**: This operator is used to assign and return a value in the same expression. This removes the need for initializing the variable upfront. The major benefit of this is it saves some lines of code. It is also known as The Walrus Operator due to its similarity to the eyes and tusks of a walrus.\n",
    "\n",
    "**yield and return** statements do not require parentheses to return multiple values.\n",
    "\n",
    "Reversed works with a dictionary. The built-in method **reversed()** can be used for accessing the elements in the reverse order of insertion\n",
    "\n",
    "**Dict** comprehensions have been modified so that the key is computed first and the value second.\n",
    "\n",
    "**importlib_metadata** is a new library added in the Python’s standard utility modules, that provides an API for accessing an installed package’s metadata, such as its entry points or its top-level name.\n",
    "\n",
    "**f-strings** now support = , to make string interpolation easy. Python 3.8 allows the use of the above-discussed assignment operator and equal sign (=) inside the f-strings.\n",
    "\n",
    "In the three-argument form of **pow()**, when the exponent is -1, it calculates the modular multiplicative inverse of the given value\n",
    "\n",
    "The **csv.DictReader** now returns instances of dictionary instead of a collections.OrderedDict.\n",
    "\n",
    "If you miss a comma in your code such as a = [(1, 2) (3, 4)], instead of throwing **TypeError**, it displays an informative Syntax warning."
   ]
  },
  {
   "cell_type": "markdown",
   "id": "a6979844",
   "metadata": {},
   "source": [
    "<h2>2. What is monkey patching in Python?</h2>"
   ]
  },
  {
   "cell_type": "markdown",
   "id": "a2a3750d",
   "metadata": {},
   "source": [
    "Monkey patching in Python refers to the dynamic modification of a class or module at runtime by adding, modifying, or deleting attributes or methods. \n",
    "\n",
    "It allows you to extend or modify the behavior of existing classes or modules without changing their original source code."
   ]
  },
  {
   "cell_type": "code",
   "execution_count": 3,
   "id": "56e4d7e8",
   "metadata": {},
   "outputs": [
    {
     "name": "stdout",
     "output_type": "stream",
     "text": [
      "Hello, monkey patched method!\n"
     ]
    }
   ],
   "source": [
    "#example\n",
    "class MyClass:\n",
    "    def say_hello(self):\n",
    "        print(\"Hello, original method!\")\n",
    "\n",
    "def new_say_hello(self):\n",
    "    print(\"Hello, monkey patched method!\")\n",
    "\n",
    "MyClass.say_hello = new_say_hello\n",
    "\n",
    "obj = MyClass()\n",
    "\n",
    "obj.say_hello()\n"
   ]
  },
  {
   "cell_type": "markdown",
   "id": "80d24597",
   "metadata": {},
   "source": [
    "<h2>3. What is the difference between a shallow copy and deep copy?</h2>"
   ]
  },
  {
   "cell_type": "markdown",
   "id": "f6812cc0",
   "metadata": {},
   "source": [
    "the terms \"shallow copy\" and \"deep copy\" refer to different ways of copying objects. The key difference lies in how the copy is made and whether the copied object retains any references to the original object's nested objects\n",
    "\n",
    "A shallow copy creates a new object but maintains references to the nested objects of the original object. In other words, the top-level object is copied, but the inner objects are still shared between the original and the copy.\n",
    "\n",
    " A deep copy creates a new object and recursively copies all the nested objects of the original object."
   ]
  },
  {
   "cell_type": "code",
   "execution_count": 10,
   "id": "e14ef065",
   "metadata": {},
   "outputs": [
    {
     "name": "stdout",
     "output_type": "stream",
     "text": [
      "[1, [2, 3, 4]]\n",
      "[1, [2, 3, 4]]\n",
      "[1, [2, 3]]\n"
     ]
    }
   ],
   "source": [
    "import copy\n",
    "\n",
    "original_list = [1, [2, 3]]\n",
    "shallow_copy = copy.copy(original_list)\n",
    "deep_copy = copy.deepcopy(original_list)\n",
    "\n",
    "#modifying original list \n",
    "original_list[1].append(4)\n",
    "\n",
    "print(original_list)   \n",
    "#shallow shares inner objects\n",
    "print(shallow_copy)    \n",
    "print(deep_copy)       \n"
   ]
  },
  {
   "cell_type": "markdown",
   "id": "46402632",
   "metadata": {},
   "source": [
    "<h2>4. What is the maximum possible length of an identifier?</h2>"
   ]
  },
  {
   "cell_type": "markdown",
   "id": "a624011d",
   "metadata": {},
   "source": [
    "In Python, the highest possible length of an identifier is 79 characters. Python is a high level programming language. It’s also a complex form and a collector of waste.\n",
    "\n",
    "    * Python, particularly when combined with identifiers, is case-sensitive.\n",
    "    * When writing or using identifiers in Python, it has a maximum of 79 characters.\n",
    "    * Unlikely, Python gives the identifiers unlimited length.\n",
    "    * However, the layout of PEP-8 prevents the user from breaking the rules and includes a 79-character limit.\n"
   ]
  },
  {
   "cell_type": "markdown",
   "id": "83baa6f1",
   "metadata": {},
   "source": [
    "<h2>5. What is generator comprehension?</h2>"
   ]
  },
  {
   "cell_type": "markdown",
   "id": "62ff24bd",
   "metadata": {},
   "source": [
    "Generator comprehension, also known as generator expression, is a concise way to create generators in Python. It is similar to list comprehension but produces a generator object instead of a list."
   ]
  },
  {
   "cell_type": "code",
   "execution_count": 13,
   "id": "e7afa5b8",
   "metadata": {},
   "outputs": [
    {
     "name": "stdout",
     "output_type": "stream",
     "text": [
      "<generator object <genexpr> at 0x0000020A267C3990>\n",
      "[1, 4, 9, 16, 25]\n"
     ]
    }
   ],
   "source": [
    "\n",
    "squares = (x ** 2 for x in range(1, 6))\n",
    "\n",
    "print(squares)          # <generator object\n",
    "print(list(squares))    \n"
   ]
  },
  {
   "cell_type": "markdown",
   "id": "4e3cd780",
   "metadata": {},
   "source": [
    "The generator expression is enclosed in parentheses and produces values on-the-fly when iterated over.\n",
    "\n",
    "It allows you to generate a sequence of values without creating an entire list in memory."
   ]
  }
 ],
 "metadata": {
  "kernelspec": {
   "display_name": "Python 3 (ipykernel)",
   "language": "python",
   "name": "python3"
  },
  "language_info": {
   "codemirror_mode": {
    "name": "ipython",
    "version": 3
   },
   "file_extension": ".py",
   "mimetype": "text/x-python",
   "name": "python",
   "nbconvert_exporter": "python",
   "pygments_lexer": "ipython3",
   "version": "3.10.11"
  }
 },
 "nbformat": 4,
 "nbformat_minor": 5
}
