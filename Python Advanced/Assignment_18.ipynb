{
 "cells": [
  {
   "cell_type": "markdown",
   "id": "0032bbfd",
   "metadata": {},
   "source": [
    "<h2>Q1. Describe the differences between text and binary files in a single paragraph.</h2>"
   ]
  },
  {
   "cell_type": "markdown",
   "id": "7551b582",
   "metadata": {},
   "source": [
    "The main distinction between text and binary files is how the data is represented and whether it is intended for human readability or machine processing. Text files are suitable for storing and manipulating textual data, while binary files are designed for handling non-textual or structured data efficiently."
   ]
  },
  {
   "cell_type": "markdown",
   "id": "8695bf61",
   "metadata": {},
   "source": [
    "<h2>Q2. What are some scenarios where using text files will be the better option? When would you like to use binary files instead of text files?</h2>"
   ]
  },
  {
   "cell_type": "markdown",
   "id": "df2b41a1",
   "metadata": {},
   "source": [
    "The choice between text and binary files depends on the nature of the data being stored and the intended use. \n",
    "\n",
    "If the data is primarily textual and requires human readability and editability, text files are a better option. \n",
    "\n",
    "If the data is non-textual or structured, and efficient storage and processing are the priorities, then binary files are more suitable."
   ]
  },
  {
   "cell_type": "markdown",
   "id": "2b92b3e0",
   "metadata": {},
   "source": [
    "<h2>Q3. What are some of the issues with using binary operations to read and write a Python integer directly to disc?</h2>"
   ]
  },
  {
   "cell_type": "markdown",
   "id": "1d1bc16c",
   "metadata": {},
   "source": [
    " When we read or write a python integer using binary operations\n",
    "\n",
    "    Binary operations deal with raw data\n",
    "    One needs to identify how many bytes one would read or write.\n"
   ]
  },
  {
   "cell_type": "markdown",
   "id": "b226d732",
   "metadata": {},
   "source": [
    "<h2>Q4. Describe a benefit of using the 'with' keyword instead of explicitly opening a file.</h2>"
   ]
  },
  {
   "cell_type": "markdown",
   "id": "c29b32a7",
   "metadata": {},
   "source": [
    "When you open a file using the \"with\" statement, the file is automatically closed at the end of the block.\n",
    "\n",
    "This ensures that the file is properly closed, even if an exception occurs during file operations. \n",
    "\n",
    "It helps prevent resource leaks and ensures that the file is released promptly, reducing the risk of file-related issues and improving code reliability."
   ]
  },
  {
   "cell_type": "markdown",
   "id": "e1542044",
   "metadata": {},
   "source": [
    "<h2>Q5. Does Python have the trailing newline while reading a line of text? Does Python append a newline when you write a line of text?</h2>"
   ]
  },
  {
   "cell_type": "markdown",
   "id": "49338527",
   "metadata": {},
   "source": [
    "When reading a line of text using Python's file operations, the presence of a trailing newline character depends on the file being read.\n",
    "\n",
    "If the file has a newline character at the end of the line, it will be included in the string returned by the `readline()` or `readlines()` methods.\n",
    "\n",
    "If the file does not have a trailing newline character, it will not be included."
   ]
  },
  {
   "cell_type": "markdown",
   "id": "5d09028b",
   "metadata": {},
   "source": [
    "<h2>Q6. What file operations enable for random-access operation?</h2>"
   ]
  },
  {
   "cell_type": "markdown",
   "id": "a6a25a93",
   "metadata": {},
   "source": [
    "the `seek()` method in combination with the `tell()` method enables random-access operations on a file. "
   ]
  },
  {
   "cell_type": "code",
   "execution_count": 4,
   "id": "a646458a",
   "metadata": {},
   "outputs": [
    {
     "name": "stdout",
     "output_type": "stream",
     "text": [
      "b\"a's\\r\\n\"\n"
     ]
    }
   ],
   "source": [
    "with open(\"myfile.txt\", \"rb\") as file:\n",
    "   \n",
    "    file.seek(10)\n",
    "    \n",
    "  \n",
    "    data = file.read(5)\n",
    "    print(data) "
   ]
  },
  {
   "cell_type": "markdown",
   "id": "d427a587",
   "metadata": {},
   "source": [
    "<h2>Q7. When do you think you'll use the struct package the most?</h2>"
   ]
  },
  {
   "cell_type": "markdown",
   "id": "5dd5efe8",
   "metadata": {},
   "source": [
    "The `struct` package in Python is commonly used when working with binary data or when there is a need to pack and unpack binary data structures and used while converting a common python types into C language types"
   ]
  },
  {
   "cell_type": "markdown",
   "id": "49353b4e",
   "metadata": {},
   "source": [
    "<h2>Q8. When is pickling the best option?</h2>"
   ]
  },
  {
   "cell_type": "markdown",
   "id": "7d094b09",
   "metadata": {},
   "source": [
    "If you don’t need a human-readable format or a standard interoperable format, or if you need to serialize custom objects, then go with pickle."
   ]
  },
  {
   "cell_type": "markdown",
   "id": "4ff01c28",
   "metadata": {},
   "source": [
    "<h2>Q9. When will it be best to use the shelve package?</h2>"
   ]
  },
  {
   "cell_type": "markdown",
   "id": "f69c2523",
   "metadata": {},
   "source": [
    "The `shelve` package in Python provides a simple way to persistently store and retrieve Python objects using a dictionary-like interface. The `shelve` package is particularly useful in the following scenarios:\n",
    "\n",
    "   1. Storing key-value data\n",
    "   2. Persistent caching\n",
    "   3. Lightweight database operations"
   ]
  },
  {
   "cell_type": "markdown",
   "id": "04b8e3f0",
   "metadata": {},
   "source": [
    "<h2>Q10. What is a special restriction when using the shelve package, as opposed to using other data dictionaries?</h2>"
   ]
  },
  {
   "cell_type": "markdown",
   "id": "15545431",
   "metadata": {},
   "source": [
    "One special restriction when using the `shelve` package is that the keys used for storing objects must be strings.\n",
    "\n",
    "This is because the `shelve` module internally uses a dictionary-like storage implementation, and dictionary keys in Python must be hashable and immutable. \n",
    "\n",
    "Therefore, the keys used with the `shelve` package must be convertible to strings."
   ]
  },
  {
   "cell_type": "markdown",
   "id": "c232eebb",
   "metadata": {},
   "source": [
    "- if you attempt to use a key that is not a string, such as a number or a tuple, an error will be raised. "
   ]
  },
  {
   "cell_type": "code",
   "execution_count": 5,
   "id": "fecf2e29",
   "metadata": {
    "scrolled": true
   },
   "outputs": [
    {
     "ename": "AttributeError",
     "evalue": "'int' object has no attribute 'encode'",
     "output_type": "error",
     "traceback": [
      "\u001b[1;31m---------------------------------------------------------------------------\u001b[0m",
      "\u001b[1;31mAttributeError\u001b[0m                            Traceback (most recent call last)",
      "Cell \u001b[1;32mIn[5], line 6\u001b[0m\n\u001b[0;32m      3\u001b[0m \u001b[38;5;66;03m# Open the shelf file\u001b[39;00m\n\u001b[0;32m      4\u001b[0m \u001b[38;5;28;01mwith\u001b[39;00m shelve\u001b[38;5;241m.\u001b[39mopen(\u001b[38;5;124m\"\u001b[39m\u001b[38;5;124mdata.db\u001b[39m\u001b[38;5;124m\"\u001b[39m) \u001b[38;5;28;01mas\u001b[39;00m shelf:\n\u001b[0;32m      5\u001b[0m     \u001b[38;5;66;03m# Attempt to use a non-string key\u001b[39;00m\n\u001b[1;32m----> 6\u001b[0m     shelf[\u001b[38;5;241m42\u001b[39m] \u001b[38;5;241m=\u001b[39m \u001b[38;5;124m\"\u001b[39m\u001b[38;5;124mValue\u001b[39m\u001b[38;5;124m\"\u001b[39m\n",
      "File \u001b[1;32m~\\anaconda3\\lib\\shelve.py:125\u001b[0m, in \u001b[0;36mShelf.__setitem__\u001b[1;34m(self, key, value)\u001b[0m\n\u001b[0;32m    123\u001b[0m p \u001b[38;5;241m=\u001b[39m Pickler(f, \u001b[38;5;28mself\u001b[39m\u001b[38;5;241m.\u001b[39m_protocol)\n\u001b[0;32m    124\u001b[0m p\u001b[38;5;241m.\u001b[39mdump(value)\n\u001b[1;32m--> 125\u001b[0m \u001b[38;5;28mself\u001b[39m\u001b[38;5;241m.\u001b[39mdict[\u001b[43mkey\u001b[49m\u001b[38;5;241;43m.\u001b[39;49m\u001b[43mencode\u001b[49m(\u001b[38;5;28mself\u001b[39m\u001b[38;5;241m.\u001b[39mkeyencoding)] \u001b[38;5;241m=\u001b[39m f\u001b[38;5;241m.\u001b[39mgetvalue()\n",
      "\u001b[1;31mAttributeError\u001b[0m: 'int' object has no attribute 'encode'"
     ]
    }
   ],
   "source": [
    "import shelve\n",
    "\n",
    "# Open the shelf file\n",
    "with shelve.open(\"data.db\") as shelf:\n",
    "    # Attempt to use a non-string key\n",
    "    shelf[42] = \"Value\"  # Raises TypeError: Shelf keys must be strings\n"
   ]
  }
 ],
 "metadata": {
  "kernelspec": {
   "display_name": "Python 3 (ipykernel)",
   "language": "python",
   "name": "python3"
  },
  "language_info": {
   "codemirror_mode": {
    "name": "ipython",
    "version": 3
   },
   "file_extension": ".py",
   "mimetype": "text/x-python",
   "name": "python",
   "nbconvert_exporter": "python",
   "pygments_lexer": "ipython3",
   "version": "3.10.11"
  }
 },
 "nbformat": 4,
 "nbformat_minor": 5
}
