{
 "cells": [
  {
   "cell_type": "markdown",
   "id": "82b72b7e",
   "metadata": {},
   "source": [
    "<h2>1. What is the result of the code, and why?</h2>\n",
    "<h2>>>> def func(a, b=6, c=8):</h2>\n",
    "<h2>print(a, b, c)</h2>\n",
    "<h2>>>> func(1, 2)</h2>"
   ]
  },
  {
   "cell_type": "markdown",
   "id": "29667db6",
   "metadata": {},
   "source": [
    "The above program prints :  1 2 8"
   ]
  },
  {
   "cell_type": "markdown",
   "id": "fc291867",
   "metadata": {},
   "source": [
    "The method func() has default argument 'b', 'c' and keyword argument 'a' when func(1,2) is called 1 is passed to a and 2 is passed to b which then prints value of a,b,c , In this case it is 1 2 8"
   ]
  },
  {
   "cell_type": "markdown",
   "id": "6892ebd7",
   "metadata": {},
   "source": [
    "<h2>2. What is the result of this code, and why?</h2>\n",
    "<h2>>>> def func(a, b, c=5):</h2>\n",
    "<h2>print(a, b, c)</h2>\n",
    "<h2>>>> func(1, c=3, b=2)</h2>"
   ]
  },
  {
   "cell_type": "markdown",
   "id": "d517d6cd",
   "metadata": {},
   "source": [
    "The above program prints :  1 2 3"
   ]
  },
  {
   "cell_type": "markdown",
   "id": "fcc128e2",
   "metadata": {},
   "source": [
    "The method func() takes three arguments: a, b, and c, where c has a default value of 5, the value 1 is assigned to a, 2 is assigned to b, and 3 is assigned to c.\n",
    "\n",
    "when the print() statement inside the function is executed, it will print 1 2 3."
   ]
  },
  {
   "cell_type": "markdown",
   "id": "9265ebff",
   "metadata": {},
   "source": [
    "<h2>3. How about this code: what is its result, and why?</h2>\n",
    "<h2>>>> def func(a, *pargs):</h2>\n",
    "<h2>print(a, pargs)</h2>\n",
    "<h2>>>> func(1, 2, 3)</h2>"
   ]
  },
  {
   "cell_type": "markdown",
   "id": "6b412993",
   "metadata": {},
   "source": [
    "the output will be :   1 (2,3)"
   ]
  },
  {
   "cell_type": "markdown",
   "id": "e8d2ccc4",
   "metadata": {},
   "source": [
    "The function func() takes a mandatory argument 'a'\n",
    " \n",
    " \n",
    "Positional arguments are collected into a tuple called 'pargs'\n",
    "\n",
    "The function is called with func(1, 2, 3), the value 1 is assigned to 'a', and the remaining values 2 and 3 are collected into a tuple  'pargs'. Therefore, when the print() statement inside the function is executed, it will print 1 (2, 3)."
   ]
  },
  {
   "cell_type": "markdown",
   "id": "01ec47da",
   "metadata": {},
   "source": [
    "<h2>4. What does this code print, and why?</h2>\n",
    "<h2>>>> def func(a, **kargs):</h2>\n",
    "<h2>print(a, kargs)</h2>\n",
    "<h2>>>> func(a=1, c=3, b=2)</h2>"
   ]
  },
  {
   "cell_type": "markdown",
   "id": "54794843",
   "metadata": {},
   "source": [
    "The output will be :  1 {'c': 3, 'b': 2}"
   ]
  },
  {
   "cell_type": "markdown",
   "id": "344bccf0",
   "metadata": {},
   "source": [
    "The function func() takes a mandatory argument 'a', and then any keyword arguments are collected into a dictionary  'kargs'\n",
    "\n",
    "when func(a=1, c=3, b=2) is called  the value 1 is assigned to a, and the remaining keyword arguments c=3 and b=2 are collected into a dictionary  'kargs' as key-value pair\n",
    "\n",
    "when the print() statement inside the function is executed, it will print 1 {'c': 3, 'b': 2}."
   ]
  },
  {
   "cell_type": "markdown",
   "id": "f419f5ba",
   "metadata": {},
   "source": [
    "<h2>5. What gets printed by this, and explain?</h2>\n",
    "<h2>>>> def func(a, b, c=8, d=5): \n",
    "<h2>print(a, b, c, d)</h2>\n",
    "<h2>>>> func(1, *(5, 6))</h2>"
   ]
  },
  {
   "cell_type": "markdown",
   "id": "a13a572c",
   "metadata": {},
   "source": [
    "The output will be :  1 5 6 5."
   ]
  },
  {
   "cell_type": "markdown",
   "id": "d6483ee3",
   "metadata": {},
   "source": [
    "When the function is called with func(1, *(5, 6)), the value 1 is assigned to a, and the tuple (5, 6) is unpacked into b and c, \n",
    "\n",
    "The default value of 5 is assigned to d. \n",
    "\n",
    "When the print() statement inside the function is executed, it will print 1 5 6 5."
   ]
  },
  {
   "cell_type": "markdown",
   "id": "150cb8d8",
   "metadata": {},
   "source": [
    "<h2>6. what is the result of this, and explain?</h2>\n",
    "<h2>>>> def func(a, b, c): a = 2; b[0] = 'x'; c['a'] = 'y'</h2>\n",
    "<h2>>>> l=1; m=[1]; n={'a':0}</h2>\n",
    "<h2>>>> func(l, m, n)</h2>\n",
    "<h2>>>> l, m, n</h2>"
   ]
  },
  {
   "cell_type": "markdown",
   "id": "0de3adfe",
   "metadata": {},
   "source": [
    "the output will be  :  (1, ['x'], {'a': 'y'})"
   ]
  },
  {
   "cell_type": "markdown",
   "id": "209029b6",
   "metadata": {},
   "source": [
    "the function func() takes three arguments: a, b, and c. Inside the function, a is reassigned the value 2, the first element of list b is replaced with 'x', and the value associated with key 'a' of dictionary c is replaced with 'y'"
   ]
  },
  {
   "cell_type": "markdown",
   "id": "f8b1900e",
   "metadata": {},
   "source": [
    "When the function is called with func(l, m, n), the value of l is passed as argument a, the list m is passed as argument b, and the dictionary n is passed as argument c."
   ]
  },
  {
   "cell_type": "markdown",
   "id": "d4a73fba",
   "metadata": {},
   "source": [
    " when func(l,m,n) is called, 'l' remains unchanged, but the first element of list m is changed from 1 to 'x', and the value associated with key 'a' of dictionary n is changed from 0 to 'y'. Therefore, when the variables l, m, and n are printed, they will output (1, ['x'], {'a': 'y'})."
   ]
  }
 ],
 "metadata": {
  "kernelspec": {
   "display_name": "Python 3 (ipykernel)",
   "language": "python",
   "name": "python3"
  },
  "language_info": {
   "codemirror_mode": {
    "name": "ipython",
    "version": 3
   },
   "file_extension": ".py",
   "mimetype": "text/x-python",
   "name": "python",
   "nbconvert_exporter": "python",
   "pygments_lexer": "ipython3",
   "version": "3.9.12"
  }
 },
 "nbformat": 4,
 "nbformat_minor": 5
}
