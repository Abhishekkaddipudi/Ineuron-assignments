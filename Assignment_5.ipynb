{
 "cells": [
  {
   "cell_type": "markdown",
   "id": "7b29effe",
   "metadata": {},
   "source": [
    "<h2>1. What does an empty dictionary&#39;s code look like?</h2>"
   ]
  },
  {
   "cell_type": "markdown",
   "id": "a7de647b",
   "metadata": {},
   "source": [
    "-  an empty dictionary can be created using a pair of curly braces\n",
    "-  using the built-in dict() function without any arguments"
   ]
  },
  {
   "cell_type": "code",
   "execution_count": 6,
   "id": "e40ea39e",
   "metadata": {},
   "outputs": [
    {
     "name": "stdout",
     "output_type": "stream",
     "text": [
      "<class 'dict'>\n",
      "<class 'dict'>\n"
     ]
    }
   ],
   "source": [
    "my_dict={}\n",
    "dict1=dict()\n",
    "print(type(my_dict))\n",
    "print(type(dict1))"
   ]
  },
  {
   "cell_type": "markdown",
   "id": "4695c6d0",
   "metadata": {},
   "source": [
    "<h2> 2. What is the value of a dictionary value with the key &#39;foo&#39; and the value 42?</h2>"
   ]
  },
  {
   "cell_type": "code",
   "execution_count": 9,
   "id": "930fe823",
   "metadata": {},
   "outputs": [
    {
     "name": "stdout",
     "output_type": "stream",
     "text": [
      "{'foo': 42}\n"
     ]
    }
   ],
   "source": [
    "my_dict={'foo':42}\n",
    "print(my_dict)\n",
    "#the value of dictionary value with key 'foo' and value 42"
   ]
  },
  {
   "cell_type": "markdown",
   "id": "362f25d8",
   "metadata": {},
   "source": [
    "<h2>3. What is the most significant distinction between a dictionary and a list?</h2>"
   ]
  },
  {
   "cell_type": "markdown",
   "id": "2163c83c",
   "metadata": {},
   "source": [
    ">In a list, elements are accessed by their position or index, whereas in a dictionary, elements are accessed by their keys."
   ]
  },
  {
   "cell_type": "code",
   "execution_count": 15,
   "id": "36f7065b",
   "metadata": {},
   "outputs": [
    {
     "name": "stdout",
     "output_type": "stream",
     "text": [
      "name  apple\n",
      "name apple\n"
     ]
    }
   ],
   "source": [
    "list1=[\"apple\",50,1]\n",
    "my_Dict={\"name\":\"apple\",\"price\":50,\"quantity\":1}\n",
    "print(\"name \",list1[0])\n",
    "print(\"name\",my_Dict[\"name\"])"
   ]
  },
  {
   "cell_type": "markdown",
   "id": "a030f724",
   "metadata": {},
   "source": [
    "<h1>4. What happens if you try to access spam[&#39;foo&#39;] if spam is {&#39;bar&#39;: 100}?</h2>"
   ]
  },
  {
   "cell_type": "code",
   "execution_count": 17,
   "id": "a2ea5109",
   "metadata": {},
   "outputs": [
    {
     "ename": "KeyError",
     "evalue": "'foo'",
     "output_type": "error",
     "traceback": [
      "\u001b[1;31m---------------------------------------------------------------------------\u001b[0m",
      "\u001b[1;31mKeyError\u001b[0m                                  Traceback (most recent call last)",
      "Input \u001b[1;32mIn [17]\u001b[0m, in \u001b[0;36m<cell line: 2>\u001b[1;34m()\u001b[0m\n\u001b[0;32m      1\u001b[0m spam \u001b[38;5;241m=\u001b[39m{\u001b[38;5;124m'\u001b[39m\u001b[38;5;124mbar\u001b[39m\u001b[38;5;124m'\u001b[39m: \u001b[38;5;241m100\u001b[39m}\n\u001b[1;32m----> 2\u001b[0m \u001b[43mspam\u001b[49m\u001b[43m[\u001b[49m\u001b[38;5;124;43m'\u001b[39;49m\u001b[38;5;124;43mfoo\u001b[39;49m\u001b[38;5;124;43m'\u001b[39;49m\u001b[43m]\u001b[49m\n",
      "\u001b[1;31mKeyError\u001b[0m: 'foo'"
     ]
    }
   ],
   "source": [
    "spam ={'bar': 100}\n",
    "spam['foo'] "
   ]
  },
  {
   "cell_type": "markdown",
   "id": "b2933515",
   "metadata": {},
   "source": [
    "> We get KeyError as the \"foo\" key is not present in spam dict"
   ]
  },
  {
   "cell_type": "markdown",
   "id": "47ea1b51",
   "metadata": {},
   "source": [
    "<h2>5. If a dictionary is stored in spam, what is the difference between the expressions &#39;cat&#39; in spam and\n",
    "&#39;cat&#39; in spam.keys()?</h2>"
   ]
  },
  {
   "cell_type": "code",
   "execution_count": 27,
   "id": "05f241f2",
   "metadata": {},
   "outputs": [
    {
     "name": "stdout",
     "output_type": "stream",
     "text": [
      "True\n",
      "True\n",
      "<class 'dict'>\n",
      "<class 'dict_keys'>\n"
     ]
    }
   ],
   "source": [
    "spam = {'cat': 42}\n",
    "print('cat' in spam)  \n",
    "print('cat' in spam.keys())  \n",
    "print(type(spam))\n",
    "print(type(spam.keys()))"
   ]
  },
  {
   "cell_type": "markdown",
   "id": "c58f7bc4",
   "metadata": {},
   "source": [
    "> NO difference both ways \"in\" operator will check for the key in dictionary "
   ]
  },
  {
   "cell_type": "markdown",
   "id": "38f3bba7",
   "metadata": {},
   "source": [
    "<h2>6. If a dictionary is stored in spam, what is the difference between the expressions &#39;cat&#39; in spam and\n",
    "&#39;cat&#39; in spam.values()?</h2>"
   ]
  },
  {
   "cell_type": "code",
   "execution_count": 29,
   "id": "6dd733fd",
   "metadata": {},
   "outputs": [
    {
     "name": "stdout",
     "output_type": "stream",
     "text": [
      "True\n",
      "False\n"
     ]
    }
   ],
   "source": [
    "spam ={'cat':100}\n",
    "print('cat' in spam)\n",
    "print('cat' in spam.values())"
   ]
  },
  {
   "cell_type": "markdown",
   "id": "25fe61b5",
   "metadata": {},
   "source": [
    "> 'cat' in spam checks whether there is a 'cat' key in the dictionary, \n",
    "\n",
    ">  while 'cat' in spam.values() checks whether there is a value 'cat' for one of the keys in spam."
   ]
  },
  {
   "cell_type": "markdown",
   "id": "4966be01",
   "metadata": {},
   "source": [
    "<h2>7. What is a shortcut for the following code?\n",
    "    \n",
    "\n",
    "if &#39;color&#39; not in spam:\n",
    "\n",
    "    \n",
    "spam[&#39;color&#39;] = &#39;black&#39;</h2>"
   ]
  },
  {
   "cell_type": "markdown",
   "id": "2fc125b4",
   "metadata": {},
   "source": [
    "- Python Dictionary setdefault() returns the value of a key (if the key is in dictionary). Else, it inserts a key with the default value to the dictionary."
   ]
  },
  {
   "cell_type": "code",
   "execution_count": 33,
   "id": "34d9a3b7",
   "metadata": {},
   "outputs": [
    {
     "data": {
      "text/plain": [
       "{'cat': 100, 'color': 'black'}"
      ]
     },
     "execution_count": 33,
     "metadata": {},
     "output_type": "execute_result"
    }
   ],
   "source": [
    "spam.setdefault('color', 'black')\n",
    "spam"
   ]
  },
  {
   "cell_type": "markdown",
   "id": "3883383e",
   "metadata": {},
   "source": [
    "<h2>8. How do you &quot;pretty print&quot; dictionary values using which module and function?</h2>"
   ]
  },
  {
   "cell_type": "markdown",
   "id": "9b4805dc",
   "metadata": {},
   "source": [
    "> using the pprint module, specifically the pprint() function. The pprint() function provides a way to print complex data structures like dictionaries in a well-organized and easy-to-read format."
   ]
  },
  {
   "cell_type": "code",
   "execution_count": 38,
   "id": "584db56c",
   "metadata": {},
   "outputs": [],
   "source": [
    "import pprint\n",
    "\n",
    "dict1={\"data\":{\"name\":\"jhon\",\"age\":54,\"gender\":\"male\"},\n",
    "     \"data1\":{\"name\":\"elena\",\"age\":28,\"gender\":\"female\"},\n",
    "     \"data2\":{\"name\":\"garp\",\"age\":40,\"gender\":\"male\"},\n",
    "     \"data3\":{\"name\":\"robin\",\"age\":24,\"gender\":\"female\"},}"
   ]
  },
  {
   "cell_type": "code",
   "execution_count": 39,
   "id": "b1a75683",
   "metadata": {},
   "outputs": [
    {
     "name": "stdout",
     "output_type": "stream",
     "text": [
      "{'data': {'age': 54, 'gender': 'male', 'name': 'jhon'},\n",
      " 'data1': {'age': 28, 'gender': 'female', 'name': 'elena'},\n",
      " 'data2': {'age': 40, 'gender': 'male', 'name': 'garp'},\n",
      " 'data3': {'age': 24, 'gender': 'female', 'name': 'robin'}}\n"
     ]
    }
   ],
   "source": [
    "pprint.pprint(dict1)"
   ]
  },
  {
   "cell_type": "markdown",
   "id": "1cbb7971",
   "metadata": {},
   "source": [
    ">the pprint() function outputs the dictionary with each key-value pair on a separate line, and indents the values based on their nesting level in the dictionary. This makes it much easier to read and understand complex dictionaries."
   ]
  },
  {
   "cell_type": "code",
   "execution_count": 40,
   "id": "d9be2d59",
   "metadata": {},
   "outputs": [
    {
     "name": "stdout",
     "output_type": "stream",
     "text": [
      "{'data': {'name': 'jhon', 'age': 54, 'gender': 'male'}, 'data1': {'name': 'elena', 'age': 28, 'gender': 'female'}, 'data2': {'name': 'garp', 'age': 40, 'gender': 'male'}, 'data3': {'name': 'robin', 'age': 24, 'gender': 'female'}}\n"
     ]
    }
   ],
   "source": [
    "print(dict1)"
   ]
  },
  {
   "cell_type": "code",
   "execution_count": null,
   "id": "4eaed067",
   "metadata": {},
   "outputs": [],
   "source": []
  }
 ],
 "metadata": {
  "kernelspec": {
   "display_name": "Python 3 (ipykernel)",
   "language": "python",
   "name": "python3"
  },
  "language_info": {
   "codemirror_mode": {
    "name": "ipython",
    "version": 3
   },
   "file_extension": ".py",
   "mimetype": "text/x-python",
   "name": "python",
   "nbconvert_exporter": "python",
   "pygments_lexer": "ipython3",
   "version": "3.9.12"
  }
 },
 "nbformat": 4,
 "nbformat_minor": 5
}
