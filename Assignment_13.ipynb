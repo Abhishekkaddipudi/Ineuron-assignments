{
 "cells": [
  {
   "cell_type": "markdown",
   "id": "a9ac5115",
   "metadata": {},
   "source": [
    "<h2>1. What advantages do Excel spreadsheets have over CSV spreadsheets?</h2>"
   ]
  },
  {
   "cell_type": "markdown",
   "id": "a2d09c33",
   "metadata": {},
   "source": [
    "> Excel allows you to format cells with colors, fonts, borders, and other styles, while CSV does not. This makes it easier to read and understand data at a glance.\n",
    "\n",
    "> Excel allows you to use formulas and functions to perform calculations on data, such as summing a column or finding the average. CSV does not have this capability.\n",
    "\n",
    "> Excel allows you to create charts and graphs to visualize data, while CSV does not.\n",
    "\n",
    "> Excel allows you to create multiple sheets within a single workbook, while CSV only supports a single sheet.\n",
    "\n",
    "> Excel allows you to set rules for data entry, such as requiring a certain format or limiting the range of values. CSV does not have this capability.\n",
    "\n",
    "> Excel allows you to protect your data with passwords, restrict access, and set permissions. CSV does not have these features."
   ]
  },
  {
   "cell_type": "markdown",
   "id": "8eb753b5",
   "metadata": {},
   "source": [
    "<h2>2.What do you pass to csv.reader() and csv.writer() to create reader and writer objects?</h2>"
   ]
  },
  {
   "cell_type": "markdown",
   "id": "92303f56",
   "metadata": {},
   "source": [
    "- We pass a file object and optionally, delimiter and quotechar parameters to the csv.reader() and csv.writer() functions."
   ]
  },
  {
   "cell_type": "markdown",
   "id": "52f101a1",
   "metadata": {},
   "source": [
    "<h2>3. What modes do File objects for reader and writer objects need to be opened in?</h2>\n"
   ]
  },
  {
   "cell_type": "markdown",
   "id": "cceec4d1",
   "metadata": {},
   "source": [
    "- To create a csv.reader object, you need to open the file in 'r'- read mode.\n",
    "\n",
    "\n",
    "\n",
    "- To create a csv.writer object, you need to open the file in 'w' - write mode."
   ]
  },
  {
   "cell_type": "markdown",
   "id": "d07ee3cd",
   "metadata": {},
   "source": [
    "<h2>4. What method takes a list argument and writes it to a CSV file?</h2>"
   ]
  },
  {
   "cell_type": "markdown",
   "id": "0618edd2",
   "metadata": {},
   "source": [
    "- The csv.writer object in Python provides the writerow()  method that takes a list as an argument and writes it as a row to a CSV file.\n",
    "- writerows() method can take multi-dimensional list and write to csv file"
   ]
  },
  {
   "cell_type": "code",
   "execution_count": 28,
   "id": "314257b8",
   "metadata": {},
   "outputs": [],
   "source": [
    "import csv\n",
    "\n",
    "index = ['Name', 'Lname', 'age', 'gender']\n",
    "data = ['Keanu','Reeves','58','M']\n",
    "with open('file.csv', 'w', newline='') as file:\n",
    "    csv_writer = csv.writer(file)  \n",
    "    csv_writer.writerow(index)\n",
    "    csv_writer.writerow(data)"
   ]
  },
  {
   "cell_type": "code",
   "execution_count": 29,
   "id": "e76f1bd9",
   "metadata": {},
   "outputs": [
    {
     "data": {
      "text/html": [
       "<div>\n",
       "<style scoped>\n",
       "    .dataframe tbody tr th:only-of-type {\n",
       "        vertical-align: middle;\n",
       "    }\n",
       "\n",
       "    .dataframe tbody tr th {\n",
       "        vertical-align: top;\n",
       "    }\n",
       "\n",
       "    .dataframe thead th {\n",
       "        text-align: right;\n",
       "    }\n",
       "</style>\n",
       "<table border=\"1\" class=\"dataframe\">\n",
       "  <thead>\n",
       "    <tr style=\"text-align: right;\">\n",
       "      <th></th>\n",
       "      <th>Name</th>\n",
       "      <th>Lname</th>\n",
       "      <th>age</th>\n",
       "      <th>gender</th>\n",
       "    </tr>\n",
       "  </thead>\n",
       "  <tbody>\n",
       "    <tr>\n",
       "      <th>0</th>\n",
       "      <td>Keanu</td>\n",
       "      <td>Reeves</td>\n",
       "      <td>58</td>\n",
       "      <td>M</td>\n",
       "    </tr>\n",
       "  </tbody>\n",
       "</table>\n",
       "</div>"
      ],
      "text/plain": [
       "    Name   Lname  age gender\n",
       "0  Keanu  Reeves   58      M"
      ]
     },
     "execution_count": 29,
     "metadata": {},
     "output_type": "execute_result"
    }
   ],
   "source": [
    "import pandas as pd\n",
    "df=pd.read_csv('file.csv')\n",
    "df"
   ]
  },
  {
   "cell_type": "code",
   "execution_count": 30,
   "id": "49c2f138",
   "metadata": {},
   "outputs": [],
   "source": [
    "import csv\n",
    "\n",
    "index = [['Name', 'Lname', 'age', 'gender'],['Jhon','Wick','58','M']]\n",
    "\n",
    "with open('file.csv', 'w', newline='') as file:\n",
    "    csv_writer = csv.writer(file)  \n",
    "    csv_writer.writerows(index)\n",
    "  "
   ]
  },
  {
   "cell_type": "code",
   "execution_count": 31,
   "id": "4ceca9ac",
   "metadata": {},
   "outputs": [
    {
     "data": {
      "text/html": [
       "<div>\n",
       "<style scoped>\n",
       "    .dataframe tbody tr th:only-of-type {\n",
       "        vertical-align: middle;\n",
       "    }\n",
       "\n",
       "    .dataframe tbody tr th {\n",
       "        vertical-align: top;\n",
       "    }\n",
       "\n",
       "    .dataframe thead th {\n",
       "        text-align: right;\n",
       "    }\n",
       "</style>\n",
       "<table border=\"1\" class=\"dataframe\">\n",
       "  <thead>\n",
       "    <tr style=\"text-align: right;\">\n",
       "      <th></th>\n",
       "      <th>Name</th>\n",
       "      <th>Lname</th>\n",
       "      <th>age</th>\n",
       "      <th>gender</th>\n",
       "    </tr>\n",
       "  </thead>\n",
       "  <tbody>\n",
       "    <tr>\n",
       "      <th>0</th>\n",
       "      <td>Jhon</td>\n",
       "      <td>Wick</td>\n",
       "      <td>58</td>\n",
       "      <td>M</td>\n",
       "    </tr>\n",
       "  </tbody>\n",
       "</table>\n",
       "</div>"
      ],
      "text/plain": [
       "   Name Lname  age gender\n",
       "0  Jhon  Wick   58      M"
      ]
     },
     "execution_count": 31,
     "metadata": {},
     "output_type": "execute_result"
    }
   ],
   "source": [
    "import pandas as pd\n",
    "df=pd.read_csv('file.csv')\n",
    "df"
   ]
  },
  {
   "cell_type": "markdown",
   "id": "15eb22ad",
   "metadata": {},
   "source": [
    "<h2>5. What do the keyword arguments delimiter and line terminator do?</h2>"
   ]
  },
  {
   "cell_type": "markdown",
   "id": "d90b4fcc",
   "metadata": {},
   "source": [
    "- delimiter: Specifies the character used to separate fields in a CSV file.\n",
    "\n",
    "\n",
    "\n",
    "- lineterminator: Specifies the character used to terminate rows in a CSV file."
   ]
  },
  {
   "cell_type": "code",
   "execution_count": 51,
   "id": "6344cfd5",
   "metadata": {},
   "outputs": [],
   "source": [
    "with open('file.csv', 'w+') as file:\n",
    "    csv_reader = csv.reader(file, delimiter=';')\n"
   ]
  },
  {
   "cell_type": "code",
   "execution_count": 52,
   "id": "affc30fb",
   "metadata": {},
   "outputs": [],
   "source": [
    "with open('file.csv', 'w', newline='') as file:\n",
    "    csv_writer = csv.writer(file, lineterminator='\\r\\n')"
   ]
  },
  {
   "cell_type": "markdown",
   "id": "0878ad3f",
   "metadata": {},
   "source": [
    "<h2>6. What function takes a string of JSON data and returns a Python data structure?</h2>"
   ]
  },
  {
   "cell_type": "markdown",
   "id": "49d3f7fe",
   "metadata": {},
   "source": [
    "- The json.loads() function in Python takes a string of JSON data as input and returns a Python data structure."
   ]
  },
  {
   "cell_type": "code",
   "execution_count": 54,
   "id": "09f173c0",
   "metadata": {},
   "outputs": [
    {
     "name": "stdout",
     "output_type": "stream",
     "text": [
      "{'name': 'John', 'age': 30, 'city': 'New York'} <class 'dict'>\n"
     ]
    }
   ],
   "source": [
    "import json\n",
    "\n",
    "json_data = '{\"name\": \"John\", \"age\": 30, \"city\": \"New York\"}'\n",
    "\n",
    "python_data = json.loads(json_data)\n",
    "\n",
    "print(python_data,type(python_data))"
   ]
  },
  {
   "cell_type": "markdown",
   "id": "d953b573",
   "metadata": {},
   "source": [
    "<h2>7. What function takes a Python data structure and returns a string of JSON data?</h2>"
   ]
  },
  {
   "cell_type": "markdown",
   "id": "71ce272b",
   "metadata": {},
   "source": [
    "- The json.dumps() function in Python takes a Python data structure as input and returns a string of JSON data."
   ]
  },
  {
   "cell_type": "code",
   "execution_count": 55,
   "id": "8d23fe83",
   "metadata": {},
   "outputs": [
    {
     "name": "stdout",
     "output_type": "stream",
     "text": [
      "{\"name\": \"John\", \"age\": 30, \"city\": \"New York\"} <class 'str'>\n"
     ]
    }
   ],
   "source": [
    "import json\n",
    "\n",
    "python_data = {'name': 'John', 'age': 30, 'city': 'New York'}\n",
    "\n",
    "json_data = json.dumps(python_data)\n",
    "\n",
    "print(json_data,type(json_data))"
   ]
  }
 ],
 "metadata": {
  "kernelspec": {
   "display_name": "Python 3 (ipykernel)",
   "language": "python",
   "name": "python3"
  },
  "language_info": {
   "codemirror_mode": {
    "name": "ipython",
    "version": 3
   },
   "file_extension": ".py",
   "mimetype": "text/x-python",
   "name": "python",
   "nbconvert_exporter": "python",
   "pygments_lexer": "ipython3",
   "version": "3.9.12"
  }
 },
 "nbformat": 4,
 "nbformat_minor": 5
}
