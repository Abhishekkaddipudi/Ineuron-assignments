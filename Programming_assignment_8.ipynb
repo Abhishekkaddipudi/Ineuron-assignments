{
 "cells": [
  {
   "cell_type": "markdown",
   "id": "bf265042",
   "metadata": {},
   "source": [
    "#### 1. Write a Python Program to Add Two Matrices?"
   ]
  },
  {
   "cell_type": "code",
   "execution_count": 34,
   "id": "1e151014",
   "metadata": {},
   "outputs": [
    {
     "name": "stdout",
     "output_type": "stream",
     "text": [
      "enter the number of rows for first matrix: 3\n",
      "enter the number of columns for first matrix: 3\n",
      "Enter the matrix elements for first matrix\n",
      "1\n",
      "2\n",
      "3\n",
      "4\n",
      "5\n",
      "6\n",
      "7\n",
      "8\n",
      "9\n",
      "enter the number of rows for second matrix: 3\n",
      "enter the number of columns for second matrix: 3\n",
      "Enter the matrix elements for second matrix\n",
      "1\n",
      "2\n",
      "3\n",
      "4\n",
      "5\n",
      "6\n",
      "7\n",
      "8\n",
      "9\n",
      "Addition of matrix\n",
      "[[ 2  4  6]\n",
      " [ 8 10 12]\n",
      " [14 16 18]]"
     ]
    }
   ],
   "source": [
    "# using numpy\n",
    "import numpy as np\n",
    "#first matrix\n",
    "r=int(input(\"enter the number of rows for first matrix: \"))\n",
    "c=int(input(\"enter the number of columns for first matrix: \"))\n",
    "print(\"Enter the matrix elements for first matrix\")\n",
    "mat1 = [[int(input()) for i in range(c)] for i in range(r)]\n",
    "#second matrix\n",
    "r=int(input(\"enter the number of rows for second matrix: \"))\n",
    "c=int(input(\"enter the number of columns for second matrix: \"))\n",
    "print(\"Enter the matrix elements for second matrix\")\n",
    "mat2 = [[int(input()) for i in range(c)] for i in range(r)]\n",
    "\n",
    "A=np.array(mat1)\n",
    "B=np.array(mat2)\n",
    "C=A+B #using numpy addition\n",
    "\n",
    "print(\"Addition of matrix\")\n",
    "print(C.view(),end=\"\")"
   ]
  },
  {
   "cell_type": "markdown",
   "id": "e9f0d146",
   "metadata": {},
   "source": [
    "#### 2. Write a Python Program to Multiply Two Matrices?"
   ]
  },
  {
   "cell_type": "code",
   "execution_count": 37,
   "id": "12811898",
   "metadata": {},
   "outputs": [
    {
     "name": "stdout",
     "output_type": "stream",
     "text": [
      "enter the number of rows for first matrix: 3\n",
      "enter the number of columns for first matrix: 3\n",
      "Enter the matrix elements for first matrix\n",
      "1\n",
      "2\n",
      "3\n",
      "4\n",
      "5\n",
      "6\n",
      "7\n",
      "8\n",
      "9\n",
      "enter the number of rows for second matrix: 3\n",
      "enter the number of columns for second matrix: 3\n",
      "Enter the matrix elements for second matrix\n",
      "1\n",
      "2\n",
      "3\n",
      "4\n",
      "5\n",
      "6\n",
      "7\n",
      "8\n",
      "9\n",
      "Multiplication of matrix\n",
      "[[ 30  36  42]\n",
      " [ 66  81  96]\n",
      " [102 126 150]]"
     ]
    }
   ],
   "source": [
    "# using numpy\n",
    "import numpy as np\n",
    "#first matrix\n",
    "r=int(input(\"enter the number of rows for first matrix: \"))\n",
    "c=int(input(\"enter the number of columns for first matrix: \"))\n",
    "print(\"Enter the matrix elements for first matrix\")\n",
    "mat1 = [[int(input()) for i in range(c)] for i in range(r)]\n",
    "#second matrix\n",
    "r=int(input(\"enter the number of rows for second matrix: \"))\n",
    "c=int(input(\"enter the number of columns for second matrix: \"))\n",
    "print(\"Enter the matrix elements for second matrix\")\n",
    "mat2 = [[int(input()) for i in range(c)] for i in range(r)]\n",
    "\n",
    "A=np.array(mat1)\n",
    "B=np.array(mat2)\n",
    "C=A.dot(B)#using numpy array dot method\n",
    "\n",
    "print(\"Multiplication of matrix\")\n",
    "print(C.view(),end=\"\")"
   ]
  },
  {
   "cell_type": "markdown",
   "id": "db6611e3",
   "metadata": {},
   "source": [
    "#### 3. Write a Python Program to Transpose a Matrix?\n"
   ]
  },
  {
   "cell_type": "code",
   "execution_count": 38,
   "id": "bc4c8018",
   "metadata": {},
   "outputs": [
    {
     "name": "stdout",
     "output_type": "stream",
     "text": [
      "enter the number of rows for first matrix: 3\n",
      "enter the number of columns for first matrix: 3\n",
      "Enter the matrix elements for first matrix\n",
      "1\n",
      "2\n",
      "3\n",
      "4\n",
      "5\n",
      "6\n",
      "7\n",
      "8\n",
      "9\n",
      "Transpose of matrix\n",
      "[[1 4 7]\n",
      " [2 5 8]\n",
      " [3 6 9]]"
     ]
    }
   ],
   "source": [
    "# using numpy\n",
    "import numpy as np\n",
    "#matrix input\n",
    "r=int(input(\"enter the number of rows for first matrix: \"))\n",
    "c=int(input(\"enter the number of columns for first matrix: \"))\n",
    "print(\"Enter the matrix elements for first matrix\")\n",
    "mat1 = [[int(input()) for i in range(c)] for i in range(r)]\n",
    "\n",
    "A=np.array(mat1)\n",
    "\n",
    "C=A.transpose()\n",
    "\n",
    "print(\"Transpose of matrix\")\n",
    "print(C.view(),end=\"\")"
   ]
  },
  {
   "cell_type": "markdown",
   "id": "04e325e9",
   "metadata": {},
   "source": [
    "#### 4. Write a Python Program to Sort Words in Alphabetic Order?"
   ]
  },
  {
   "cell_type": "code",
   "execution_count": 56,
   "id": "70146728",
   "metadata": {},
   "outputs": [
    {
     "name": "stdout",
     "output_type": "stream",
     "text": [
      "hello! i am abhishek kaddipudi\n",
      " Before Sorting: hello! i am abhishek kaddipudi\n",
      " After Sorting: abhishek am hello! i kaddipudi\n"
     ]
    }
   ],
   "source": [
    "string=input()\n",
    "print(f\" Before Sorting: {string}\")\n",
    "words=string.split(\" \")\n",
    "words.sort() #using sort method\n",
    "string=\" \".join(words)\n",
    "print(f\" After Sorting: {string}\")"
   ]
  },
  {
   "cell_type": "markdown",
   "id": "704faa4a",
   "metadata": {},
   "source": [
    "#### 5. Write a Python Program to Remove Punctuation From a String?"
   ]
  },
  {
   "cell_type": "code",
   "execution_count": 67,
   "id": "26a463fb",
   "metadata": {},
   "outputs": [
    {
     "name": "stdout",
     "output_type": "stream",
     "text": [
      "Enter the text to remove punctuation:\n",
      "punctuation marks are a symbol to create and support meaning within a sentence or to break it up. Examples of different punctuation marks include: full stops (.), commas (,), question marks (?), exclamation marks (!), colons (:), semi-colons (;), apostrophes (') and speech marks (\",\").\n",
      "\n",
      "After removing:\n",
      "punctuation marks are a symbol to create and support meaning within a sentence or to break it up Examples of different punctuation marks include full stops  commas  question marks  exclamation marks  colons  semicolons  apostrophes  and speech marks \n"
     ]
    }
   ],
   "source": [
    "punc = \"\"\"!()-[]{};:'\"\\,<>./?@#$%^&*_~\"\"\"#all the punctuations available\n",
    "\n",
    "text=input(\"Enter the text to remove punctuation:\\n\")\n",
    "for i in punc:\n",
    "    text=text.replace(i,\"\")\n",
    "print(f\"\\nAfter removing:\\n{text}\")"
   ]
  }
 ],
 "metadata": {
  "kernelspec": {
   "display_name": "Python 3 (ipykernel)",
   "language": "python",
   "name": "python3"
  },
  "language_info": {
   "codemirror_mode": {
    "name": "ipython",
    "version": 3
   },
   "file_extension": ".py",
   "mimetype": "text/x-python",
   "name": "python",
   "nbconvert_exporter": "python",
   "pygments_lexer": "ipython3",
   "version": "3.9.12"
  }
 },
 "nbformat": 4,
 "nbformat_minor": 5
}
