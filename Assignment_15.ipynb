{
 "cells": [
  {
   "cell_type": "markdown",
   "id": "d6421bc8",
   "metadata": {},
   "source": [
    "<h2>1.How many seconds are in an hour? Use the interactive interpreter as a calculator and multiply the number of seconds in a minute (60) by the number of minutes in an hour (also 60).</h2>\n",
    "<h2>sol. 60 </h2>"
   ]
  },
  {
   "cell_type": "code",
   "execution_count": 9,
   "id": "5cbab35e",
   "metadata": {},
   "outputs": [
    {
     "data": {
      "text/plain": [
       "3600"
      ]
     },
     "execution_count": 9,
     "metadata": {},
     "output_type": "execute_result"
    }
   ],
   "source": [
    "60 * 60 #number of seconds in a minute * numbers of minutes in an hour"
   ]
  },
  {
   "cell_type": "markdown",
   "id": "de989ef7",
   "metadata": {},
   "source": [
    "<h2>2. Assign the result from the previous task (seconds in an hour) to a variable called seconds_per_hour.</h2>"
   ]
  },
  {
   "cell_type": "code",
   "execution_count": 10,
   "id": "b304f667",
   "metadata": {},
   "outputs": [],
   "source": [
    "seconds_per_hour=60*60"
   ]
  },
  {
   "cell_type": "markdown",
   "id": "a2c75ca2",
   "metadata": {},
   "source": [
    "<h2>3. How many seconds do you think there are in a day? Make use of the variables seconds per hour and minutes per hour.</h2>"
   ]
  },
  {
   "cell_type": "code",
   "execution_count": 12,
   "id": "560d3311",
   "metadata": {},
   "outputs": [
    {
     "data": {
      "text/plain": [
       "86400"
      ]
     },
     "execution_count": 12,
     "metadata": {},
     "output_type": "execute_result"
    }
   ],
   "source": [
    "24*seconds_per_hour"
   ]
  },
  {
   "cell_type": "markdown",
   "id": "ec4a6bc3",
   "metadata": {},
   "source": [
    "<h2>4. Calculate seconds per day again, but this time save the result in a variable called seconds_per_day</h2>"
   ]
  },
  {
   "cell_type": "code",
   "execution_count": 13,
   "id": "f330bedf",
   "metadata": {},
   "outputs": [],
   "source": [
    "seconds_per_day=24*seconds_per_hour"
   ]
  },
  {
   "cell_type": "markdown",
   "id": "0e5bb1db",
   "metadata": {},
   "source": [
    "<h2>5. Divide seconds_per_day by seconds_per_hour. Use floating-point (/) division.</h2>"
   ]
  },
  {
   "cell_type": "code",
   "execution_count": 14,
   "id": "6b560ba2",
   "metadata": {},
   "outputs": [
    {
     "data": {
      "text/plain": [
       "24.0"
      ]
     },
     "execution_count": 14,
     "metadata": {},
     "output_type": "execute_result"
    }
   ],
   "source": [
    "seconds_per_day/seconds_per_hour"
   ]
  },
  {
   "cell_type": "markdown",
   "id": "63cc63d7",
   "metadata": {},
   "source": [
    "<h2>6. Divide seconds_per_day by seconds_per_hour, using integer (//) division. Did this number agree with the floating-point value from the previous question, aside from the final .0?</h2>"
   ]
  },
  {
   "cell_type": "code",
   "execution_count": 15,
   "id": "a9efac46",
   "metadata": {
    "scrolled": true
   },
   "outputs": [
    {
     "data": {
      "text/plain": [
       "24"
      ]
     },
     "execution_count": 15,
     "metadata": {},
     "output_type": "execute_result"
    }
   ],
   "source": [
    "seconds_per_day//seconds_per_hour"
   ]
  },
  {
   "cell_type": "markdown",
   "id": "eca70e96",
   "metadata": {},
   "source": [
    "> yes this number agrees the floating-point value of the previous question"
   ]
  },
  {
   "cell_type": "markdown",
   "id": "b2b43701",
   "metadata": {},
   "source": [
    "<h2>7. Write a generator, genPrimes, that returns the sequence of prime numbers on successive calls to its next() method: 2, 3, 5, 7, 11, ...</h2>"
   ]
  },
  {
   "cell_type": "code",
   "execution_count": 92,
   "id": "4922f9af",
   "metadata": {},
   "outputs": [],
   "source": [
    "num=2\n",
    "def genPrime():\n",
    "    global num\n",
    "    while True:\n",
    "        flag=True\n",
    "        for i in range(2,num):  \n",
    "            if num%i==0:\n",
    "                flag=False   \n",
    "        if flag:\n",
    "            yield num\n",
    "        num+=1"
   ]
  },
  {
   "cell_type": "code",
   "execution_count": 93,
   "id": "4a268714",
   "metadata": {},
   "outputs": [],
   "source": [
    "primes=genPrime()"
   ]
  },
  {
   "cell_type": "code",
   "execution_count": 94,
   "id": "5f0d7da1",
   "metadata": {},
   "outputs": [
    {
     "name": "stdout",
     "output_type": "stream",
     "text": [
      "2\n",
      "3\n",
      "5\n",
      "7\n",
      "11\n",
      "13\n",
      "17\n",
      "19\n",
      "23\n",
      "29\n",
      "31\n",
      "37\n",
      "41\n",
      "43\n",
      "47\n",
      "53\n",
      "59\n",
      "61\n",
      "67\n",
      "71\n"
     ]
    }
   ],
   "source": [
    "for i in range(20):\n",
    "    print(next(primes))"
   ]
  }
 ],
 "metadata": {
  "kernelspec": {
   "display_name": "Python 3 (ipykernel)",
   "language": "python",
   "name": "python3"
  },
  "language_info": {
   "codemirror_mode": {
    "name": "ipython",
    "version": 3
   },
   "file_extension": ".py",
   "mimetype": "text/x-python",
   "name": "python",
   "nbconvert_exporter": "python",
   "pygments_lexer": "ipython3",
   "version": "3.9.12"
  }
 },
 "nbformat": 4,
 "nbformat_minor": 5
}
