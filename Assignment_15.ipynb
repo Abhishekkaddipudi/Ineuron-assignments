{
 "cells": [
  {
   "cell_type": "markdown",
   "id": "a5ae938a",
   "metadata": {},
   "source": [
    "<h2>1.How many seconds are in an hour? Use the interactive interpreter as a calculator and multiply the number of seconds in a minute (60) by the number of minutes in an hour (also 60).</h2>\n",
    "<h2>sol. 60 </h2>"
   ]
  },
  {
   "cell_type": "code",
   "execution_count": 9,
   "id": "f61d7de4",
   "metadata": {},
   "outputs": [
    {
     "data": {
      "text/plain": [
       "3600"
      ]
     },
     "execution_count": 9,
     "metadata": {},
     "output_type": "execute_result"
    }
   ],
   "source": [
    "60 * 60 #number of seconds in a minute * numbers of minutes in an hour"
   ]
  },
  {
   "cell_type": "markdown",
   "id": "b5778e4a",
   "metadata": {},
   "source": [
    "<h2>2. Assign the result from the previous task (seconds in an hour) to a variable called seconds_per_hour.</h2>"
   ]
  },
  {
   "cell_type": "code",
   "execution_count": 10,
   "id": "0c02dde3",
   "metadata": {},
   "outputs": [],
   "source": [
    "seconds_per_hour=60*60"
   ]
  },
  {
   "cell_type": "markdown",
   "id": "2484546c",
   "metadata": {},
   "source": [
    "<h2>3. How many seconds do you think there are in a day? Make use of the variables seconds per hour and minutes per hour.</h2>"
   ]
  },
  {
   "cell_type": "code",
   "execution_count": 12,
   "id": "bd0d19d6",
   "metadata": {},
   "outputs": [
    {
     "data": {
      "text/plain": [
       "86400"
      ]
     },
     "execution_count": 12,
     "metadata": {},
     "output_type": "execute_result"
    }
   ],
   "source": [
    "24*seconds_per_hour"
   ]
  },
  {
   "cell_type": "markdown",
   "id": "6ac816e7",
   "metadata": {},
   "source": [
    "<h2>4. Calculate seconds per day again, but this time save the result in a variable called seconds_per_day</h2>"
   ]
  },
  {
   "cell_type": "code",
   "execution_count": 13,
   "id": "1cb8b1e6",
   "metadata": {},
   "outputs": [],
   "source": [
    "seconds_per_day=24*seconds_per_hour"
   ]
  },
  {
   "cell_type": "markdown",
   "id": "f89c46c4",
   "metadata": {},
   "source": [
    "<h2>5. Divide seconds_per_day by seconds_per_hour. Use floating-point (/) division.</h2>"
   ]
  },
  {
   "cell_type": "code",
   "execution_count": 14,
   "id": "f1f92bf4",
   "metadata": {},
   "outputs": [
    {
     "data": {
      "text/plain": [
       "24.0"
      ]
     },
     "execution_count": 14,
     "metadata": {},
     "output_type": "execute_result"
    }
   ],
   "source": [
    "seconds_per_day/seconds_per_hour"
   ]
  },
  {
   "cell_type": "markdown",
   "id": "2c982c5e",
   "metadata": {},
   "source": [
    "<h2>6. Divide seconds_per_day by seconds_per_hour, using integer (//) division. Did this number agree with the floating-point value from the previous question, aside from the final .0?</h2>"
   ]
  },
  {
   "cell_type": "code",
   "execution_count": 15,
   "id": "0bbc4684",
   "metadata": {
    "scrolled": true
   },
   "outputs": [
    {
     "data": {
      "text/plain": [
       "24"
      ]
     },
     "execution_count": 15,
     "metadata": {},
     "output_type": "execute_result"
    }
   ],
   "source": [
    "seconds_per_day//seconds_per_hour"
   ]
  },
  {
   "cell_type": "markdown",
   "id": "fb1c1983",
   "metadata": {},
   "source": [
    "> yes this number agrees the floating-point value of the previous question"
   ]
  },
  {
   "cell_type": "markdown",
   "id": "081ec321",
   "metadata": {},
   "source": [
    "<h2>7. Write a generator, genPrimes, that returns the sequence of prime numbers on successive calls to its next() method: 2, 3, 5, 7, 11, ...</h2>"
   ]
  },
  {
   "cell_type": "code",
   "execution_count": 92,
   "id": "97ef9639",
   "metadata": {},
   "outputs": [],
   "source": [
    "num=2\n",
    "def genPrime():\n",
    "    global num\n",
    "    while True:\n",
    "        flag=True\n",
    "        for i in range(2,num):  \n",
    "            if num%i==0:\n",
    "                flag=False   \n",
    "        if flag:\n",
    "            yield num\n",
    "        num+=1"
   ]
  },
  {
   "cell_type": "code",
   "execution_count": 93,
   "id": "a70b84ab",
   "metadata": {},
   "outputs": [],
   "source": [
    "primes=genPrime()"
   ]
  },
  {
   "cell_type": "code",
   "execution_count": 94,
   "id": "6cffab77",
   "metadata": {},
   "outputs": [
    {
     "name": "stdout",
     "output_type": "stream",
     "text": [
      "2\n",
      "3\n",
      "5\n",
      "7\n",
      "11\n",
      "13\n",
      "17\n",
      "19\n",
      "23\n",
      "29\n",
      "31\n",
      "37\n",
      "41\n",
      "43\n",
      "47\n",
      "53\n",
      "59\n",
      "61\n",
      "67\n",
      "71\n"
     ]
    }
   ],
   "source": [
    "for i in range(20):\n",
    "    print(next(primes))"
   ]
  }
 ],
 "metadata": {
  "kernelspec": {
   "display_name": "Python 3 (ipykernel)",
   "language": "python",
   "name": "python3"
  },
  "language_info": {
   "codemirror_mode": {
    "name": "ipython",
    "version": 3
   },
   "file_extension": ".py",
   "mimetype": "text/x-python",
   "name": "python",
   "nbconvert_exporter": "python",
   "pygments_lexer": "ipython3",
   "version": "3.9.12"
  }
 },
 "nbformat": 4,
 "nbformat_minor": 5
}
