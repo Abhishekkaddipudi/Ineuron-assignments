{
 "cells": [
  {
   "cell_type": "code",
   "execution_count": 1,
   "id": "df4a616d",
   "metadata": {},
   "outputs": [],
   "source": [
    "from AssignmentReader import readdoc\n",
    "rd=readdoc(\"Programming_Assingment23.docx\")"
   ]
  },
  {
   "cell_type": "code",
   "execution_count": 2,
   "id": "9bb703e6",
   "metadata": {},
   "outputs": [
    {
     "name": "stdout",
     "output_type": "stream",
     "text": [
      "<h2>Question 1</h2>\n",
      "<h2>Create a function that takes a number as an argument and returns True or False depending on whether the number is symmetrical or not. A number is symmetrical when it is the same as its reverse.</h2>\n",
      "<h2>Examples</h2>\n",
      "<h2>\t\t\t\t\t\t\t\t\t\t\t\t\t\t\t\tis_symmetrical(7227) ➞ True</h2>\n",
      "<h2>\t\t\t\t\t\t\t\t\t\t\t\t\t\t\t\t</h2>\n",
      "<h2>\t\t\t\t\t\t\t\t\t\t\t\t\t\t\t\tis_symmetrical(12567) ➞ False</h2>\n",
      "<h2>\t\t\t\t\t\t\t\t\t\t\t\t\t\t\t\t</h2>\n",
      "<h2>\t\t\t\t\t\t\t\t\t\t\t\t\t\t\t\tis_symmetrical(44444444) ➞ True</h2>\n",
      "<h2>\t\t\t\t\t\t\t\t\t\t\t\t\t\t\t\t</h2>\n",
      "<h2>\t\t\t\t\t\t\t\t\t\t\t\t\t\t\t\tis_symmetrical(9939) ➞ False</h2>\n",
      "<h2>\t\t\t\t\t\t\t\t\t\t\t\t\t\t\t\t</h2>\n",
      "<h2>\t\t\t\t\t\t\t\t\t\t\t\t\t\t\t\tis_symmetrical(1112111) ➞ True</h2>\n",
      "<h2></h2>\n",
      "<h2>Question 2</h2>\n",
      "<h2>Given a string of numbers separated by a comma and space, return the product of the numbers.</h2>\n",
      "<h2>Examples</h2>\n",
      "<h2>multiply_nums(\"2, 3\") ➞ 6</h2>\n",
      "<h2></h2>\n",
      "<h2>multiply_nums(\"1, 2, 3, 4\") ➞ 24</h2>\n",
      "<h2></h2>\n",
      "<h2>multiply_nums(\"54, 75, 453, 0\") ➞ 0</h2>\n",
      "<h2></h2>\n",
      "<h2>multiply_nums(\"10, -2\") ➞ -20</h2>\n",
      "<h2></h2>\n",
      "<h2>Question 3</h2>\n",
      "<h2>Create a function that squares every digit of a number.</h2>\n",
      "<h2>Examples</h2>\n",
      "<h2>square_digits(9119) ➞ 811181</h2>\n",
      "<h2></h2>\n",
      "<h2>square_digits(2483) ➞ 416649</h2>\n",
      "<h2></h2>\n",
      "<h2>square_digits(3212) ➞ 9414</h2>\n",
      "<h2>Notes</h2>\n",
      "<h2>The function receives an integer and must return an integer.</h2>\n",
      "<h2></h2>\n",
      "<h2>Question 4</h2>\n",
      "<h2>Create a function that sorts a list and removes all duplicate items from it.</h2>\n",
      "<h2>Examples</h2>\n",
      "<h2>setify([1, 3, 3, 5, 5]) ➞ [1, 3, 5]</h2>\n",
      "<h2></h2>\n",
      "<h2>setify([4, 4, 4, 4]) ➞ [4]</h2>\n",
      "<h2></h2>\n",
      "<h2>setify([5, 7, 8, 9, 10, 15]) ➞ [5, 7, 8, 9, 10, 15]</h2>\n",
      "<h2></h2>\n",
      "<h2>setify([3, 3, 3, 2, 1]) ➞ [1, 2, 3]</h2>\n",
      "<h2></h2>\n",
      "<h2>Question 5</h2>\n",
      "<h2>Create a function that returns the mean of all digits.</h2>\n",
      "<h2>Examples</h2>\n",
      "<h2>mean(42) ➞ 3</h2>\n",
      "<h2></h2>\n",
      "<h2>mean(12345) ➞ 3</h2>\n",
      "<h2></h2>\n",
      "<h2>mean(666) ➞ 6</h2>\n",
      "<h2>Notes</h2>\n",
      "<h2>The mean of all digits is the sum of digits / how many digits there are (e.g. mean of digits in 512 is (5+1+2)/3(number of digits) = 8/3=2).</h2>\n",
      "<h2>The mean will always be an integer.</h2>\n"
     ]
    }
   ],
   "source": [
    "rd.read_with_h2()"
   ]
  },
  {
   "cell_type": "markdown",
   "id": "6df7f051",
   "metadata": {},
   "source": [
    "<h2>Question 1</h2>\n",
    "<h2>Create a function that takes a number as an argument and returns True or False depending on whether the number is symmetrical or not. A number is symmetrical when it is the same as its reverse.</h2>\n",
    "<h2>Examples</h2>\n",
    "<h2>\t\t\t\t\t\t\t\t\t\t\t\t\t\t\t\tis_symmetrical(7227) ➞ True</h2>\n",
    "\n",
    "<h2>\t\t\t\t\t\t\t\t\t\t\t\t\t\t\t\tis_symmetrical(12567) ➞ False</h2>\n",
    "\n",
    "<h2>\t\t\t\t\t\t\t\t\t\t\t\t\t\t\t\tis_symmetrical(44444444) ➞ True</h2>\n",
    "\n",
    "<h2>\t\t\t\t\t\t\t\t\t\t\t\t\t\t\t\tis_symmetrical(9939) ➞ False</h2>\n",
    "\n",
    "<h2>\t\t\t\t\t\t\t\t\t\t\t\t\t\t\t\tis_symmetrical(1112111) ➞ True</h2>\n"
   ]
  },
  {
   "cell_type": "code",
   "execution_count": 4,
   "id": "45113515",
   "metadata": {},
   "outputs": [],
   "source": [
    "def is_symmetrical(num:int or str)->bool:\n",
    "    \"\"\"checks if given input is symmetrical\"\"\"\n",
    "    return str(num) == str(num)[::-1]"
   ]
  },
  {
   "cell_type": "code",
   "execution_count": 5,
   "id": "015df6fc",
   "metadata": {},
   "outputs": [
    {
     "data": {
      "text/plain": [
       "True"
      ]
     },
     "execution_count": 5,
     "metadata": {},
     "output_type": "execute_result"
    }
   ],
   "source": [
    "is_symmetrical(7227)"
   ]
  },
  {
   "cell_type": "code",
   "execution_count": 6,
   "id": "af7f7260",
   "metadata": {},
   "outputs": [
    {
     "data": {
      "text/plain": [
       "False"
      ]
     },
     "execution_count": 6,
     "metadata": {},
     "output_type": "execute_result"
    }
   ],
   "source": [
    "is_symmetrical(12567) "
   ]
  },
  {
   "cell_type": "code",
   "execution_count": 7,
   "id": "415ed453",
   "metadata": {},
   "outputs": [
    {
     "data": {
      "text/plain": [
       "False"
      ]
     },
     "execution_count": 7,
     "metadata": {},
     "output_type": "execute_result"
    }
   ],
   "source": [
    "is_symmetrical(9939)"
   ]
  },
  {
   "cell_type": "code",
   "execution_count": 8,
   "id": "6302c15c",
   "metadata": {},
   "outputs": [
    {
     "data": {
      "text/plain": [
       "True"
      ]
     },
     "execution_count": 8,
     "metadata": {},
     "output_type": "execute_result"
    }
   ],
   "source": [
    "is_symmetrical(44444444)"
   ]
  },
  {
   "cell_type": "code",
   "execution_count": 9,
   "id": "42bd8170",
   "metadata": {},
   "outputs": [
    {
     "data": {
      "text/plain": [
       "True"
      ]
     },
     "execution_count": 9,
     "metadata": {},
     "output_type": "execute_result"
    }
   ],
   "source": [
    "is_symmetrical(1112111) "
   ]
  },
  {
   "cell_type": "markdown",
   "id": "567b3a49",
   "metadata": {},
   "source": [
    "<h2>Question 2</h2>\n",
    "<h2>Given a string of numbers separated by a comma and space, return the product of the numbers.</h2>\n",
    "<h2>Examples</h2>\n",
    "<h2>multiply_nums(\"2, 3\") ➞ 6</h2>\n",
    "<h2>multiply_nums(\"1, 2, 3, 4\") ➞ 24</h2>\n",
    "<h2>multiply_nums(\"54, 75, 453, 0\") ➞ 0</h2>\n",
    "<h2>multiply_nums(\"10, -2\") ➞ -20</h2>\n"
   ]
  },
  {
   "cell_type": "code",
   "execution_count": 19,
   "id": "dab19821",
   "metadata": {},
   "outputs": [],
   "source": [
    "def multiply_nums(nums:str)->int:\n",
    "    \"\"\"converting str to int and returns product \"\"\"\n",
    "    nums_list = map(int,nums.split(\",\"))\n",
    "    product = 1\n",
    "    for num in nums_list:\n",
    "        product *= num\n",
    "    return product"
   ]
  },
  {
   "cell_type": "code",
   "execution_count": 20,
   "id": "8113cd89",
   "metadata": {},
   "outputs": [
    {
     "data": {
      "text/plain": [
       "6"
      ]
     },
     "execution_count": 20,
     "metadata": {},
     "output_type": "execute_result"
    }
   ],
   "source": [
    "multiply_nums(\"2, 3\")"
   ]
  },
  {
   "cell_type": "code",
   "execution_count": 21,
   "id": "2300009c",
   "metadata": {},
   "outputs": [
    {
     "data": {
      "text/plain": [
       "24"
      ]
     },
     "execution_count": 21,
     "metadata": {},
     "output_type": "execute_result"
    }
   ],
   "source": [
    "multiply_nums(\"1, 2, 3, 4\")"
   ]
  },
  {
   "cell_type": "code",
   "execution_count": 22,
   "id": "440a6d2d",
   "metadata": {},
   "outputs": [
    {
     "data": {
      "text/plain": [
       "0"
      ]
     },
     "execution_count": 22,
     "metadata": {},
     "output_type": "execute_result"
    }
   ],
   "source": [
    "multiply_nums(\"54, 75, 453, 0\") "
   ]
  },
  {
   "cell_type": "code",
   "execution_count": 23,
   "id": "0a2ae32b",
   "metadata": {},
   "outputs": [
    {
     "data": {
      "text/plain": [
       "-20"
      ]
     },
     "execution_count": 23,
     "metadata": {},
     "output_type": "execute_result"
    }
   ],
   "source": [
    "multiply_nums(\"10, -2\") "
   ]
  },
  {
   "cell_type": "markdown",
   "id": "14ccd88c",
   "metadata": {},
   "source": [
    "<h2>Question 3</h2>\n",
    "<h2>Create a function that squares every digit of a number.</h2>\n",
    "<h2>Examples</h2>\n",
    "<h2>square_digits(9119) ➞ 811181</h2>\n",
    "<h2>square_digits(2483) ➞ 416649</h2>\n",
    "<h2>square_digits(3212) ➞ 9414</h2>\n",
    "<h2>Notes</h2>\n",
    "<h2>The function receives an integer and must return an integer.</h2>\n"
   ]
  },
  {
   "cell_type": "code",
   "execution_count": 25,
   "id": "d7f62778",
   "metadata": {},
   "outputs": [],
   "source": [
    "def square_digits(num:int)->int:\n",
    "    \"\"\"squares each digit\"\"\"\n",
    "    digits = [int(d) for d in str(num)]\n",
    "    squared = ''.join(str(d ** 2) for d in digits)\n",
    "    return int(squared)"
   ]
  },
  {
   "cell_type": "code",
   "execution_count": 26,
   "id": "84123179",
   "metadata": {},
   "outputs": [
    {
     "data": {
      "text/plain": [
       "811181"
      ]
     },
     "execution_count": 26,
     "metadata": {},
     "output_type": "execute_result"
    }
   ],
   "source": [
    "square_digits(9119)"
   ]
  },
  {
   "cell_type": "code",
   "execution_count": 27,
   "id": "f4e53110",
   "metadata": {},
   "outputs": [
    {
     "data": {
      "text/plain": [
       "416649"
      ]
     },
     "execution_count": 27,
     "metadata": {},
     "output_type": "execute_result"
    }
   ],
   "source": [
    "square_digits(2483) "
   ]
  },
  {
   "cell_type": "code",
   "execution_count": 28,
   "id": "5d6ce217",
   "metadata": {},
   "outputs": [
    {
     "data": {
      "text/plain": [
       "9414"
      ]
     },
     "execution_count": 28,
     "metadata": {},
     "output_type": "execute_result"
    }
   ],
   "source": [
    "square_digits(3212)"
   ]
  },
  {
   "cell_type": "markdown",
   "id": "2a3a8b62",
   "metadata": {},
   "source": [
    "<h2>Question 4</h2>\n",
    "<h2>Create a function that sorts a list and removes all duplicate items from it.</h2>\n",
    "<h2>Examples</h2>\n",
    "<h2>setify([1, 3, 3, 5, 5]) ➞ [1, 3, 5]</h2>\n",
    "<h2>setify([4, 4, 4, 4]) ➞ [4]</h2>\n",
    "<h2>setify([5, 7, 8, 9, 10, 15]) ➞ [5, 7, 8, 9, 10, 15]</h2>\n",
    "<h2>setify([3, 3, 3, 2, 1]) ➞ [1, 2, 3]</h2>"
   ]
  },
  {
   "cell_type": "code",
   "execution_count": 30,
   "id": "516b45df",
   "metadata": {},
   "outputs": [],
   "source": [
    "def setify(lst:list)->list:\n",
    "    \"\"\"sorts and removes duplicates\"\"\"\n",
    "    return sorted(list(set(lst)))\n"
   ]
  },
  {
   "cell_type": "code",
   "execution_count": 31,
   "id": "c3390ab0",
   "metadata": {},
   "outputs": [
    {
     "data": {
      "text/plain": [
       "[1, 3, 5]"
      ]
     },
     "execution_count": 31,
     "metadata": {},
     "output_type": "execute_result"
    }
   ],
   "source": [
    "setify([1, 3, 3, 5, 5])"
   ]
  },
  {
   "cell_type": "code",
   "execution_count": 32,
   "id": "dd79cfe1",
   "metadata": {},
   "outputs": [
    {
     "data": {
      "text/plain": [
       "[4]"
      ]
     },
     "execution_count": 32,
     "metadata": {},
     "output_type": "execute_result"
    }
   ],
   "source": [
    "setify([4, 4, 4, 4])"
   ]
  },
  {
   "cell_type": "code",
   "execution_count": 33,
   "id": "8c6f311b",
   "metadata": {},
   "outputs": [
    {
     "data": {
      "text/plain": [
       "[5, 7, 8, 9, 10, 15]"
      ]
     },
     "execution_count": 33,
     "metadata": {},
     "output_type": "execute_result"
    }
   ],
   "source": [
    "setify([5, 7, 8, 9, 10, 15])"
   ]
  },
  {
   "cell_type": "code",
   "execution_count": 34,
   "id": "b1fa1820",
   "metadata": {},
   "outputs": [
    {
     "data": {
      "text/plain": [
       "[1, 2, 3]"
      ]
     },
     "execution_count": 34,
     "metadata": {},
     "output_type": "execute_result"
    }
   ],
   "source": [
    "setify([3, 3, 3, 2, 1]) "
   ]
  },
  {
   "cell_type": "markdown",
   "id": "24e45019",
   "metadata": {},
   "source": [
    "<h2>Question 5</h2>\n",
    "<h2>Create a function that returns the mean of all digits.</h2>\n",
    "<h2>Examples</h2>\n",
    "<h2>mean(42) ➞ 3</h2>\n",
    "\n",
    "<h2>mean(12345) ➞ 3</h2>\n",
    "<h2>mean(666) ➞ 6</h2>\n",
    "<h2>Notes</h2>\n",
    "<h2>The mean of all digits is the sum of digits / how many digits there are (e.g. mean of digits in 512 is (5+1+2)/3(number of digits) = 8/3=2).</h2>\n",
    "<h2>The mean will always be an integer.</h2"
   ]
  },
  {
   "cell_type": "code",
   "execution_count": 41,
   "id": "ca01f24a",
   "metadata": {},
   "outputs": [],
   "source": [
    "def mean(num:int)->int:\n",
    "    \"\"\"calculates mean of all digits\"\"\"\n",
    "    temp=str(num)\n",
    "    digits = map(int,temp)\n",
    "    return sum(digits) // len(temp)"
   ]
  },
  {
   "cell_type": "code",
   "execution_count": 42,
   "id": "fd0960d1",
   "metadata": {},
   "outputs": [
    {
     "data": {
      "text/plain": [
       "3"
      ]
     },
     "execution_count": 42,
     "metadata": {},
     "output_type": "execute_result"
    }
   ],
   "source": [
    "mean(42)"
   ]
  },
  {
   "cell_type": "code",
   "execution_count": 43,
   "id": "5d311592",
   "metadata": {},
   "outputs": [
    {
     "data": {
      "text/plain": [
       "3"
      ]
     },
     "execution_count": 43,
     "metadata": {},
     "output_type": "execute_result"
    }
   ],
   "source": [
    "mean(12345)"
   ]
  },
  {
   "cell_type": "code",
   "execution_count": 44,
   "id": "a62b660c",
   "metadata": {},
   "outputs": [
    {
     "data": {
      "text/plain": [
       "6"
      ]
     },
     "execution_count": 44,
     "metadata": {},
     "output_type": "execute_result"
    }
   ],
   "source": [
    "mean(666)"
   ]
  }
 ],
 "metadata": {
  "kernelspec": {
   "display_name": "Python 3 (ipykernel)",
   "language": "python",
   "name": "python3"
  },
  "language_info": {
   "codemirror_mode": {
    "name": "ipython",
    "version": 3
   },
   "file_extension": ".py",
   "mimetype": "text/x-python",
   "name": "python",
   "nbconvert_exporter": "python",
   "pygments_lexer": "ipython3",
   "version": "3.9.12"
  }
 },
 "nbformat": 4,
 "nbformat_minor": 5
}
