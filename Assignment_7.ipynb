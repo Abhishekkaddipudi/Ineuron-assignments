{
 "cells": [
  {
   "cell_type": "markdown",
   "id": "6ff329c0",
   "metadata": {},
   "source": [
    "<h2>1. What is the name of the feature responsible for generating Regex objects?</h2>"
   ]
  },
  {
   "cell_type": "markdown",
   "id": "d0cf0836",
   "metadata": {},
   "source": [
    "<h4>- The re.compile() function is responsible for generating Regex objects in Python.</h4>"
   ]
  },
  {
   "cell_type": "markdown",
   "id": "3602507f",
   "metadata": {},
   "source": [
    "<h2>2. Why do raw strings often appear in Regex objects?</h2>"
   ]
  },
  {
   "cell_type": "markdown",
   "id": "33dee7e9",
   "metadata": {},
   "source": [
    "\n",
    "<h4>- Raw strings are used so that backslashes and do not have to be escaped.</h4>"
   ]
  },
  {
   "cell_type": "markdown",
   "id": "7af90a0c",
   "metadata": {},
   "source": [
    "<h2>3. What is the return value of the search() method?</h2>"
   ]
  },
  {
   "cell_type": "markdown",
   "id": "b28efd97",
   "metadata": {},
   "source": [
    "<h4>- The search() method of a regular expression object in Python returns a match object if the search is successful, and None otherwise.</h4>"
   ]
  },
  {
   "cell_type": "code",
   "execution_count": 76,
   "id": "83bc0bbf",
   "metadata": {},
   "outputs": [
    {
     "name": "stdout",
     "output_type": "stream",
     "text": [
      "eighth letter word:  <re.Match object; span=(10, 18), match='baseball'>\n",
      "100th word:  None\n"
     ]
    }
   ],
   "source": [
    "import re\n",
    "# Target String\n",
    "target_string = \"Emma is a baseball player who was born on June 17\"\n",
    "\n",
    "# search() for eight-letter word\n",
    "result = re.search(r\"\\w{8}\", target_string)\n",
    "print(\"eighth letter word: \",result)\n",
    "# search() for 100th letter word\n",
    "result = re.search(r\"\\w{100}\", target_string)\n",
    "print(\"100th word: \",result)\n"
   ]
  },
  {
   "cell_type": "markdown",
   "id": "728da029",
   "metadata": {},
   "source": [
    "<h2>4. From a Match item, how do you get the actual strings that match the pattern?</h2>"
   ]
  },
  {
   "cell_type": "markdown",
   "id": "9f9efb4c",
   "metadata": {},
   "source": [
    "<h4>- The group() method returns the substring that matched the entire regular expression pattern, or a specific group within the pattern if the pattern contains groups. </h4>"
   ]
  },
  {
   "cell_type": "code",
   "execution_count": 78,
   "id": "c3760894",
   "metadata": {},
   "outputs": [
    {
     "name": "stdout",
     "output_type": "stream",
     "text": [
      "('PINEAPPLE', '20')\n"
     ]
    }
   ],
   "source": [
    "\n",
    "target_string = \"The price of PINEAPPLE ice cream is 20\"\n",
    "\n",
    "# two groups enclosed in separate ( and ) bracket 1 - capital letters 2 - digits\n",
    "result = re.search(r\"(\\b[A-Z]+\\b).+(\\b\\d+)\", target_string)\n",
    "\n",
    "# Extract matching values of all groups\n",
    "print(result.groups())"
   ]
  },
  {
   "cell_type": "markdown",
   "id": "7147160f",
   "metadata": {},
   "source": [
    "<h2>5. In the regex which created from the r&#39;(\\d\\d\\d)-(\\d\\d\\d-\\d\\d\\d\\d)&#39;, what does group zero cover?\n",
    "Group 2? Group 1?</h2>"
   ]
  },
  {
   "cell_type": "markdown",
   "id": "190613aa",
   "metadata": {},
   "source": [
    "<h4>The regular expression r'(\\d\\d\\d)-(\\d\\d\\d-\\d\\d\\d\\d)' contains two groups, which are denoted by the parentheses.\n",
    "</h4>\n",
    "   <h4>   - Group 0, or match.group(0), covers the entire match, including both the area code and the phone number separated by a hyphen.</h4>\n",
    "   <h4>   - Group 1, or match.group(1), covers the area code, which consists of three digits.</h4>\n",
    "   <h4>   - Group 2, or match.group(2), covers the phone number, which consists of three digits, a hyphen, and four digits.</h4>"
   ]
  },
  {
   "cell_type": "code",
   "execution_count": 29,
   "id": "be7b9ce6",
   "metadata": {},
   "outputs": [
    {
     "name": "stdout",
     "output_type": "stream",
     "text": [
      "123-456-7890\n"
     ]
    }
   ],
   "source": [
    "text = 'My phone number is 123-456-7890'\n",
    "pattern = r'(\\d\\d\\d)-(\\d\\d\\d-\\d\\d\\d\\d)'\n",
    "match = re.search(pattern, text)\n",
    "\n",
    "# Get the entire match (group 0)\n",
    "print(match.group(0)) # Output: '123-456-7890'\n"
   ]
  },
  {
   "cell_type": "markdown",
   "id": "0ba99570",
   "metadata": {},
   "source": [
    "<h2>6. In standard expression syntax, parentheses and intervals have distinct meanings. How can you tell\n",
    "a regex that you want it to fit real parentheses and periods?</h2>"
   ]
  },
  {
   "cell_type": "markdown",
   "id": "3ee89493",
   "metadata": {},
   "source": [
    "<h4>To tell a regular expression to match literal parentheses and periods, rather than interpreting them as special characters with distinct meanings, you can escape them with a backslash (\\).</h4>"
   ]
  },
  {
   "cell_type": "code",
   "execution_count": 81,
   "id": "331885ef",
   "metadata": {},
   "outputs": [
    {
     "name": "stdout",
     "output_type": "stream",
     "text": [
      "3.14.\n"
     ]
    }
   ],
   "source": [
    "text = 'The value of (x) is 3.14.'\n",
    "pattern = r'\\d\\.\\d+\\.'\n",
    "match = re.search(pattern, text)\n",
    "\n",
    "# Print the matched substring\n",
    "print(match.group(0)) "
   ]
  },
  {
   "cell_type": "markdown",
   "id": "14026a1b",
   "metadata": {},
   "source": [
    "<h2>7. The findall() method returns a string list or a list of string tuples. What causes it to return one of\n",
    "the two options?</h2>"
   ]
  },
  {
   "cell_type": "markdown",
   "id": "255b1b05",
   "metadata": {},
   "source": [
    "- If the pattern contains one or more groups, findall() returns a list of tuples, where each tuple contains the matched groups in the order they appear in the pattern.\n",
    "- If the pattern does not contain any groups, findall() returns a list of strings, where each string is a match to the pattern."
   ]
  },
  {
   "cell_type": "markdown",
   "id": "2bfd832a",
   "metadata": {},
   "source": [
    "<h2>8. In standard expressions, what does the | character mean?</h2>"
   ]
  },
  {
   "cell_type": "markdown",
   "id": "20d9fdbc",
   "metadata": {},
   "source": [
    "<h4>- The | character signifies matching “either, or” between two groups.</h4>"
   ]
  },
  {
   "cell_type": "markdown",
   "id": "80dfd4ca",
   "metadata": {},
   "source": [
    "<h2>9. In regular expressions, what does the ? character stand for?</h2>"
   ]
  },
  {
   "cell_type": "markdown",
   "id": "e6930bee",
   "metadata": {},
   "source": [
    "<h4> - In regular Expressions, ? characters represents zero or one match of the preceeding group.</h4>"
   ]
  },
  {
   "cell_type": "code",
   "execution_count": 82,
   "id": "972e7c52",
   "metadata": {},
   "outputs": [
    {
     "name": "stdout",
     "output_type": "stream",
     "text": [
      "<re.Match object; span=(0, 6), match='Batman'>\n",
      "<re.Match object; span=(0, 8), match='Batwoman'>\n"
     ]
    }
   ],
   "source": [
    "import re\n",
    "match_1 = re.search(\"Bat(wo)?man\",\"Batman returns\")\n",
    "print(match_1)\n",
    "match_2 = re.search(\"Bat(wo)?man\",\"Batwoman returns\")\n",
    "print(match_2)"
   ]
  },
  {
   "cell_type": "markdown",
   "id": "eca83afe",
   "metadata": {},
   "source": [
    "<h2>10.In regular expressions, what is the difference between the + and * characters?</h2>"
   ]
  },
  {
   "cell_type": "markdown",
   "id": "b21b5b1c",
   "metadata": {},
   "source": [
    "- The + matches one or more. \n",
    "- The * matches zero or more."
   ]
  },
  {
   "cell_type": "code",
   "execution_count": 85,
   "id": "63d123db",
   "metadata": {},
   "outputs": [
    {
     "name": "stdout",
     "output_type": "stream",
     "text": [
      "['a', 'a', 'a', 'a', 'a']\n",
      "['a', '', 'a', '', 'a', '', 'a', '', 'a', '']\n"
     ]
    }
   ],
   "source": [
    "import re\n",
    "\n",
    "text = \"abacadaea\"\n",
    "pattern1 = r\"a+\"\n",
    "\n",
    "pattern2 = r\"a*\"\n",
    "match1 = re.findall(pattern1, text)\n",
    "match2 = re.findall(pattern2, text)\n",
    "print(match1)  \n",
    "print(match2)"
   ]
  },
  {
   "cell_type": "markdown",
   "id": "b403f5c5",
   "metadata": {},
   "source": [
    "<h2>11. What is the difference between {4} and {4,5} in regular expression?</h2>"
   ]
  },
  {
   "cell_type": "markdown",
   "id": "be35f711",
   "metadata": {},
   "source": [
    "<h4>- The {4} matches exactly four occurances of the preceding group. The {4,5} matches between four and five occurances.</h4>"
   ]
  },
  {
   "cell_type": "code",
   "execution_count": 88,
   "id": "e010070a",
   "metadata": {},
   "outputs": [
    {
     "name": "stdout",
     "output_type": "stream",
     "text": [
      "['aaaa', 'aaaa']\n",
      "['aaaaa', 'aaaaa']\n"
     ]
    }
   ],
   "source": [
    "text = \"aaaaaaaaaa\"\n",
    "\n",
    "pattern1 = r\"a{4}\"\n",
    "pattern2 = r\"a{4,5}\"\n",
    "match1 = re.findall(pattern1, text)\n",
    "match2 = re.findall(pattern2, text)\n",
    "\n",
    "print(match1) \n",
    "print(match2)"
   ]
  },
  {
   "cell_type": "markdown",
   "id": "53a3f306",
   "metadata": {},
   "source": [
    "<h2>12. What do you mean by the \\d, \\w, and \\s shorthand character classes signify in regular expressions?</h2>"
   ]
  },
  {
   "cell_type": "markdown",
   "id": "ceae5778",
   "metadata": {},
   "source": [
    " - \\d - Matches any decimal digit (0-9).\n",
    " - \\w - Matches any alphanumeric character (a-z, A-Z, 0-9) and underscore (_).\n",
    " - \\s - Matches any whitespace character (space, tab, newline)."
   ]
  },
  {
   "cell_type": "markdown",
   "id": "b57ebee6",
   "metadata": {},
   "source": [
    "<h2>13. What do means by \\D, \\W, and \\S shorthand character classes signify in regular expressions?</h2>"
   ]
  },
  {
   "cell_type": "markdown",
   "id": "eff01b1e",
   "metadata": {},
   "source": [
    "- \\D - Matches any character that is not a decimal digit (0-9).\n",
    "- \\W - Matches any character that is not alphanumeric (a-z, A-Z, 0-9) and underscore (_).\n",
    "- \\S - Matches any character that is not whitespace (space, tab, newline)."
   ]
  },
  {
   "cell_type": "markdown",
   "id": "bcecf59b",
   "metadata": {},
   "source": [
    "<h2>14. What is the difference between .*? and .*?</h2>"
   ]
  },
  {
   "cell_type": "markdown",
   "id": "68c581cd",
   "metadata": {},
   "source": [
    "<h4>.*? is a non-greedy match, matches as few characters as possible, while .* is a greedy match that matches as many characters as possible.</h4>"
   ]
  },
  {
   "cell_type": "markdown",
   "id": "ec154532",
   "metadata": {},
   "source": [
    "<h2>15. What is the syntax for matching both numbers and lowercase letters with a character class?</h2>"
   ]
  },
  {
   "cell_type": "markdown",
   "id": "59b4d532",
   "metadata": {},
   "source": [
    "- The Synatax is  [a-z0-9] or [0-9a-z]"
   ]
  },
  {
   "cell_type": "markdown",
   "id": "5d21df43",
   "metadata": {},
   "source": [
    "<h2>16. What is the procedure for making a normal expression in regax case insensitive?</h2>"
   ]
  },
  {
   "cell_type": "markdown",
   "id": "a61f915e",
   "metadata": {},
   "source": [
    "- We can pass re.IGNORECASE as a flag to make a noramal expression case insensitive"
   ]
  },
  {
   "cell_type": "markdown",
   "id": "85387dd3",
   "metadata": {},
   "source": [
    "<h2>17. What does the . character normally match? What does it match if re.DOTALL is passed as 2nd argument in re.compile()?</h2>"
   ]
  },
  {
   "cell_type": "markdown",
   "id": "3929ce5a",
   "metadata": {},
   "source": [
    "- The . character normally matches any character except the newline character. \n",
    "- If re.DOTALL is passed as the second argument to re.compile(), then the dot will also match newline characters."
   ]
  },
  {
   "cell_type": "code",
   "execution_count": 12,
   "id": "84f5e881",
   "metadata": {},
   "outputs": [
    {
     "name": "stdout",
     "output_type": "stream",
     "text": [
      "<re.Match object; span=(0, 6), match='Hello,'>\n",
      "<re.Match object; span=(0, 12), match='Hello,\\nWorld'>\n"
     ]
    }
   ],
   "source": [
    "import re\n",
    "match = re.search(r'.+', 'Hello,\\nWorld')\n",
    "print(match)\n",
    "match = re.search(r'.+', 'Hello,\\nWorld',re.DOTALL)\n",
    "print(match)"
   ]
  },
  {
   "cell_type": "markdown",
   "id": "aac4751b",
   "metadata": {},
   "source": [
    "<h2>18. If numReg = re.compile(r'\\d+'), what will numRegex.sub('X', '11 drummers, 10 pipers, five rings, 4 hen') return?</h2>"
   ]
  },
  {
   "cell_type": "markdown",
   "id": "8ef2140b",
   "metadata": {},
   "source": [
    "- 'X drummers, X pipers, five rings, X hen'"
   ]
  },
  {
   "cell_type": "code",
   "execution_count": 15,
   "id": "2e9885ef",
   "metadata": {},
   "outputs": [
    {
     "data": {
      "text/plain": [
       "'X drummers, X pipers, five rings, X hen'"
      ]
     },
     "execution_count": 15,
     "metadata": {},
     "output_type": "execute_result"
    }
   ],
   "source": [
    "numReg = re.compile(r'\\d+')\n",
    "numReg.sub('X', '11 drummers, 10 pipers, five rings, 4 hen')"
   ]
  },
  {
   "cell_type": "markdown",
   "id": "62347b78",
   "metadata": {},
   "source": [
    "<h2>19. What does passing re.VERBOSE as the 2nd argument to re.compile() allow to do?</h2>"
   ]
  },
  {
   "cell_type": "markdown",
   "id": "5c3a81c4",
   "metadata": {},
   "source": [
    "- re.VERBOSE allows you to write regular expressions that look nicer and are more readable by allowing you to visually separate logical sections of the pattern and add comments.\n",
    "- The re.VERBOSE argument allows to add whitespace and comments to the string passed to re.compile()."
   ]
  },
  {
   "cell_type": "markdown",
   "id": "ca85de86",
   "metadata": {},
   "source": [
    "<h2>20. How would you write a regex that match a number with comma for every three digits? It must match the given following:</h2>\n",
    "\n",
    "<h2>'42'</h2>\n",
    "<h2>'1,234'</h2>\n",
    "<h2>'6,368,745'</h2>\n",
    "<h2>but not the following:</h2>\n",
    "<h2>'12,34,567' (which has only two digits between the commas)</h2>\n",
    "<h2>'1234' (which lacks commas)</h2>\n"
   ]
  },
  {
   "cell_type": "code",
   "execution_count": 18,
   "id": "ea030206",
   "metadata": {},
   "outputs": [
    {
     "name": "stdout",
     "output_type": "stream",
     "text": [
      "42 -> <re.Match object; span=(0, 2), match='42'>\n",
      "1,234 -> <re.Match object; span=(0, 5), match='1,234'>\n",
      "6,368,745 -> <re.Match object; span=(0, 9), match='6,368,745'>\n",
      "12,34,567 -> None\n",
      "1234 -> None\n"
     ]
    }
   ],
   "source": [
    "import re\n",
    "pattern = r'^\\d{1,3}(,\\d{3})*$'\n",
    "numbers = re.compile(pattern)\n",
    "for ele in ['42','1,234', '6,368,745','12,34,567','1234']:\n",
    "    print(ele, '->', numbers.search(ele))"
   ]
  },
  {
   "cell_type": "markdown",
   "id": "b80a94e6",
   "metadata": {},
   "source": [
    "<h2>21. How would you write a regex that matches the full name of someone whose last name is Watanabe? You can assume that the first name that comes before it will always be one word that begins with a capital letter. The regex must match the following:</h2>\n",
    "\n",
    "\n",
    "<h2>'Haruto Watanabe'</h2>\n",
    "<h2>'Alice Watanabe'</h2>\n",
    "<h2>'RoboCop Watanabe'</h2>\n",
    "<h2>but not the following:</h2>\n",
    "<h2>'haruto Watanabe' (where the first name is not capitalized)</h2>\n",
    "<h2>'Mr. Watanabe' (where the preceding word has a nonletter character)</h2>\n",
    "<h2>'Watanabe' (which has no first name)</h2>\n",
    "<h2>'Haruto watanabe' (where Watanabe is not capitalized)</h2>"
   ]
  },
  {
   "cell_type": "markdown",
   "id": "ff0225aa",
   "metadata": {},
   "source": [
    "> - the pattern is r'[A-Z]{1}[a-z]*\\sWatanabe'"
   ]
  },
  {
   "cell_type": "code",
   "execution_count": 20,
   "id": "fec9d003",
   "metadata": {},
   "outputs": [
    {
     "name": "stdout",
     "output_type": "stream",
     "text": [
      "Haruto Watanabe -> <re.Match object; span=(0, 15), match='Haruto Watanabe'>\n",
      "Alice Watanabe -> <re.Match object; span=(0, 14), match='Alice Watanabe'>\n",
      "RoboCop Watanabe -> <re.Match object; span=(4, 16), match='Cop Watanabe'>\n",
      "haruto Watanabe -> None\n",
      "Mr. Watanabe -> None\n",
      "Watanabe -> None\n",
      "Haruto watanabe -> None\n"
     ]
    }
   ],
   "source": [
    "import re\n",
    "pattern = r'[A-Z]{1}[a-z]*\\sWatanabe'\n",
    "string = re.compile(pattern)\n",
    "for name in ['Haruto Watanabe','Alice Watanabe','RoboCop Watanabe','haruto Watanabe','Mr. Watanabe','Watanabe','Haruto watanabe']:\n",
    "    print(name,'->',string.search(name))\n",
    "\n"
   ]
  },
  {
   "cell_type": "markdown",
   "id": "8e9b8261",
   "metadata": {},
   "source": [
    "<h2>22. How would you write a regex that matches a sentence where the first word is either Alice, Bob, or Carol; the second word is either eats, pets, or throws; the third word is apples, cats, or baseballs; and the sentence ends with a period? This regex should be case-insensitive. It must match the following:</h2>\n",
    "<h2>'Alice eats apples.'</h2>\n",
    "<h2>'Bob pets cats.'</h2>\n",
    "<h2>'Carol throws baseballs.'</h2>\n",
    "<h2>'Alice throws Apples.'</h2>\n",
    "<h2>'BOB EATS CATS.'</h2>\n",
    "<h2>but not the following:</h2>\n",
    "<h2>'RoboCop eats apples.'</h2>\n",
    "<h2>'ALICE THROWS FOOTBALLS.'</h2>\n",
    "<h2>'Carol eats 7 cats.'</h2>"
   ]
  },
  {
   "cell_type": "markdown",
   "id": "571a5280",
   "metadata": {},
   "source": [
    " > - the pattern is r'(Alice|Bob|Carol)\\s(eats|pets|throws)\\s(apples|cats|baseballs)\\.'"
   ]
  },
  {
   "cell_type": "code",
   "execution_count": 30,
   "id": "374ad36c",
   "metadata": {},
   "outputs": [
    {
     "name": "stdout",
     "output_type": "stream",
     "text": [
      "Alice eats apples. -> <re.Match object; span=(0, 18), match='Alice eats apples.'>\n",
      "Bob pets cats. -> <re.Match object; span=(0, 14), match='Bob pets cats.'>\n",
      "Carol throws baseballs. -> <re.Match object; span=(0, 23), match='Carol throws baseballs.'>\n",
      "Alice throws Apples. -> <re.Match object; span=(0, 20), match='Alice throws Apples.'>\n",
      "BOB EATS CATS. -> <re.Match object; span=(0, 14), match='BOB EATS CATS.'>\n",
      "RoboCop eats apples. -> None\n",
      "ALICE THROWS FOOTBALLS. -> None\n",
      "Carol eats 7 cats. -> None\n"
     ]
    }
   ],
   "source": [
    "import re\n",
    "pattern = r'(Alice|Bob|Carol)\\s(eats|pets|throws)\\s(apples|cats|baseballs)\\.'\n",
    "words = re.compile(pattern,re.IGNORECASE)\n",
    "for ele in ['Alice eats apples.','Bob pets cats.','Carol throws baseballs.','Alice throws Apples.','BOB EATS CATS.','RoboCop eats apples.','ALICE THROWS FOOTBALLS.','Carol eats 7 cats.']:\n",
    "    print(ele,'->',words.search(ele))\n",
    "\n"
   ]
  }
 ],
 "metadata": {
  "kernelspec": {
   "display_name": "Python 3 (ipykernel)",
   "language": "python",
   "name": "python3"
  },
  "language_info": {
   "codemirror_mode": {
    "name": "ipython",
    "version": 3
   },
   "file_extension": ".py",
   "mimetype": "text/x-python",
   "name": "python",
   "nbconvert_exporter": "python",
   "pygments_lexer": "ipython3",
   "version": "3.9.12"
  }
 },
 "nbformat": 4,
 "nbformat_minor": 5
}
