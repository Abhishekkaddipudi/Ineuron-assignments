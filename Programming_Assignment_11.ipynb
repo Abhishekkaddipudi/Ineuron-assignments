{
 "cells": [
  {
   "cell_type": "markdown",
   "id": "6886904f",
   "metadata": {},
   "source": [
    "#### 1. Write a Python program to find words which are greater than given length k?"
   ]
  },
  {
   "cell_type": "code",
   "execution_count": 67,
   "id": "fe1c2f5d",
   "metadata": {},
   "outputs": [
    {
     "name": "stdout",
     "output_type": "stream",
     "text": [
      "Enter the string: Duplicate characters in string\n",
      "Enter the length: 3\n",
      "the words which are greater then 3 are \n",
      "Duplicate\n",
      "characters\n",
      "string\n"
     ]
    }
   ],
   "source": [
    "String=input(\"Enter the string: \")\n",
    "k=int(input(\"Enter the length: \"))\n",
    "String=String.split(\" \")#converting into list of words\n",
    "print(f\"the words which are greater then {k} are \")\n",
    "for i in String:\n",
    "    if len(i)>k:\n",
    "        print(i)\n",
    "        "
   ]
  },
  {
   "cell_type": "markdown",
   "id": "81c0dd6b",
   "metadata": {},
   "source": [
    "#### 2. Write a Python program for removing i-th character from a string?"
   ]
  },
  {
   "cell_type": "code",
   "execution_count": 20,
   "id": "a8bbccd3",
   "metadata": {},
   "outputs": [
    {
     "name": "stdout",
     "output_type": "stream",
     "text": [
      "Enter the string: Hello there how are you\n",
      "Enter the index: 4\n",
      "original String: Hello there how are you\n",
      "char removed String: Hell there how are you\n"
     ]
    }
   ],
   "source": [
    "String=input(\"Enter the string: \")\n",
    "k=int(input(\"Enter the index: \"))\n",
    "print(f\"original String: {String}\")\n",
    "String=String[:k]+String[k+1:]#using slicing\n",
    "print(f\"char removed String: {String}\")"
   ]
  },
  {
   "cell_type": "markdown",
   "id": "8387a080",
   "metadata": {},
   "source": [
    "#### 3. Write a Python program to split and join a string?"
   ]
  },
  {
   "cell_type": "code",
   "execution_count": 23,
   "id": "c488c6c5",
   "metadata": {},
   "outputs": [
    {
     "name": "stdout",
     "output_type": "stream",
     "text": [
      "Enter the string: Hello there how are you\n",
      "String splited by space between: ['Hello', 'there', 'how', 'are', 'you']\n",
      "Enter a character to join the splited string#\n",
      "Joined String: Hello#there#how#are#you\n"
     ]
    }
   ],
   "source": [
    "String=input(\"Enter the string: \")\n",
    "String=String.split(\" \")\n",
    "print(f\"String splited by space between: {String}\")\n",
    "char=input(\"Enter a character to join the splited string\")\n",
    "String=char.join(String)\n",
    "print(f\"Joined String: {String}\")\n"
   ]
  },
  {
   "cell_type": "markdown",
   "id": "f525aff0",
   "metadata": {},
   "source": [
    "#### 4. Write a Python to check if a given string is binary string or not?"
   ]
  },
  {
   "cell_type": "code",
   "execution_count": 40,
   "id": "027a782f",
   "metadata": {},
   "outputs": [
    {
     "name": "stdout",
     "output_type": "stream",
     "text": [
      "Enter the string: 111000011\n",
      "The String is binary string\n"
     ]
    }
   ],
   "source": [
    "String=input(\"Enter the string: \")\n",
    "if all(x==\"1\" or x==\"0\"  for x in String):#using all\n",
    "    print(\"The String is binary string\")\n",
    "else:\n",
    "    print(\"The String is not binary string\")"
   ]
  },
  {
   "cell_type": "markdown",
   "id": "2ff377d1",
   "metadata": {},
   "source": [
    "#### 5. Write a Python program to find uncommon words from two Strings?"
   ]
  },
  {
   "cell_type": "code",
   "execution_count": 52,
   "id": "ba136127",
   "metadata": {},
   "outputs": [
    {
     "name": "stdout",
     "output_type": "stream",
     "text": [
      "Enter the first string: The Srting is not binary\n",
      "Enter the second string: The Srting binary\n",
      "uncommon word in two string are: 'is', 'not'\n"
     ]
    }
   ],
   "source": [
    "count={}\n",
    "String1=input(\"Enter the first string: \")\n",
    "String2=input(\"Enter the second string: \")\n",
    "for i in String1.split():\n",
    "    count[i]=count.get(i,0)+1\n",
    "for i in String2.split():\n",
    "    count[i]=count.get(i,0)+1\n",
    "new_list=[i for i in count if count[i] == 1]\n",
    "print(f\"uncommon word in two string are: {str(new_list)[1:-1]}\")"
   ]
  },
  {
   "cell_type": "markdown",
   "id": "3ac3c97c",
   "metadata": {},
   "source": [
    "#### 6. Write a Python to find all duplicate characters in string?"
   ]
  },
  {
   "cell_type": "code",
   "execution_count": 66,
   "id": "71fa4971",
   "metadata": {},
   "outputs": [
    {
     "name": "stdout",
     "output_type": "stream",
     "text": [
      "Enter the string: Duplicate characters in string\\\n",
      "Duplicate characters in string are\n",
      "i c a t e r s n "
     ]
    }
   ],
   "source": [
    "String=input(\"Enter the string: \")\n",
    "print(\"Duplicate characters in string are\")\n",
    "duplicates={}#using dictionary\n",
    "for char in String:\n",
    "    if char in duplicates:\n",
    "        duplicates[char] += 1\n",
    "    else:\n",
    "        duplicates[char] = 1\n",
    "for k,v in duplicates.items():\n",
    "    if v>1:\n",
    "        if k!=\" \":\n",
    "            print(k,end=\" \")"
   ]
  },
  {
   "cell_type": "markdown",
   "id": "f207f243",
   "metadata": {},
   "source": [
    "#### 7. Write a Python Program to check if a string contains any special character?"
   ]
  },
  {
   "cell_type": "code",
   "execution_count": 65,
   "id": "171d3db4",
   "metadata": {},
   "outputs": [
    {
     "name": "stdout",
     "output_type": "stream",
     "text": [
      "Enter the string: Hello World!\n",
      "The string has special character\n"
     ]
    }
   ],
   "source": [
    "special_characters = \"\"\"!@#$%^&*()-+?_=,<>/\"'\"\"\"\n",
    "String=input(\"Enter the string: \")\n",
    "if any(x in special_characters for x in String): #using any\n",
    "    print(\"The string has special character\")\n",
    "else:\n",
    "    print(\"The string do not have special character\")"
   ]
  }
 ],
 "metadata": {
  "kernelspec": {
   "display_name": "Python 3 (ipykernel)",
   "language": "python",
   "name": "python3"
  },
  "language_info": {
   "codemirror_mode": {
    "name": "ipython",
    "version": 3
   },
   "file_extension": ".py",
   "mimetype": "text/x-python",
   "name": "python",
   "nbconvert_exporter": "python",
   "pygments_lexer": "ipython3",
   "version": "3.9.12"
  }
 },
 "nbformat": 4,
 "nbformat_minor": 5
}
