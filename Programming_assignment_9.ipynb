{
 "cells": [
  {
   "cell_type": "markdown",
   "id": "daa760de",
   "metadata": {},
   "source": [
    "#### 1. Write a Python program to check if the given number is a Disarium Number?"
   ]
  },
  {
   "cell_type": "code",
   "execution_count": 2,
   "id": "ec60fd81",
   "metadata": {},
   "outputs": [
    {
     "name": "stdout",
     "output_type": "stream",
     "text": [
      "Enter a number: 135\n",
      "135 is Disarium number\n"
     ]
    }
   ],
   "source": [
    "n=input(\"Enter a number: \")\n",
    "l=len(n)\n",
    "n=int(n)\n",
    "total=0\n",
    "temp=n\n",
    "while temp>0:\n",
    "    sdigit=temp%10        #taking each digit seperately\n",
    "    total+=sdigit**l\n",
    "    l-=1\n",
    "    temp//=10\n",
    "if total==n:\n",
    "    print(f\"{n} is Disarium number\")\n",
    "else:\n",
    "    print(f\"{n} is not Disarium number\")"
   ]
  },
  {
   "cell_type": "markdown",
   "id": "4abf24b6",
   "metadata": {},
   "source": [
    "#### 2. Write a Python program to print all disarium numbers between 1 to 100?"
   ]
  },
  {
   "cell_type": "code",
   "execution_count": 6,
   "id": "bfe13357",
   "metadata": {},
   "outputs": [
    {
     "name": "stdout",
     "output_type": "stream",
     "text": [
      "Enter a number: 100\n",
      "Disarium numbers between 1 to 100 are: \n",
      "1\n",
      "2\n",
      "3\n",
      "4\n",
      "5\n",
      "6\n",
      "7\n",
      "8\n",
      "9\n",
      "89\n"
     ]
    }
   ],
   "source": [
    "def Disarium(n):\n",
    "    l=len(str(n))\n",
    "    total=0\n",
    "    temp=n\n",
    "    while temp>0:\n",
    "        sdigit=temp%10        #taking each digit seperately\n",
    "        total+=sdigit**l\n",
    "        l-=1\n",
    "        temp//=10\n",
    "    if total==n:\n",
    "        return True\n",
    "    else:\n",
    "        return False\n",
    "n=int(input(\"Enter a number: \"))\n",
    "print(\"Disarium numbers between 1 to 100 are: \")\n",
    "for i in range(1,n):\n",
    "    if Disarium(i):\n",
    "        print(i)"
   ]
  },
  {
   "cell_type": "markdown",
   "id": "5a9b260f",
   "metadata": {},
   "source": [
    "#### 3. Write a Python program to check if the given number is Happy Number?"
   ]
  },
  {
   "cell_type": "code",
   "execution_count": 27,
   "id": "7bc52b48",
   "metadata": {},
   "outputs": [
    {
     "name": "stdout",
     "output_type": "stream",
     "text": [
      "Enter a number: 2\n",
      "2 is not happy number\n"
     ]
    }
   ],
   "source": [
    "n=int(input(\"Enter a number: \"))\n",
    "numbers=set()\n",
    "temp=n\n",
    "Flag=True\n",
    "while n!=1:\n",
    "    n=sum(int(i)**2 for i in str(n))\n",
    "    if n in numbers:\n",
    "        Flag = False\n",
    "        break\n",
    "    numbers.add(n)\n",
    "\n",
    "\n",
    "if Flag:\n",
    "    print(f\"{temp} is happy number\")\n",
    "else:\n",
    "    print(f\"{temp} is not happy number\")"
   ]
  },
  {
   "cell_type": "markdown",
   "id": "51d498d4",
   "metadata": {},
   "source": [
    "#### 4. Write a Python program to print all happy numbers between 1 and 100?"
   ]
  },
  {
   "cell_type": "code",
   "execution_count": 30,
   "id": "6c144325",
   "metadata": {},
   "outputs": [
    {
     "name": "stdout",
     "output_type": "stream",
     "text": [
      "happy numbers between 1 and 100: \n",
      "1\n",
      "7\n",
      "10\n",
      "13\n",
      "19\n",
      "23\n",
      "28\n",
      "31\n",
      "32\n",
      "44\n",
      "49\n",
      "68\n",
      "70\n",
      "79\n",
      "82\n",
      "86\n",
      "91\n",
      "94\n",
      "97\n",
      "100\n"
     ]
    }
   ],
   "source": [
    "def Happynumber(n):\n",
    "    numbers=set()\n",
    "    temp=n\n",
    "    Flag=True\n",
    "    while n!=1:\n",
    "        n=sum(int(i)**2 for i in str(n))\n",
    "        if n in numbers:\n",
    "            return False\n",
    "        numbers.add(n)\n",
    "    return True\n",
    "print(\"happy numbers between 1 and 100: \")\n",
    "for i in range(1,101):\n",
    "    if Happynumber(i):\n",
    "        print(i)"
   ]
  },
  {
   "cell_type": "markdown",
   "id": "efd2f2f6",
   "metadata": {},
   "source": [
    "#### 5. Write a Python program to determine whether the given number is a Harshad Number?"
   ]
  },
  {
   "cell_type": "code",
   "execution_count": 35,
   "id": "23199d2f",
   "metadata": {},
   "outputs": [
    {
     "name": "stdout",
     "output_type": "stream",
     "text": [
      "Enter a number: 17\n",
      "8\n",
      "17 is not a Harshad number\n"
     ]
    }
   ],
   "source": [
    "n=int(input(\"Enter a number: \"))\n",
    "temp=n\n",
    "total=0\n",
    "while temp!=0:\n",
    "    digit=temp%10\n",
    "    total+=digit\n",
    "    temp//=10\n",
    "if n%total==0:\n",
    "    print(f\"{n} is a Harshad number\")\n",
    "else:\n",
    "    print(f\"{n} is not a Harshad number\")"
   ]
  },
  {
   "cell_type": "markdown",
   "id": "b6aca1ed",
   "metadata": {},
   "source": [
    "#### 6. Write a Python program to print all pronic numbers between 1 and 100?"
   ]
  },
  {
   "cell_type": "code",
   "execution_count": 42,
   "id": "60123c77",
   "metadata": {},
   "outputs": [
    {
     "name": "stdout",
     "output_type": "stream",
     "text": [
      "enter the limit: 100\n",
      "The Pronic number from 1 to 100: \n",
      "0\n",
      "2\n",
      "6\n",
      "12\n",
      "20\n",
      "30\n",
      "42\n",
      "56\n",
      "72\n",
      "90\n"
     ]
    }
   ],
   "source": [
    "n=int(input(\"enter the limit: \"))\n",
    "i=0\n",
    "print(\"The Pronic number from 1 to 100: \")\n",
    "while True:\n",
    "    if i*(i+1)>n:\n",
    "        break\n",
    "    print(i*(i+1))\n",
    "    i+=1"
   ]
  }
 ],
 "metadata": {
  "kernelspec": {
   "display_name": "Python 3 (ipykernel)",
   "language": "python",
   "name": "python3"
  },
  "language_info": {
   "codemirror_mode": {
    "name": "ipython",
    "version": 3
   },
   "file_extension": ".py",
   "mimetype": "text/x-python",
   "name": "python",
   "nbconvert_exporter": "python",
   "pygments_lexer": "ipython3",
   "version": "3.9.12"
  }
 },
 "nbformat": 4,
 "nbformat_minor": 5
}
