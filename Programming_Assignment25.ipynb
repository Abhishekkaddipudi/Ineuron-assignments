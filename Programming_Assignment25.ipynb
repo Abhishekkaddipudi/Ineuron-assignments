{
 "cells": [
  {
   "cell_type": "markdown",
   "id": "bfd0adaa",
   "metadata": {},
   "source": [
    "<h2>Question1</h2>\n",
    "<h2>Create a function that takes three integer arguments (a, b, c) and returns the amount of integers which are of equal value.</h2>\n",
    "<h2>Examples</h2>\n",
    "<h2>\t\t\t\t\t\t\t\t\t\t\t\t\t\t\t\tequal(3, 4, 3) ➞ 2</h2>\n",
    "\n",
    "<h2>\t\t\t\t\t\t\t\t\t\t\t\t\t\t\t\tequal(1, 1, 1) ➞ 3</h2>\n",
    "\n",
    "<h2>\t\t\t\t\t\t\t\t\t\t\t\t\t\t\t\tequal(3, 4, 1) ➞ 0 </h2>\n",
    "<h2>Notes</h2>\n",
    "<h2>Your function must return 0, 2 or 3.</h2>\n"
   ]
  },
  {
   "cell_type": "code",
   "execution_count": 3,
   "id": "c46434ef",
   "metadata": {},
   "outputs": [],
   "source": [
    "def equal(a:int, b:int, c:int)->int:\n",
    "    \"\"\" returns equality of three integers\"\"\"\n",
    "    if a == b == c:\n",
    "        return 3\n",
    "    elif a == b or a == c or b == c:\n",
    "        return 2\n",
    "    else:\n",
    "        return 0\n",
    "    "
   ]
  },
  {
   "cell_type": "code",
   "execution_count": 4,
   "id": "50873ffc",
   "metadata": {},
   "outputs": [
    {
     "data": {
      "text/plain": [
       "2"
      ]
     },
     "execution_count": 4,
     "metadata": {},
     "output_type": "execute_result"
    }
   ],
   "source": [
    "equal(3, 4, 3) "
   ]
  },
  {
   "cell_type": "code",
   "execution_count": 5,
   "id": "b18af9b1",
   "metadata": {},
   "outputs": [
    {
     "data": {
      "text/plain": [
       "3"
      ]
     },
     "execution_count": 5,
     "metadata": {},
     "output_type": "execute_result"
    }
   ],
   "source": [
    "equal(1, 1, 1) "
   ]
  },
  {
   "cell_type": "code",
   "execution_count": 6,
   "id": "6229bce0",
   "metadata": {},
   "outputs": [
    {
     "data": {
      "text/plain": [
       "0"
      ]
     },
     "execution_count": 6,
     "metadata": {},
     "output_type": "execute_result"
    }
   ],
   "source": [
    "equal(3, 4, 1)"
   ]
  },
  {
   "cell_type": "markdown",
   "id": "ef821ee6",
   "metadata": {},
   "source": [
    "<h2>Question2</h2>\n",
    "<h2>Write a function that converts a dictionary into a list of keys-values tuples.</h2>\n",
    "<h2>Examples</h2>\n",
    "<h2>dict_to_list({</h2>\n",
    "<h2>  \"D\": 1,</h2>\n",
    "<h2>  \"B\": 2,</h2>\n",
    "<h2>  \"C\": 3</h2>\n",
    "<h2>}) ➞ [(\"B\", 2), (\"C\", 3), (\"D\", 1)]</h2>\n",
    "<h2>dict_to_list({</h2>\n",
    "<h2>  \"likes\": 2,</h2>\n",
    "<h2>  \"dislikes\": 3,</h2>\n",
    "<h2>  \"followers\": 10</h2>\n",
    "<h2>}) ➞ [(\"dislikes\", 3), (\"followers\", 10), (\"likes\", 2)]</h2>\n",
    "<h2>Notes</h2>\n",
    "<h2>Return the elements in the list in alphabetical order.</h2>\n"
   ]
  },
  {
   "cell_type": "code",
   "execution_count": 34,
   "id": "4538e766",
   "metadata": {},
   "outputs": [],
   "source": [
    "def dict_to_list(dct:dict)->list[tuple]:\n",
    "    \"\"\"converts dict to list of tuples\"\"\"\n",
    "    return [(i,j) for i,j in zip(dct.keys(),dct.values())]"
   ]
  },
  {
   "cell_type": "code",
   "execution_count": 35,
   "id": "e173568e",
   "metadata": {},
   "outputs": [
    {
     "data": {
      "text/plain": [
       "[('likes', 2), ('dislikes', 3), ('followers', 10)]"
      ]
     },
     "execution_count": 35,
     "metadata": {},
     "output_type": "execute_result"
    }
   ],
   "source": [
    "dict_to_list({\n",
    "\"likes\": 2,\n",
    "\"dislikes\": 3,\n",
    "\"followers\": 10\n",
    "})"
   ]
  },
  {
   "cell_type": "code",
   "execution_count": 36,
   "id": "2d075f7f",
   "metadata": {},
   "outputs": [
    {
     "data": {
      "text/plain": [
       "[('D', 1), ('B', 2), ('C', 3)]"
      ]
     },
     "execution_count": 36,
     "metadata": {},
     "output_type": "execute_result"
    }
   ],
   "source": [
    "dict_to_list({\n",
    "\"D\": 1,\n",
    "\"B\": 2,\n",
    "\"C\": 3\n",
    "})"
   ]
  },
  {
   "cell_type": "code",
   "execution_count": 37,
   "id": "db55d2de",
   "metadata": {},
   "outputs": [
    {
     "data": {
      "text/plain": [
       "[('D', 1), ('B', 2), ('C', 3)]"
      ]
     },
     "execution_count": 37,
     "metadata": {},
     "output_type": "execute_result"
    }
   ],
   "source": [
    "dict_to_list({\n",
    "\"D\": 1,\n",
    "\"B\": 2,\n",
    "\"C\": 3\n",
    "})"
   ]
  },
  {
   "cell_type": "markdown",
   "id": "fce7cd87",
   "metadata": {},
   "source": [
    "<h2>Question3</h2>\n",
    "<h2>Write a function that creates a dictionary with each (key, value) pair being the (lower case, upper case) versions of a letter, respectively.</h2>\n",
    "<h2>Examples</h2>\n",
    "<h2>mapping([\"p\", \"s\"]) ➞ { \"p\": \"P\", \"s\": \"S\" }</h2>\n",
    "<h2>mapping([\"a\", \"b\", \"c\"]) ➞ { \"a\": \"A\", \"b\": \"B\", \"c\": \"C\" }</h2>\n",
    "\n",
    "<h2>mapping([\"a\", \"v\", \"y\", \"z\"]) ➞ { \"a\": \"A\", \"v\": \"V\", \"y\": \"Y\", \"z\": \"Z\" }</h2>\n",
    "<h2>Notes</h2>\n",
    "<h2>All of the letters in the input list will always be lowercase.</h2>\n"
   ]
  },
  {
   "cell_type": "code",
   "execution_count": 38,
   "id": "1d0089af",
   "metadata": {},
   "outputs": [],
   "source": [
    "def mapping(lst:list)->dict:\n",
    "    \"\"\"creats key : value pair of uppercase letters of given word\"\"\"\n",
    "    return {c: c.upper() for c in lst}"
   ]
  },
  {
   "cell_type": "code",
   "execution_count": 39,
   "id": "fc4e4f42",
   "metadata": {},
   "outputs": [
    {
     "data": {
      "text/plain": [
       "{'p': 'P', 's': 'S'}"
      ]
     },
     "execution_count": 39,
     "metadata": {},
     "output_type": "execute_result"
    }
   ],
   "source": [
    "mapping([\"p\", \"s\"])"
   ]
  },
  {
   "cell_type": "code",
   "execution_count": 40,
   "id": "f65af643",
   "metadata": {},
   "outputs": [
    {
     "data": {
      "text/plain": [
       "{'a': 'A', 'b': 'B', 'c': 'C'}"
      ]
     },
     "execution_count": 40,
     "metadata": {},
     "output_type": "execute_result"
    }
   ],
   "source": [
    "mapping([\"a\", \"b\", \"c\"])"
   ]
  },
  {
   "cell_type": "code",
   "execution_count": 41,
   "id": "a2876956",
   "metadata": {},
   "outputs": [
    {
     "data": {
      "text/plain": [
       "{'a': 'A', 'v': 'V', 'y': 'Y', 'z': 'Z'}"
      ]
     },
     "execution_count": 41,
     "metadata": {},
     "output_type": "execute_result"
    }
   ],
   "source": [
    "mapping([\"a\", \"v\", \"y\", \"z\"])"
   ]
  },
  {
   "cell_type": "markdown",
   "id": "f70ef771",
   "metadata": {},
   "source": [
    "<h2>Question4</h2>\n",
    "<h2>Write a function, that replaces all vowels in a string with a specified vowel.</h2>\n",
    "<h2>Examples</h2>\n",
    "<h2>vow_replace(\"apples and bananas\", \"u\") ➞ \"upplus und bununus\"</h2>\n",
    "\n",
    "<h2>vow_replace(\"cheese casserole\", \"o\") ➞ \"chooso cossorolo\"</h2>\n",
    "\n",
    "<h2>vow_replace(\"stuffed jalapeno poppers\", \"e\") ➞ \"steffed jelepene peppers\"</h2>\n",
    "<h2>Notes</h2>\n",
    "<h2>All words will be lowercase. Y is not considered a vowel.</h2>\n"
   ]
  },
  {
   "cell_type": "code",
   "execution_count": 42,
   "id": "b9034598",
   "metadata": {},
   "outputs": [],
   "source": [
    "def vow_replace(word, c):\n",
    "    \"\"\"replace vowels with specified vowel\"\"\"\n",
    "    vowels = 'aeiou'\n",
    "    new_word = ''\n",
    "    for char in word:\n",
    "        if char in vowels:\n",
    "            new_word += c\n",
    "        else:\n",
    "            new_word += char\n",
    "    return new_word"
   ]
  },
  {
   "cell_type": "code",
   "execution_count": 43,
   "id": "0c2e93e2",
   "metadata": {},
   "outputs": [
    {
     "data": {
      "text/plain": [
       "'upplus und bununus'"
      ]
     },
     "execution_count": 43,
     "metadata": {},
     "output_type": "execute_result"
    }
   ],
   "source": [
    "vow_replace(\"apples and bananas\", \"u\")"
   ]
  },
  {
   "cell_type": "code",
   "execution_count": 44,
   "id": "252a1f08",
   "metadata": {},
   "outputs": [
    {
     "data": {
      "text/plain": [
       "'chooso cossorolo'"
      ]
     },
     "execution_count": 44,
     "metadata": {},
     "output_type": "execute_result"
    }
   ],
   "source": [
    "vow_replace(\"cheese casserole\", \"o\")"
   ]
  },
  {
   "cell_type": "code",
   "execution_count": 45,
   "id": "2157a19b",
   "metadata": {},
   "outputs": [
    {
     "data": {
      "text/plain": [
       "'steffed jelepene peppers'"
      ]
     },
     "execution_count": 45,
     "metadata": {},
     "output_type": "execute_result"
    }
   ],
   "source": [
    "vow_replace(\"stuffed jalapeno poppers\", \"e\")"
   ]
  },
  {
   "cell_type": "markdown",
   "id": "ca97afff",
   "metadata": {},
   "source": [
    "<h2>Question5</h2>\n",
    "<h2>Create a function that takes a string as input and capitalizes a letter if its ASCII code is even and returns its lower case version if its ASCII code is odd.</h2>\n",
    "<h2>Examples</h2>\n",
    "<h2>ascii_capitalize(\"to be or not to be!\") ➞ \"To Be oR NoT To Be!\"</h2>\n",
    "<h2>ascii_capitalize(\"THE LITTLE MERMAID\") ➞ \"THe LiTTLe meRmaiD\"</h2>\n",
    "<h2>ascii_capitalize(\"Oh what a beautiful morning.\") ➞ \"oH wHaT a BeauTiFuL moRNiNg.\"</h2>"
   ]
  },
  {
   "cell_type": "code",
   "execution_count": 50,
   "id": "5d05b6f1",
   "metadata": {},
   "outputs": [],
   "source": [
    "def ascii_capitalize(txt:str)->str:\n",
    "    \"\"\"captalizes if ascii value if even\"\"\"\n",
    "    capitalized = \"\"\n",
    "    for char in txt:\n",
    "        if ord(char) % 2 == 0:\n",
    "            capitalized += char.upper()\n",
    "        else:\n",
    "            capitalized += char.lower()\n",
    "    return capitalized"
   ]
  },
  {
   "cell_type": "code",
   "execution_count": 51,
   "id": "d094d1d7",
   "metadata": {},
   "outputs": [
    {
     "data": {
      "text/plain": [
       "'To Be oR NoT To Be!'"
      ]
     },
     "execution_count": 51,
     "metadata": {},
     "output_type": "execute_result"
    }
   ],
   "source": [
    "ascii_capitalize(\"to be or not to be!\")"
   ]
  },
  {
   "cell_type": "code",
   "execution_count": 52,
   "id": "eb19589f",
   "metadata": {},
   "outputs": [
    {
     "data": {
      "text/plain": [
       "'THe LiTTLe meRmaiD'"
      ]
     },
     "execution_count": 52,
     "metadata": {},
     "output_type": "execute_result"
    }
   ],
   "source": [
    "ascii_capitalize(\"THE LITTLE MERMAID\")"
   ]
  },
  {
   "cell_type": "code",
   "execution_count": 53,
   "id": "b0572aed",
   "metadata": {},
   "outputs": [
    {
     "data": {
      "text/plain": [
       "'oH wHaT a BeauTiFuL moRNiNg.'"
      ]
     },
     "execution_count": 53,
     "metadata": {},
     "output_type": "execute_result"
    }
   ],
   "source": [
    "ascii_capitalize(\"Oh what a beautiful morning.\") "
   ]
  }
 ],
 "metadata": {
  "kernelspec": {
   "display_name": "Python 3 (ipykernel)",
   "language": "python",
   "name": "python3"
  },
  "language_info": {
   "codemirror_mode": {
    "name": "ipython",
    "version": 3
   },
   "file_extension": ".py",
   "mimetype": "text/x-python",
   "name": "python",
   "nbconvert_exporter": "python",
   "pygments_lexer": "ipython3",
   "version": "3.9.12"
  }
 },
 "nbformat": 4,
 "nbformat_minor": 5
}
