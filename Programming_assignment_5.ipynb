{
 "cells": [
  {
   "cell_type": "markdown",
   "id": "07fa5c8c",
   "metadata": {},
   "source": [
    "#### 1. Write a Python Program to Find LCM?"
   ]
  },
  {
   "cell_type": "code",
   "execution_count": 9,
   "id": "e060960a",
   "metadata": {},
   "outputs": [
    {
     "name": "stdout",
     "output_type": "stream",
     "text": [
      "Enter two numbers: 54 24\n",
      "the lcm of 54 and 24 is 216\n"
     ]
    }
   ],
   "source": [
    "a,b=input(\"Enter two numbers: \").split(\" \")\n",
    "a,b=int(a),int(b)\n",
    "big=max(a,b)\n",
    "lcm=0\n",
    "while True:\n",
    "    \n",
    "    if(big%a==0)and(big%b==0):\n",
    "        lcm=big\n",
    "        break\n",
    "    big+=1\n",
    "print(f\"the lcm of {a} and {b} is {lcm}\")\n",
    "        "
   ]
  },
  {
   "cell_type": "markdown",
   "id": "2e12a325",
   "metadata": {},
   "source": [
    "#### 2. Write a Python Program to Find HCF?"
   ]
  },
  {
   "cell_type": "code",
   "execution_count": 10,
   "id": "461ae3d0",
   "metadata": {},
   "outputs": [
    {
     "name": "stdout",
     "output_type": "stream",
     "text": [
      "Enter two numbers: 10 5\n",
      "the HCF of 10 and 5 is 5\n"
     ]
    }
   ],
   "source": [
    "a,b=input(\"Enter two numbers: \").split(\" \")\n",
    "a,b=int(a),int(b)\n",
    "small=max(a,b)\n",
    "hcf=0\n",
    "for i in range(1,small+1):\n",
    "    if(a%i==0)and(b%i==0):\n",
    "        hcf=i\n",
    "\n",
    "print(f\"the HCF of {a} and {b} is {hcf}\")\n",
    "        "
   ]
  },
  {
   "cell_type": "markdown",
   "id": "e9c2bf73",
   "metadata": {},
   "source": [
    "#### 3. Write a Python Program to Convert Decimal to Binary, Octal and Hexadecimal?"
   ]
  },
  {
   "cell_type": "code",
   "execution_count": 57,
   "id": "bcd90814",
   "metadata": {},
   "outputs": [
    {
     "name": "stdout",
     "output_type": "stream",
     "text": [
      "enter the number: 155\n",
      "10011011\n",
      "233\n",
      "9b\n"
     ]
    }
   ],
   "source": [
    "#using built-in methods\n",
    "n=int(input(\"enter the number: \"))\n",
    "\n",
    "print(bin(n).replace(\"0b\",\"\"))\n",
    "print(oct(n).replace(\"0o\",\"\"))\n",
    "print(hex(n).replace(\"0x\",\"\"))"
   ]
  },
  {
   "cell_type": "code",
   "execution_count": 58,
   "id": "3f06beda",
   "metadata": {},
   "outputs": [
    {
     "name": "stdout",
     "output_type": "stream",
     "text": [
      "enter the number: 155\n",
      "233\n",
      "10011011\n",
      "9B\n"
     ]
    }
   ],
   "source": [
    "#decimal to binary\n",
    "def decimaltobinary(n):\n",
    "    octal=[]\n",
    "    i=0\n",
    "    while(n!=0):\n",
    "        octal.append(n%2)\n",
    "        n=int(n/2)\n",
    "        i+=1\n",
    "    octal=octal[::-1]\n",
    "    s=[str(i) for i in octal]\n",
    "    res=int(\"\".join(s))\n",
    "    return res\n",
    "\n",
    "#decimal to octal\n",
    "def decimaltooctal(n):\n",
    "    octal=[]\n",
    "    i=0\n",
    "    while(n!=0):\n",
    "        octal.append(n%8)\n",
    "        n=int(n/8)\n",
    "        i+=1\n",
    "    octal=octal[::-1]\n",
    "    s=[str(i) for i in octal]\n",
    "    res=int(\"\".join(s))\n",
    "    return res\n",
    "\n",
    "#decimal to hexadecimal\n",
    "def decimaltohex(n):\n",
    "    hex_table=[\"0\",\"1\",\"2\",\"3\",\"4\",\"5\",\"6\",\"7\",\"8\",\"9\",\"A\",\"B\",\"C\",\"D\",\"E\",\"F\"]\n",
    "    hex_decimal=\"\"\n",
    "    reminder=0\n",
    "    while(n>0):\n",
    "        reminder=n%16\n",
    "        hex_decimal+=hex_table[reminder]\n",
    "        n=n//16\n",
    "    return hex_decimal[::-1]\n",
    "\n",
    "n=int(input(\"enter the number: \"))\n",
    "print(decimaltooctal(n))\n",
    "print(decimaltobinary(n))\n",
    "print(decimaltohex(n))"
   ]
  },
  {
   "cell_type": "markdown",
   "id": "74298cd5",
   "metadata": {},
   "source": [
    "#### 4. Write a Python Program To Find ASCII value of a character?"
   ]
  },
  {
   "cell_type": "code",
   "execution_count": 62,
   "id": "1fdae19c",
   "metadata": {},
   "outputs": [
    {
     "name": "stdout",
     "output_type": "stream",
     "text": [
      "enter a character: r\n",
      "the ASCII value of r is 114\n"
     ]
    }
   ],
   "source": [
    "c=input(\"enter a character: \")\n",
    "print(f\"the ASCII value of {c} is {ord(c)}\")#ord return ASCII value of a single character"
   ]
  },
  {
   "cell_type": "markdown",
   "id": "101cfd2c",
   "metadata": {},
   "source": [
    "#### 5. Write a Python Program to Make a Simple Calculator with 4 basic mathematical operations?"
   ]
  },
  {
   "cell_type": "code",
   "execution_count": 64,
   "id": "e2a230d2",
   "metadata": {},
   "outputs": [
    {
     "name": "stdout",
     "output_type": "stream",
     "text": [
      "choose the operation:\n",
      "                '+'\n",
      "                '-'\n",
      "                '*'\n",
      "                '/'\n",
      "                \"q\" for exit\n",
      "                +\n",
      "Enter the first number: 3\n",
      "Enter the second number: 4\n",
      "sum = 7.0\n",
      "choose the operation:\n",
      "                '+'\n",
      "                '-'\n",
      "                '*'\n",
      "                '/'\n",
      "                \"q\" for exit\n",
      "                -\n",
      "Enter the first number: 44\n",
      "Enter the second number: 5\n",
      "Diff = 39.0\n",
      "choose the operation:\n",
      "                '+'\n",
      "                '-'\n",
      "                '*'\n",
      "                '/'\n",
      "                \"q\" for exit\n",
      "                *\n",
      "Enter the first number: 4\n",
      "Enter the second number: 5\n",
      "prod = 20.0\n",
      "choose the operation:\n",
      "                '+'\n",
      "                '-'\n",
      "                '*'\n",
      "                '/'\n",
      "                \"q\" for exit\n",
      "                /\n",
      "Enter the first number: 44\n",
      "Enter the second number: 2\n",
      "DIV = 22.0\n",
      "choose the operation:\n",
      "                '+'\n",
      "                '-'\n",
      "                '*'\n",
      "                '/'\n",
      "                \"q\" for exit\n",
      "                q\n"
     ]
    }
   ],
   "source": [
    "while True:#exits on q or any other input other then operations\n",
    "    opr=input(\"\"\"choose the operation:\n",
    "                '+'\n",
    "                '-'\n",
    "                '*'\n",
    "                '/'\n",
    "                \"q\" for exit\n",
    "                \"\"\")\n",
    "\n",
    "\n",
    "    if opr==\"+\":\n",
    "        first=float(input(\"Enter the first number: \"))\n",
    "        second=float(input(\"Enter the second number: \"))\n",
    "        print(f\"sum = {first+second}\")\n",
    "    elif opr==\"-\":\n",
    "        first=float(input(\"Enter the first number: \"))\n",
    "        second=float(input(\"Enter the second number: \"))\n",
    "        print(f\"Diff = {first-second}\")\n",
    "    elif opr==\"*\":\n",
    "        first=float(input(\"Enter the first number: \"))\n",
    "        second=float(input(\"Enter the second number: \"))\n",
    "        print(f\"prod = {first*second}\")\n",
    "    elif opr==\"/\":\n",
    "        first=float(input(\"Enter the first number: \"))\n",
    "        second=float(input(\"Enter the second number: \"))\n",
    "        print(f\"DIV = {first/second}\")\n",
    "    else:\n",
    "        break"
   ]
  }
 ],
 "metadata": {
  "kernelspec": {
   "display_name": "Python 3 (ipykernel)",
   "language": "python",
   "name": "python3"
  },
  "language_info": {
   "codemirror_mode": {
    "name": "ipython",
    "version": 3
   },
   "file_extension": ".py",
   "mimetype": "text/x-python",
   "name": "python",
   "nbconvert_exporter": "python",
   "pygments_lexer": "ipython3",
   "version": "3.9.12"
  }
 },
 "nbformat": 4,
 "nbformat_minor": 5
}
