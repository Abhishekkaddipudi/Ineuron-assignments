{
 "cells": [
  {
   "cell_type": "markdown",
   "id": "8d0c5a6e",
   "metadata": {},
   "source": [
    "<h2>Question 1:</h2>\n",
    "<h2>Write a program that calculates and prints the value according to the given formula:</h2>\n",
    "<h2>Q = Square root of [(2 * C * D)/H]</h2>\n",
    "<h2>Following are the fixed values of C and H:</h2>\n",
    "<h2>C is 50. H is 30.</h2>\n",
    "<h2>D is the variable whose values should be input to your program in a comma-separated sequence.</h2>\n",
    "<h2>Example</h2>\n",
    "<h2>Let us assume the following comma separated input sequence is given to the program:</h2>\n",
    "<h2>100,150,180</h2>\n",
    "<h2>The output of the program should be:</h2>\n",
    "<h2>18,22,24</h2>"
   ]
  },
  {
   "cell_type": "code",
   "execution_count": null,
   "id": "8c547c32",
   "metadata": {},
   "outputs": [],
   "source": [
    "calculate=lambda C,H,D:list(map(lambda x:int((((2*C*x)/H)**(1/2))),D))\n",
    "#defining the formula in lambda function which is assigned to a variable calculate\n",
    "#map function iterates over D which is list of integers"
   ]
  },
  {
   "cell_type": "code",
   "execution_count": 119,
   "id": "07706baa",
   "metadata": {},
   "outputs": [
    {
     "name": "stdout",
     "output_type": "stream",
     "text": [
      "Enter the comma separated input sequence: 100,150,180\n"
     ]
    }
   ],
   "source": [
    "#given in problem statement\n",
    "C=50\n",
    "H=30\n",
    "\n",
    "#split splits the raw string to list of string using \",\" as seperator\n",
    "#using map to convert string to integer\n",
    "D=map(int,input(\"Enter the comma separated input sequence: \").split(\",\"))"
   ]
  },
  {
   "cell_type": "code",
   "execution_count": 120,
   "id": "9e53450c",
   "metadata": {},
   "outputs": [
    {
     "name": "stdout",
     "output_type": "stream",
     "text": [
      "After Tabulation : [18, 22, 24]\n"
     ]
    }
   ],
   "source": [
    "#calling lambda function calculate\n",
    "ans=calculate(C,H,D)\n",
    "print(f\"After Tabulation : {ans}\")"
   ]
  },
  {
   "cell_type": "markdown",
   "id": "c57ca788",
   "metadata": {},
   "source": [
    "<h2>Question 2:</h2>\n",
    "<h2>Write a program which takes 2 digits, X,Y as input and generates a 2-dimensional array. The element value in the i-th row and j-th column of the array should be i*j.</h2>\n",
    "<h2>Note: i=0,1.., X-1; j=0,1,¡Y-1.</h2>\n",
    "<h2>Example</h2>\n",
    "<h2>Suppose the following inputs are given to the program:</h2>\n",
    "<h2>3,5</h2>\n",
    "<h2>Then, the output of the program should be:</h2>\n",
    "<h2>[[0, 0, 0, 0, 0], [0, 1, 2, 3, 4], [0, 2, 4, 6, 8]] </h2>"
   ]
  },
  {
   "cell_type": "code",
   "execution_count": 91,
   "id": "e0343466",
   "metadata": {},
   "outputs": [],
   "source": [
    "def generatearray(X,Y):\n",
    "    arr=[]\n",
    "    for i in range(X):\n",
    "        num=[]\n",
    "        for j in range(Y):\n",
    "            num.append(j*i)\n",
    "        arr.append(num)\n",
    "    return arr"
   ]
  },
  {
   "cell_type": "code",
   "execution_count": 124,
   "id": "9c4b4d68",
   "metadata": {},
   "outputs": [
    {
     "name": "stdout",
     "output_type": "stream",
     "text": [
      "enter the value of X and Y : 3,5\n",
      "\n",
      "Generated array: \n",
      "\n",
      " [[0, 0, 0, 0, 0], [0, 1, 2, 3, 4], [0, 2, 4, 6, 8]]\n"
     ]
    }
   ],
   "source": [
    "X,Y=map(int,input(\"enter the value of X and Y : \").split(\",\"))\n",
    "result=generatearray(X,Y)\n",
    "print(\"\\nGenerated array: \\n\\n\",result)"
   ]
  },
  {
   "cell_type": "markdown",
   "id": "bdc8e40e",
   "metadata": {},
   "source": [
    "<h2>Question 3:</h2>\n",
    "<h2>Write a program that accepts a comma separated sequence of words as input and prints the words in a comma-separated sequence after sorting them alphabetically.</h2>\n",
    "\n",
    "\n",
    "<h2>Suppose the following input is supplied to the program:</h2>\n",
    "\n",
    "\n",
    "<h2>without,hello,bag,world</h2>\n",
    "\n",
    "\n",
    "<h2>Then, the output should be:</h2>\n",
    "\n",
    "<h2>bag,hello,without,world</h2>\n",
    "\n",
    "\n"
   ]
  },
  {
   "cell_type": "code",
   "execution_count": 109,
   "id": "c3d0f748",
   "metadata": {},
   "outputs": [],
   "source": [
    "def sortwords(string):\n",
    "    string=string.split(\",\")\n",
    "    string.sort()\n",
    "    return \",\".join(string)"
   ]
  },
  {
   "cell_type": "code",
   "execution_count": 125,
   "id": "43222358",
   "metadata": {},
   "outputs": [
    {
     "name": "stdout",
     "output_type": "stream",
     "text": [
      "Enter the sequence of words seperated by comma : without,hello,bag,world\n",
      "Sorted sequence : bag,hello,without,world\n"
     ]
    }
   ],
   "source": [
    "sequence=input(\"Enter the sequence of words seperated by comma : \")\n",
    "print(\"Sorted sequence :\",sortwords(sequence))\n"
   ]
  },
  {
   "cell_type": "markdown",
   "id": "a18d7221",
   "metadata": {},
   "source": [
    "<h2>Question 4:</h2>\n",
    "<h2>Write a program that accepts a sequence of whitespace separated words as input and prints the words after removing all duplicate words and sorting them alphanumerically.</h2>\n",
    "\n",
    "\n",
    "<h2>Suppose the following input is supplied to the program:</h2>\n",
    "\n",
    "\n",
    "<h2>hello world and practice makes perfect and hello world again</h2>\n",
    "\n",
    "\n",
    "<h2>Then, the output should be:</h2>\n",
    "\n",
    "<h2>again and hello makes perfect practice world</h2>\n"
   ]
  },
  {
   "cell_type": "code",
   "execution_count": 129,
   "id": "9b757745",
   "metadata": {},
   "outputs": [
    {
     "name": "stdout",
     "output_type": "stream",
     "text": [
      "Enter a sequence of whitespace-separated words: hello world and practice makes perfect and hello world again\n",
      "\n",
      "Result :\n",
      "\n",
      " again and hello makes perfect practice world\n"
     ]
    }
   ],
   "source": [
    "#removes duplicates by coverting to set\n",
    "def remove_duplicates_and_sort(words):\n",
    "    words_list = words.split()\n",
    "    unique_words = sorted(set(words_list))\n",
    "    return \" \".join(unique_words)\n",
    "\n",
    "input_string = input(\"Enter a sequence of whitespace-separated words: \")\n",
    "result = remove_duplicates_and_sort(input_string)\n",
    "print(\"\\nResult :\\n\\n\",result)"
   ]
  },
  {
   "cell_type": "markdown",
   "id": "18b26986",
   "metadata": {},
   "source": [
    "<h2>Question 5:</h2>\n",
    "<h2>Write a program that accepts a sentence and calculate the number of letters and digits.</h2>\n",
    "<h2>Suppose the following input is supplied to the program:</h2>\n",
    "<h2>hello world! 123</h2>\n",
    "<h2>Then, the output should be:</h2>\n",
    "<h2>LETTERS 10</h2>\n",
    "<h2>DIGITS 3</h2>\n"
   ]
  },
  {
   "cell_type": "code",
   "execution_count": 140,
   "id": "60675eec",
   "metadata": {},
   "outputs": [],
   "source": [
    "#using string handling function \n",
    "def count_letter_digits(string):\n",
    "    letters=0\n",
    "    digits=0\n",
    "    for i in string:\n",
    "        if i.isalpha():\n",
    "            letters+=1\n",
    "        elif i.isdigit():\n",
    "            digits+=1\n",
    "    return (letters,digits)"
   ]
  },
  {
   "cell_type": "code",
   "execution_count": 141,
   "id": "1de2a69b",
   "metadata": {},
   "outputs": [
    {
     "name": "stdout",
     "output_type": "stream",
     "text": [
      "Enter the string : hello world! 123\n",
      "Letters : 10\n",
      "Digits : 3\n"
     ]
    }
   ],
   "source": [
    "string=input(\"Enter the string : \")\n",
    "letters,digits=count_letter_digits(string)\n",
    "print(f\"Letters : {letters}\\nDigits : {digits}\")"
   ]
  },
  {
   "cell_type": "markdown",
   "id": "76e38861",
   "metadata": {},
   "source": [
    "<h2>Question 6:</h2>\n",
    "<h2>A website requires the users to input username and password to register. Write a program to check the validity of password input by users.</h2>\n",
    "\n",
    "\n",
    "<h2>Following are the criteria for checking the password:</h2>\n",
    "\n",
    "\n",
    "<h2>1. At least 1 letter between [a-z]</h2>\n",
    "\n",
    "\n",
    "<h2>2. At least 1 number between [0-9]</h2>\n",
    "\n",
    "\n",
    "<h2>1. At least 1 letter between [A-Z]</h2>\n",
    "\n",
    "\n",
    "<h2>3. At least 1 character from [$#@]</h2>\n",
    "\n",
    "\n",
    "<h2>4. Minimum length of transaction password: 6</h2>\n",
    "\n",
    "\n",
    "<h2>5. Maximum length of transaction password: 12</h2>\n",
    "\n",
    "\n",
    "<h2>Your program should accept a sequence of comma separated passwords and will check them according to the above criteria. Passwords that match the criteria are to be printed, each separated by a comma.</h2>\n",
    "\n",
    "\n",
    "<h2>Example</h2>\n",
    "\n",
    "\n",
    "<h2>If the following passwords are given as input to the program:</h2>\n",
    "\n",
    "\n",
    "<h2>ABd1234@1,a F1#,2w3E*,2We3345</h2>\n",
    "\n",
    "\n",
    "<h2>Then, the output of the program should be:</h2>\n",
    "\n",
    "<h2>ABd1234@1</h2>"
   ]
  },
  {
   "cell_type": "code",
   "execution_count": 151,
   "id": "5056969f",
   "metadata": {},
   "outputs": [],
   "source": [
    "#using re module to check the character present in string\n",
    "def check_password(password):\n",
    "    if 6 <= len(password) <= 12:\n",
    "        if re.search(\"[a-z]\", password) and re.search(\"[0-9]\", password) and \\\n",
    "        re.search(\"[A-Z]\", password) and re.search(\"[$#@]\", password):\n",
    "            return True\n",
    "    return False"
   ]
  },
  {
   "cell_type": "code",
   "execution_count": 152,
   "id": "f13d1d2c",
   "metadata": {},
   "outputs": [
    {
     "name": "stdout",
     "output_type": "stream",
     "text": [
      "ABd1234@1,a F1#,2w3E*,2We3345\n",
      "\n",
      "The valid passwords are :\n",
      "\n",
      "ABd1234@1\n"
     ]
    }
   ],
   "source": [
    "passwords=input().split(\",\")\n",
    "print(\"\\nThe valid passwords are :\\n\")\n",
    "for password in passwords:\n",
    "    if check_password(password):\n",
    "        print(password)\n"
   ]
  }
 ],
 "metadata": {
  "kernelspec": {
   "display_name": "Python 3 (ipykernel)",
   "language": "python",
   "name": "python3"
  },
  "language_info": {
   "codemirror_mode": {
    "name": "ipython",
    "version": 3
   },
   "file_extension": ".py",
   "mimetype": "text/x-python",
   "name": "python",
   "nbconvert_exporter": "python",
   "pygments_lexer": "ipython3",
   "version": "3.9.12"
  }
 },
 "nbformat": 4,
 "nbformat_minor": 5
}
